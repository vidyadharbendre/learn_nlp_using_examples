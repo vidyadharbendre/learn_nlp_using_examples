{
 "cells": [
  {
   "cell_type": "markdown",
   "id": "61edbec5-8a30-4da5-a77d-ad6c03766e33",
   "metadata": {},
   "source": [
    "<table align=\"left\" width=100%>\n",
    "    <tr>\n",
    "        <td width=\"10%\">\n",
    "            <img src=\"../images/RA_Logo.png\">\n",
    "        </td>\n",
    "        <td>\n",
    "            <div align=\"center\">\n",
    "                <font color=\"#21618C\" size=8px>\n",
    "                  <b> 6. POS Tagging </b>\n",
    "                </font>\n",
    "            </div>\n",
    "        </td>\n",
    "    </tr>\n",
    "</table>"
   ]
  },
  {
   "cell_type": "markdown",
   "id": "bc6545f0-2ede-496e-b128-d1a8f6e13a85",
   "metadata": {},
   "source": [
    "<table align=\"left\">\n",
    "  <td>\n",
    "    <a href=\"https://colab.research.google.com/github/vidyadharbendre/learn_nlp_using_examples/blob/main/notebooks/06_POS_tagging.ipynb\" target=\"_parent\"><img src=\"https://colab.research.google.com/assets/colab-badge.svg\" alt=\"Open In Colab\"/></a>\n",
    "  </td>\n",
    "  <td>\n",
    "    <a target=\"_blank\" href=\"https://kaggle.com/kernels/welcome?src=https://github.com/vidyadharbendre/learn_nlp_using_examples/blob/main/notebooks/06_POS_tagging.ipynb\"><img src=\"https://kaggle.com/static/images/open-in-kaggle.svg\" /></a>\n",
    "  </td>\n",
    "</table>"
   ]
  },
  {
   "cell_type": "markdown",
   "id": "58e92c0a-1a7f-48ad-a8db-71170c269c17",
   "metadata": {},
   "source": [
    "## What is POS Tagging?\n",
    "Part-of-Speech (POS) Tagging is the process of assigning a part of speech to each word in a given text, such as noun, verb, adjective, etc. POS tagging helps in understanding the grammatical structure of the text and the relationships between words.\n",
    "\n",
    "## Why POS Tagging?\n",
    "POS tagging is essential for:\n",
    "\n",
    "Understanding the syntactic structure of a sentence.\n",
    "Improving the performance of NLP tasks like named entity recognition, sentiment analysis, and machine translation.\n",
    "Enhancing text analysis by providing more context and meaning to words.\n",
    "\n",
    "## How to Achieve POS Tagging Programmatically?\n",
    "Using SpaCy:"
   ]
  },
  {
   "cell_type": "code",
   "execution_count": 1,
   "id": "c9c2565f-c89a-4f23-81a6-a2fff72f0c1d",
   "metadata": {},
   "outputs": [
    {
     "name": "stdout",
     "output_type": "stream",
     "text": [
      "[('This', 'PRON'), ('is', 'AUX'), ('an', 'DET'), ('example', 'NOUN'), ('sentence', 'NOUN'), ('demonstrating', 'VERB'), ('POS', 'PROPN'), ('tagging', 'NOUN'), ('of', 'ADP'), ('words', 'NOUN'), ('.', 'PUNCT')]\n"
     ]
    }
   ],
   "source": [
    "import spacy\n",
    "\n",
    "# Load SpaCy's English language model\n",
    "nlp = spacy.load(\"en_core_web_sm\")\n",
    "\n",
    "# Example text\n",
    "text = \"This is an example sentence demonstrating POS tagging of words.\"\n",
    "\n",
    "# Process the text with SpaCy\n",
    "doc = nlp(text)\n",
    "\n",
    "# POS tagging using SpaCy\n",
    "pos_tags_spacy = [(token.text, token.pos_) for token in doc]\n",
    "\n",
    "print(pos_tags_spacy)"
   ]
  },
  {
   "cell_type": "markdown",
   "id": "0d9836cd-5a7c-4e23-8914-e9fec668b0ca",
   "metadata": {},
   "source": [
    "Using NLTK:"
   ]
  },
  {
   "cell_type": "code",
   "execution_count": 3,
   "id": "503081a7-2a43-4b77-90e2-48fc799e428a",
   "metadata": {},
   "outputs": [
    {
     "name": "stdout",
     "output_type": "stream",
     "text": [
      "NLTK version: 3.8.1\n"
     ]
    }
   ],
   "source": [
    "import nltk\n",
    "\n",
    "# Print the version of NLTK installed\n",
    "print(\"NLTK version:\", nltk.__version__)"
   ]
  },
  {
   "cell_type": "code",
   "execution_count": 2,
   "id": "c9e2eb44-0452-45f8-88b1-8d36dc100771",
   "metadata": {},
   "outputs": [
    {
     "name": "stdout",
     "output_type": "stream",
     "text": [
      "[('This', 'DT'), ('is', 'VBZ'), ('an', 'DT'), ('example', 'NN'), ('sentence', 'NN'), ('demonstrating', 'VBG'), ('POS', 'NNP'), ('tagging', 'NN'), ('of', 'IN'), ('words', 'NNS'), ('.', '.')]\n"
     ]
    },
    {
     "name": "stderr",
     "output_type": "stream",
     "text": [
      "[nltk_data] Downloading package punkt to\n",
      "[nltk_data]     /Users/vidyadharbendre/nltk_data...\n",
      "[nltk_data]   Package punkt is already up-to-date!\n",
      "[nltk_data] Downloading package averaged_perceptron_tagger to\n",
      "[nltk_data]     /Users/vidyadharbendre/nltk_data...\n",
      "[nltk_data]   Package averaged_perceptron_tagger is already up-to-\n",
      "[nltk_data]       date!\n"
     ]
    }
   ],
   "source": [
    "import nltk\n",
    "from nltk.tokenize import word_tokenize\n",
    "\n",
    "# Ensure necessary resources are downloaded\n",
    "nltk.download('punkt')\n",
    "nltk.download('averaged_perceptron_tagger')\n",
    "\n",
    "# Example text\n",
    "text = \"This is an example sentence demonstrating POS tagging of words.\"\n",
    "\n",
    "# Tokenize the text\n",
    "words = word_tokenize(text)\n",
    "\n",
    "# POS tagging using NLTK\n",
    "pos_tags_nltk = nltk.pos_tag(words)\n",
    "\n",
    "print(pos_tags_nltk)"
   ]
  },
  {
   "cell_type": "markdown",
   "id": "2cfa5c5a-2892-4596-afe5-3a7c251472f2",
   "metadata": {},
   "source": [
    "## Explanation:\n",
    "### SpaCy Implementation:\n",
    "\n",
    "Load SpaCy's English language model.\n",
    "Process the text using nlp to create a doc object.\n",
    "Extract the POS tags for each token using token.pos_.\n",
    "\n",
    "### NLTK Implementation:\n",
    "\n",
    "Ensure the necessary resources are downloaded.\n",
    "Tokenize the text into words.\n",
    "Use nltk.pos_tag to assign POS tags to each word.\n",
    "Both methods will output a list of tuples, where each tuple contains a word and its corresponding POS tag."
   ]
  },
  {
   "cell_type": "code",
   "execution_count": null,
   "id": "6dda0802-4813-458d-a9ff-4e78d23a08f3",
   "metadata": {},
   "outputs": [],
   "source": []
  }
 ],
 "metadata": {
  "kernelspec": {
   "display_name": "Python 3 (ipykernel)",
   "language": "python",
   "name": "python3"
  },
  "language_info": {
   "codemirror_mode": {
    "name": "ipython",
    "version": 3
   },
   "file_extension": ".py",
   "mimetype": "text/x-python",
   "name": "python",
   "nbconvert_exporter": "python",
   "pygments_lexer": "ipython3",
   "version": "3.9.16"
  }
 },
 "nbformat": 4,
 "nbformat_minor": 5
}
