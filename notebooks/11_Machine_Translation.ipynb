{
 "cells": [
  {
   "cell_type": "markdown",
   "id": "75c567c9-7b8c-49ea-8d9c-630b274d9e7c",
   "metadata": {},
   "source": [
    "<table align=\"left\" width=100%>\n",
    "    <tr>\n",
    "        <td width=\"10%\">\n",
    "            <img src=\"../images/RA_Logo.png\">\n",
    "        </td>\n",
    "        <td>\n",
    "            <div align=\"center\">\n",
    "                <font color=\"#21618C\" size=8px>\n",
    "                  <b> 11. Machine Translation </b>\n",
    "                </font>\n",
    "            </div>\n",
    "        </td>\n",
    "    </tr>\n",
    "</table>"
   ]
  },
  {
   "cell_type": "markdown",
   "id": "6bab3f54-3b19-4987-99a9-3bcf95d14b15",
   "metadata": {},
   "source": [
    "<table align=\"left\">\n",
    "  <td>\n",
    "    <a href=\"https://colab.research.google.com/github/vidyadharbendre/learn_nlp_using_examples/blob/main/notebooks/11_Machine_Translation.ipynb\" target=\"_parent\"><img src=\"https://colab.research.google.com/assets/colab-badge.svg\" alt=\"Open In Colab\"/></a>\n",
    "  </td>\n",
    "  <td>\n",
    "    <a target=\"_blank\" href=\"https://kaggle.com/kernels/welcome?src=https://github.com/vidyadharbendre/learn_nlp_using_examples/blob/main/notebooks/11_Machine_Translation.ipynb\"><img src=\"https://kaggle.com/static/images/open-in-kaggle.svg\" /></a>\n",
    "  </td>\n",
    "</table>"
   ]
  },
  {
   "cell_type": "markdown",
   "id": "ad033ad8-ba2b-486d-acca-7ddb7ad9fa7f",
   "metadata": {},
   "source": [
    "## Machine Translation\n",
    "What is Machine Translation?\n",
    "Machine Translation is the task of automatically translating text or speech from one language to another using machine learning models and algorithms. It involves understanding the meaning and context of the source text and generating an equivalent text in the target language.\n",
    "\n",
    "Why Machine Translation?\n",
    "Machine Translation is beneficial for:\n",
    "\n",
    "Global Communication: Enabling communication across different languages in real-time.\n",
    "Localization: Adapting content such as websites, applications, or documents to different languages and cultures.\n",
    "Cross-Language Information Retrieval: Facilitating access to information in multiple languages.\n",
    "\n",
    "How to Perform Machine Translation Programmatically?\n",
    "Using Hugging Face's Transformers for Machine Translation"
   ]
  },
  {
   "cell_type": "code",
   "execution_count": 1,
   "id": "8f4743b0-5ba5-4663-b7f6-b5c68cad025d",
   "metadata": {},
   "outputs": [],
   "source": [
    "#!conda install -c huggingface transformers\n",
    "#! conda install -c huggingface huggingface-hub\n",
    "#!pip install torchaudio\n",
    "#!conda install pytorch torchvision -c conda-forge\n",
    "#!conda install tensorflow -c conda-forge\n",
    "#!pip install flax\n",
    "#!conda install -c conda-forge sentencepiece"
   ]
  },
  {
   "cell_type": "code",
   "execution_count": 2,
   "id": "16e07b5e-b82b-4ba7-a4e0-1bb052d0f43b",
   "metadata": {},
   "outputs": [],
   "source": [
    "# Using conda\n",
    "#!conda install pytorch torchvision torchaudio -c pytorch\n",
    "\n",
    "# Using pip\n",
    "#!pip install torch torchvision torchaudio"
   ]
  },
  {
   "cell_type": "code",
   "execution_count": 3,
   "id": "d3b41cb8-52e7-4df2-94d7-95bb3dfcdeb6",
   "metadata": {},
   "outputs": [],
   "source": [
    "#!pip install --upgrade transformers"
   ]
  },
  {
   "cell_type": "code",
   "execution_count": 4,
   "id": "12c3bae1-091b-43dc-82a8-37a50fa0f81b",
   "metadata": {},
   "outputs": [
    {
     "name": "stdout",
     "output_type": "stream",
     "text": [
      "2.3.1\n"
     ]
    }
   ],
   "source": [
    "import torch\n",
    "print(torch.__version__)"
   ]
  },
  {
   "cell_type": "code",
   "execution_count": 5,
   "id": "3406b187-2fff-4bd4-90be-c2441e11cc4b",
   "metadata": {},
   "outputs": [
    {
     "name": "stdout",
     "output_type": "stream",
     "text": [
      "2.16.1\n"
     ]
    }
   ],
   "source": [
    "import tensorflow as tf\n",
    "print(tf.__version__)"
   ]
  },
  {
   "cell_type": "code",
   "execution_count": 6,
   "id": "fd673a52-6b44-47f9-bdc9-295539f8b18d",
   "metadata": {},
   "outputs": [
    {
     "name": "stdout",
     "output_type": "stream",
     "text": [
      "0.8.5\n"
     ]
    }
   ],
   "source": [
    "import flax\n",
    "print(flax.__version__)"
   ]
  },
  {
   "cell_type": "code",
   "execution_count": 7,
   "id": "52aacd3b-d50e-4e82-852a-b4be4ddfec2d",
   "metadata": {},
   "outputs": [
    {
     "name": "stdout",
     "output_type": "stream",
     "text": [
      "0.2.0\n"
     ]
    }
   ],
   "source": [
    "import sentencepiece as spm\n",
    "print(spm.__version__)"
   ]
  },
  {
   "cell_type": "code",
   "execution_count": 8,
   "id": "622dcf67-8d1b-46da-a0f1-99b7b09e0cdf",
   "metadata": {},
   "outputs": [
    {
     "data": {
      "application/vnd.jupyter.widget-view+json": {
       "model_id": "1a9569bf60c744afb86f6aa3dd5930e6",
       "version_major": 2,
       "version_minor": 0
      },
      "text/plain": [
       "pytorch_model.bin:   0%|          | 0.00/301M [00:00<?, ?B/s]"
      ]
     },
     "metadata": {},
     "output_type": "display_data"
    },
    {
     "data": {
      "application/vnd.jupyter.widget-view+json": {
       "model_id": "652aa19441ef4be8819e428789e54ae9",
       "version_major": 2,
       "version_minor": 0
      },
      "text/plain": [
       "generation_config.json:   0%|          | 0.00/293 [00:00<?, ?B/s]"
      ]
     },
     "metadata": {},
     "output_type": "display_data"
    },
    {
     "name": "stdout",
     "output_type": "stream",
     "text": [
      "Bonjour, comment allez-vous?\n"
     ]
    }
   ],
   "source": [
    "from transformers import MarianTokenizer, MarianMTModel\n",
    "\n",
    "model_name = 'Helsinki-NLP/opus-mt-en-fr'\n",
    "tokenizer = MarianTokenizer.from_pretrained(model_name)\n",
    "model = MarianMTModel.from_pretrained(model_name)\n",
    "\n",
    "\n"
   ]
  },
  {
   "cell_type": "code",
   "execution_count": 9,
   "id": "eba090cd-4be6-4b2a-8588-a1f740d47843",
   "metadata": {},
   "outputs": [
    {
     "name": "stdout",
     "output_type": "stream",
     "text": [
      "Bonjour, comment allez-vous?\n"
     ]
    }
   ],
   "source": [
    "text = \"Hello, how are you?\"\n",
    "translated = model.generate(**tokenizer(text, return_tensors=\"pt\"))\n",
    "decoded_translation = tokenizer.decode(translated[0], skip_special_tokens=True)\n",
    "print(decoded_translation)"
   ]
  },
  {
   "cell_type": "code",
   "execution_count": 10,
   "id": "0b5669bf-65f5-4612-8b07-cebca97b5f92",
   "metadata": {},
   "outputs": [],
   "source": [
    "# Load pre-trained MarianMT model and tokenizer for English to French translation\n",
    "model_name = 'Helsinki-NLP/opus-mt-en-fr'\n",
    "tokenizer = MarianTokenizer.from_pretrained(model_name)\n",
    "model = MarianMTModel.from_pretrained(model_name)"
   ]
  },
  {
   "cell_type": "code",
   "execution_count": 11,
   "id": "c2357a5d-5214-4295-b38d-f7ce929a7eb3",
   "metadata": {},
   "outputs": [],
   "source": [
    "# Example text in English\n",
    "text = \"Machine translation is an important task in natural language processing.\""
   ]
  },
  {
   "cell_type": "code",
   "execution_count": 12,
   "id": "b1973a07-c431-4137-a67f-7f842ff683af",
   "metadata": {},
   "outputs": [],
   "source": [
    "# Tokenize the input text\n",
    "inputs = tokenizer(text, return_tensors=\"pt\")"
   ]
  },
  {
   "cell_type": "code",
   "execution_count": 13,
   "id": "f355d082-a09b-4a4c-94b3-11b44fb828f0",
   "metadata": {},
   "outputs": [],
   "source": [
    "# Perform translation\n",
    "translated = model.generate(**inputs, max_length=100)"
   ]
  },
  {
   "cell_type": "code",
   "execution_count": 14,
   "id": "dae6593c-8307-4e80-a79f-705649101308",
   "metadata": {},
   "outputs": [],
   "source": [
    "# Decode the translated text\n",
    "translated_text = tokenizer.decode(translated[0], skip_special_tokens=True)"
   ]
  },
  {
   "cell_type": "code",
   "execution_count": 15,
   "id": "95ddf4a2-c2ff-49f9-b0ef-39803ef9d79e",
   "metadata": {},
   "outputs": [
    {
     "name": "stdout",
     "output_type": "stream",
     "text": [
      "English Input: Machine translation is an important task in natural language processing.\n",
      "French Translation: La traduction automatique est une tâche importante dans le traitement du langage naturel.\n"
     ]
    }
   ],
   "source": [
    "# Display translation\n",
    "print(f\"English Input: {text}\")\n",
    "print(f\"French Translation: {translated_text}\")"
   ]
  },
  {
   "cell_type": "markdown",
   "id": "299622ec-e995-4902-8289-19c2759f00c0",
   "metadata": {},
   "source": [
    "## Explanation:\n",
    "\n",
    "What: This example uses Hugging Face's Transformers library to perform machine translation from English to French using a pre-trained MarianMT model.\n",
    "Why: Transformers provide state-of-the-art models for natural language understanding tasks like machine translation.\n",
    "How: The input text is tokenized using the model's tokenizer (tokenizer(text, return_tensors=\"pt\")), and then translated using the model (model.generate(**inputs)). The translated output is decoded using the tokenizer (tokenizer.decode(translated[0], skip_special_tokens=True)) and displayed."
   ]
  },
  {
   "cell_type": "code",
   "execution_count": null,
   "id": "52e86ce7-87f7-454d-ac65-f1be9d5f9e5b",
   "metadata": {},
   "outputs": [],
   "source": []
  }
 ],
 "metadata": {
  "kernelspec": {
   "display_name": "Python 3 (ipykernel)",
   "language": "python",
   "name": "python3"
  },
  "language_info": {
   "codemirror_mode": {
    "name": "ipython",
    "version": 3
   },
   "file_extension": ".py",
   "mimetype": "text/x-python",
   "name": "python",
   "nbconvert_exporter": "python",
   "pygments_lexer": "ipython3",
   "version": "3.9.19"
  }
 },
 "nbformat": 4,
 "nbformat_minor": 5
}
