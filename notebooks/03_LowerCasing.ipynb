{
 "cells": [
  {
   "cell_type": "markdown",
   "id": "7bb4cc25-cdf5-426a-a390-330c38f478cd",
   "metadata": {},
   "source": [
    "<table align=\"left\" width=100%>\n",
    "    <tr>\n",
    "        <td width=\"10%\">\n",
    "            <img src=\"../images/RA_Logo.png\">\n",
    "        </td>\n",
    "        <td>\n",
    "            <div align=\"center\">\n",
    "                <font color=\"#21618C\" size=8px>\n",
    "                  <b> 3. Lower casing </b>\n",
    "                </font>\n",
    "            </div>\n",
    "        </td>\n",
    "    </tr>\n",
    "</table>"
   ]
  },
  {
   "cell_type": "markdown",
   "id": "c5672fd9-b114-4d31-84d8-f80456d1c07d",
   "metadata": {},
   "source": [
    "<table align=\"left\">\n",
    "  <td>\n",
    "    <a href=\"https://colab.research.google.com/github/vidyadharbendre/learn_nlp_using_examples/blob/main/notebooks/03_LowerCasing.ipynb\" target=\"_parent\"><img src=\"https://colab.research.google.com/assets/colab-badge.svg\" alt=\"Open In Colab\"/></a>\n",
    "  </td>\n",
    "  <td>\n",
    "    <a target=\"_blank\" href=\"https://kaggle.com/kernels/welcome?src=https://github.com/vidyadharbendre/learn_nlp_using_examples/blob/main/notebooks/03_LowerCasing.ipynb\"><img src=\"https://kaggle.com/static/images/open-in-kaggle.svg\" /></a>\n",
    "  </td>\n",
    "</table>"
   ]
  },
  {
   "cell_type": "markdown",
   "id": "faec82c0-0ccd-4d95-bf65-bb10735a1974",
   "metadata": {},
   "source": [
    "## What is Lowercasing?\n",
    "Lowercasing refers to the process of converting all characters in a piece of text to lowercase. This step is important because it helps standardize the text data by treating words like \"Hello\", \"hello\", and \"HELLO\" as identical, regardless of their original capitalization.\n",
    "\n",
    "## Why Lowercasing?\n",
    "Lowercasing is necessary in NLP tasks to ensure consistency and improve model performance. By converting all text to lowercase:\n",
    "\n",
    "We reduce the vocabulary size by collapsing words that differ only by case into a single representation.\n",
    "We avoid treating the same word differently based on capitalization, which could lead to sparsity in the data and affect the accuracy of models.\n",
    "\n",
    "## How to Achieve Lowercasing Programmatically?\n",
    "Using SpaCy:"
   ]
  },
  {
   "cell_type": "code",
   "execution_count": 1,
   "id": "a20ea2aa-d6c4-4707-b9df-74a031894a92",
   "metadata": {},
   "outputs": [
    {
     "name": "stdout",
     "output_type": "stream",
     "text": [
      "['this', 'is', 'an', 'example', 'sentence', 'demonstrating', 'the', 'lowercasing', 'of', 'text', '.']\n"
     ]
    }
   ],
   "source": [
    "import spacy\n",
    "\n",
    "# Load SpaCy's English language model\n",
    "nlp = spacy.load(\"en_core_web_sm\")\n",
    "\n",
    "# Example text\n",
    "text = \"This is an Example Sentence Demonstrating the Lowercasing of Text.\"\n",
    "\n",
    "# Process the text with SpaCy\n",
    "doc = nlp(text)\n",
    "\n",
    "# Convert text to lowercase using SpaCy\n",
    "lowercased_text_spacy = [token.text.lower() for token in doc]\n",
    "\n",
    "print(lowercased_text_spacy)"
   ]
  },
  {
   "cell_type": "markdown",
   "id": "20ac055f-6ea8-4dd6-9ebc-705c5d3c0b25",
   "metadata": {},
   "source": [
    "Using NLTK:"
   ]
  },
  {
   "cell_type": "code",
   "execution_count": 2,
   "id": "74c5b7a3-e928-4df7-b78e-2abe0fac0fcc",
   "metadata": {},
   "outputs": [
    {
     "name": "stdout",
     "output_type": "stream",
     "text": [
      "['this', 'is', 'an', 'example', 'sentence', 'demonstrating', 'the', 'lowercasing', 'of', 'text', '.']\n"
     ]
    },
    {
     "name": "stderr",
     "output_type": "stream",
     "text": [
      "[nltk_data] Downloading package punkt to\n",
      "[nltk_data]     /Users/vidyadharbendre/nltk_data...\n",
      "[nltk_data]   Package punkt is already up-to-date!\n"
     ]
    }
   ],
   "source": [
    "from nltk.tokenize import word_tokenize\n",
    "import nltk\n",
    "\n",
    "# Ensure necessary resources are downloaded\n",
    "nltk.download('punkt')\n",
    "\n",
    "# Example text\n",
    "text = \"This is an Example Sentence Demonstrating the Lowercasing of Text.\"\n",
    "\n",
    "# Tokenize the text\n",
    "words = word_tokenize(text)\n",
    "\n",
    "# Convert text to lowercase using NLTK\n",
    "lowercased_text_nltk = [word.lower() for word in words]\n",
    "\n",
    "print(lowercased_text_nltk)\n"
   ]
  },
  {
   "cell_type": "markdown",
   "id": "daa8d690-98f6-4ba0-a192-5493d24fefc2",
   "metadata": {},
   "source": [
    "## Explanation of the Code:\n",
    "\n",
    "SpaCy Approach: We load the SpaCy English model and process the text. Each token in the document (doc) is converted to lowercase using token.text.lower().\n",
    "\n",
    "NLTK Approach: We tokenize the text into words using word_tokenize() from NLTK. Then, each word is converted to lowercase using word.lower().\n",
    "\n",
    "## Summary:\n",
    "Lowercasing is a fundamental preprocessing step in NLP that ensures text data is standardized and consistent, which is crucial for downstream tasks such as text classification, information retrieval, and sentiment analysis. Implementing lowercasing using SpaCy or NLTK is straightforward and helps improve the quality and efficiency of NLP models."
   ]
  },
  {
   "cell_type": "code",
   "execution_count": null,
   "id": "895f073f-27d4-4b88-841d-6988c242ab4d",
   "metadata": {},
   "outputs": [],
   "source": []
  }
 ],
 "metadata": {
  "kernelspec": {
   "display_name": "Python 3 (ipykernel)",
   "language": "python",
   "name": "python3"
  },
  "language_info": {
   "codemirror_mode": {
    "name": "ipython",
    "version": 3
   },
   "file_extension": ".py",
   "mimetype": "text/x-python",
   "name": "python",
   "nbconvert_exporter": "python",
   "pygments_lexer": "ipython3",
   "version": "3.12.3"
  }
 },
 "nbformat": 4,
 "nbformat_minor": 5
}
