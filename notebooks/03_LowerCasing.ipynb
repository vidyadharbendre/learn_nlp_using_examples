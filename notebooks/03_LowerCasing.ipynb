{
 "cells": [
  {
   "cell_type": "markdown",
   "id": "7bb4cc25-cdf5-426a-a390-330c38f478cd",
   "metadata": {},
   "source": [
    "<table align=\"left\" width=100%>\n",
    "    <tr>\n",
    "        <td width=\"10%\">\n",
    "            <img src=\"../images/RA_Logo.png\">\n",
    "        </td>\n",
    "        <td>\n",
    "            <div align=\"center\">\n",
    "                <font color=\"#21618C\" size=8px>\n",
    "                  <b> 3. Lower casing </b>\n",
    "                </font>\n",
    "            </div>\n",
    "        </td>\n",
    "    </tr>\n",
    "</table>"
   ]
  },
  {
   "cell_type": "markdown",
   "id": "c5672fd9-b114-4d31-84d8-f80456d1c07d",
   "metadata": {},
   "source": [
    "<table align=\"left\">\n",
    "  <td>\n",
    "    <a href=\"https://colab.research.google.com/github/vidyadharbendre/learn_nlp_using_examples/blob/main/notebooks/03_LowerCasing.ipynb\" target=\"_parent\"><img src=\"https://colab.research.google.com/assets/colab-badge.svg\" alt=\"Open In Colab\"/></a>\n",
    "  </td>\n",
    "  <td>\n",
    "    <a target=\"_blank\" href=\"https://kaggle.com/kernels/welcome?src=https://github.com/vidyadharbendre/learn_nlp_using_examples/blob/main/notebooks/03_LowerCasing.ipynb\"><img src=\"https://kaggle.com/static/images/open-in-kaggle.svg\" /></a>\n",
    "  </td>\n",
    "</table>"
   ]
  },
  {
   "cell_type": "markdown",
   "id": "faec82c0-0ccd-4d95-bf65-bb10735a1974",
   "metadata": {},
   "source": [
    "## What is Lowercasing?\n",
    "Lowercasing refers to the process of converting all characters in a piece of text to lowercase. This step is important because it helps standardize the text data by treating words like \"Hello\", \"hello\", and \"HELLO\" as identical, regardless of their original capitalization.\n",
    "\n",
    "## Why Lowercasing?\n",
    "Lowercasing is necessary in NLP tasks to ensure consistency and improve model performance. By converting all text to lowercase:\n",
    "\n",
    "We reduce the vocabulary size by collapsing words that differ only by case into a single representation.\n",
    "We avoid treating the same word differently based on capitalization, which could lead to sparsity in the data and affect the accuracy of models.\n",
    "\n",
    "## How to Achieve Lowercasing Programmatically?\n",
    "Using SpaCy:"
   ]
  },
  {
   "cell_type": "code",
   "execution_count": 1,
   "id": "5ba27416-21b7-43ac-8c47-8def776fe085",
   "metadata": {},
   "outputs": [
    {
     "name": "stdout",
     "output_type": "stream",
     "text": [
      "3.5.4\n"
     ]
    }
   ],
   "source": [
    "import spacy\n",
    "\n",
    "# Print the version of SpaCy installed\n",
    "print(spacy.__version__)"
   ]
  },
  {
   "cell_type": "code",
   "execution_count": 2,
   "id": "a20ea2aa-d6c4-4707-b9df-74a031894a92",
   "metadata": {},
   "outputs": [
    {
     "name": "stdout",
     "output_type": "stream",
     "text": [
      "['this', 'is', 'an', 'example', 'sentence', 'demonstrating', 'the', 'lowercasing', 'of', 'text', '.']\n"
     ]
    }
   ],
   "source": [
    "import spacy\n",
    "\n",
    "# Load SpaCy's English language model\n",
    "nlp = spacy.load(\"en_core_web_sm\")\n",
    "\n",
    "# Example text\n",
    "text = \"This is an Example Sentence Demonstrating the Lowercasing of Text.\"\n",
    "\n",
    "# Process the text with SpaCy\n",
    "doc = nlp(text)\n",
    "\n",
    "# Convert text to lowercase using SpaCy\n",
    "lowercased_text_spacy = [token.text.lower() for token in doc]\n",
    "\n",
    "print(lowercased_text_spacy)"
   ]
  },
  {
   "cell_type": "code",
   "execution_count": 3,
   "id": "34fb5a34-5e5c-4bce-ab88-4a09f9d52062",
   "metadata": {},
   "outputs": [],
   "source": [
    "text = \"What is SEP - Skill Enhancement Program\""
   ]
  },
  {
   "cell_type": "code",
   "execution_count": 5,
   "id": "ea03c63c-73c8-491e-85f0-3f49af79e4c5",
   "metadata": {},
   "outputs": [],
   "source": [
    "doc = nlp(text)"
   ]
  },
  {
   "cell_type": "code",
   "execution_count": 6,
   "id": "dd83031e-d350-4402-ab68-0cb58f36b3e4",
   "metadata": {},
   "outputs": [
    {
     "name": "stdout",
     "output_type": "stream",
     "text": [
      "What\n",
      "is\n",
      "SEP\n",
      "-\n",
      "Skill\n",
      "Enhancement\n",
      "Program\n"
     ]
    }
   ],
   "source": [
    "for token in doc:\n",
    "    print(token)"
   ]
  },
  {
   "cell_type": "code",
   "execution_count": 7,
   "id": "6c0b2f19-96e2-4949-a4c5-72271e75d2b4",
   "metadata": {},
   "outputs": [
    {
     "data": {
      "text/plain": [
       "['what', 'is', 'sep', '-', 'skill', 'enhancement', 'program']"
      ]
     },
     "execution_count": 7,
     "metadata": {},
     "output_type": "execute_result"
    }
   ],
   "source": [
    "[token.text.lower() for token in doc]"
   ]
  },
  {
   "cell_type": "markdown",
   "id": "20ac055f-6ea8-4dd6-9ebc-705c5d3c0b25",
   "metadata": {},
   "source": [
    "Using NLTK:"
   ]
  },
  {
   "cell_type": "code",
   "execution_count": 4,
   "id": "4a8cc624-a396-441e-a56b-f9903ab85e77",
   "metadata": {},
   "outputs": [
    {
     "name": "stdout",
     "output_type": "stream",
     "text": [
      "NLTK version: 3.8.1\n"
     ]
    }
   ],
   "source": [
    "import nltk\n",
    "\n",
    "# Print the version of NLTK installed\n",
    "print(\"NLTK version:\", nltk.__version__)"
   ]
  },
  {
   "cell_type": "code",
   "execution_count": 8,
   "id": "ea97b8c9-9800-4aaa-9be7-84d1beb0b8f8",
   "metadata": {},
   "outputs": [],
   "source": [
    "from nltk.tokenize import word_tokenize\n",
    "import nltk"
   ]
  },
  {
   "cell_type": "code",
   "execution_count": 9,
   "id": "eff756bc-83a7-4baa-b2e2-8c6bf46abd6d",
   "metadata": {},
   "outputs": [
    {
     "name": "stderr",
     "output_type": "stream",
     "text": [
      "[nltk_data] Downloading package punkt to\n",
      "[nltk_data]     /Users/vidyadharbendre/nltk_data...\n",
      "[nltk_data]   Package punkt is already up-to-date!\n"
     ]
    },
    {
     "data": {
      "text/plain": [
       "True"
      ]
     },
     "execution_count": 9,
     "metadata": {},
     "output_type": "execute_result"
    }
   ],
   "source": [
    "# Ensure necessary resources are downloaded\n",
    "nltk.download('punkt')"
   ]
  },
  {
   "cell_type": "code",
   "execution_count": 10,
   "id": "f67c69af-c6ef-4d95-881d-e61e9c8bb1f1",
   "metadata": {},
   "outputs": [],
   "source": [
    "# Example text\n",
    "text = \"This is an Example Sentence Demonstrating the Lowercasing of Text.\""
   ]
  },
  {
   "cell_type": "code",
   "execution_count": 11,
   "id": "340a089b-f0ef-4c1a-a096-914bcd7987c1",
   "metadata": {},
   "outputs": [
    {
     "data": {
      "text/plain": [
       "['This',\n",
       " 'is',\n",
       " 'an',\n",
       " 'Example',\n",
       " 'Sentence',\n",
       " 'Demonstrating',\n",
       " 'the',\n",
       " 'Lowercasing',\n",
       " 'of',\n",
       " 'Text',\n",
       " '.']"
      ]
     },
     "execution_count": 11,
     "metadata": {},
     "output_type": "execute_result"
    }
   ],
   "source": [
    "word_tokenize(text)"
   ]
  },
  {
   "cell_type": "code",
   "execution_count": 12,
   "id": "a21c4775-0bd8-4de3-910b-9ded5245e18d",
   "metadata": {},
   "outputs": [],
   "source": [
    "# Tokenize the text\n",
    "words = word_tokenize(text)"
   ]
  },
  {
   "cell_type": "code",
   "execution_count": 13,
   "id": "74c5b7a3-e928-4df7-b78e-2abe0fac0fcc",
   "metadata": {},
   "outputs": [
    {
     "name": "stdout",
     "output_type": "stream",
     "text": [
      "['this', 'is', 'an', 'example', 'sentence', 'demonstrating', 'the', 'lowercasing', 'of', 'text', '.']\n"
     ]
    }
   ],
   "source": [
    "# Convert text to lowercase using NLTK\n",
    "lowercased_text_nltk = [word.lower() for word in words]\n",
    "\n",
    "print(lowercased_text_nltk)"
   ]
  },
  {
   "cell_type": "markdown",
   "id": "daa8d690-98f6-4ba0-a192-5493d24fefc2",
   "metadata": {},
   "source": [
    "## Explanation of the Code:\n",
    "\n",
    "SpaCy Approach: We load the SpaCy English model and process the text. Each token in the document (doc) is converted to lowercase using token.text.lower().\n",
    "\n",
    "NLTK Approach: We tokenize the text into words using word_tokenize() from NLTK. Then, each word is converted to lowercase using word.lower().\n",
    "\n",
    "## Summary:\n",
    "Lowercasing is a fundamental preprocessing step in NLP that ensures text data is standardized and consistent, which is crucial for downstream tasks such as text classification, information retrieval, and sentiment analysis. Implementing lowercasing using SpaCy or NLTK is straightforward and helps improve the quality and efficiency of NLP models."
   ]
  },
  {
   "cell_type": "code",
   "execution_count": null,
   "id": "895f073f-27d4-4b88-841d-6988c242ab4d",
   "metadata": {},
   "outputs": [],
   "source": []
  },
  {
   "cell_type": "code",
   "execution_count": null,
   "id": "26fb875b-5695-4534-911b-f8d515bdbe75",
   "metadata": {},
   "outputs": [],
   "source": []
  }
 ],
 "metadata": {
  "kernelspec": {
   "display_name": "Python 3 (ipykernel)",
   "language": "python",
   "name": "python3"
  },
  "language_info": {
   "codemirror_mode": {
    "name": "ipython",
    "version": 3
   },
   "file_extension": ".py",
   "mimetype": "text/x-python",
   "name": "python",
   "nbconvert_exporter": "python",
   "pygments_lexer": "ipython3",
   "version": "3.9.19"
  }
 },
 "nbformat": 4,
 "nbformat_minor": 5
}
