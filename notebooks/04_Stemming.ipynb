{
 "cells": [
  {
   "cell_type": "markdown",
   "id": "2df837b5-c4ad-4572-88f0-3ee6c47adad9",
   "metadata": {},
   "source": [
    "<table align=\"left\" width=100%>\n",
    "    <tr>\n",
    "        <td width=\"10%\">\n",
    "            <img src=\"../images/RA_Logo.png\">\n",
    "        </td>\n",
    "        <td>\n",
    "            <div align=\"center\">\n",
    "                <font color=\"#21618C\" size=8px>\n",
    "                  <b> 4. Stemming </b>\n",
    "                </font>\n",
    "            </div>\n",
    "        </td>\n",
    "    </tr>\n",
    "</table>"
   ]
  },
  {
   "cell_type": "markdown",
   "id": "8945f593-45e9-4f27-b24c-22c34ef476a2",
   "metadata": {},
   "source": [
    "<table align=\"left\">\n",
    "  <td>\n",
    "    <a href=\"https://colab.research.google.com/github/vidyadharbendre/learn_nlp_using_examples/blob/main/notebooks/04_Stemming.ipynb\" target=\"_parent\"><img src=\"https://colab.research.google.com/assets/colab-badge.svg\" alt=\"Open In Colab\"/></a>\n",
    "  </td>\n",
    "  <td>\n",
    "    <a target=\"_blank\" href=\"https://kaggle.com/kernels/welcome?src=https://github.com/vidyadharbendre/learn_nlp_using_examples/blob/main/notebooks/04_Stemming.ipynb\"><img src=\"https://kaggle.com/static/images/open-in-kaggle.svg\" /></a>\n",
    "  </td>\n",
    "</table>"
   ]
  },
  {
   "cell_type": "markdown",
   "id": "f4872d25-a20e-4773-a837-903fe68ed911",
   "metadata": {},
   "source": [
    "## What is Stemming?\n",
    "Stemming is the process of reducing words to their root or base form, even if the stem itself is not a valid word. For example, stemming converts words like \"running\", \"runs\", and \"runner\" to their common base form \"run\".\n",
    "\n",
    "## Why Stemming?\n",
    "Stemming is useful in NLP for tasks where the exact meaning of words is less important than their general sense. It:\n",
    "\n",
    "Reduces variations of words to a common base form, which can help in clustering and classification tasks.\n",
    "Improves the coverage of the vocabulary and reduces sparsity in the dataset.\n",
    "\n",
    "## How to Achieve Stemming Programmatically?\n",
    "Using SpaCy:\n",
    "SpaCy does not directly support stemming, but we can achieve stemming using NLTK within a SpaCy pipeline."
   ]
  },
  {
   "cell_type": "code",
   "execution_count": 1,
   "id": "57050338-3e65-4c39-9e75-aa2f8291e341",
   "metadata": {},
   "outputs": [
    {
     "name": "stdout",
     "output_type": "stream",
     "text": [
      "['thi', 'is', 'an', 'exampl', 'sentenc', 'demonstr', 'stem', 'of', 'word', '.']\n"
     ]
    }
   ],
   "source": [
    "import spacy\n",
    "from nltk.stem import PorterStemmer\n",
    "from nltk.tokenize import word_tokenize\n",
    "import nltk\n",
    "\n",
    "# Load SpaCy's English language model\n",
    "nlp = spacy.load(\"en_core_web_sm\")\n",
    "\n",
    "# Example text\n",
    "text = \"This is an example sentence demonstrating stemming of words.\"\n",
    "\n",
    "# Process the text with SpaCy\n",
    "doc = nlp(text)\n",
    "\n",
    "# Initialize the NLTK Porter Stemmer\n",
    "stemmer = PorterStemmer()\n",
    "\n",
    "# Tokenize and stem the text using NLTK\n",
    "stemmed_words_spacy = [stemmer.stem(token.text) for token in doc]\n",
    "\n",
    "print(stemmed_words_spacy)"
   ]
  },
  {
   "cell_type": "markdown",
   "id": "3563a6f6-42ca-40bb-89ba-45f3b222e3bb",
   "metadata": {},
   "source": [
    "Using NLTK:"
   ]
  },
  {
   "cell_type": "code",
   "execution_count": 2,
   "id": "020db1ae-ed5d-47c5-938e-6af5656789c6",
   "metadata": {},
   "outputs": [
    {
     "name": "stdout",
     "output_type": "stream",
     "text": [
      "['thi', 'is', 'an', 'exampl', 'sentenc', 'demonstr', 'stem', 'of', 'word', '.']\n"
     ]
    },
    {
     "name": "stderr",
     "output_type": "stream",
     "text": [
      "[nltk_data] Downloading package punkt to\n",
      "[nltk_data]     /Users/vidyadharbendre/nltk_data...\n",
      "[nltk_data]   Package punkt is already up-to-date!\n"
     ]
    }
   ],
   "source": [
    "from nltk.stem import PorterStemmer\n",
    "from nltk.tokenize import word_tokenize\n",
    "import nltk\n",
    "\n",
    "# Ensure necessary resources are downloaded\n",
    "nltk.download('punkt')\n",
    "\n",
    "# Example text\n",
    "text = \"This is an example sentence demonstrating stemming of words.\"\n",
    "\n",
    "# Tokenize the text\n",
    "words = word_tokenize(text)\n",
    "\n",
    "# Initialize the NLTK Porter Stemmer\n",
    "stemmer = PorterStemmer()\n",
    "\n",
    "# Stem the words using NLTK\n",
    "stemmed_words_nltk = [stemmer.stem(word) for word in words]\n",
    "\n",
    "print(stemmed_words_nltk)"
   ]
  },
  {
   "cell_type": "code",
   "execution_count": null,
   "id": "1002ddb5-e1ae-4d04-9247-677f043b247a",
   "metadata": {},
   "outputs": [],
   "source": []
  }
 ],
 "metadata": {
  "kernelspec": {
   "display_name": "Python 3 (ipykernel)",
   "language": "python",
   "name": "python3"
  },
  "language_info": {
   "codemirror_mode": {
    "name": "ipython",
    "version": 3
   },
   "file_extension": ".py",
   "mimetype": "text/x-python",
   "name": "python",
   "nbconvert_exporter": "python",
   "pygments_lexer": "ipython3",
   "version": "3.12.3"
  }
 },
 "nbformat": 4,
 "nbformat_minor": 5
}
