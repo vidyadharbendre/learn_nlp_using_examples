{
 "cells": [
  {
   "cell_type": "markdown",
   "id": "e5b4eb4b-d490-4e5d-8d70-11732ffa8b99",
   "metadata": {},
   "source": [
    "<table align=\"left\" width=100%>\n",
    "    <tr>\n",
    "        <td width=\"10%\">\n",
    "            <img src=\"../images/RA_Logo.png\">\n",
    "        </td>\n",
    "        <td>\n",
    "            <div align=\"center\">\n",
    "                <font color=\"#21618C\" size=8px>\n",
    "                  <b> 2. Remove Stop Words </b>\n",
    "                </font>\n",
    "            </div>\n",
    "        </td>\n",
    "    </tr>\n",
    "</table>"
   ]
  },
  {
   "cell_type": "markdown",
   "id": "cdf69676-4f29-42c9-afee-9f71cd5104fc",
   "metadata": {},
   "source": [
    "<table align=\"left\">\n",
    "  <td>\n",
    "    <a href=\"https://colab.research.google.com/github/vidyadharbendre/learn_nlp_using_examples/blob/main/notebooks/02_Remove_StopWords.ipynb\" target=\"_parent\"><img src=\"https://colab.research.google.com/assets/colab-badge.svg\" alt=\"Open In Colab\"/></a>\n",
    "  </td>\n",
    "  <td>\n",
    "    <a target=\"_blank\" href=\"https://kaggle.com/kernels/welcome?src=https://github.com/vidyadharbendre/learn_nlp_using_examples/blob/main/notebooks/02_Remove_StopWords.ipynb\"><img src=\"https://kaggle.com/static/images/open-in-kaggle.svg\" /></a>\n",
    "  </td>\n",
    "</table>"
   ]
  },
  {
   "cell_type": "markdown",
   "id": "5dbbf415-c33e-4479-9eb8-e23a5c1e9c7f",
   "metadata": {},
   "source": [
    "## What are Stop Words?\n",
    "\n",
    "Stop words are frequently occurring, common words that are often filtered out during text processing. These words include articles, prepositions, conjunctions, and other parts of speech that typically do not add substantial meaning to the text.\n",
    "\n",
    "## Why Remove Stop Words?\n",
    "\n",
    "Removing stop words can:\n",
    "- Reduce the size of the text data.\n",
    "- Improve the performance of NLP models.\n",
    "- Focus on the more meaningful words that contribute to the overall context."
   ]
  },
  {
   "cell_type": "code",
   "execution_count": 4,
   "id": "7eaa1733-0138-462d-a2ff-1c13abf37502",
   "metadata": {},
   "outputs": [
    {
     "name": "stdout",
     "output_type": "stream",
     "text": [
      "['example', 'sentence', 'demonstrating', 'removal', 'stop', 'words', '.']\n"
     ]
    }
   ],
   "source": [
    "# using spacy\n",
    "import spacy\n",
    "\n",
    "# Load SpaCy's English language model\n",
    "nlp = spacy.load(\"en_core_web_sm\")\n",
    "\n",
    "# Example text\n",
    "text = \"This is an example sentence demonstrating the removal of stop words.\"\n",
    "\n",
    "# Process the text with SpaCy\n",
    "doc = nlp(text)\n",
    "\n",
    "# Remove stop words\n",
    "filtered_words_spacy = [token.text for token in doc if not token.is_stop]\n",
    "\n",
    "print(filtered_words_spacy)"
   ]
  },
  {
   "cell_type": "code",
   "execution_count": 5,
   "id": "9f3732d2-d940-485d-bd8c-41201e671c9d",
   "metadata": {},
   "outputs": [
    {
     "name": "stdout",
     "output_type": "stream",
     "text": [
      "['example', 'sentence', 'demonstrating', 'removal', 'stop', 'words', '.']\n"
     ]
    },
    {
     "name": "stderr",
     "output_type": "stream",
     "text": [
      "[nltk_data] Downloading package stopwords to\n",
      "[nltk_data]     /Users/vidyadharbendre/nltk_data...\n",
      "[nltk_data]   Package stopwords is already up-to-date!\n",
      "[nltk_data] Downloading package punkt to\n",
      "[nltk_data]     /Users/vidyadharbendre/nltk_data...\n",
      "[nltk_data]   Package punkt is already up-to-date!\n"
     ]
    }
   ],
   "source": [
    "# using NLTK\n",
    "from nltk.corpus import stopwords\n",
    "from nltk.tokenize import word_tokenize\n",
    "import nltk\n",
    "\n",
    "# Ensure necessary resources are downloaded\n",
    "nltk.download('stopwords')\n",
    "nltk.download('punkt')\n",
    "\n",
    "# Example text\n",
    "text = \"This is an example sentence demonstrating the removal of stop words.\"\n",
    "\n",
    "# Tokenize the text\n",
    "words = word_tokenize(text)\n",
    "\n",
    "# Remove stop words\n",
    "stop_words = set(stopwords.words('english'))\n",
    "filtered_words_nltk = [word for word in words if word.lower() not in stop_words]\n",
    "\n",
    "print(filtered_words_nltk)"
   ]
  },
  {
   "cell_type": "code",
   "execution_count": 6,
   "id": "f9a73710-4523-49a2-9774-00ece346ac61",
   "metadata": {},
   "outputs": [
    {
     "name": "stdout",
     "output_type": "stream",
     "text": [
      "['example', 'sentence', 'demonstrating', 'removal', 'stop', 'words', '.']\n"
     ]
    }
   ],
   "source": [
    "print(filtered_words_nltk)"
   ]
  },
  {
   "cell_type": "code",
   "execution_count": null,
   "id": "0bbf0d54-7f28-4463-8b1e-8bc7080af1a1",
   "metadata": {},
   "outputs": [],
   "source": []
  }
 ],
 "metadata": {
  "kernelspec": {
   "display_name": "Python 3 (ipykernel)",
   "language": "python",
   "name": "python3"
  },
  "language_info": {
   "codemirror_mode": {
    "name": "ipython",
    "version": 3
   },
   "file_extension": ".py",
   "mimetype": "text/x-python",
   "name": "python",
   "nbconvert_exporter": "python",
   "pygments_lexer": "ipython3",
   "version": "3.12.3"
  }
 },
 "nbformat": 4,
 "nbformat_minor": 5
}
