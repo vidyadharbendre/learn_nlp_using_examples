{
 "cells": [
  {
   "cell_type": "markdown",
   "id": "e5b4eb4b-d490-4e5d-8d70-11732ffa8b99",
   "metadata": {},
   "source": [
    "<table align=\"left\" width=100%>\n",
    "    <tr>\n",
    "        <td width=\"10%\">\n",
    "            <img src=\"../images/RA_Logo.png\">\n",
    "        </td>\n",
    "        <td>\n",
    "            <div align=\"center\">\n",
    "                <font color=\"#21618C\" size=8px>\n",
    "                  <b> 2. Remove Stop Words </b>\n",
    "                </font>\n",
    "            </div>\n",
    "        </td>\n",
    "    </tr>\n",
    "</table>"
   ]
  },
  {
   "cell_type": "markdown",
   "id": "cdf69676-4f29-42c9-afee-9f71cd5104fc",
   "metadata": {},
   "source": [
    "<table align=\"left\">\n",
    "  <td>\n",
    "    <a href=\"https://colab.research.google.com/github/vidyadharbendre/learn_nlp_using_examples/blob/main/notebooks/02_Remove_StopWords.ipynb\" target=\"_parent\"><img src=\"https://colab.research.google.com/assets/colab-badge.svg\" alt=\"Open In Colab\"/></a>\n",
    "  </td>\n",
    "  <td>\n",
    "    <a target=\"_blank\" href=\"https://kaggle.com/kernels/welcome?src=https://github.com/vidyadharbendre/learn_nlp_using_examples/blob/main/notebooks/02_Remove_StopWords.ipynb\"><img src=\"https://kaggle.com/static/images/open-in-kaggle.svg\" /></a>\n",
    "  </td>\n",
    "</table>"
   ]
  },
  {
   "cell_type": "markdown",
   "id": "5dbbf415-c33e-4479-9eb8-e23a5c1e9c7f",
   "metadata": {},
   "source": [
    "## What are Stop Words?\n",
    "\n",
    "Stop words are frequently occurring, common words that are often filtered out during text processing. These words include articles, prepositions, conjunctions, and other parts of speech that typically do not add substantial meaning to the text.\n",
    "\n",
    "## Why Remove Stop Words?\n",
    "\n",
    "Removing stop words can:\n",
    "- Reduce the size of the text data.\n",
    "- Improve the performance of NLP models.\n",
    "- Focus on the more meaningful words that contribute to the overall context."
   ]
  },
  {
   "cell_type": "code",
   "execution_count": 16,
   "id": "cb88a19b-30a3-4686-940d-860bbb092903",
   "metadata": {},
   "outputs": [
    {
     "name": "stdout",
     "output_type": "stream",
     "text": [
      "Python 3.9.19\n"
     ]
    }
   ],
   "source": [
    "!python --version"
   ]
  },
  {
   "cell_type": "code",
   "execution_count": 17,
   "id": "be6be3d0-a613-4acd-b7d1-9171ac3d8937",
   "metadata": {},
   "outputs": [
    {
     "name": "stdout",
     "output_type": "stream",
     "text": [
      "Python 3.9.19\n"
     ]
    }
   ],
   "source": [
    "!python --version"
   ]
  },
  {
   "cell_type": "code",
   "execution_count": 18,
   "id": "2abfc25b-1b44-40e8-ba74-405470c9ddd2",
   "metadata": {},
   "outputs": [
    {
     "name": "stdout",
     "output_type": "stream",
     "text": [
      "1.26.4\n"
     ]
    }
   ],
   "source": [
    "import numpy\n",
    "print(numpy.__version__)"
   ]
  },
  {
   "cell_type": "code",
   "execution_count": 19,
   "id": "88a82866-4393-4c15-aeeb-9aedbe03f3ab",
   "metadata": {},
   "outputs": [
    {
     "name": "stdout",
     "output_type": "stream",
     "text": [
      "Name: numpy\n",
      "Version: 1.26.4\n",
      "Summary: Fundamental package for array computing in Python\n",
      "Home-page: https://numpy.org\n",
      "Author: Travis E. Oliphant et al.\n",
      "Author-email: \n",
      "License: Copyright (c) 2005-2023, NumPy Developers.\n",
      "        All rights reserved.\n",
      "        \n",
      "        Redistribution and use in source and binary forms, with or without\n",
      "        modification, are permitted provided that the following conditions are\n",
      "        met:\n",
      "        \n",
      "            * Redistributions of source code must retain the above copyright\n",
      "               notice, this list of conditions and the following disclaimer.\n",
      "        \n",
      "            * Redistributions in binary form must reproduce the above\n",
      "               copyright notice, this list of conditions and the following\n",
      "               disclaimer in the documentation and/or other materials provided\n",
      "               with the distribution.\n",
      "        \n",
      "            * Neither the name of the NumPy Developers nor the names of any\n",
      "               contributors may be used to endorse or promote products derived\n",
      "               from this software without specific prior written permission.\n",
      "        \n",
      "        THIS SOFTWARE IS PROVIDED BY THE COPYRIGHT HOLDERS AND CONTRIBUTORS\n",
      "        \"AS IS\" AND ANY EXPRESS OR IMPLIED WARRANTIES, INCLUDING, BUT NOT\n",
      "        LIMITED TO, THE IMPLIED WARRANTIES OF MERCHANTABILITY AND FITNESS FOR\n",
      "        A PARTICULAR PURPOSE ARE DISCLAIMED. IN NO EVENT SHALL THE COPYRIGHT\n",
      "        OWNER OR CONTRIBUTORS BE LIABLE FOR ANY DIRECT, INDIRECT, INCIDENTAL,\n",
      "        SPECIAL, EXEMPLARY, OR CONSEQUENTIAL DAMAGES (INCLUDING, BUT NOT\n",
      "        LIMITED TO, PROCUREMENT OF SUBSTITUTE GOODS OR SERVICES; LOSS OF USE,\n",
      "        DATA, OR PROFITS; OR BUSINESS INTERRUPTION) HOWEVER CAUSED AND ON ANY\n",
      "        THEORY OF LIABILITY, WHETHER IN CONTRACT, STRICT LIABILITY, OR TORT\n",
      "        (INCLUDING NEGLIGENCE OR OTHERWISE) ARISING IN ANY WAY OUT OF THE USE\n",
      "        OF THIS SOFTWARE, EVEN IF ADVISED OF THE POSSIBILITY OF SUCH DAMAGE.\n",
      "Location: /Users/vidyadharbendre/miniforge3/envs/nlp_env/lib/python3.9/site-packages\n",
      "Requires: \n",
      "Required-by: blis, gensim, h5py, scipy, spacy, thinc\n"
     ]
    }
   ],
   "source": [
    "!pip show numpy"
   ]
  },
  {
   "cell_type": "code",
   "execution_count": 20,
   "id": "6ff4d44f-7e35-4957-aa52-acfad7e92c39",
   "metadata": {},
   "outputs": [
    {
     "name": "stdout",
     "output_type": "stream",
     "text": [
      "1.26.4\n",
      "3.11.0\n"
     ]
    }
   ],
   "source": [
    "import numpy\n",
    "import h5py\n",
    "\n",
    "print(numpy.__version__)\n",
    "print(h5py.__version__)"
   ]
  },
  {
   "cell_type": "markdown",
   "id": "51daad76-c3d7-4b18-9e15-cc6d13229537",
   "metadata": {},
   "source": [
    "Execute conda install h5py"
   ]
  },
  {
   "cell_type": "code",
   "execution_count": 21,
   "id": "bbf5af47-bdea-456e-93a7-83991885c904",
   "metadata": {},
   "outputs": [
    {
     "name": "stdout",
     "output_type": "stream",
     "text": [
      "3.11.0\n"
     ]
    }
   ],
   "source": [
    "import h5py\n",
    "print(h5py.__version__)"
   ]
  },
  {
   "cell_type": "code",
   "execution_count": 22,
   "id": "6646042f-34a6-4b7b-87b5-682e16e721d5",
   "metadata": {},
   "outputs": [
    {
     "name": "stdout",
     "output_type": "stream",
     "text": [
      "3.5.4\n"
     ]
    }
   ],
   "source": [
    "import spacy\n",
    "\n",
    "# Print the version of SpaCy installed\n",
    "print(spacy.__version__)"
   ]
  },
  {
   "cell_type": "code",
   "execution_count": 23,
   "id": "7eaa1733-0138-462d-a2ff-1c13abf37502",
   "metadata": {},
   "outputs": [
    {
     "name": "stdout",
     "output_type": "stream",
     "text": [
      "['example', 'sentence', 'demonstrating', 'removal', 'stop', 'words', '.']\n"
     ]
    }
   ],
   "source": [
    "# using spacy\n",
    "import spacy\n",
    "\n",
    "# Load SpaCy's English language model\n",
    "nlp = spacy.load(\"en_core_web_sm\")\n",
    "\n",
    "# Example text\n",
    "text = \"This is an example sentence demonstrating the removal of stop words.\"\n",
    "\n",
    "# Process the text with SpaCy\n",
    "doc = nlp(text)\n",
    "\n",
    "# Remove stop words\n",
    "filtered_words_spacy = [token.text for token in doc if not token.is_stop]\n",
    "\n",
    "print(filtered_words_spacy)"
   ]
  },
  {
   "cell_type": "code",
   "execution_count": 24,
   "id": "c7ebc485-8369-4166-9ece-e6fe365eb7a2",
   "metadata": {},
   "outputs": [
    {
     "name": "stdout",
     "output_type": "stream",
     "text": [
      "Python 3.9.19\n",
      "Name: spacy\n",
      "Version: 3.5.0\n",
      "Summary: Industrial-strength Natural Language Processing (NLP) in Python\n",
      "Home-page: https://spacy.io\n",
      "Author: Explosion\n",
      "Author-email: contact@explosion.ai\n",
      "License: MIT\n",
      "Location: /Users/vidyadharbendre/miniforge3/envs/nlp_env/lib/python3.9/site-packages\n",
      "Requires: catalogue, cymem, jinja2, langcodes, murmurhash, numpy, packaging, pathy, preshed, pydantic, requests, setuptools, smart-open, spacy-legacy, spacy-loggers, srsly, thinc, tqdm, typer, wasabi\n",
      "Required-by: en-core-web-sm\n"
     ]
    }
   ],
   "source": [
    "!python --version  # check Python version\n",
    "!pip show spacy  # check installed spacy version"
   ]
  },
  {
   "cell_type": "code",
   "execution_count": 25,
   "id": "868d5eeb-3dd4-45f9-8dbb-1bcc3e1f13b1",
   "metadata": {},
   "outputs": [
    {
     "name": "stdout",
     "output_type": "stream",
     "text": [
      "3.5.4\n"
     ]
    }
   ],
   "source": [
    "import spacy\n",
    "print(spacy.__version__)"
   ]
  },
  {
   "cell_type": "code",
   "execution_count": 26,
   "id": "53b58daa-0f38-4dc6-b739-afe84ef9b7cb",
   "metadata": {},
   "outputs": [
    {
     "name": "stdout",
     "output_type": "stream",
     "text": [
      "Python 3.9.19\n",
      "Name: spacy\n",
      "Version: 3.5.0\n",
      "Summary: Industrial-strength Natural Language Processing (NLP) in Python\n",
      "Home-page: https://spacy.io\n",
      "Author: Explosion\n",
      "Author-email: contact@explosion.ai\n",
      "License: MIT\n",
      "Location: /Users/vidyadharbendre/miniforge3/envs/nlp_env/lib/python3.9/site-packages\n",
      "Requires: catalogue, cymem, jinja2, langcodes, murmurhash, numpy, packaging, pathy, preshed, pydantic, requests, setuptools, smart-open, spacy-legacy, spacy-loggers, srsly, thinc, tqdm, typer, wasabi\n",
      "Required-by: en-core-web-sm\n"
     ]
    }
   ],
   "source": [
    "!python --version\n",
    "!pip show spacy"
   ]
  },
  {
   "cell_type": "code",
   "execution_count": 27,
   "id": "2ff6197e-8515-4283-974d-c01c6117c170",
   "metadata": {},
   "outputs": [],
   "source": [
    "#!conda install -c conda-forge nltk"
   ]
  },
  {
   "cell_type": "code",
   "execution_count": 29,
   "id": "732f7d92-c067-4be5-8e59-b124e2ac8499",
   "metadata": {},
   "outputs": [
    {
     "name": "stdout",
     "output_type": "stream",
     "text": [
      "NLTK version: 3.8.1\n"
     ]
    }
   ],
   "source": [
    "import nltk\n",
    "\n",
    "# Print the version of NLTK installed\n",
    "print(\"NLTK version:\", nltk.__version__)"
   ]
  },
  {
   "cell_type": "code",
   "execution_count": 28,
   "id": "9f3732d2-d940-485d-bd8c-41201e671c9d",
   "metadata": {},
   "outputs": [
    {
     "name": "stdout",
     "output_type": "stream",
     "text": [
      "['example', 'sentence', 'demonstrating', 'removal', 'stop', 'words', '.']\n"
     ]
    },
    {
     "name": "stderr",
     "output_type": "stream",
     "text": [
      "[nltk_data] Downloading package stopwords to\n",
      "[nltk_data]     /Users/vidyadharbendre/nltk_data...\n",
      "[nltk_data]   Package stopwords is already up-to-date!\n",
      "[nltk_data] Downloading package punkt to\n",
      "[nltk_data]     /Users/vidyadharbendre/nltk_data...\n",
      "[nltk_data]   Package punkt is already up-to-date!\n"
     ]
    }
   ],
   "source": [
    "# using NLTK\n",
    "from nltk.corpus import stopwords\n",
    "from nltk.tokenize import word_tokenize\n",
    "import nltk\n",
    "\n",
    "# Ensure necessary resources are downloaded\n",
    "nltk.download('stopwords')\n",
    "nltk.download('punkt')\n",
    "\n",
    "# Example text\n",
    "text = \"This is an example sentence demonstrating the removal of stop words.\"\n",
    "\n",
    "# Tokenize the text\n",
    "words = word_tokenize(text)\n",
    "\n",
    "# Remove stop words\n",
    "stop_words = set(stopwords.words('english'))\n",
    "filtered_words_nltk = [word for word in words if word.lower() not in stop_words]\n",
    "\n",
    "print(filtered_words_nltk)"
   ]
  },
  {
   "cell_type": "code",
   "execution_count": 15,
   "id": "f9a73710-4523-49a2-9774-00ece346ac61",
   "metadata": {},
   "outputs": [
    {
     "name": "stdout",
     "output_type": "stream",
     "text": [
      "['example', 'sentence', 'demonstrating', 'removal', 'stop', 'words', '.']\n"
     ]
    }
   ],
   "source": [
    "print(filtered_words_nltk)"
   ]
  },
  {
   "cell_type": "code",
   "execution_count": null,
   "id": "0bbf0d54-7f28-4463-8b1e-8bc7080af1a1",
   "metadata": {},
   "outputs": [],
   "source": []
  }
 ],
 "metadata": {
  "kernelspec": {
   "display_name": "Python 3 (ipykernel)",
   "language": "python",
   "name": "python3"
  },
  "language_info": {
   "codemirror_mode": {
    "name": "ipython",
    "version": 3
   },
   "file_extension": ".py",
   "mimetype": "text/x-python",
   "name": "python",
   "nbconvert_exporter": "python",
   "pygments_lexer": "ipython3",
   "version": "3.9.19"
  }
 },
 "nbformat": 4,
 "nbformat_minor": 5
}
