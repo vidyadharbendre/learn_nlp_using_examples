{
 "cells": [
  {
   "cell_type": "markdown",
   "id": "7aaf6253-ec8d-4457-a778-8cda860c0158",
   "metadata": {},
   "source": [
    "<table align=\"left\" width=100%>\n",
    "    <tr>\n",
    "        <td width=\"10%\">\n",
    "            <img src=\"../images/RA_Logo.png\">\n",
    "        </td>\n",
    "        <td>\n",
    "            <div align=\"center\">\n",
    "                <font color=\"#21618C\" size=8px>\n",
    "                  <b> 5. Lemmatization </b>\n",
    "                </font>\n",
    "            </div>\n",
    "        </td>\n",
    "    </tr>\n",
    "</table>"
   ]
  },
  {
   "cell_type": "markdown",
   "id": "7cd9f060-4c07-46c8-825e-df425da9ea74",
   "metadata": {},
   "source": [
    "<table align=\"left\">\n",
    "  <td>\n",
    "    <a href=\"https://colab.research.google.com/github/vidyadharbendre/learn_nlp_using_examples/blob/main/notebooks/05_Lemmatization.ipynb\" target=\"_parent\"><img src=\"https://colab.research.google.com/assets/colab-badge.svg\" alt=\"Open In Colab\"/></a>\n",
    "  </td>\n",
    "  <td>\n",
    "    <a target=\"_blank\" href=\"https://kaggle.com/kernels/welcome?src=https://github.com/vidyadharbendre/learn_nlp_using_examples/blob/main/notebooks/05_Lemmatization.ipynb\"><img src=\"https://kaggle.com/static/images/open-in-kaggle.svg\" /></a>\n",
    "  </td>\n",
    "</table>"
   ]
  },
  {
   "cell_type": "markdown",
   "id": "017e61e2-7c86-4354-8e46-60c1a7417034",
   "metadata": {},
   "source": [
    "## What is Lemmatization?\n",
    "Lemmatization is the process of reducing words to their base or dictionary form (lemma), considering the context and meaning of the word. For example, lemmatization converts words like \"running\", \"runs\", and \"runner\" to their common base form \"run\".\n",
    "\n",
    "## Why Lemmatization?\n",
    "Lemmatization is preferred over stemming in tasks where the meaning of words is important. It:\n",
    "\n",
    "Reduces words to their meaningful base form, improving interpretability and analysis.\n",
    "Maintains grammatical correctness by converting words to actual words in the language.\n",
    "\n",
    "## How to Achieve Lemmatization Programmatically?\n",
    "Using SpaCy:"
   ]
  },
  {
   "cell_type": "code",
   "execution_count": 2,
   "id": "4ce77a0c-5f74-44ef-862b-5fbded730a34",
   "metadata": {},
   "outputs": [
    {
     "name": "stdout",
     "output_type": "stream",
     "text": [
      "['this', 'be', 'an', 'example', 'sentence', 'demonstrate', 'lemmatization', 'of', 'word', '.']\n"
     ]
    }
   ],
   "source": [
    "import spacy\n",
    "\n",
    "# Load SpaCy's English language model\n",
    "nlp = spacy.load(\"en_core_web_sm\")\n",
    "\n",
    "# Example text\n",
    "text = \"This is an example sentence demonstrating lemmatization of words.\"\n",
    "\n",
    "# Process the text with SpaCy\n",
    "doc = nlp(text)\n",
    "\n",
    "# Lemmatize the text using SpaCy\n",
    "lemmatized_words_spacy = [token.lemma_ for token in doc]\n",
    "\n",
    "print(lemmatized_words_spacy)"
   ]
  },
  {
   "cell_type": "markdown",
   "id": "e1566161-c67e-49c8-8ec3-cb57ee47cb71",
   "metadata": {},
   "source": [
    "Using NLTK:"
   ]
  },
  {
   "cell_type": "code",
   "execution_count": 3,
   "id": "08385e96-b39c-48ad-b4e0-f9b786747bac",
   "metadata": {},
   "outputs": [
    {
     "name": "stderr",
     "output_type": "stream",
     "text": [
      "[nltk_data] Downloading package punkt to\n",
      "[nltk_data]     /Users/vidyadharbendre/nltk_data...\n",
      "[nltk_data]   Package punkt is already up-to-date!\n",
      "[nltk_data] Downloading package wordnet to\n",
      "[nltk_data]     /Users/vidyadharbendre/nltk_data...\n",
      "[nltk_data]   Package wordnet is already up-to-date!\n"
     ]
    },
    {
     "name": "stdout",
     "output_type": "stream",
     "text": [
      "['This', 'is', 'an', 'example', 'sentence', 'demonstrating', 'lemmatization', 'of', 'word', '.']\n"
     ]
    }
   ],
   "source": [
    "from nltk.stem import WordNetLemmatizer\n",
    "from nltk.tokenize import word_tokenize\n",
    "import nltk\n",
    "\n",
    "# Ensure necessary resources are downloaded\n",
    "nltk.download('punkt')\n",
    "nltk.download('wordnet')\n",
    "\n",
    "# Example text\n",
    "text = \"This is an example sentence demonstrating lemmatization of words.\"\n",
    "\n",
    "# Tokenize the text\n",
    "words = word_tokenize(text)\n",
    "\n",
    "# Initialize the WordNet Lemmatizer\n",
    "lemmatizer = WordNetLemmatizer()\n",
    "\n",
    "# Lemmatize the words using NLTK\n",
    "lemmatized_words_nltk = [lemmatizer.lemmatize(word) for word in words]\n",
    "\n",
    "print(lemmatized_words_nltk)"
   ]
  },
  {
   "cell_type": "code",
   "execution_count": null,
   "id": "f821299e-9866-4198-b6b1-e59b18afa578",
   "metadata": {},
   "outputs": [],
   "source": []
  }
 ],
 "metadata": {
  "kernelspec": {
   "display_name": "Python 3 (ipykernel)",
   "language": "python",
   "name": "python3"
  },
  "language_info": {
   "codemirror_mode": {
    "name": "ipython",
    "version": 3
   },
   "file_extension": ".py",
   "mimetype": "text/x-python",
   "name": "python",
   "nbconvert_exporter": "python",
   "pygments_lexer": "ipython3",
   "version": "3.12.3"
  }
 },
 "nbformat": 4,
 "nbformat_minor": 5
}
