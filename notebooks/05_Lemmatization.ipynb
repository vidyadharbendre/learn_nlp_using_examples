{
 "cells": [
  {
   "cell_type": "markdown",
   "id": "7aaf6253-ec8d-4457-a778-8cda860c0158",
   "metadata": {},
   "source": [
    "<table align=\"left\" width=100%>\n",
    "    <tr>\n",
    "        <td width=\"10%\">\n",
    "            <img src=\"../images/RA_Logo.png\">\n",
    "        </td>\n",
    "        <td>\n",
    "            <div align=\"center\">\n",
    "                <font color=\"#21618C\" size=8px>\n",
    "                  <b> 5. Lemmatization </b>\n",
    "                </font>\n",
    "            </div>\n",
    "        </td>\n",
    "    </tr>\n",
    "</table>"
   ]
  },
  {
   "cell_type": "markdown",
   "id": "7cd9f060-4c07-46c8-825e-df425da9ea74",
   "metadata": {},
   "source": [
    "<table align=\"left\">\n",
    "  <td>\n",
    "    <a href=\"https://colab.research.google.com/github/vidyadharbendre/learn_nlp_using_examples/blob/main/notebooks/05_Lemmatization.ipynb\" target=\"_parent\"><img src=\"https://colab.research.google.com/assets/colab-badge.svg\" alt=\"Open In Colab\"/></a>\n",
    "  </td>\n",
    "  <td>\n",
    "    <a target=\"_blank\" href=\"https://kaggle.com/kernels/welcome?src=https://github.com/vidyadharbendre/learn_nlp_using_examples/blob/main/notebooks/05_Lemmatization.ipynb\"><img src=\"https://kaggle.com/static/images/open-in-kaggle.svg\" /></a>\n",
    "  </td>\n",
    "</table>"
   ]
  },
  {
   "cell_type": "markdown",
   "id": "017e61e2-7c86-4354-8e46-60c1a7417034",
   "metadata": {},
   "source": [
    "## What is Lemmatization?\n",
    "Lemmatization is the process of reducing words to their base or dictionary form (lemma), considering the context and meaning of the word. For example, lemmatization converts words like \"running\", \"runs\", and \"runner\" to their common base form \"run\".\n",
    "\n",
    "## Why Lemmatization?\n",
    "Lemmatization is preferred over stemming in tasks where the meaning of words is important. It:\n",
    "\n",
    "Reduces words to their meaningful base form, improving interpretability and analysis.\n",
    "Maintains grammatical correctness by converting words to actual words in the language.\n",
    "\n",
    "## How to Achieve Lemmatization Programmatically?\n",
    "Using SpaCy:"
   ]
  },
  {
   "cell_type": "code",
   "execution_count": null,
   "id": "4ce77a0c-5f74-44ef-862b-5fbded730a34",
   "metadata": {},
   "outputs": [],
   "source": []
  }
 ],
 "metadata": {
  "kernelspec": {
   "display_name": "Python 3 (ipykernel)",
   "language": "python",
   "name": "python3"
  },
  "language_info": {
   "codemirror_mode": {
    "name": "ipython",
    "version": 3
   },
   "file_extension": ".py",
   "mimetype": "text/x-python",
   "name": "python",
   "nbconvert_exporter": "python",
   "pygments_lexer": "ipython3",
   "version": "3.12.3"
  }
 },
 "nbformat": 4,
 "nbformat_minor": 5
}
