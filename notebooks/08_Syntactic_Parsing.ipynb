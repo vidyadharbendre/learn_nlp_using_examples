{
 "cells": [
  {
   "cell_type": "markdown",
   "id": "0cfeb982-3cce-4c6e-acec-c86e777ae47a",
   "metadata": {},
   "source": [
    "<table align=\"left\" width=100%>\n",
    "    <tr>\n",
    "        <td width=\"10%\">\n",
    "            <img src=\"../images/RA_Logo.png\">\n",
    "        </td>\n",
    "        <td>\n",
    "            <div align=\"center\">\n",
    "                <font color=\"#21618C\" size=8px>\n",
    "                  <b> 8. Syntactic Parsing </b>\n",
    "                </font>\n",
    "            </div>\n",
    "        </td>\n",
    "    </tr>\n",
    "</table>"
   ]
  },
  {
   "cell_type": "markdown",
   "id": "31735966-21d7-46e6-ae67-e46432702161",
   "metadata": {},
   "source": [
    "<table align=\"left\">\n",
    "  <td>\n",
    "    <a href=\"https://colab.research.google.com/github/vidyadharbendre/learn_nlp_using_examples/blob/main/notebooks/08_Syntactic_Parsing.ipynb\" target=\"_parent\"><img src=\"https://colab.research.google.com/assets/colab-badge.svg\" alt=\"Open In Colab\"/></a>\n",
    "  </td>\n",
    "  <td>\n",
    "    <a target=\"_blank\" href=\"https://kaggle.com/kernels/welcome?src=https://github.com/vidyadharbendre/learn_nlp_using_examples/blob/main/notebooks/08_Syntactic_Parsing.ipynb\"><img src=\"https://kaggle.com/static/images/open-in-kaggle.svg\" /></a>\n",
    "  </td>\n",
    "</table>"
   ]
  },
  {
   "cell_type": "markdown",
   "id": "85a9d8fc-cfe4-4031-ab56-b2262b404124",
   "metadata": {},
   "source": [
    "## What is Syntactic Parsing?\n",
    "Syntactic Parsing (also known as dependency parsing) is the process of analyzing the grammatical structure of a sentence, establishing relationships between \"head\" words and words which modify those heads.\n",
    "\n",
    "## Why Syntactic Parsing?\n",
    "Syntactic parsing is essential for:\n",
    "\n",
    "Understanding the syntactic structure of a sentence.\n",
    "Improving the performance of NLP tasks like machine translation, text summarization, and information extraction.\n",
    "Enhancing the analysis of the relationships between words.\n",
    "\n",
    "## How to Achieve Syntactic Parsing Programmatically?\n",
    "Using SpaCy:"
   ]
  },
  {
   "cell_type": "code",
   "execution_count": 1,
   "id": "1a98c1b5-0859-4cef-8221-cff6361d484f",
   "metadata": {},
   "outputs": [
    {
     "name": "stdout",
     "output_type": "stream",
     "text": [
      "3.5.4\n"
     ]
    }
   ],
   "source": [
    "import spacy\n",
    "\n",
    "# Print the version of SpaCy installed\n",
    "print(spacy.__version__)"
   ]
  },
  {
   "cell_type": "code",
   "execution_count": 2,
   "id": "25194912-f906-425f-b2db-e9c68b6f1a27",
   "metadata": {},
   "outputs": [
    {
     "name": "stdout",
     "output_type": "stream",
     "text": [
      "[('This', 'nsubj', 'is'), ('is', 'ROOT', 'is'), ('an', 'det', 'sentence'), ('example', 'compound', 'sentence'), ('sentence', 'attr', 'is'), ('demonstrating', 'acl', 'sentence'), ('syntactic', 'amod', 'parsing'), ('parsing', 'dobj', 'demonstrating'), ('.', 'punct', 'is')]\n"
     ]
    }
   ],
   "source": [
    "import spacy\n",
    "\n",
    "# Load SpaCy's English language model\n",
    "nlp = spacy.load(\"en_core_web_sm\")\n",
    "\n",
    "# Example text\n",
    "text = \"This is an example sentence demonstrating syntactic parsing.\"\n",
    "\n",
    "# Process the text with SpaCy\n",
    "doc = nlp(text)\n",
    "\n",
    "# Syntactic parsing using SpaCy\n",
    "syntactic_parse_spacy = [(token.text, token.dep_, token.head.text) for token in doc]\n",
    "\n",
    "print(syntactic_parse_spacy)"
   ]
  },
  {
   "cell_type": "markdown",
   "id": "305721af-c1ff-4df0-94fb-8c17d83ed342",
   "metadata": {},
   "source": [
    "Using NLTK:"
   ]
  },
  {
   "cell_type": "code",
   "execution_count": 3,
   "id": "9ce3e33a-9bae-42b0-96ec-93d223e3da55",
   "metadata": {},
   "outputs": [
    {
     "name": "stdout",
     "output_type": "stream",
     "text": [
      "NLTK version: 3.8.1\n"
     ]
    }
   ],
   "source": [
    "import nltk\n",
    "\n",
    "# Print the version of NLTK installed\n",
    "print(\"NLTK version:\", nltk.__version__)"
   ]
  },
  {
   "cell_type": "code",
   "execution_count": 4,
   "id": "32ea3ac3-1d23-4836-8316-97c2364f501c",
   "metadata": {},
   "outputs": [
    {
     "name": "stdout",
     "output_type": "stream",
     "text": [
      "(S\n",
      "  (NP This/DT)\n",
      "  (VP is/VBZ (NP an/DT example/NN sentence/NN))\n",
      "  (VP demonstrating/VBG (NP syntactic/JJ parsing/NN))\n",
      "  ./.)\n"
     ]
    }
   ],
   "source": [
    "import nltk\n",
    "from nltk.tokenize import word_tokenize\n",
    "from nltk import pos_tag\n",
    "from nltk.chunk import RegexpParser\n",
    "\n",
    "# Example text\n",
    "text = \"This is an example sentence demonstrating syntactic parsing.\"\n",
    "\n",
    "# Tokenize the text\n",
    "words = word_tokenize(text)\n",
    "\n",
    "# POS tagging\n",
    "pos_tags = pos_tag(words)\n",
    "\n",
    "# Define a grammar for syntactic parsing\n",
    "grammar = \"\"\"\n",
    "  NP: {<DT|JJ|NN.*>+}    # Chunk sequences of DT, JJ, NN\n",
    "  PP: {<IN><NP>}         # Chunk prepositions followed by NP\n",
    "  VP: {<VB.*><NP|PP>*}   # Chunk verbs and their arguments\n",
    "  \"\"\"\n",
    "\n",
    "# Create a parser with the defined grammar\n",
    "parser = RegexpParser(grammar)\n",
    "\n",
    "# Syntactic parsing using NLTK\n",
    "syntactic_parse_nltk = parser.parse(pos_tags)\n",
    "\n",
    "print(syntactic_parse_nltk)"
   ]
  },
  {
   "cell_type": "markdown",
   "id": "6fea247f-3897-4ceb-aed9-31caa04157c4",
   "metadata": {},
   "source": [
    "### Explanation:\n",
    "SpaCy Implementation:\n",
    "\n",
    "Load SpaCy's English language model.\n",
    "Process the text using nlp to create a doc object.\n",
    "Extract syntactic parse information using token.dep_ (dependency label) and token.head (head token).\n",
    "\n",
    "NLTK Implementation:\n",
    "\n",
    "Tokenize the text into words.\n",
    "Perform POS tagging on the tokenized words.\n",
    "Define a grammar for syntactic parsing using RegexpParser.\n",
    "Parse the POS tagged words using the defined grammar.\n",
    "\n",
    "The SpaCy method will output a list of tuples, where each tuple contains a token, its dependency label, and the head token. \n",
    "The NLTK method will output a tree structure based on the defined grammar."
   ]
  },
  {
   "cell_type": "code",
   "execution_count": null,
   "id": "aa7d4439-a3af-44d0-b9ce-badf20c63c5e",
   "metadata": {},
   "outputs": [],
   "source": []
  },
  {
   "cell_type": "code",
   "execution_count": null,
   "id": "a0855078-2295-4dc8-8ea8-eb7d431d3b32",
   "metadata": {},
   "outputs": [],
   "source": []
  }
 ],
 "metadata": {
  "kernelspec": {
   "display_name": "Python 3 (ipykernel)",
   "language": "python",
   "name": "python3"
  },
  "language_info": {
   "codemirror_mode": {
    "name": "ipython",
    "version": 3
   },
   "file_extension": ".py",
   "mimetype": "text/x-python",
   "name": "python",
   "nbconvert_exporter": "python",
   "pygments_lexer": "ipython3",
   "version": "3.9.19"
  }
 },
 "nbformat": 4,
 "nbformat_minor": 5
}
