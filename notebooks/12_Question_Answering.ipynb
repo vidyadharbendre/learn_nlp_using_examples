{
 "cells": [
  {
   "cell_type": "markdown",
   "id": "5cfdc181-fc1e-4693-bb80-210a580a9222",
   "metadata": {},
   "source": [
    "<table align=\"left\" width=100%>\n",
    "    <tr>\n",
    "        <td width=\"10%\">\n",
    "            <img src=\"../images/RA_Logo.png\">\n",
    "        </td>\n",
    "        <td>\n",
    "            <div align=\"center\">\n",
    "                <font color=\"#21618C\" size=8px>\n",
    "                  <b> 12. Question Answering </b>\n",
    "                </font>\n",
    "            </div>\n",
    "        </td>\n",
    "    </tr>\n",
    "</table>"
   ]
  },
  {
   "cell_type": "markdown",
   "id": "f75f8414-8b20-4030-8fdc-0f59cf834880",
   "metadata": {},
   "source": [
    "<table align=\"left\">\n",
    "  <td>\n",
    "    <a href=\"https://colab.research.google.com/github/vidyadharbendre/learn_nlp_using_examples/blob/main/notebooks/12_Question_Answering.ipynb\" target=\"_parent\"><img src=\"https://colab.research.google.com/assets/colab-badge.svg\" alt=\"Open In Colab\"/></a>\n",
    "  </td>\n",
    "  <td>\n",
    "    <a target=\"_blank\" href=\"https://kaggle.com/kernels/welcome?src=https://github.com/vidyadharbendre/learn_nlp_using_examples/blob/main/notebooks/12_Question_Answering.ipynb\"><img src=\"https://kaggle.com/static/images/open-in-kaggle.svg\" /></a>\n",
    "  </td>\n",
    "</table>"
   ]
  },
  {
   "cell_type": "markdown",
   "id": "0c56192e-7c23-4553-9c2a-7f750fb1a4a3",
   "metadata": {},
   "source": [
    "## Question Answering\n",
    "What is Question Answering?\n",
    "Question Answering (QA) is the task of automatically answering questions posed in natural language based on a given context or passage. It involves understanding both the question and the context, retrieving relevant information, and generating a precise answer.\n",
    "\n",
    "Why Question Answering?\n",
    "Question Answering is useful for:\n",
    "\n",
    "Information Retrieval: Providing precise answers to user queries from large text datasets or documents.\n",
    "Customer Support: Automating responses to frequently asked questions in customer service applications.\n",
    "Educational Tools: Enhancing learning platforms with interactive question answering capabilities.\n",
    "\n",
    "How to Perform Question Answering Programmatically?\n",
    "Using Hugging Face's Transformers for Question Answering"
   ]
  },
  {
   "cell_type": "code",
   "execution_count": 2,
   "id": "383fde3d-833e-404f-a1f7-d64d6c2bcdae",
   "metadata": {},
   "outputs": [],
   "source": [
    "from transformers import pipeline"
   ]
  },
  {
   "cell_type": "code",
   "execution_count": 5,
   "id": "eaaee061-e1ee-4815-81b2-914a93bb9a34",
   "metadata": {},
   "outputs": [],
   "source": [
    "#!conda install -c conda-forge tf-keras"
   ]
  },
  {
   "cell_type": "code",
   "execution_count": 8,
   "id": "92c36256-adbf-4403-aa7f-315d961f55c6",
   "metadata": {},
   "outputs": [],
   "source": [
    "from transformers import pipeline"
   ]
  },
  {
   "cell_type": "code",
   "execution_count": 9,
   "id": "93c98717-9c39-423d-acce-dcf1c0871d1e",
   "metadata": {},
   "outputs": [],
   "source": [
    "# Specify the device argument to use GPU if available\n",
    "device = 0  # 0 is the index of the GPU device, you can adjust this based on your setup\n",
    "\n",
    "model_name = \"distilbert-base-cased-distilled-squad\"\n",
    "revision = \"626af31\"  # Optional, specify if needed\n",
    "nlp_pipeline = pipeline(\"question-answering\", model=model_name, revision=revision, device=device)"
   ]
  },
  {
   "cell_type": "code",
   "execution_count": 10,
   "id": "cc05110e-8351-41d9-ba73-a7c46a9b3ffe",
   "metadata": {},
   "outputs": [
    {
     "name": "stdout",
     "output_type": "stream",
     "text": [
      "{'score': 0.9576320648193359, 'start': 33, 'end': 46, 'answer': 'New York City'}\n"
     ]
    }
   ],
   "source": [
    "# Example usage\n",
    "context = \"The Hugging Face is a company in New York City.\"\n",
    "question = \"Where is Hugging Face located?\"\n",
    "\n",
    "result = nlp_pipeline(context=context, question=question)\n",
    "print(result)"
   ]
  },
  {
   "cell_type": "code",
   "execution_count": 13,
   "id": "3ab6229b-4e87-41e4-bc3c-0d96b7e9efd9",
   "metadata": {},
   "outputs": [],
   "source": [
    "# Load pre-trained QA model\n",
    "device = 0\n",
    "model_name = \"distilbert-base-cased-distilled-squad\"\n",
    "revision = \"626af31\"  # Optional, specify if needed\n",
    "\n",
    "qa_pipeline = pipeline(\"question-answering\", model=model_name, revision=revision, device=device)"
   ]
  },
  {
   "cell_type": "code",
   "execution_count": 14,
   "id": "65f28b19-4cd9-4889-96cf-849d50d69400",
   "metadata": {},
   "outputs": [
    {
     "name": "stdout",
     "output_type": "stream",
     "text": [
      "Question: What is machine learning?\n",
      "Answer: artificial intelligence\n"
     ]
    }
   ],
   "source": [
    "# Example context and question\n",
    "context = \"Machine learning is a subset of artificial intelligence (AI). It allows computers to learn and improve from experience automatically without being explicitly programmed.\"\n",
    "question = \"What is machine learning?\"\n",
    "\n",
    "# Perform question answering\n",
    "answer = qa_pipeline(question=question, context=context)\n",
    "\n",
    "# Display answer\n",
    "print(f\"Question: {question}\")\n",
    "print(f\"Answer: {answer['answer']}\")"
   ]
  },
  {
   "cell_type": "code",
   "execution_count": 15,
   "id": "a2dfc2ac-4c32-4afd-a96d-300cd1b36e0e",
   "metadata": {},
   "outputs": [
    {
     "name": "stdout",
     "output_type": "stream",
     "text": [
      "Question: When did the Industrial Revolution start?\n",
      "Answer: late 18th and early 19th centuries\n"
     ]
    }
   ],
   "source": [
    "# Example context and question\n",
    "context = \"The Industrial Revolution was a period of major industrialization that took place during the late 18th and early 19th centuries. It began in Great Britain and later spread to other parts of the world.\"\n",
    "question = \"When did the Industrial Revolution start?\"\n",
    "\n",
    "# Perform question answering\n",
    "answer = qa_pipeline(question=question, context=context)\n",
    "\n",
    "# Display answer\n",
    "print(f\"Question: {question}\")\n",
    "print(f\"Answer: {answer['answer']}\")"
   ]
  },
  {
   "cell_type": "code",
   "execution_count": 17,
   "id": "f1e8d885-2e04-430b-9e57-0d8b1d05bbcd",
   "metadata": {},
   "outputs": [
    {
     "name": "stdout",
     "output_type": "stream",
     "text": [
      "Question: What would internet allow?\n",
      "Answer: information and communication to travel almost instantly anywhere in the world\n"
     ]
    }
   ],
   "source": [
    "# Example context and question\n",
    "context = \"The internet is a global network of billions of computers and other electronic devices. It allows information and communication to travel almost instantly anywhere in the world.\"\n",
    "question = \"What is the internet?\"\n",
    "\n",
    "# Perform question answering\n",
    "answer = qa_pipeline(question=question, context=context)\n",
    "\n",
    "# Display answer\n",
    "print(f\"Question: {question}\")\n",
    "print(f\"Answer: {answer['answer']}\")"
   ]
  },
  {
   "cell_type": "code",
   "execution_count": null,
   "id": "19efdf25-d888-4978-a2d3-55a9c23c10a1",
   "metadata": {},
   "outputs": [],
   "source": []
  }
 ],
 "metadata": {
  "kernelspec": {
   "display_name": "Python 3 (ipykernel)",
   "language": "python",
   "name": "python3"
  },
  "language_info": {
   "codemirror_mode": {
    "name": "ipython",
    "version": 3
   },
   "file_extension": ".py",
   "mimetype": "text/x-python",
   "name": "python",
   "nbconvert_exporter": "python",
   "pygments_lexer": "ipython3",
   "version": "3.9.19"
  }
 },
 "nbformat": 4,
 "nbformat_minor": 5
}
