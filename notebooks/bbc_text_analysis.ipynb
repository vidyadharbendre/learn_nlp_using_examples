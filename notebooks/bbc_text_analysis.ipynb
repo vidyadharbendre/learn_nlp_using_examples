{
 "cells": [
  {
   "cell_type": "markdown",
   "metadata": {
    "id": "RMAUHQ_6QUkP"
   },
   "source": [
    "<table align=\"left\" width=100%>\n",
    "    <tr>\n",
    "        <td width=\"10%\">\n",
    "            <img src=\"../images/RA_Logo.png\">\n",
    "        </td>\n",
    "        <td>\n",
    "            <div align=\"center\">\n",
    "                <font color=\"#21618C\" size=8px>\n",
    "                  <b> BBC Text Analysis </b>\n",
    "                </font>\n",
    "            </div>\n",
    "        </td>\n",
    "    </tr>\n",
    "</table>"
   ]
  },
  {
   "cell_type": "markdown",
   "metadata": {
    "id": "EBYYwy2lQbBw"
   },
   "source": [
    "<table align=\"left\">\n",
    "  <td>\n",
    "    <a href=\"https://colab.research.google.com/github/vidyadharbendre/learn_nlp_using_examples/blob/main/notebooks/bbc_text_analysis.ipynb\" target=\"_parent\"><img src=\"https://colab.research.google.com/assets/colab-badge.svg\" alt=\"Open In Colab\"/></a>\n",
    "  </td>\n",
    "  <td>\n",
    "    <a target=\"_blank\" href=\"https://kaggle.com/kernels/welcome?src=https://github.com/vidyadharbendre/learn_nlp_using_examples/blob/main/notebooks/bbc_text_analysis.ipynb\"><img src=\"https://kaggle.com/static/images/open-in-kaggle.svg\" /></a>\n",
    "  </td>\n",
    "</table>"
   ]
  },
  {
   "cell_type": "markdown",
   "metadata": {
    "_uuid": "3c77d7291ae3aff7ea714d3b19d708d455de016c",
    "id": "lSY4R5Pa4Zs2"
   },
   "source": [
    "We cannot work with the text data in machine learning so we need to convert them into numerical vectors, As a part of this practice exercise you will implement different techniques to do the same."
   ]
  },
  {
   "cell_type": "markdown",
   "metadata": {
    "_uuid": "4b77a3ffeea9399d8ff4ed783b11d325c8a47ba7",
    "id": "MnEqJoGl4Zs4"
   },
   "source": [
    "In this notebook we are going to understand some basic text cleaning steps and techniques for encoding text data. We are going to learn about\n",
    "1. **Understanding the data** - See what's data is all about. what should be considered for cleaning for data (Punctuations , stopwords etc..).\n",
    "2. **Basic Cleaning** -We will see what parameters need to be considered for cleaning of data (like Punctuations , stopwords etc..)  and its code.\n",
    "3. **Techniques for Encoding** - All the popular techniques that are used for encoding that I personally came across.\n",
    "    *           **Bag of Words**\n",
    "    *           **Binary Bag of Words**\n",
    "    *           **Bigram, Ngram**\n",
    "    *           **TF-IDF**( **T**erm  **F**requency - **I**nverse **D**ocument **F**requency)\n",
    "    *           **Word2Vec**\n",
    "    *           **Emotion and Sentiment analysis**"
   ]
  },
  {
   "cell_type": "markdown",
   "metadata": {
    "_uuid": "3e9b8360f72e16b27f4ba5e353d412900fc4d5be",
    "id": "jplSqGVx4Zs5"
   },
   "source": [
    "# Import Libraries"
   ]
  },
  {
   "cell_type": "code",
   "execution_count": 15,
   "metadata": {
    "_cell_guid": "b1076dfc-b9ad-4769-8c92-a6c4dae69d19",
    "_uuid": "8f2839f25d086af736a60e9eeb907d3b93b6e0e5",
    "id": "wzMiuH0-4Zs7"
   },
   "outputs": [],
   "source": [
    "import numpy as np                                  #for large and multi-dimensional arrays\n",
    "import pandas as pd                                 #for data manipulation and analysis\n",
    "import nltk                                         #Natural language processing tool-kit\n",
    "import re\n",
    "from sklearn.decomposition import PCA\n",
    "from matplotlib import pyplot\n",
    "%matplotlib inline\n",
    "from six import string_types\n",
    "from string import punctuation\n",
    "\n",
    "from nltk.corpus import stopwords                   #Stopwords corpus\n",
    "from nltk.stem import PorterStemmer                 # Stemmer\n",
    "from nltk import word_tokenize\n",
    "from nltk.tokenize import RegexpTokenizer\n",
    "\n",
    "from sklearn.feature_extraction.text import CountVectorizer          #For Bag of words\n",
    "from sklearn.feature_extraction.text import TfidfVectorizer          #For TF-IDF\n",
    "import os\n",
    "import pandas as pd"
   ]
  },
  {
   "cell_type": "markdown",
   "metadata": {
    "id": "yqD5wboL06eJ"
   },
   "source": [
    "# 1.Understanding the data"
   ]
  },
  {
   "cell_type": "markdown",
   "metadata": {
    "id": "VtkF2UiMA7HA"
   },
   "source": [
    "We will employ a text categorization dataset based on Reviews. Each article is assigned a specific captegory. \n",
    "\n",
    "Implement the code to load the dataset.(Hint: Use the pandas library to load the csv file.)"
   ]
  },
  {
   "cell_type": "code",
   "execution_count": 16,
   "metadata": {},
   "outputs": [],
   "source": [
    "import os\n",
    "\n",
    "# Define the path to the data folder\n",
    "data_folder_path = os.path.join(os.pardir, 'data')\n",
    "\n",
    "# Define the path to the text file\n",
    "csv_file_path = os.path.join(data_folder_path, 'bbc-text.csv')\n",
    "\n",
    "df = pd.read_csv(csv_file_path)\n"
   ]
  },
  {
   "cell_type": "code",
   "execution_count": 17,
   "metadata": {
    "colab": {
     "base_uri": "https://localhost:8080/",
     "height": 204
    },
    "executionInfo": {
     "elapsed": 33407,
     "status": "ok",
     "timestamp": 1611200454130,
     "user": {
      "displayName": "Sutithi Chakraborty",
      "photoUrl": "",
      "userId": "12749148906436566424"
     },
     "user_tz": -330
    },
    "id": "bBWid3pLA7HE",
    "outputId": "0ad3f617-3577-4182-fb8f-49afede65eae"
   },
   "outputs": [
    {
     "data": {
      "text/html": [
       "<div>\n",
       "<style scoped>\n",
       "    .dataframe tbody tr th:only-of-type {\n",
       "        vertical-align: middle;\n",
       "    }\n",
       "\n",
       "    .dataframe tbody tr th {\n",
       "        vertical-align: top;\n",
       "    }\n",
       "\n",
       "    .dataframe thead th {\n",
       "        text-align: right;\n",
       "    }\n",
       "</style>\n",
       "<table border=\"1\" class=\"dataframe\">\n",
       "  <thead>\n",
       "    <tr style=\"text-align: right;\">\n",
       "      <th></th>\n",
       "      <th>category</th>\n",
       "      <th>text</th>\n",
       "    </tr>\n",
       "  </thead>\n",
       "  <tbody>\n",
       "    <tr>\n",
       "      <th>0</th>\n",
       "      <td>tech</td>\n",
       "      <td>tv future in the hands of viewers with home th...</td>\n",
       "    </tr>\n",
       "    <tr>\n",
       "      <th>1</th>\n",
       "      <td>business</td>\n",
       "      <td>worldcom boss  left books alone  former worldc...</td>\n",
       "    </tr>\n",
       "    <tr>\n",
       "      <th>2</th>\n",
       "      <td>sport</td>\n",
       "      <td>tigers wary of farrell  gamble  leicester say ...</td>\n",
       "    </tr>\n",
       "    <tr>\n",
       "      <th>3</th>\n",
       "      <td>sport</td>\n",
       "      <td>yeading face newcastle in fa cup premiership s...</td>\n",
       "    </tr>\n",
       "    <tr>\n",
       "      <th>4</th>\n",
       "      <td>entertainment</td>\n",
       "      <td>ocean s twelve raids box office ocean s twelve...</td>\n",
       "    </tr>\n",
       "  </tbody>\n",
       "</table>\n",
       "</div>"
      ],
      "text/plain": [
       "        category                                               text\n",
       "0           tech  tv future in the hands of viewers with home th...\n",
       "1       business  worldcom boss  left books alone  former worldc...\n",
       "2          sport  tigers wary of farrell  gamble  leicester say ...\n",
       "3          sport  yeading face newcastle in fa cup premiership s...\n",
       "4  entertainment  ocean s twelve raids box office ocean s twelve..."
      ]
     },
     "execution_count": 17,
     "metadata": {},
     "output_type": "execute_result"
    }
   ],
   "source": [
    "# Sanity check: Your output should look like the below\n",
    "df.head()"
   ]
  },
  {
   "cell_type": "markdown",
   "metadata": {
    "id": "I0QdvtLFA7HF"
   },
   "source": [
    "#### Create a function called \"complaint_to_words\" to store each consumer complaint narrative ."
   ]
  },
  {
   "cell_type": "code",
   "execution_count": 18,
   "metadata": {
    "id": "E2MzrF_hA7HF"
   },
   "outputs": [],
   "source": [
    "# Solution\n",
    "complaint_to_words = df['text']  "
   ]
  },
  {
   "cell_type": "markdown",
   "metadata": {
    "id": "lwVN_hQ_09r0"
   },
   "source": [
    "# 2.Basic Cleaning"
   ]
  },
  {
   "cell_type": "markdown",
   "metadata": {
    "id": "bPJesTws2BN6"
   },
   "source": [
    "## 2.1.Tokenize"
   ]
  },
  {
   "cell_type": "markdown",
   "metadata": {
    "id": "mlUDtA7hA7HG"
   },
   "source": [
    "We will use the above function here to create a list of list that will store each complaint tokenized into separate words.(Hint: Use regular expression based tokenizer.)"
   ]
  },
  {
   "cell_type": "code",
   "execution_count": 19,
   "metadata": {
    "id": "QYxfrDLKA7HH"
   },
   "outputs": [],
   "source": [
    "data_list = list()\n",
    "for comp in complaint_to_words:\n",
    "    data_list.append(RegexpTokenizer('\\w+').tokenize(comp))"
   ]
  },
  {
   "cell_type": "code",
   "execution_count": 20,
   "metadata": {
    "colab": {
     "base_uri": "https://localhost:8080/"
    },
    "executionInfo": {
     "elapsed": 33388,
     "status": "ok",
     "timestamp": 1611200454139,
     "user": {
      "displayName": "Sutithi Chakraborty",
      "photoUrl": "",
      "userId": "12749148906436566424"
     },
     "user_tz": -330
    },
    "id": "LQnN5O1-1f0e",
    "outputId": "c541f77f-282f-45db-bb64-1bf99d02bc5b"
   },
   "outputs": [
    {
     "name": "stdout",
     "output_type": "stream",
     "text": [
      "[['tv', 'future', 'in', 'the', 'hands', 'of', 'viewers', 'with', 'home', 'theatre', 'systems', 'plasma', 'high', 'definition', 'tvs', 'and', 'digital', 'video', 'recorders', 'moving', 'into', 'the', 'living', 'room', 'the', 'way', 'people', 'watch', 'tv', 'will', 'be', 'radically', 'different', 'in', 'five', 'years', 'time', 'that', 'is', 'according', 'to', 'an', 'expert', 'panel', 'which', 'gathered', 'at', 'the', 'annual', 'consumer', 'electronics', 'show', 'in', 'las', 'vegas', 'to', 'discuss', 'how', 'these', 'new', 'technologies', 'will', 'impact', 'one', 'of', 'our', 'favourite', 'pastimes', 'with', 'the', 'us', 'leading', 'the', 'trend', 'programmes', 'and', 'other', 'content', 'will', 'be', 'delivered', 'to', 'viewers', 'via', 'home', 'networks', 'through', 'cable', 'satellite', 'telecoms', 'companies', 'and', 'broadband', 'service', 'providers', 'to', 'front', 'rooms', 'and', 'portable', 'devices', 'one', 'of', 'the', 'most', 'talked', 'about', 'technologies', 'of', 'ces', 'has', 'been', 'digital', 'and', 'personal', 'video', 'recorders', 'dvr', 'and', 'pvr', 'these', 'set', 'top', 'boxes', 'like', 'the', 'us', 's', 'tivo', 'and', 'the', 'uk', 's', 'sky', 'system', 'allow', 'people', 'to', 'record', 'store', 'play', 'pause', 'and', 'forward', 'wind', 'tv', 'programmes', 'when', 'they', 'want', 'essentially', 'the', 'technology', 'allows', 'for', 'much', 'more', 'personalised', 'tv', 'they', 'are', 'also', 'being', 'built', 'in', 'to', 'high', 'definition', 'tv', 'sets', 'which', 'are', 'big', 'business', 'in', 'japan', 'and', 'the', 'us', 'but', 'slower', 'to', 'take', 'off', 'in', 'europe', 'because', 'of', 'the', 'lack', 'of', 'high', 'definition', 'programming', 'not', 'only', 'can', 'people', 'forward', 'wind', 'through', 'adverts', 'they', 'can', 'also', 'forget', 'about', 'abiding', 'by', 'network', 'and', 'channel', 'schedules', 'putting', 'together', 'their', 'own', 'a', 'la', 'carte', 'entertainment', 'but', 'some', 'us', 'networks', 'and', 'cable', 'and', 'satellite', 'companies', 'are', 'worried', 'about', 'what', 'it', 'means', 'for', 'them', 'in', 'terms', 'of', 'advertising', 'revenues', 'as', 'well', 'as', 'brand', 'identity', 'and', 'viewer', 'loyalty', 'to', 'channels', 'although', 'the', 'us', 'leads', 'in', 'this', 'technology', 'at', 'the', 'moment', 'it', 'is', 'also', 'a', 'concern', 'that', 'is', 'being', 'raised', 'in', 'europe', 'particularly', 'with', 'the', 'growing', 'uptake', 'of', 'services', 'like', 'sky', 'what', 'happens', 'here', 'today', 'we', 'will', 'see', 'in', 'nine', 'months', 'to', 'a', 'years', 'time', 'in', 'the', 'uk', 'adam', 'hume', 'the', 'bbc', 'broadcast', 's', 'futurologist', 'told', 'the', 'bbc', 'news', 'website', 'for', 'the', 'likes', 'of', 'the', 'bbc', 'there', 'are', 'no', 'issues', 'of', 'lost', 'advertising', 'revenue', 'yet', 'it', 'is', 'a', 'more', 'pressing', 'issue', 'at', 'the', 'moment', 'for', 'commercial', 'uk', 'broadcasters', 'but', 'brand', 'loyalty', 'is', 'important', 'for', 'everyone', 'we', 'will', 'be', 'talking', 'more', 'about', 'content', 'brands', 'rather', 'than', 'network', 'brands', 'said', 'tim', 'hanlon', 'from', 'brand', 'communications', 'firm', 'starcom', 'mediavest', 'the', 'reality', 'is', 'that', 'with', 'broadband', 'connections', 'anybody', 'can', 'be', 'the', 'producer', 'of', 'content', 'he', 'added', 'the', 'challenge', 'now', 'is', 'that', 'it', 'is', 'hard', 'to', 'promote', 'a', 'programme', 'with', 'so', 'much', 'choice', 'what', 'this', 'means', 'said', 'stacey', 'jolna', 'senior', 'vice', 'president', 'of', 'tv', 'guide', 'tv', 'group', 'is', 'that', 'the', 'way', 'people', 'find', 'the', 'content', 'they', 'want', 'to', 'watch', 'has', 'to', 'be', 'simplified', 'for', 'tv', 'viewers', 'it', 'means', 'that', 'networks', 'in', 'us', 'terms', 'or', 'channels', 'could', 'take', 'a', 'leaf', 'out', 'of', 'google', 's', 'book', 'and', 'be', 'the', 'search', 'engine', 'of', 'the', 'future', 'instead', 'of', 'the', 'scheduler', 'to', 'help', 'people', 'find', 'what', 'they', 'want', 'to', 'watch', 'this', 'kind', 'of', 'channel', 'model', 'might', 'work', 'for', 'the', 'younger', 'ipod', 'generation', 'which', 'is', 'used', 'to', 'taking', 'control', 'of', 'their', 'gadgets', 'and', 'what', 'they', 'play', 'on', 'them', 'but', 'it', 'might', 'not', 'suit', 'everyone', 'the', 'panel', 'recognised', 'older', 'generations', 'are', 'more', 'comfortable', 'with', 'familiar', 'schedules', 'and', 'channel', 'brands', 'because', 'they', 'know', 'what', 'they', 'are', 'getting', 'they', 'perhaps', 'do', 'not', 'want', 'so', 'much', 'of', 'the', 'choice', 'put', 'into', 'their', 'hands', 'mr', 'hanlon', 'suggested', 'on', 'the', 'other', 'end', 'you', 'have', 'the', 'kids', 'just', 'out', 'of', 'diapers', 'who', 'are', 'pushing', 'buttons', 'already', 'everything', 'is', 'possible', 'and', 'available', 'to', 'them', 'said', 'mr', 'hanlon', 'ultimately', 'the', 'consumer', 'will', 'tell', 'the', 'market', 'they', 'want', 'of', 'the', '50', '000', 'new', 'gadgets', 'and', 'technologies', 'being', 'showcased', 'at', 'ces', 'many', 'of', 'them', 'are', 'about', 'enhancing', 'the', 'tv', 'watching', 'experience', 'high', 'definition', 'tv', 'sets', 'are', 'everywhere', 'and', 'many', 'new', 'models', 'of', 'lcd', 'liquid', 'crystal', 'display', 'tvs', 'have', 'been', 'launched', 'with', 'dvr', 'capability', 'built', 'into', 'them', 'instead', 'of', 'being', 'external', 'boxes', 'one', 'such', 'example', 'launched', 'at', 'the', 'show', 'is', 'humax', 's', '26', 'inch', 'lcd', 'tv', 'with', 'an', '80', 'hour', 'tivo', 'dvr', 'and', 'dvd', 'recorder', 'one', 'of', 'the', 'us', 's', 'biggest', 'satellite', 'tv', 'companies', 'directtv', 'has', 'even', 'launched', 'its', 'own', 'branded', 'dvr', 'at', 'the', 'show', 'with', '100', 'hours', 'of', 'recording', 'capability', 'instant', 'replay', 'and', 'a', 'search', 'function', 'the', 'set', 'can', 'pause', 'and', 'rewind', 'tv', 'for', 'up', 'to', '90', 'hours', 'and', 'microsoft', 'chief', 'bill', 'gates', 'announced', 'in', 'his', 'pre', 'show', 'keynote', 'speech', 'a', 'partnership', 'with', 'tivo', 'called', 'tivotogo', 'which', 'means', 'people', 'can', 'play', 'recorded', 'programmes', 'on', 'windows', 'pcs', 'and', 'mobile', 'devices', 'all', 'these', 'reflect', 'the', 'increasing', 'trend', 'of', 'freeing', 'up', 'multimedia', 'so', 'that', 'people', 'can', 'watch', 'what', 'they', 'want', 'when', 'they', 'want'], ['worldcom', 'boss', 'left', 'books', 'alone', 'former', 'worldcom', 'boss', 'bernie', 'ebbers', 'who', 'is', 'accused', 'of', 'overseeing', 'an', '11bn', '5', '8bn', 'fraud', 'never', 'made', 'accounting', 'decisions', 'a', 'witness', 'has', 'told', 'jurors', 'david', 'myers', 'made', 'the', 'comments', 'under', 'questioning', 'by', 'defence', 'lawyers', 'who', 'have', 'been', 'arguing', 'that', 'mr', 'ebbers', 'was', 'not', 'responsible', 'for', 'worldcom', 's', 'problems', 'the', 'phone', 'company', 'collapsed', 'in', '2002', 'and', 'prosecutors', 'claim', 'that', 'losses', 'were', 'hidden', 'to', 'protect', 'the', 'firm', 's', 'shares', 'mr', 'myers', 'has', 'already', 'pleaded', 'guilty', 'to', 'fraud', 'and', 'is', 'assisting', 'prosecutors', 'on', 'monday', 'defence', 'lawyer', 'reid', 'weingarten', 'tried', 'to', 'distance', 'his', 'client', 'from', 'the', 'allegations', 'during', 'cross', 'examination', 'he', 'asked', 'mr', 'myers', 'if', 'he', 'ever', 'knew', 'mr', 'ebbers', 'make', 'an', 'accounting', 'decision', 'not', 'that', 'i', 'am', 'aware', 'of', 'mr', 'myers', 'replied', 'did', 'you', 'ever', 'know', 'mr', 'ebbers', 'to', 'make', 'an', 'accounting', 'entry', 'into', 'worldcom', 'books', 'mr', 'weingarten', 'pressed', 'no', 'replied', 'the', 'witness', 'mr', 'myers', 'has', 'admitted', 'that', 'he', 'ordered', 'false', 'accounting', 'entries', 'at', 'the', 'request', 'of', 'former', 'worldcom', 'chief', 'financial', 'officer', 'scott', 'sullivan', 'defence', 'lawyers', 'have', 'been', 'trying', 'to', 'paint', 'mr', 'sullivan', 'who', 'has', 'admitted', 'fraud', 'and', 'will', 'testify', 'later', 'in', 'the', 'trial', 'as', 'the', 'mastermind', 'behind', 'worldcom', 's', 'accounting', 'house', 'of', 'cards', 'mr', 'ebbers', 'team', 'meanwhile', 'are', 'looking', 'to', 'portray', 'him', 'as', 'an', 'affable', 'boss', 'who', 'by', 'his', 'own', 'admission', 'is', 'more', 'pe', 'graduate', 'than', 'economist', 'whatever', 'his', 'abilities', 'mr', 'ebbers', 'transformed', 'worldcom', 'from', 'a', 'relative', 'unknown', 'into', 'a', '160bn', 'telecoms', 'giant', 'and', 'investor', 'darling', 'of', 'the', 'late', '1990s', 'worldcom', 's', 'problems', 'mounted', 'however', 'as', 'competition', 'increased', 'and', 'the', 'telecoms', 'boom', 'petered', 'out', 'when', 'the', 'firm', 'finally', 'collapsed', 'shareholders', 'lost', 'about', '180bn', 'and', '20', '000', 'workers', 'lost', 'their', 'jobs', 'mr', 'ebbers', 'trial', 'is', 'expected', 'to', 'last', 'two', 'months', 'and', 'if', 'found', 'guilty', 'the', 'former', 'ceo', 'faces', 'a', 'substantial', 'jail', 'sentence', 'he', 'has', 'firmly', 'declared', 'his', 'innocence'], ['tigers', 'wary', 'of', 'farrell', 'gamble', 'leicester', 'say', 'they', 'will', 'not', 'be', 'rushed', 'into', 'making', 'a', 'bid', 'for', 'andy', 'farrell', 'should', 'the', 'great', 'britain', 'rugby', 'league', 'captain', 'decide', 'to', 'switch', 'codes', 'we', 'and', 'anybody', 'else', 'involved', 'in', 'the', 'process', 'are', 'still', 'some', 'way', 'away', 'from', 'going', 'to', 'the', 'next', 'stage', 'tigers', 'boss', 'john', 'wells', 'told', 'bbc', 'radio', 'leicester', 'at', 'the', 'moment', 'there', 'are', 'still', 'a', 'lot', 'of', 'unknowns', 'about', 'andy', 'farrell', 'not', 'least', 'his', 'medical', 'situation', 'whoever', 'does', 'take', 'him', 'on', 'is', 'going', 'to', 'take', 'a', 'big', 'big', 'gamble', 'farrell', 'who', 'has', 'had', 'persistent', 'knee', 'problems', 'had', 'an', 'operation', 'on', 'his', 'knee', 'five', 'weeks', 'ago', 'and', 'is', 'expected', 'to', 'be', 'out', 'for', 'another', 'three', 'months', 'leicester', 'and', 'saracens', 'are', 'believed', 'to', 'head', 'the', 'list', 'of', 'rugby', 'union', 'clubs', 'interested', 'in', 'signing', 'farrell', 'if', 'he', 'decides', 'to', 'move', 'to', 'the', '15', 'man', 'game', 'if', 'he', 'does', 'move', 'across', 'to', 'union', 'wells', 'believes', 'he', 'would', 'better', 'off', 'playing', 'in', 'the', 'backs', 'at', 'least', 'initially', 'i', 'm', 'sure', 'he', 'could', 'make', 'the', 'step', 'between', 'league', 'and', 'union', 'by', 'being', 'involved', 'in', 'the', 'centre', 'said', 'wells', 'i', 'think', 'england', 'would', 'prefer', 'him', 'to', 'progress', 'to', 'a', 'position', 'in', 'the', 'back', 'row', 'where', 'they', 'can', 'make', 'use', 'of', 'some', 'of', 'his', 'rugby', 'league', 'skills', 'within', 'the', 'forwards', 'the', 'jury', 'is', 'out', 'on', 'whether', 'he', 'can', 'cross', 'that', 'divide', 'at', 'this', 'club', 'the', 'balance', 'will', 'have', 'to', 'be', 'struck', 'between', 'the', 'cost', 'of', 'that', 'gamble', 'and', 'the', 'option', 'of', 'bringing', 'in', 'a', 'ready', 'made', 'replacement']]\n"
     ]
    }
   ],
   "source": [
    "print(data_list[:3]) # Example"
   ]
  },
  {
   "cell_type": "code",
   "execution_count": 21,
   "metadata": {
    "colab": {
     "base_uri": "https://localhost:8080/"
    },
    "executionInfo": {
     "elapsed": 33375,
     "status": "ok",
     "timestamp": 1611200454140,
     "user": {
      "displayName": "Sutithi Chakraborty",
      "photoUrl": "",
      "userId": "12749148906436566424"
     },
     "user_tz": -330
    },
    "id": "Qd7xzHL6oKVC",
    "outputId": "6a62c398-2d65-4400-eedf-ecdb8a4643f4"
   },
   "outputs": [
    {
     "name": "stdout",
     "output_type": "stream",
     "text": [
      "['tv', 'future', 'in', 'the', 'hands', 'of', 'viewers', 'with', 'home', 'theatre', 'systems', 'plasma', 'high', 'definition', 'tvs', 'and', 'digital', 'video', 'recorders', 'moving', 'into', 'the', 'living', 'room', 'the', 'way', 'people', 'watch', 'tv', 'will', 'be', 'radically', 'different', 'in', 'five', 'years', 'time', 'that', 'is', 'according', 'to', 'an', 'expert', 'panel', 'which', 'gathered', 'at', 'the', 'annual', 'consumer', 'electronics', 'show', 'in', 'las', 'vegas', 'to', 'discuss', 'how', 'these', 'new', 'technologies', 'will', 'impact', 'one', 'of', 'our', 'favourite', 'pastimes', 'with', 'the', 'us', 'leading', 'the', 'trend', 'programmes', 'and', 'other', 'content', 'will', 'be', 'delivered', 'to', 'viewers', 'via', 'home', 'networks', 'through', 'cable', 'satellite', 'telecoms', 'companies', 'and', 'broadband', 'service', 'providers', 'to', 'front', 'rooms', 'and', 'portable', 'devices', 'one', 'of', 'the', 'most', 'talked', 'about', 'technologies', 'of', 'ces', 'has', 'been', 'digital', 'and', 'personal', 'video', 'recorders', 'dvr', 'and', 'pvr', 'these', 'set', 'top', 'boxes', 'like', 'the', 'us', 's', 'tivo', 'and', 'the', 'uk', 's', 'sky', 'system', 'allow', 'people', 'to', 'record', 'store', 'play', 'pause', 'and', 'forward', 'wind', 'tv', 'programmes', 'when', 'they', 'want', 'essentially', 'the', 'technology', 'allows', 'for', 'much', 'more', 'personalised', 'tv', 'they', 'are', 'also', 'being', 'built', 'in', 'to', 'high', 'definition', 'tv', 'sets', 'which', 'are', 'big', 'business', 'in', 'japan', 'and', 'the', 'us', 'but', 'slower', 'to', 'take', 'off', 'in', 'europe', 'because', 'of', 'the', 'lack', 'of', 'high', 'definition', 'programming', 'not', 'only', 'can', 'people', 'forward', 'wind', 'through', 'adverts', 'they', 'can', 'also', 'forget', 'about', 'abiding', 'by', 'network', 'and', 'channel', 'schedules', 'putting', 'together', 'their', 'own', 'a', 'la', 'carte', 'entertainment', 'but', 'some', 'us', 'networks', 'and', 'cable', 'and', 'satellite', 'companies', 'are', 'worried', 'about', 'what', 'it', 'means', 'for', 'them', 'in', 'terms', 'of', 'advertising', 'revenues', 'as', 'well', 'as', 'brand', 'identity', 'and', 'viewer', 'loyalty', 'to', 'channels', 'although', 'the', 'us', 'leads', 'in', 'this', 'technology', 'at', 'the', 'moment', 'it', 'is', 'also', 'a', 'concern', 'that', 'is', 'being', 'raised', 'in', 'europe', 'particularly', 'with', 'the', 'growing', 'uptake', 'of', 'services', 'like', 'sky', 'what', 'happens', 'here', 'today', 'we', 'will', 'see', 'in', 'nine', 'months', 'to', 'a', 'years', 'time', 'in', 'the', 'uk', 'adam', 'hume', 'the', 'bbc', 'broadcast', 's', 'futurologist', 'told', 'the', 'bbc', 'news', 'website', 'for', 'the', 'likes', 'of', 'the', 'bbc', 'there', 'are', 'no', 'issues', 'of', 'lost', 'advertising', 'revenue', 'yet', 'it', 'is', 'a', 'more', 'pressing', 'issue', 'at', 'the', 'moment', 'for', 'commercial', 'uk', 'broadcasters', 'but', 'brand', 'loyalty', 'is', 'important', 'for', 'everyone', 'we', 'will', 'be', 'talking', 'more', 'about', 'content', 'brands', 'rather', 'than', 'network', 'brands', 'said', 'tim', 'hanlon', 'from', 'brand', 'communications', 'firm', 'starcom', 'mediavest', 'the', 'reality', 'is', 'that', 'with', 'broadband', 'connections', 'anybody', 'can', 'be', 'the', 'producer', 'of', 'content', 'he', 'added', 'the', 'challenge', 'now', 'is', 'that', 'it', 'is', 'hard', 'to', 'promote', 'a', 'programme', 'with', 'so', 'much', 'choice', 'what', 'this', 'means', 'said', 'stacey', 'jolna', 'senior', 'vice', 'president', 'of', 'tv', 'guide', 'tv', 'group', 'is', 'that', 'the', 'way', 'people', 'find', 'the', 'content', 'they', 'want', 'to', 'watch', 'has', 'to', 'be', 'simplified', 'for', 'tv', 'viewers', 'it', 'means', 'that', 'networks', 'in', 'us', 'terms', 'or', 'channels', 'could', 'take', 'a', 'leaf', 'out', 'of', 'google', 's', 'book', 'and', 'be', 'the', 'search', 'engine', 'of', 'the', 'future', 'instead', 'of', 'the', 'scheduler', 'to', 'help', 'people', 'find', 'what', 'they', 'want', 'to', 'watch', 'this', 'kind', 'of', 'channel', 'model', 'might', 'work', 'for', 'the', 'younger', 'ipod', 'generation', 'which', 'is', 'used', 'to', 'taking', 'control', 'of', 'their', 'gadgets', 'and', 'what', 'they', 'play', 'on', 'them', 'but', 'it', 'might', 'not', 'suit', 'everyone', 'the', 'panel', 'recognised', 'older', 'generations', 'are', 'more', 'comfortable', 'with', 'familiar', 'schedules', 'and', 'channel', 'brands', 'because', 'they', 'know', 'what', 'they', 'are', 'getting', 'they', 'perhaps', 'do', 'not', 'want', 'so', 'much', 'of', 'the', 'choice', 'put', 'into', 'their', 'hands', 'mr', 'hanlon', 'suggested', 'on', 'the', 'other', 'end', 'you', 'have', 'the', 'kids', 'just', 'out', 'of', 'diapers', 'who', 'are', 'pushing', 'buttons', 'already', 'everything', 'is', 'possible', 'and', 'available', 'to', 'them', 'said', 'mr', 'hanlon', 'ultimately', 'the', 'consumer', 'will', 'tell', 'the', 'market', 'they', 'want', 'of', 'the', '50', '000', 'new', 'gadgets', 'and', 'technologies', 'being', 'showcased', 'at', 'ces', 'many', 'of', 'them', 'are', 'about', 'enhancing', 'the', 'tv', 'watching', 'experience', 'high', 'definition', 'tv', 'sets', 'are', 'everywhere', 'and', 'many', 'new', 'models', 'of', 'lcd', 'liquid', 'crystal', 'display', 'tvs', 'have', 'been', 'launched', 'with', 'dvr', 'capability', 'built', 'into', 'them', 'instead', 'of', 'being', 'external', 'boxes', 'one', 'such', 'example', 'launched', 'at', 'the', 'show', 'is', 'humax', 's', '26', 'inch', 'lcd', 'tv', 'with', 'an', '80', 'hour', 'tivo', 'dvr', 'and', 'dvd', 'recorder', 'one', 'of', 'the', 'us', 's', 'biggest', 'satellite', 'tv', 'companies', 'directtv', 'has', 'even', 'launched', 'its', 'own', 'branded', 'dvr', 'at', 'the', 'show', 'with', '100', 'hours', 'of', 'recording', 'capability', 'instant', 'replay', 'and', 'a', 'search', 'function', 'the', 'set', 'can', 'pause', 'and', 'rewind', 'tv', 'for', 'up', 'to', '90', 'hours', 'and', 'microsoft', 'chief', 'bill', 'gates', 'announced', 'in', 'his', 'pre', 'show', 'keynote', 'speech', 'a', 'partnership', 'with', 'tivo', 'called', 'tivotogo', 'which', 'means', 'people', 'can', 'play', 'recorded', 'programmes', 'on', 'windows', 'pcs', 'and', 'mobile', 'devices', 'all', 'these', 'reflect', 'the', 'increasing', 'trend', 'of', 'freeing', 'up', 'multimedia', 'so', 'that', 'people', 'can', 'watch', 'what', 'they', 'want', 'when', 'they', 'want']\n",
      "['worldcom', 'boss', 'left', 'books', 'alone', 'former', 'worldcom', 'boss', 'bernie', 'ebbers', 'who', 'is', 'accused', 'of', 'overseeing', 'an', '11bn', '5', '8bn', 'fraud', 'never', 'made', 'accounting', 'decisions', 'a', 'witness', 'has', 'told', 'jurors', 'david', 'myers', 'made', 'the', 'comments', 'under', 'questioning', 'by', 'defence', 'lawyers', 'who', 'have', 'been', 'arguing', 'that', 'mr', 'ebbers', 'was', 'not', 'responsible', 'for', 'worldcom', 's', 'problems', 'the', 'phone', 'company', 'collapsed', 'in', '2002', 'and', 'prosecutors', 'claim', 'that', 'losses', 'were', 'hidden', 'to', 'protect', 'the', 'firm', 's', 'shares', 'mr', 'myers', 'has', 'already', 'pleaded', 'guilty', 'to', 'fraud', 'and', 'is', 'assisting', 'prosecutors', 'on', 'monday', 'defence', 'lawyer', 'reid', 'weingarten', 'tried', 'to', 'distance', 'his', 'client', 'from', 'the', 'allegations', 'during', 'cross', 'examination', 'he', 'asked', 'mr', 'myers', 'if', 'he', 'ever', 'knew', 'mr', 'ebbers', 'make', 'an', 'accounting', 'decision', 'not', 'that', 'i', 'am', 'aware', 'of', 'mr', 'myers', 'replied', 'did', 'you', 'ever', 'know', 'mr', 'ebbers', 'to', 'make', 'an', 'accounting', 'entry', 'into', 'worldcom', 'books', 'mr', 'weingarten', 'pressed', 'no', 'replied', 'the', 'witness', 'mr', 'myers', 'has', 'admitted', 'that', 'he', 'ordered', 'false', 'accounting', 'entries', 'at', 'the', 'request', 'of', 'former', 'worldcom', 'chief', 'financial', 'officer', 'scott', 'sullivan', 'defence', 'lawyers', 'have', 'been', 'trying', 'to', 'paint', 'mr', 'sullivan', 'who', 'has', 'admitted', 'fraud', 'and', 'will', 'testify', 'later', 'in', 'the', 'trial', 'as', 'the', 'mastermind', 'behind', 'worldcom', 's', 'accounting', 'house', 'of', 'cards', 'mr', 'ebbers', 'team', 'meanwhile', 'are', 'looking', 'to', 'portray', 'him', 'as', 'an', 'affable', 'boss', 'who', 'by', 'his', 'own', 'admission', 'is', 'more', 'pe', 'graduate', 'than', 'economist', 'whatever', 'his', 'abilities', 'mr', 'ebbers', 'transformed', 'worldcom', 'from', 'a', 'relative', 'unknown', 'into', 'a', '160bn', 'telecoms', 'giant', 'and', 'investor', 'darling', 'of', 'the', 'late', '1990s', 'worldcom', 's', 'problems', 'mounted', 'however', 'as', 'competition', 'increased', 'and', 'the', 'telecoms', 'boom', 'petered', 'out', 'when', 'the', 'firm', 'finally', 'collapsed', 'shareholders', 'lost', 'about', '180bn', 'and', '20', '000', 'workers', 'lost', 'their', 'jobs', 'mr', 'ebbers', 'trial', 'is', 'expected', 'to', 'last', 'two', 'months', 'and', 'if', 'found', 'guilty', 'the', 'former', 'ceo', 'faces', 'a', 'substantial', 'jail', 'sentence', 'he', 'has', 'firmly', 'declared', 'his', 'innocence']\n",
      "['tigers', 'wary', 'of', 'farrell', 'gamble', 'leicester', 'say', 'they', 'will', 'not', 'be', 'rushed', 'into', 'making', 'a', 'bid', 'for', 'andy', 'farrell', 'should', 'the', 'great', 'britain', 'rugby', 'league', 'captain', 'decide', 'to', 'switch', 'codes', 'we', 'and', 'anybody', 'else', 'involved', 'in', 'the', 'process', 'are', 'still', 'some', 'way', 'away', 'from', 'going', 'to', 'the', 'next', 'stage', 'tigers', 'boss', 'john', 'wells', 'told', 'bbc', 'radio', 'leicester', 'at', 'the', 'moment', 'there', 'are', 'still', 'a', 'lot', 'of', 'unknowns', 'about', 'andy', 'farrell', 'not', 'least', 'his', 'medical', 'situation', 'whoever', 'does', 'take', 'him', 'on', 'is', 'going', 'to', 'take', 'a', 'big', 'big', 'gamble', 'farrell', 'who', 'has', 'had', 'persistent', 'knee', 'problems', 'had', 'an', 'operation', 'on', 'his', 'knee', 'five', 'weeks', 'ago', 'and', 'is', 'expected', 'to', 'be', 'out', 'for', 'another', 'three', 'months', 'leicester', 'and', 'saracens', 'are', 'believed', 'to', 'head', 'the', 'list', 'of', 'rugby', 'union', 'clubs', 'interested', 'in', 'signing', 'farrell', 'if', 'he', 'decides', 'to', 'move', 'to', 'the', '15', 'man', 'game', 'if', 'he', 'does', 'move', 'across', 'to', 'union', 'wells', 'believes', 'he', 'would', 'better', 'off', 'playing', 'in', 'the', 'backs', 'at', 'least', 'initially', 'i', 'm', 'sure', 'he', 'could', 'make', 'the', 'step', 'between', 'league', 'and', 'union', 'by', 'being', 'involved', 'in', 'the', 'centre', 'said', 'wells', 'i', 'think', 'england', 'would', 'prefer', 'him', 'to', 'progress', 'to', 'a', 'position', 'in', 'the', 'back', 'row', 'where', 'they', 'can', 'make', 'use', 'of', 'some', 'of', 'his', 'rugby', 'league', 'skills', 'within', 'the', 'forwards', 'the', 'jury', 'is', 'out', 'on', 'whether', 'he', 'can', 'cross', 'that', 'divide', 'at', 'this', 'club', 'the', 'balance', 'will', 'have', 'to', 'be', 'struck', 'between', 'the', 'cost', 'of', 'that', 'gamble', 'and', 'the', 'option', 'of', 'bringing', 'in', 'a', 'ready', 'made', 'replacement']\n"
     ]
    }
   ],
   "source": [
    "for file_id in data_list[:3]:\n",
    "  print(file_id)"
   ]
  },
  {
   "cell_type": "markdown",
   "metadata": {
    "id": "aleHavwG1Ihn"
   },
   "source": [
    "## 2.2.Lower Case"
   ]
  },
  {
   "cell_type": "code",
   "execution_count": 22,
   "metadata": {
    "colab": {
     "base_uri": "https://localhost:8080/"
    },
    "executionInfo": {
     "elapsed": 33363,
     "status": "ok",
     "timestamp": 1611200454143,
     "user": {
      "displayName": "Sutithi Chakraborty",
      "photoUrl": "",
      "userId": "12749148906436566424"
     },
     "user_tz": -330
    },
    "id": "47KG0vMxSoL5",
    "outputId": "1eaf3346-1bea-4e00-c4da-1b170864afdb"
   },
   "outputs": [
    {
     "name": "stdout",
     "output_type": "stream",
     "text": [
      "[['tv', 'future', 'in', 'the', 'hands', 'of', 'viewers', 'with', 'home', 'theatre', 'systems', 'plasma', 'high', 'definition', 'tvs', 'and', 'digital', 'video', 'recorders', 'moving', 'into', 'the', 'living', 'room', 'the', 'way', 'people', 'watch', 'tv', 'will', 'be', 'radically', 'different', 'in', 'five', 'years', 'time', 'that', 'is', 'according', 'to', 'an', 'expert', 'panel', 'which', 'gathered', 'at', 'the', 'annual', 'consumer', 'electronics', 'show', 'in', 'las', 'vegas', 'to', 'discuss', 'how', 'these', 'new', 'technologies', 'will', 'impact', 'one', 'of', 'our', 'favourite', 'pastimes', 'with', 'the', 'us', 'leading', 'the', 'trend', 'programmes', 'and', 'other', 'content', 'will', 'be', 'delivered', 'to', 'viewers', 'via', 'home', 'networks', 'through', 'cable', 'satellite', 'telecoms', 'companies', 'and', 'broadband', 'service', 'providers', 'to', 'front', 'rooms', 'and', 'portable', 'devices', 'one', 'of', 'the', 'most', 'talked', 'about', 'technologies', 'of', 'ces', 'has', 'been', 'digital', 'and', 'personal', 'video', 'recorders', 'dvr', 'and', 'pvr', 'these', 'set', 'top', 'boxes', 'like', 'the', 'us', 's', 'tivo', 'and', 'the', 'uk', 's', 'sky', 'system', 'allow', 'people', 'to', 'record', 'store', 'play', 'pause', 'and', 'forward', 'wind', 'tv', 'programmes', 'when', 'they', 'want', 'essentially', 'the', 'technology', 'allows', 'for', 'much', 'more', 'personalised', 'tv', 'they', 'are', 'also', 'being', 'built', 'in', 'to', 'high', 'definition', 'tv', 'sets', 'which', 'are', 'big', 'business', 'in', 'japan', 'and', 'the', 'us', 'but', 'slower', 'to', 'take', 'off', 'in', 'europe', 'because', 'of', 'the', 'lack', 'of', 'high', 'definition', 'programming', 'not', 'only', 'can', 'people', 'forward', 'wind', 'through', 'adverts', 'they', 'can', 'also', 'forget', 'about', 'abiding', 'by', 'network', 'and', 'channel', 'schedules', 'putting', 'together', 'their', 'own', 'a', 'la', 'carte', 'entertainment', 'but', 'some', 'us', 'networks', 'and', 'cable', 'and', 'satellite', 'companies', 'are', 'worried', 'about', 'what', 'it', 'means', 'for', 'them', 'in', 'terms', 'of', 'advertising', 'revenues', 'as', 'well', 'as', 'brand', 'identity', 'and', 'viewer', 'loyalty', 'to', 'channels', 'although', 'the', 'us', 'leads', 'in', 'this', 'technology', 'at', 'the', 'moment', 'it', 'is', 'also', 'a', 'concern', 'that', 'is', 'being', 'raised', 'in', 'europe', 'particularly', 'with', 'the', 'growing', 'uptake', 'of', 'services', 'like', 'sky', 'what', 'happens', 'here', 'today', 'we', 'will', 'see', 'in', 'nine', 'months', 'to', 'a', 'years', 'time', 'in', 'the', 'uk', 'adam', 'hume', 'the', 'bbc', 'broadcast', 's', 'futurologist', 'told', 'the', 'bbc', 'news', 'website', 'for', 'the', 'likes', 'of', 'the', 'bbc', 'there', 'are', 'no', 'issues', 'of', 'lost', 'advertising', 'revenue', 'yet', 'it', 'is', 'a', 'more', 'pressing', 'issue', 'at', 'the', 'moment', 'for', 'commercial', 'uk', 'broadcasters', 'but', 'brand', 'loyalty', 'is', 'important', 'for', 'everyone', 'we', 'will', 'be', 'talking', 'more', 'about', 'content', 'brands', 'rather', 'than', 'network', 'brands', 'said', 'tim', 'hanlon', 'from', 'brand', 'communications', 'firm', 'starcom', 'mediavest', 'the', 'reality', 'is', 'that', 'with', 'broadband', 'connections', 'anybody', 'can', 'be', 'the', 'producer', 'of', 'content', 'he', 'added', 'the', 'challenge', 'now', 'is', 'that', 'it', 'is', 'hard', 'to', 'promote', 'a', 'programme', 'with', 'so', 'much', 'choice', 'what', 'this', 'means', 'said', 'stacey', 'jolna', 'senior', 'vice', 'president', 'of', 'tv', 'guide', 'tv', 'group', 'is', 'that', 'the', 'way', 'people', 'find', 'the', 'content', 'they', 'want', 'to', 'watch', 'has', 'to', 'be', 'simplified', 'for', 'tv', 'viewers', 'it', 'means', 'that', 'networks', 'in', 'us', 'terms', 'or', 'channels', 'could', 'take', 'a', 'leaf', 'out', 'of', 'google', 's', 'book', 'and', 'be', 'the', 'search', 'engine', 'of', 'the', 'future', 'instead', 'of', 'the', 'scheduler', 'to', 'help', 'people', 'find', 'what', 'they', 'want', 'to', 'watch', 'this', 'kind', 'of', 'channel', 'model', 'might', 'work', 'for', 'the', 'younger', 'ipod', 'generation', 'which', 'is', 'used', 'to', 'taking', 'control', 'of', 'their', 'gadgets', 'and', 'what', 'they', 'play', 'on', 'them', 'but', 'it', 'might', 'not', 'suit', 'everyone', 'the', 'panel', 'recognised', 'older', 'generations', 'are', 'more', 'comfortable', 'with', 'familiar', 'schedules', 'and', 'channel', 'brands', 'because', 'they', 'know', 'what', 'they', 'are', 'getting', 'they', 'perhaps', 'do', 'not', 'want', 'so', 'much', 'of', 'the', 'choice', 'put', 'into', 'their', 'hands', 'mr', 'hanlon', 'suggested', 'on', 'the', 'other', 'end', 'you', 'have', 'the', 'kids', 'just', 'out', 'of', 'diapers', 'who', 'are', 'pushing', 'buttons', 'already', 'everything', 'is', 'possible', 'and', 'available', 'to', 'them', 'said', 'mr', 'hanlon', 'ultimately', 'the', 'consumer', 'will', 'tell', 'the', 'market', 'they', 'want', 'of', 'the', '50', '000', 'new', 'gadgets', 'and', 'technologies', 'being', 'showcased', 'at', 'ces', 'many', 'of', 'them', 'are', 'about', 'enhancing', 'the', 'tv', 'watching', 'experience', 'high', 'definition', 'tv', 'sets', 'are', 'everywhere', 'and', 'many', 'new', 'models', 'of', 'lcd', 'liquid', 'crystal', 'display', 'tvs', 'have', 'been', 'launched', 'with', 'dvr', 'capability', 'built', 'into', 'them', 'instead', 'of', 'being', 'external', 'boxes', 'one', 'such', 'example', 'launched', 'at', 'the', 'show', 'is', 'humax', 's', '26', 'inch', 'lcd', 'tv', 'with', 'an', '80', 'hour', 'tivo', 'dvr', 'and', 'dvd', 'recorder', 'one', 'of', 'the', 'us', 's', 'biggest', 'satellite', 'tv', 'companies', 'directtv', 'has', 'even', 'launched', 'its', 'own', 'branded', 'dvr', 'at', 'the', 'show', 'with', '100', 'hours', 'of', 'recording', 'capability', 'instant', 'replay', 'and', 'a', 'search', 'function', 'the', 'set', 'can', 'pause', 'and', 'rewind', 'tv', 'for', 'up', 'to', '90', 'hours', 'and', 'microsoft', 'chief', 'bill', 'gates', 'announced', 'in', 'his', 'pre', 'show', 'keynote', 'speech', 'a', 'partnership', 'with', 'tivo', 'called', 'tivotogo', 'which', 'means', 'people', 'can', 'play', 'recorded', 'programmes', 'on', 'windows', 'pcs', 'and', 'mobile', 'devices', 'all', 'these', 'reflect', 'the', 'increasing', 'trend', 'of', 'freeing', 'up', 'multimedia', 'so', 'that', 'people', 'can', 'watch', 'what', 'they', 'want', 'when', 'they', 'want'], ['worldcom', 'boss', 'left', 'books', 'alone', 'former', 'worldcom', 'boss', 'bernie', 'ebbers', 'who', 'is', 'accused', 'of', 'overseeing', 'an', '11bn', '5', '8bn', 'fraud', 'never', 'made', 'accounting', 'decisions', 'a', 'witness', 'has', 'told', 'jurors', 'david', 'myers', 'made', 'the', 'comments', 'under', 'questioning', 'by', 'defence', 'lawyers', 'who', 'have', 'been', 'arguing', 'that', 'mr', 'ebbers', 'was', 'not', 'responsible', 'for', 'worldcom', 's', 'problems', 'the', 'phone', 'company', 'collapsed', 'in', '2002', 'and', 'prosecutors', 'claim', 'that', 'losses', 'were', 'hidden', 'to', 'protect', 'the', 'firm', 's', 'shares', 'mr', 'myers', 'has', 'already', 'pleaded', 'guilty', 'to', 'fraud', 'and', 'is', 'assisting', 'prosecutors', 'on', 'monday', 'defence', 'lawyer', 'reid', 'weingarten', 'tried', 'to', 'distance', 'his', 'client', 'from', 'the', 'allegations', 'during', 'cross', 'examination', 'he', 'asked', 'mr', 'myers', 'if', 'he', 'ever', 'knew', 'mr', 'ebbers', 'make', 'an', 'accounting', 'decision', 'not', 'that', 'i', 'am', 'aware', 'of', 'mr', 'myers', 'replied', 'did', 'you', 'ever', 'know', 'mr', 'ebbers', 'to', 'make', 'an', 'accounting', 'entry', 'into', 'worldcom', 'books', 'mr', 'weingarten', 'pressed', 'no', 'replied', 'the', 'witness', 'mr', 'myers', 'has', 'admitted', 'that', 'he', 'ordered', 'false', 'accounting', 'entries', 'at', 'the', 'request', 'of', 'former', 'worldcom', 'chief', 'financial', 'officer', 'scott', 'sullivan', 'defence', 'lawyers', 'have', 'been', 'trying', 'to', 'paint', 'mr', 'sullivan', 'who', 'has', 'admitted', 'fraud', 'and', 'will', 'testify', 'later', 'in', 'the', 'trial', 'as', 'the', 'mastermind', 'behind', 'worldcom', 's', 'accounting', 'house', 'of', 'cards', 'mr', 'ebbers', 'team', 'meanwhile', 'are', 'looking', 'to', 'portray', 'him', 'as', 'an', 'affable', 'boss', 'who', 'by', 'his', 'own', 'admission', 'is', 'more', 'pe', 'graduate', 'than', 'economist', 'whatever', 'his', 'abilities', 'mr', 'ebbers', 'transformed', 'worldcom', 'from', 'a', 'relative', 'unknown', 'into', 'a', '160bn', 'telecoms', 'giant', 'and', 'investor', 'darling', 'of', 'the', 'late', '1990s', 'worldcom', 's', 'problems', 'mounted', 'however', 'as', 'competition', 'increased', 'and', 'the', 'telecoms', 'boom', 'petered', 'out', 'when', 'the', 'firm', 'finally', 'collapsed', 'shareholders', 'lost', 'about', '180bn', 'and', '20', '000', 'workers', 'lost', 'their', 'jobs', 'mr', 'ebbers', 'trial', 'is', 'expected', 'to', 'last', 'two', 'months', 'and', 'if', 'found', 'guilty', 'the', 'former', 'ceo', 'faces', 'a', 'substantial', 'jail', 'sentence', 'he', 'has', 'firmly', 'declared', 'his', 'innocence'], ['tigers', 'wary', 'of', 'farrell', 'gamble', 'leicester', 'say', 'they', 'will', 'not', 'be', 'rushed', 'into', 'making', 'a', 'bid', 'for', 'andy', 'farrell', 'should', 'the', 'great', 'britain', 'rugby', 'league', 'captain', 'decide', 'to', 'switch', 'codes', 'we', 'and', 'anybody', 'else', 'involved', 'in', 'the', 'process', 'are', 'still', 'some', 'way', 'away', 'from', 'going', 'to', 'the', 'next', 'stage', 'tigers', 'boss', 'john', 'wells', 'told', 'bbc', 'radio', 'leicester', 'at', 'the', 'moment', 'there', 'are', 'still', 'a', 'lot', 'of', 'unknowns', 'about', 'andy', 'farrell', 'not', 'least', 'his', 'medical', 'situation', 'whoever', 'does', 'take', 'him', 'on', 'is', 'going', 'to', 'take', 'a', 'big', 'big', 'gamble', 'farrell', 'who', 'has', 'had', 'persistent', 'knee', 'problems', 'had', 'an', 'operation', 'on', 'his', 'knee', 'five', 'weeks', 'ago', 'and', 'is', 'expected', 'to', 'be', 'out', 'for', 'another', 'three', 'months', 'leicester', 'and', 'saracens', 'are', 'believed', 'to', 'head', 'the', 'list', 'of', 'rugby', 'union', 'clubs', 'interested', 'in', 'signing', 'farrell', 'if', 'he', 'decides', 'to', 'move', 'to', 'the', '15', 'man', 'game', 'if', 'he', 'does', 'move', 'across', 'to', 'union', 'wells', 'believes', 'he', 'would', 'better', 'off', 'playing', 'in', 'the', 'backs', 'at', 'least', 'initially', 'i', 'm', 'sure', 'he', 'could', 'make', 'the', 'step', 'between', 'league', 'and', 'union', 'by', 'being', 'involved', 'in', 'the', 'centre', 'said', 'wells', 'i', 'think', 'england', 'would', 'prefer', 'him', 'to', 'progress', 'to', 'a', 'position', 'in', 'the', 'back', 'row', 'where', 'they', 'can', 'make', 'use', 'of', 'some', 'of', 'his', 'rugby', 'league', 'skills', 'within', 'the', 'forwards', 'the', 'jury', 'is', 'out', 'on', 'whether', 'he', 'can', 'cross', 'that', 'divide', 'at', 'this', 'club', 'the', 'balance', 'will', 'have', 'to', 'be', 'struck', 'between', 'the', 'cost', 'of', 'that', 'gamble', 'and', 'the', 'option', 'of', 'bringing', 'in', 'a', 'ready', 'made', 'replacement']]\n"
     ]
    }
   ],
   "source": [
    "low=[]\n",
    "for line in data_list:\n",
    "  lines = list(map(lambda x : x.lower(),line))\n",
    "  low.append(lines) \n",
    "print(low[:3])"
   ]
  },
  {
   "cell_type": "markdown",
   "metadata": {
    "id": "DFzCpnAr9Bw0"
   },
   "source": [
    "## 2.3.Removing Stopwords"
   ]
  },
  {
   "cell_type": "markdown",
   "metadata": {
    "_uuid": "1b0ead76f4f3eeb725cdad927053df4bda1efea3",
    "id": "4duJnJXk4Ztb"
   },
   "source": [
    "Converting all words to lowercase and removing punctuations and html tags if any\n",
    "\n",
    "**Stemming**- Converting the words into their base word or stem word ( Ex - tastefully, tasty,  these words are converted to stem word called 'tasti'). This reduces the vector dimension because we dont consider all similar words  \n",
    "\n",
    "**Stopwords** - Stopwords are the unnecessary words that even if they are removed the sentiment of the sentence dosent change.\n",
    "\n",
    "Ex -    This pasta is so tasty ==> pasta tasty    ( This , is, so are stopwords so they are removed)\n",
    "\n",
    "To see all the stopwords see the below code cell."
   ]
  },
  {
   "cell_type": "markdown",
   "metadata": {
    "id": "5V3POzrb2hfU"
   },
   "source": [
    "### 2.3.1.Removing Punctuation"
   ]
  },
  {
   "cell_type": "code",
   "execution_count": 23,
   "metadata": {
    "colab": {
     "base_uri": "https://localhost:8080/"
    },
    "executionInfo": {
     "elapsed": 34242,
     "status": "ok",
     "timestamp": 1611200455037,
     "user": {
      "displayName": "Sutithi Chakraborty",
      "photoUrl": "",
      "userId": "12749148906436566424"
     },
     "user_tz": -330
    },
    "id": "0qtEojLr2pkk",
    "outputId": "e613fb93-01c9-46e2-a4bf-845c930bd727"
   },
   "outputs": [
    {
     "name": "stderr",
     "output_type": "stream",
     "text": [
      "[nltk_data] Downloading package punkt to\n",
      "[nltk_data]     /Users/vidyadharbendre/nltk_data...\n",
      "[nltk_data]   Package punkt is already up-to-date!\n"
     ]
    },
    {
     "data": {
      "text/plain": [
       "True"
      ]
     },
     "execution_count": 23,
     "metadata": {},
     "output_type": "execute_result"
    }
   ],
   "source": [
    "nltk.download('punkt')"
   ]
  },
  {
   "cell_type": "code",
   "execution_count": 24,
   "metadata": {
    "colab": {
     "base_uri": "https://localhost:8080/"
    },
    "executionInfo": {
     "elapsed": 34228,
     "status": "ok",
     "timestamp": 1611200455038,
     "user": {
      "displayName": "Sutithi Chakraborty",
      "photoUrl": "",
      "userId": "12749148906436566424"
     },
     "user_tz": -330
    },
    "id": "B2akKbFI2j2b",
    "outputId": "94eda38f-5b05-416e-d600-03295760b7db"
   },
   "outputs": [
    {
     "name": "stdout",
     "output_type": "stream",
     "text": [
      "750\n",
      "750\n"
     ]
    }
   ],
   "source": [
    "# Remove Punctuation\n",
    "  \n",
    "#stop_words = set(stopwords.words('english')) \n",
    "puncList = [\";\",\":\",\"!\",\"?\",\"/\",\"\\\\\",\",\",\"#\",\"@\",\"$\",\"&\",\")\",\"(\",\"\\\"\"]\n",
    "\n",
    "#word_tokens = word_tokenize(text_tokens) \n",
    "\n",
    "Punc_filtered_sentence = [] \n",
    "\n",
    "for lines in low:\n",
    "  punc = []\n",
    "  for w in lines: \n",
    "      if w not in puncList: \n",
    "          punc.append(w) \n",
    "  Punc_filtered_sentence.append(punc)\n",
    "\n",
    "print(len(low[0])) \n",
    "print(len(Punc_filtered_sentence[0])) "
   ]
  },
  {
   "cell_type": "code",
   "execution_count": 25,
   "metadata": {
    "colab": {
     "base_uri": "https://localhost:8080/"
    },
    "executionInfo": {
     "elapsed": 34215,
     "status": "ok",
     "timestamp": 1611200455040,
     "user": {
      "displayName": "Sutithi Chakraborty",
      "photoUrl": "",
      "userId": "12749148906436566424"
     },
     "user_tz": -330
    },
    "id": "KzLraFlRc1cI",
    "outputId": "24e78b71-75b2-45ff-bdd7-4388b96aff8a"
   },
   "outputs": [
    {
     "name": "stdout",
     "output_type": "stream",
     "text": [
      "['tv', 'future', 'in', 'the', 'hands', 'of', 'viewers', 'with', 'home', 'theatre', 'systems', 'plasma', 'high', 'definition', 'tvs', 'and', 'digital', 'video', 'recorders', 'moving', 'into', 'the', 'living', 'room', 'the', 'way', 'people', 'watch', 'tv', 'will', 'be', 'radically', 'different', 'in', 'five', 'years', 'time', 'that', 'is', 'according', 'to', 'an', 'expert', 'panel', 'which', 'gathered', 'at', 'the', 'annual', 'consumer', 'electronics', 'show', 'in', 'las', 'vegas', 'to', 'discuss', 'how', 'these', 'new', 'technologies', 'will', 'impact', 'one', 'of', 'our', 'favourite', 'pastimes', 'with', 'the', 'us', 'leading', 'the', 'trend', 'programmes', 'and', 'other', 'content', 'will', 'be', 'delivered', 'to', 'viewers', 'via', 'home', 'networks', 'through', 'cable', 'satellite', 'telecoms', 'companies', 'and', 'broadband', 'service', 'providers', 'to', 'front', 'rooms', 'and', 'portable', 'devices', 'one', 'of', 'the', 'most', 'talked', 'about', 'technologies', 'of', 'ces', 'has', 'been', 'digital', 'and', 'personal', 'video', 'recorders', 'dvr', 'and', 'pvr', 'these', 'set', 'top', 'boxes', 'like', 'the', 'us', 's', 'tivo', 'and', 'the', 'uk', 's', 'sky', 'system', 'allow', 'people', 'to', 'record', 'store', 'play', 'pause', 'and', 'forward', 'wind', 'tv', 'programmes', 'when', 'they', 'want', 'essentially', 'the', 'technology', 'allows', 'for', 'much', 'more', 'personalised', 'tv', 'they', 'are', 'also', 'being', 'built', 'in', 'to', 'high', 'definition', 'tv', 'sets', 'which', 'are', 'big', 'business', 'in', 'japan', 'and', 'the', 'us', 'but', 'slower', 'to', 'take', 'off', 'in', 'europe', 'because', 'of', 'the', 'lack', 'of', 'high', 'definition', 'programming', 'not', 'only', 'can', 'people', 'forward', 'wind', 'through', 'adverts', 'they', 'can', 'also', 'forget', 'about', 'abiding', 'by', 'network', 'and', 'channel', 'schedules', 'putting', 'together', 'their', 'own', 'a', 'la', 'carte', 'entertainment', 'but', 'some', 'us', 'networks', 'and', 'cable', 'and', 'satellite', 'companies', 'are', 'worried', 'about', 'what', 'it', 'means', 'for', 'them', 'in', 'terms', 'of', 'advertising', 'revenues', 'as', 'well', 'as', 'brand', 'identity', 'and', 'viewer', 'loyalty', 'to', 'channels', 'although', 'the', 'us', 'leads', 'in', 'this', 'technology', 'at', 'the', 'moment', 'it', 'is', 'also', 'a', 'concern', 'that', 'is', 'being', 'raised', 'in', 'europe', 'particularly', 'with', 'the', 'growing', 'uptake', 'of', 'services', 'like', 'sky', 'what', 'happens', 'here', 'today', 'we', 'will', 'see', 'in', 'nine', 'months', 'to', 'a', 'years', 'time', 'in', 'the', 'uk', 'adam', 'hume', 'the', 'bbc', 'broadcast', 's', 'futurologist', 'told', 'the', 'bbc', 'news', 'website', 'for', 'the', 'likes', 'of', 'the', 'bbc', 'there', 'are', 'no', 'issues', 'of', 'lost', 'advertising', 'revenue', 'yet', 'it', 'is', 'a', 'more', 'pressing', 'issue', 'at', 'the', 'moment', 'for', 'commercial', 'uk', 'broadcasters', 'but', 'brand', 'loyalty', 'is', 'important', 'for', 'everyone', 'we', 'will', 'be', 'talking', 'more', 'about', 'content', 'brands', 'rather', 'than', 'network', 'brands', 'said', 'tim', 'hanlon', 'from', 'brand', 'communications', 'firm', 'starcom', 'mediavest', 'the', 'reality', 'is', 'that', 'with', 'broadband', 'connections', 'anybody', 'can', 'be', 'the', 'producer', 'of', 'content', 'he', 'added', 'the', 'challenge', 'now', 'is', 'that', 'it', 'is', 'hard', 'to', 'promote', 'a', 'programme', 'with', 'so', 'much', 'choice', 'what', 'this', 'means', 'said', 'stacey', 'jolna', 'senior', 'vice', 'president', 'of', 'tv', 'guide', 'tv', 'group', 'is', 'that', 'the', 'way', 'people', 'find', 'the', 'content', 'they', 'want', 'to', 'watch', 'has', 'to', 'be', 'simplified', 'for', 'tv', 'viewers', 'it', 'means', 'that', 'networks', 'in', 'us', 'terms', 'or', 'channels', 'could', 'take', 'a', 'leaf', 'out', 'of', 'google', 's', 'book', 'and', 'be', 'the', 'search', 'engine', 'of', 'the', 'future', 'instead', 'of', 'the', 'scheduler', 'to', 'help', 'people', 'find', 'what', 'they', 'want', 'to', 'watch', 'this', 'kind', 'of', 'channel', 'model', 'might', 'work', 'for', 'the', 'younger', 'ipod', 'generation', 'which', 'is', 'used', 'to', 'taking', 'control', 'of', 'their', 'gadgets', 'and', 'what', 'they', 'play', 'on', 'them', 'but', 'it', 'might', 'not', 'suit', 'everyone', 'the', 'panel', 'recognised', 'older', 'generations', 'are', 'more', 'comfortable', 'with', 'familiar', 'schedules', 'and', 'channel', 'brands', 'because', 'they', 'know', 'what', 'they', 'are', 'getting', 'they', 'perhaps', 'do', 'not', 'want', 'so', 'much', 'of', 'the', 'choice', 'put', 'into', 'their', 'hands', 'mr', 'hanlon', 'suggested', 'on', 'the', 'other', 'end', 'you', 'have', 'the', 'kids', 'just', 'out', 'of', 'diapers', 'who', 'are', 'pushing', 'buttons', 'already', 'everything', 'is', 'possible', 'and', 'available', 'to', 'them', 'said', 'mr', 'hanlon', 'ultimately', 'the', 'consumer', 'will', 'tell', 'the', 'market', 'they', 'want', 'of', 'the', '50', '000', 'new', 'gadgets', 'and', 'technologies', 'being', 'showcased', 'at', 'ces', 'many', 'of', 'them', 'are', 'about', 'enhancing', 'the', 'tv', 'watching', 'experience', 'high', 'definition', 'tv', 'sets', 'are', 'everywhere', 'and', 'many', 'new', 'models', 'of', 'lcd', 'liquid', 'crystal', 'display', 'tvs', 'have', 'been', 'launched', 'with', 'dvr', 'capability', 'built', 'into', 'them', 'instead', 'of', 'being', 'external', 'boxes', 'one', 'such', 'example', 'launched', 'at', 'the', 'show', 'is', 'humax', 's', '26', 'inch', 'lcd', 'tv', 'with', 'an', '80', 'hour', 'tivo', 'dvr', 'and', 'dvd', 'recorder', 'one', 'of', 'the', 'us', 's', 'biggest', 'satellite', 'tv', 'companies', 'directtv', 'has', 'even', 'launched', 'its', 'own', 'branded', 'dvr', 'at', 'the', 'show', 'with', '100', 'hours', 'of', 'recording', 'capability', 'instant', 'replay', 'and', 'a', 'search', 'function', 'the', 'set', 'can', 'pause', 'and', 'rewind', 'tv', 'for', 'up', 'to', '90', 'hours', 'and', 'microsoft', 'chief', 'bill', 'gates', 'announced', 'in', 'his', 'pre', 'show', 'keynote', 'speech', 'a', 'partnership', 'with', 'tivo', 'called', 'tivotogo', 'which', 'means', 'people', 'can', 'play', 'recorded', 'programmes', 'on', 'windows', 'pcs', 'and', 'mobile', 'devices', 'all', 'these', 'reflect', 'the', 'increasing', 'trend', 'of', 'freeing', 'up', 'multimedia', 'so', 'that', 'people', 'can', 'watch', 'what', 'they', 'want', 'when', 'they', 'want']\n"
     ]
    }
   ],
   "source": [
    "print(low[0])"
   ]
  },
  {
   "cell_type": "code",
   "execution_count": 26,
   "metadata": {
    "colab": {
     "base_uri": "https://localhost:8080/"
    },
    "executionInfo": {
     "elapsed": 34202,
     "status": "ok",
     "timestamp": 1611200455044,
     "user": {
      "displayName": "Sutithi Chakraborty",
      "photoUrl": "",
      "userId": "12749148906436566424"
     },
     "user_tz": -330
    },
    "id": "DVOL7iWjc1f2",
    "outputId": "cd482439-45ae-412c-fd60-d35fe7ae53c3"
   },
   "outputs": [
    {
     "name": "stdout",
     "output_type": "stream",
     "text": [
      "['tv', 'future', 'in', 'the', 'hands', 'of', 'viewers', 'with', 'home', 'theatre', 'systems', 'plasma', 'high', 'definition', 'tvs', 'and', 'digital', 'video', 'recorders', 'moving', 'into', 'the', 'living', 'room', 'the', 'way', 'people', 'watch', 'tv', 'will', 'be', 'radically', 'different', 'in', 'five', 'years', 'time', 'that', 'is', 'according', 'to', 'an', 'expert', 'panel', 'which', 'gathered', 'at', 'the', 'annual', 'consumer', 'electronics', 'show', 'in', 'las', 'vegas', 'to', 'discuss', 'how', 'these', 'new', 'technologies', 'will', 'impact', 'one', 'of', 'our', 'favourite', 'pastimes', 'with', 'the', 'us', 'leading', 'the', 'trend', 'programmes', 'and', 'other', 'content', 'will', 'be', 'delivered', 'to', 'viewers', 'via', 'home', 'networks', 'through', 'cable', 'satellite', 'telecoms', 'companies', 'and', 'broadband', 'service', 'providers', 'to', 'front', 'rooms', 'and', 'portable', 'devices', 'one', 'of', 'the', 'most', 'talked', 'about', 'technologies', 'of', 'ces', 'has', 'been', 'digital', 'and', 'personal', 'video', 'recorders', 'dvr', 'and', 'pvr', 'these', 'set', 'top', 'boxes', 'like', 'the', 'us', 's', 'tivo', 'and', 'the', 'uk', 's', 'sky', 'system', 'allow', 'people', 'to', 'record', 'store', 'play', 'pause', 'and', 'forward', 'wind', 'tv', 'programmes', 'when', 'they', 'want', 'essentially', 'the', 'technology', 'allows', 'for', 'much', 'more', 'personalised', 'tv', 'they', 'are', 'also', 'being', 'built', 'in', 'to', 'high', 'definition', 'tv', 'sets', 'which', 'are', 'big', 'business', 'in', 'japan', 'and', 'the', 'us', 'but', 'slower', 'to', 'take', 'off', 'in', 'europe', 'because', 'of', 'the', 'lack', 'of', 'high', 'definition', 'programming', 'not', 'only', 'can', 'people', 'forward', 'wind', 'through', 'adverts', 'they', 'can', 'also', 'forget', 'about', 'abiding', 'by', 'network', 'and', 'channel', 'schedules', 'putting', 'together', 'their', 'own', 'a', 'la', 'carte', 'entertainment', 'but', 'some', 'us', 'networks', 'and', 'cable', 'and', 'satellite', 'companies', 'are', 'worried', 'about', 'what', 'it', 'means', 'for', 'them', 'in', 'terms', 'of', 'advertising', 'revenues', 'as', 'well', 'as', 'brand', 'identity', 'and', 'viewer', 'loyalty', 'to', 'channels', 'although', 'the', 'us', 'leads', 'in', 'this', 'technology', 'at', 'the', 'moment', 'it', 'is', 'also', 'a', 'concern', 'that', 'is', 'being', 'raised', 'in', 'europe', 'particularly', 'with', 'the', 'growing', 'uptake', 'of', 'services', 'like', 'sky', 'what', 'happens', 'here', 'today', 'we', 'will', 'see', 'in', 'nine', 'months', 'to', 'a', 'years', 'time', 'in', 'the', 'uk', 'adam', 'hume', 'the', 'bbc', 'broadcast', 's', 'futurologist', 'told', 'the', 'bbc', 'news', 'website', 'for', 'the', 'likes', 'of', 'the', 'bbc', 'there', 'are', 'no', 'issues', 'of', 'lost', 'advertising', 'revenue', 'yet', 'it', 'is', 'a', 'more', 'pressing', 'issue', 'at', 'the', 'moment', 'for', 'commercial', 'uk', 'broadcasters', 'but', 'brand', 'loyalty', 'is', 'important', 'for', 'everyone', 'we', 'will', 'be', 'talking', 'more', 'about', 'content', 'brands', 'rather', 'than', 'network', 'brands', 'said', 'tim', 'hanlon', 'from', 'brand', 'communications', 'firm', 'starcom', 'mediavest', 'the', 'reality', 'is', 'that', 'with', 'broadband', 'connections', 'anybody', 'can', 'be', 'the', 'producer', 'of', 'content', 'he', 'added', 'the', 'challenge', 'now', 'is', 'that', 'it', 'is', 'hard', 'to', 'promote', 'a', 'programme', 'with', 'so', 'much', 'choice', 'what', 'this', 'means', 'said', 'stacey', 'jolna', 'senior', 'vice', 'president', 'of', 'tv', 'guide', 'tv', 'group', 'is', 'that', 'the', 'way', 'people', 'find', 'the', 'content', 'they', 'want', 'to', 'watch', 'has', 'to', 'be', 'simplified', 'for', 'tv', 'viewers', 'it', 'means', 'that', 'networks', 'in', 'us', 'terms', 'or', 'channels', 'could', 'take', 'a', 'leaf', 'out', 'of', 'google', 's', 'book', 'and', 'be', 'the', 'search', 'engine', 'of', 'the', 'future', 'instead', 'of', 'the', 'scheduler', 'to', 'help', 'people', 'find', 'what', 'they', 'want', 'to', 'watch', 'this', 'kind', 'of', 'channel', 'model', 'might', 'work', 'for', 'the', 'younger', 'ipod', 'generation', 'which', 'is', 'used', 'to', 'taking', 'control', 'of', 'their', 'gadgets', 'and', 'what', 'they', 'play', 'on', 'them', 'but', 'it', 'might', 'not', 'suit', 'everyone', 'the', 'panel', 'recognised', 'older', 'generations', 'are', 'more', 'comfortable', 'with', 'familiar', 'schedules', 'and', 'channel', 'brands', 'because', 'they', 'know', 'what', 'they', 'are', 'getting', 'they', 'perhaps', 'do', 'not', 'want', 'so', 'much', 'of', 'the', 'choice', 'put', 'into', 'their', 'hands', 'mr', 'hanlon', 'suggested', 'on', 'the', 'other', 'end', 'you', 'have', 'the', 'kids', 'just', 'out', 'of', 'diapers', 'who', 'are', 'pushing', 'buttons', 'already', 'everything', 'is', 'possible', 'and', 'available', 'to', 'them', 'said', 'mr', 'hanlon', 'ultimately', 'the', 'consumer', 'will', 'tell', 'the', 'market', 'they', 'want', 'of', 'the', '50', '000', 'new', 'gadgets', 'and', 'technologies', 'being', 'showcased', 'at', 'ces', 'many', 'of', 'them', 'are', 'about', 'enhancing', 'the', 'tv', 'watching', 'experience', 'high', 'definition', 'tv', 'sets', 'are', 'everywhere', 'and', 'many', 'new', 'models', 'of', 'lcd', 'liquid', 'crystal', 'display', 'tvs', 'have', 'been', 'launched', 'with', 'dvr', 'capability', 'built', 'into', 'them', 'instead', 'of', 'being', 'external', 'boxes', 'one', 'such', 'example', 'launched', 'at', 'the', 'show', 'is', 'humax', 's', '26', 'inch', 'lcd', 'tv', 'with', 'an', '80', 'hour', 'tivo', 'dvr', 'and', 'dvd', 'recorder', 'one', 'of', 'the', 'us', 's', 'biggest', 'satellite', 'tv', 'companies', 'directtv', 'has', 'even', 'launched', 'its', 'own', 'branded', 'dvr', 'at', 'the', 'show', 'with', '100', 'hours', 'of', 'recording', 'capability', 'instant', 'replay', 'and', 'a', 'search', 'function', 'the', 'set', 'can', 'pause', 'and', 'rewind', 'tv', 'for', 'up', 'to', '90', 'hours', 'and', 'microsoft', 'chief', 'bill', 'gates', 'announced', 'in', 'his', 'pre', 'show', 'keynote', 'speech', 'a', 'partnership', 'with', 'tivo', 'called', 'tivotogo', 'which', 'means', 'people', 'can', 'play', 'recorded', 'programmes', 'on', 'windows', 'pcs', 'and', 'mobile', 'devices', 'all', 'these', 'reflect', 'the', 'increasing', 'trend', 'of', 'freeing', 'up', 'multimedia', 'so', 'that', 'people', 'can', 'watch', 'what', 'they', 'want', 'when', 'they', 'want']\n"
     ]
    }
   ],
   "source": [
    "print(Punc_filtered_sentence[0])"
   ]
  },
  {
   "cell_type": "markdown",
   "metadata": {
    "id": "ZdaaR23Z1Kop"
   },
   "source": [
    "### 2.3.2.Removing the Stop Words"
   ]
  },
  {
   "cell_type": "code",
   "execution_count": 27,
   "metadata": {
    "colab": {
     "base_uri": "https://localhost:8080/"
    },
    "executionInfo": {
     "elapsed": 34188,
     "status": "ok",
     "timestamp": 1611200455045,
     "user": {
      "displayName": "Sutithi Chakraborty",
      "photoUrl": "",
      "userId": "12749148906436566424"
     },
     "user_tz": -330
    },
    "id": "4jBdZY5V1iDU",
    "outputId": "1c439956-8d58-41f4-ee09-2372624b761d"
   },
   "outputs": [
    {
     "name": "stderr",
     "output_type": "stream",
     "text": [
      "[nltk_data] Downloading package stopwords to\n",
      "[nltk_data]     /Users/vidyadharbendre/nltk_data...\n",
      "[nltk_data]   Package stopwords is already up-to-date!\n"
     ]
    },
    {
     "data": {
      "text/plain": [
       "True"
      ]
     },
     "execution_count": 27,
     "metadata": {},
     "output_type": "execute_result"
    }
   ],
   "source": [
    "import nltk\n",
    "from nltk.corpus import stopwords\n",
    "nltk.download('stopwords')"
   ]
  },
  {
   "cell_type": "code",
   "execution_count": 28,
   "metadata": {
    "colab": {
     "base_uri": "https://localhost:8080/"
    },
    "executionInfo": {
     "elapsed": 34174,
     "status": "ok",
     "timestamp": 1611200455046,
     "user": {
      "displayName": "Sutithi Chakraborty",
      "photoUrl": "",
      "userId": "12749148906436566424"
     },
     "user_tz": -330
    },
    "id": "rYH5FIo82pnV",
    "outputId": "3fa55c2e-7b7b-4b1b-f62e-b573df59616d"
   },
   "outputs": [
    {
     "name": "stdout",
     "output_type": "stream",
     "text": [
      "['i', 'me', 'my', 'myself', 'we', 'our', 'ours', 'ourselves', 'you', \"you're\", \"you've\", \"you'll\", \"you'd\", 'your', 'yours', 'yourself', 'yourselves', 'he', 'him', 'his', 'himself', 'she', \"she's\", 'her', 'hers', 'herself', 'it', \"it's\", 'its', 'itself', 'they', 'them', 'their', 'theirs', 'themselves', 'what', 'which', 'who', 'whom', 'this', 'that', \"that'll\", 'these', 'those', 'am', 'is', 'are', 'was', 'were', 'be', 'been', 'being', 'have', 'has', 'had', 'having', 'do', 'does', 'did', 'doing', 'a', 'an', 'the', 'and', 'but', 'if', 'or', 'because', 'as', 'until', 'while', 'of', 'at', 'by', 'for', 'with', 'about', 'against', 'between', 'into', 'through', 'during', 'before', 'after', 'above', 'below', 'to', 'from', 'up', 'down', 'in', 'out', 'on', 'off', 'over', 'under', 'again', 'further', 'then', 'once', 'here', 'there', 'when', 'where', 'why', 'how', 'all', 'any', 'both', 'each', 'few', 'more', 'most', 'other', 'some', 'such', 'no', 'nor', 'not', 'only', 'own', 'same', 'so', 'than', 'too', 'very', 's', 't', 'can', 'will', 'just', 'don', \"don't\", 'should', \"should've\", 'now', 'd', 'll', 'm', 'o', 're', 've', 'y', 'ain', 'aren', \"aren't\", 'couldn', \"couldn't\", 'didn', \"didn't\", 'doesn', \"doesn't\", 'hadn', \"hadn't\", 'hasn', \"hasn't\", 'haven', \"haven't\", 'isn', \"isn't\", 'ma', 'mightn', \"mightn't\", 'mustn', \"mustn't\", 'needn', \"needn't\", 'shan', \"shan't\", 'shouldn', \"shouldn't\", 'wasn', \"wasn't\", 'weren', \"weren't\", 'won', \"won't\", 'wouldn', \"wouldn't\"]\n"
     ]
    }
   ],
   "source": [
    "print(stopwords.words('english'))"
   ]
  },
  {
   "cell_type": "code",
   "execution_count": 29,
   "metadata": {
    "colab": {
     "base_uri": "https://localhost:8080/"
    },
    "executionInfo": {
     "elapsed": 34158,
     "status": "ok",
     "timestamp": 1611200455047,
     "user": {
      "displayName": "Sutithi Chakraborty",
      "photoUrl": "",
      "userId": "12749148906436566424"
     },
     "user_tz": -330
    },
    "id": "SFWmxV8k2pqh",
    "outputId": "97c01094-beb3-49f6-8cae-d5b4966861dd"
   },
   "outputs": [
    {
     "name": "stdout",
     "output_type": "stream",
     "text": [
      "750\n",
      "421\n"
     ]
    }
   ],
   "source": [
    "from nltk.corpus import stopwords \n",
    "from nltk.tokenize import word_tokenize \n",
    "    \n",
    "stop_words = set(stopwords.words('english')) \n",
    "    \n",
    "filtered_sentence = [] \n",
    "\n",
    "for lines in Punc_filtered_sentence:\n",
    "  word = []\n",
    "  for w in lines: \n",
    "      if w not in stop_words: \n",
    "          word.append(w) \n",
    "  filtered_sentence.append(word)\n",
    "\n",
    "print(len(Punc_filtered_sentence[0])) \n",
    "print(len(filtered_sentence[0])) "
   ]
  },
  {
   "cell_type": "code",
   "execution_count": 30,
   "metadata": {
    "colab": {
     "base_uri": "https://localhost:8080/"
    },
    "executionInfo": {
     "elapsed": 34144,
     "status": "ok",
     "timestamp": 1611200455048,
     "user": {
      "displayName": "Sutithi Chakraborty",
      "photoUrl": "",
      "userId": "12749148906436566424"
     },
     "user_tz": -330
    },
    "id": "wMmsQCFrdtLC",
    "outputId": "0fe57590-ae2a-48b9-a21c-430b260b9cd6"
   },
   "outputs": [
    {
     "name": "stdout",
     "output_type": "stream",
     "text": [
      "['tv', 'future', 'in', 'the', 'hands', 'of', 'viewers', 'with', 'home', 'theatre', 'systems', 'plasma', 'high', 'definition', 'tvs', 'and', 'digital', 'video', 'recorders', 'moving', 'into', 'the', 'living', 'room', 'the', 'way', 'people', 'watch', 'tv', 'will', 'be', 'radically', 'different', 'in', 'five', 'years', 'time', 'that', 'is', 'according', 'to', 'an', 'expert', 'panel', 'which', 'gathered', 'at', 'the', 'annual', 'consumer', 'electronics', 'show', 'in', 'las', 'vegas', 'to', 'discuss', 'how', 'these', 'new', 'technologies', 'will', 'impact', 'one', 'of', 'our', 'favourite', 'pastimes', 'with', 'the', 'us', 'leading', 'the', 'trend', 'programmes', 'and', 'other', 'content', 'will', 'be', 'delivered', 'to', 'viewers', 'via', 'home', 'networks', 'through', 'cable', 'satellite', 'telecoms', 'companies', 'and', 'broadband', 'service', 'providers', 'to', 'front', 'rooms', 'and', 'portable', 'devices', 'one', 'of', 'the', 'most', 'talked', 'about', 'technologies', 'of', 'ces', 'has', 'been', 'digital', 'and', 'personal', 'video', 'recorders', 'dvr', 'and', 'pvr', 'these', 'set', 'top', 'boxes', 'like', 'the', 'us', 's', 'tivo', 'and', 'the', 'uk', 's', 'sky', 'system', 'allow', 'people', 'to', 'record', 'store', 'play', 'pause', 'and', 'forward', 'wind', 'tv', 'programmes', 'when', 'they', 'want', 'essentially', 'the', 'technology', 'allows', 'for', 'much', 'more', 'personalised', 'tv', 'they', 'are', 'also', 'being', 'built', 'in', 'to', 'high', 'definition', 'tv', 'sets', 'which', 'are', 'big', 'business', 'in', 'japan', 'and', 'the', 'us', 'but', 'slower', 'to', 'take', 'off', 'in', 'europe', 'because', 'of', 'the', 'lack', 'of', 'high', 'definition', 'programming', 'not', 'only', 'can', 'people', 'forward', 'wind', 'through', 'adverts', 'they', 'can', 'also', 'forget', 'about', 'abiding', 'by', 'network', 'and', 'channel', 'schedules', 'putting', 'together', 'their', 'own', 'a', 'la', 'carte', 'entertainment', 'but', 'some', 'us', 'networks', 'and', 'cable', 'and', 'satellite', 'companies', 'are', 'worried', 'about', 'what', 'it', 'means', 'for', 'them', 'in', 'terms', 'of', 'advertising', 'revenues', 'as', 'well', 'as', 'brand', 'identity', 'and', 'viewer', 'loyalty', 'to', 'channels', 'although', 'the', 'us', 'leads', 'in', 'this', 'technology', 'at', 'the', 'moment', 'it', 'is', 'also', 'a', 'concern', 'that', 'is', 'being', 'raised', 'in', 'europe', 'particularly', 'with', 'the', 'growing', 'uptake', 'of', 'services', 'like', 'sky', 'what', 'happens', 'here', 'today', 'we', 'will', 'see', 'in', 'nine', 'months', 'to', 'a', 'years', 'time', 'in', 'the', 'uk', 'adam', 'hume', 'the', 'bbc', 'broadcast', 's', 'futurologist', 'told', 'the', 'bbc', 'news', 'website', 'for', 'the', 'likes', 'of', 'the', 'bbc', 'there', 'are', 'no', 'issues', 'of', 'lost', 'advertising', 'revenue', 'yet', 'it', 'is', 'a', 'more', 'pressing', 'issue', 'at', 'the', 'moment', 'for', 'commercial', 'uk', 'broadcasters', 'but', 'brand', 'loyalty', 'is', 'important', 'for', 'everyone', 'we', 'will', 'be', 'talking', 'more', 'about', 'content', 'brands', 'rather', 'than', 'network', 'brands', 'said', 'tim', 'hanlon', 'from', 'brand', 'communications', 'firm', 'starcom', 'mediavest', 'the', 'reality', 'is', 'that', 'with', 'broadband', 'connections', 'anybody', 'can', 'be', 'the', 'producer', 'of', 'content', 'he', 'added', 'the', 'challenge', 'now', 'is', 'that', 'it', 'is', 'hard', 'to', 'promote', 'a', 'programme', 'with', 'so', 'much', 'choice', 'what', 'this', 'means', 'said', 'stacey', 'jolna', 'senior', 'vice', 'president', 'of', 'tv', 'guide', 'tv', 'group', 'is', 'that', 'the', 'way', 'people', 'find', 'the', 'content', 'they', 'want', 'to', 'watch', 'has', 'to', 'be', 'simplified', 'for', 'tv', 'viewers', 'it', 'means', 'that', 'networks', 'in', 'us', 'terms', 'or', 'channels', 'could', 'take', 'a', 'leaf', 'out', 'of', 'google', 's', 'book', 'and', 'be', 'the', 'search', 'engine', 'of', 'the', 'future', 'instead', 'of', 'the', 'scheduler', 'to', 'help', 'people', 'find', 'what', 'they', 'want', 'to', 'watch', 'this', 'kind', 'of', 'channel', 'model', 'might', 'work', 'for', 'the', 'younger', 'ipod', 'generation', 'which', 'is', 'used', 'to', 'taking', 'control', 'of', 'their', 'gadgets', 'and', 'what', 'they', 'play', 'on', 'them', 'but', 'it', 'might', 'not', 'suit', 'everyone', 'the', 'panel', 'recognised', 'older', 'generations', 'are', 'more', 'comfortable', 'with', 'familiar', 'schedules', 'and', 'channel', 'brands', 'because', 'they', 'know', 'what', 'they', 'are', 'getting', 'they', 'perhaps', 'do', 'not', 'want', 'so', 'much', 'of', 'the', 'choice', 'put', 'into', 'their', 'hands', 'mr', 'hanlon', 'suggested', 'on', 'the', 'other', 'end', 'you', 'have', 'the', 'kids', 'just', 'out', 'of', 'diapers', 'who', 'are', 'pushing', 'buttons', 'already', 'everything', 'is', 'possible', 'and', 'available', 'to', 'them', 'said', 'mr', 'hanlon', 'ultimately', 'the', 'consumer', 'will', 'tell', 'the', 'market', 'they', 'want', 'of', 'the', '50', '000', 'new', 'gadgets', 'and', 'technologies', 'being', 'showcased', 'at', 'ces', 'many', 'of', 'them', 'are', 'about', 'enhancing', 'the', 'tv', 'watching', 'experience', 'high', 'definition', 'tv', 'sets', 'are', 'everywhere', 'and', 'many', 'new', 'models', 'of', 'lcd', 'liquid', 'crystal', 'display', 'tvs', 'have', 'been', 'launched', 'with', 'dvr', 'capability', 'built', 'into', 'them', 'instead', 'of', 'being', 'external', 'boxes', 'one', 'such', 'example', 'launched', 'at', 'the', 'show', 'is', 'humax', 's', '26', 'inch', 'lcd', 'tv', 'with', 'an', '80', 'hour', 'tivo', 'dvr', 'and', 'dvd', 'recorder', 'one', 'of', 'the', 'us', 's', 'biggest', 'satellite', 'tv', 'companies', 'directtv', 'has', 'even', 'launched', 'its', 'own', 'branded', 'dvr', 'at', 'the', 'show', 'with', '100', 'hours', 'of', 'recording', 'capability', 'instant', 'replay', 'and', 'a', 'search', 'function', 'the', 'set', 'can', 'pause', 'and', 'rewind', 'tv', 'for', 'up', 'to', '90', 'hours', 'and', 'microsoft', 'chief', 'bill', 'gates', 'announced', 'in', 'his', 'pre', 'show', 'keynote', 'speech', 'a', 'partnership', 'with', 'tivo', 'called', 'tivotogo', 'which', 'means', 'people', 'can', 'play', 'recorded', 'programmes', 'on', 'windows', 'pcs', 'and', 'mobile', 'devices', 'all', 'these', 'reflect', 'the', 'increasing', 'trend', 'of', 'freeing', 'up', 'multimedia', 'so', 'that', 'people', 'can', 'watch', 'what', 'they', 'want', 'when', 'they', 'want']\n"
     ]
    }
   ],
   "source": [
    "print(Punc_filtered_sentence[0])"
   ]
  },
  {
   "cell_type": "code",
   "execution_count": 31,
   "metadata": {
    "colab": {
     "base_uri": "https://localhost:8080/"
    },
    "executionInfo": {
     "elapsed": 34130,
     "status": "ok",
     "timestamp": 1611200455049,
     "user": {
      "displayName": "Sutithi Chakraborty",
      "photoUrl": "",
      "userId": "12749148906436566424"
     },
     "user_tz": -330
    },
    "id": "ypHAaMNMdtUe",
    "outputId": "6e4a8763-c104-454e-c906-9a45eb2f1acb"
   },
   "outputs": [
    {
     "name": "stdout",
     "output_type": "stream",
     "text": [
      "['tv', 'future', 'hands', 'viewers', 'home', 'theatre', 'systems', 'plasma', 'high', 'definition', 'tvs', 'digital', 'video', 'recorders', 'moving', 'living', 'room', 'way', 'people', 'watch', 'tv', 'radically', 'different', 'five', 'years', 'time', 'according', 'expert', 'panel', 'gathered', 'annual', 'consumer', 'electronics', 'show', 'las', 'vegas', 'discuss', 'new', 'technologies', 'impact', 'one', 'favourite', 'pastimes', 'us', 'leading', 'trend', 'programmes', 'content', 'delivered', 'viewers', 'via', 'home', 'networks', 'cable', 'satellite', 'telecoms', 'companies', 'broadband', 'service', 'providers', 'front', 'rooms', 'portable', 'devices', 'one', 'talked', 'technologies', 'ces', 'digital', 'personal', 'video', 'recorders', 'dvr', 'pvr', 'set', 'top', 'boxes', 'like', 'us', 'tivo', 'uk', 'sky', 'system', 'allow', 'people', 'record', 'store', 'play', 'pause', 'forward', 'wind', 'tv', 'programmes', 'want', 'essentially', 'technology', 'allows', 'much', 'personalised', 'tv', 'also', 'built', 'high', 'definition', 'tv', 'sets', 'big', 'business', 'japan', 'us', 'slower', 'take', 'europe', 'lack', 'high', 'definition', 'programming', 'people', 'forward', 'wind', 'adverts', 'also', 'forget', 'abiding', 'network', 'channel', 'schedules', 'putting', 'together', 'la', 'carte', 'entertainment', 'us', 'networks', 'cable', 'satellite', 'companies', 'worried', 'means', 'terms', 'advertising', 'revenues', 'well', 'brand', 'identity', 'viewer', 'loyalty', 'channels', 'although', 'us', 'leads', 'technology', 'moment', 'also', 'concern', 'raised', 'europe', 'particularly', 'growing', 'uptake', 'services', 'like', 'sky', 'happens', 'today', 'see', 'nine', 'months', 'years', 'time', 'uk', 'adam', 'hume', 'bbc', 'broadcast', 'futurologist', 'told', 'bbc', 'news', 'website', 'likes', 'bbc', 'issues', 'lost', 'advertising', 'revenue', 'yet', 'pressing', 'issue', 'moment', 'commercial', 'uk', 'broadcasters', 'brand', 'loyalty', 'important', 'everyone', 'talking', 'content', 'brands', 'rather', 'network', 'brands', 'said', 'tim', 'hanlon', 'brand', 'communications', 'firm', 'starcom', 'mediavest', 'reality', 'broadband', 'connections', 'anybody', 'producer', 'content', 'added', 'challenge', 'hard', 'promote', 'programme', 'much', 'choice', 'means', 'said', 'stacey', 'jolna', 'senior', 'vice', 'president', 'tv', 'guide', 'tv', 'group', 'way', 'people', 'find', 'content', 'want', 'watch', 'simplified', 'tv', 'viewers', 'means', 'networks', 'us', 'terms', 'channels', 'could', 'take', 'leaf', 'google', 'book', 'search', 'engine', 'future', 'instead', 'scheduler', 'help', 'people', 'find', 'want', 'watch', 'kind', 'channel', 'model', 'might', 'work', 'younger', 'ipod', 'generation', 'used', 'taking', 'control', 'gadgets', 'play', 'might', 'suit', 'everyone', 'panel', 'recognised', 'older', 'generations', 'comfortable', 'familiar', 'schedules', 'channel', 'brands', 'know', 'getting', 'perhaps', 'want', 'much', 'choice', 'put', 'hands', 'mr', 'hanlon', 'suggested', 'end', 'kids', 'diapers', 'pushing', 'buttons', 'already', 'everything', 'possible', 'available', 'said', 'mr', 'hanlon', 'ultimately', 'consumer', 'tell', 'market', 'want', '50', '000', 'new', 'gadgets', 'technologies', 'showcased', 'ces', 'many', 'enhancing', 'tv', 'watching', 'experience', 'high', 'definition', 'tv', 'sets', 'everywhere', 'many', 'new', 'models', 'lcd', 'liquid', 'crystal', 'display', 'tvs', 'launched', 'dvr', 'capability', 'built', 'instead', 'external', 'boxes', 'one', 'example', 'launched', 'show', 'humax', '26', 'inch', 'lcd', 'tv', '80', 'hour', 'tivo', 'dvr', 'dvd', 'recorder', 'one', 'us', 'biggest', 'satellite', 'tv', 'companies', 'directtv', 'even', 'launched', 'branded', 'dvr', 'show', '100', 'hours', 'recording', 'capability', 'instant', 'replay', 'search', 'function', 'set', 'pause', 'rewind', 'tv', '90', 'hours', 'microsoft', 'chief', 'bill', 'gates', 'announced', 'pre', 'show', 'keynote', 'speech', 'partnership', 'tivo', 'called', 'tivotogo', 'means', 'people', 'play', 'recorded', 'programmes', 'windows', 'pcs', 'mobile', 'devices', 'reflect', 'increasing', 'trend', 'freeing', 'multimedia', 'people', 'watch', 'want', 'want']\n"
     ]
    }
   ],
   "source": [
    "print(filtered_sentence[0])"
   ]
  },
  {
   "cell_type": "markdown",
   "metadata": {
    "id": "fnQytxul1N7Z"
   },
   "source": [
    "## 2.4.Stemming & Lemitization"
   ]
  },
  {
   "cell_type": "markdown",
   "metadata": {
    "id": "DOCGBspF1VNJ"
   },
   "source": [
    "### 2.4.1.Stemming"
   ]
  },
  {
   "cell_type": "code",
   "execution_count": 32,
   "metadata": {
    "id": "_phA-6SE1j_w"
   },
   "outputs": [],
   "source": [
    "from nltk.stem import PorterStemmer"
   ]
  },
  {
   "cell_type": "code",
   "execution_count": 33,
   "metadata": {
    "id": "SS6Gz9PS2x-k"
   },
   "outputs": [],
   "source": [
    "#create an object of class PorterStemmer\n",
    "porter = PorterStemmer()"
   ]
  },
  {
   "cell_type": "code",
   "execution_count": 34,
   "metadata": {
    "colab": {
     "base_uri": "https://localhost:8080/"
    },
    "executionInfo": {
     "elapsed": 41803,
     "status": "ok",
     "timestamp": 1611200462765,
     "user": {
      "displayName": "Sutithi Chakraborty",
      "photoUrl": "",
      "userId": "12749148906436566424"
     },
     "user_tz": -330
    },
    "id": "FJvoM82-2yBY",
    "outputId": "742208e4-a34d-4fcd-dcd2-f175ab36adc9"
   },
   "outputs": [
    {
     "name": "stdout",
     "output_type": "stream",
     "text": [
      "421\n",
      "421\n"
     ]
    }
   ],
   "source": [
    "# Stemming\n",
    "\n",
    "stemmed=[]\n",
    "for line in filtered_sentence:\n",
    "  lines = list(map(lambda x : porter.stem(x),line))\n",
    "  stemmed.append(lines) \n",
    "print(len(filtered_sentence[0])) \n",
    "print(len(stemmed[0])) "
   ]
  },
  {
   "cell_type": "code",
   "execution_count": 35,
   "metadata": {
    "colab": {
     "base_uri": "https://localhost:8080/"
    },
    "executionInfo": {
     "elapsed": 41787,
     "status": "ok",
     "timestamp": 1611200462766,
     "user": {
      "displayName": "Sutithi Chakraborty",
      "photoUrl": "",
      "userId": "12749148906436566424"
     },
     "user_tz": -330
    },
    "id": "HJIoDgiwhGGD",
    "outputId": "f4d949ac-6dd6-4f2d-dd98-c051866869be"
   },
   "outputs": [
    {
     "name": "stdout",
     "output_type": "stream",
     "text": [
      "['tv', 'future', 'hands', 'viewers', 'home', 'theatre', 'systems', 'plasma', 'high', 'definition', 'tvs', 'digital', 'video', 'recorders', 'moving', 'living', 'room', 'way', 'people', 'watch', 'tv', 'radically', 'different', 'five', 'years', 'time', 'according', 'expert', 'panel', 'gathered', 'annual', 'consumer', 'electronics', 'show', 'las', 'vegas', 'discuss', 'new', 'technologies', 'impact', 'one', 'favourite', 'pastimes', 'us', 'leading', 'trend', 'programmes', 'content', 'delivered', 'viewers', 'via', 'home', 'networks', 'cable', 'satellite', 'telecoms', 'companies', 'broadband', 'service', 'providers', 'front', 'rooms', 'portable', 'devices', 'one', 'talked', 'technologies', 'ces', 'digital', 'personal', 'video', 'recorders', 'dvr', 'pvr', 'set', 'top', 'boxes', 'like', 'us', 'tivo', 'uk', 'sky', 'system', 'allow', 'people', 'record', 'store', 'play', 'pause', 'forward', 'wind', 'tv', 'programmes', 'want', 'essentially', 'technology', 'allows', 'much', 'personalised', 'tv', 'also', 'built', 'high', 'definition', 'tv', 'sets', 'big', 'business', 'japan', 'us', 'slower', 'take', 'europe', 'lack', 'high', 'definition', 'programming', 'people', 'forward', 'wind', 'adverts', 'also', 'forget', 'abiding', 'network', 'channel', 'schedules', 'putting', 'together', 'la', 'carte', 'entertainment', 'us', 'networks', 'cable', 'satellite', 'companies', 'worried', 'means', 'terms', 'advertising', 'revenues', 'well', 'brand', 'identity', 'viewer', 'loyalty', 'channels', 'although', 'us', 'leads', 'technology', 'moment', 'also', 'concern', 'raised', 'europe', 'particularly', 'growing', 'uptake', 'services', 'like', 'sky', 'happens', 'today', 'see', 'nine', 'months', 'years', 'time', 'uk', 'adam', 'hume', 'bbc', 'broadcast', 'futurologist', 'told', 'bbc', 'news', 'website', 'likes', 'bbc', 'issues', 'lost', 'advertising', 'revenue', 'yet', 'pressing', 'issue', 'moment', 'commercial', 'uk', 'broadcasters', 'brand', 'loyalty', 'important', 'everyone', 'talking', 'content', 'brands', 'rather', 'network', 'brands', 'said', 'tim', 'hanlon', 'brand', 'communications', 'firm', 'starcom', 'mediavest', 'reality', 'broadband', 'connections', 'anybody', 'producer', 'content', 'added', 'challenge', 'hard', 'promote', 'programme', 'much', 'choice', 'means', 'said', 'stacey', 'jolna', 'senior', 'vice', 'president', 'tv', 'guide', 'tv', 'group', 'way', 'people', 'find', 'content', 'want', 'watch', 'simplified', 'tv', 'viewers', 'means', 'networks', 'us', 'terms', 'channels', 'could', 'take', 'leaf', 'google', 'book', 'search', 'engine', 'future', 'instead', 'scheduler', 'help', 'people', 'find', 'want', 'watch', 'kind', 'channel', 'model', 'might', 'work', 'younger', 'ipod', 'generation', 'used', 'taking', 'control', 'gadgets', 'play', 'might', 'suit', 'everyone', 'panel', 'recognised', 'older', 'generations', 'comfortable', 'familiar', 'schedules', 'channel', 'brands', 'know', 'getting', 'perhaps', 'want', 'much', 'choice', 'put', 'hands', 'mr', 'hanlon', 'suggested', 'end', 'kids', 'diapers', 'pushing', 'buttons', 'already', 'everything', 'possible', 'available', 'said', 'mr', 'hanlon', 'ultimately', 'consumer', 'tell', 'market', 'want', '50', '000', 'new', 'gadgets', 'technologies', 'showcased', 'ces', 'many', 'enhancing', 'tv', 'watching', 'experience', 'high', 'definition', 'tv', 'sets', 'everywhere', 'many', 'new', 'models', 'lcd', 'liquid', 'crystal', 'display', 'tvs', 'launched', 'dvr', 'capability', 'built', 'instead', 'external', 'boxes', 'one', 'example', 'launched', 'show', 'humax', '26', 'inch', 'lcd', 'tv', '80', 'hour', 'tivo', 'dvr', 'dvd', 'recorder', 'one', 'us', 'biggest', 'satellite', 'tv', 'companies', 'directtv', 'even', 'launched', 'branded', 'dvr', 'show', '100', 'hours', 'recording', 'capability', 'instant', 'replay', 'search', 'function', 'set', 'pause', 'rewind', 'tv', '90', 'hours', 'microsoft', 'chief', 'bill', 'gates', 'announced', 'pre', 'show', 'keynote', 'speech', 'partnership', 'tivo', 'called', 'tivotogo', 'means', 'people', 'play', 'recorded', 'programmes', 'windows', 'pcs', 'mobile', 'devices', 'reflect', 'increasing', 'trend', 'freeing', 'multimedia', 'people', 'watch', 'want', 'want']\n"
     ]
    }
   ],
   "source": [
    "print(filtered_sentence[0]) "
   ]
  },
  {
   "cell_type": "code",
   "execution_count": 36,
   "metadata": {
    "colab": {
     "base_uri": "https://localhost:8080/"
    },
    "executionInfo": {
     "elapsed": 41769,
     "status": "ok",
     "timestamp": 1611200462767,
     "user": {
      "displayName": "Sutithi Chakraborty",
      "photoUrl": "",
      "userId": "12749148906436566424"
     },
     "user_tz": -330
    },
    "id": "YOxrFdhr2yKD",
    "outputId": "aa225b26-ad35-4307-8897-cacb0825f981"
   },
   "outputs": [
    {
     "name": "stdout",
     "output_type": "stream",
     "text": [
      "['tv', 'futur', 'hand', 'viewer', 'home', 'theatr', 'system', 'plasma', 'high', 'definit', 'tv', 'digit', 'video', 'record', 'move', 'live', 'room', 'way', 'peopl', 'watch', 'tv', 'radic', 'differ', 'five', 'year', 'time', 'accord', 'expert', 'panel', 'gather', 'annual', 'consum', 'electron', 'show', 'la', 'vega', 'discuss', 'new', 'technolog', 'impact', 'one', 'favourit', 'pastim', 'us', 'lead', 'trend', 'programm', 'content', 'deliv', 'viewer', 'via', 'home', 'network', 'cabl', 'satellit', 'telecom', 'compani', 'broadband', 'servic', 'provid', 'front', 'room', 'portabl', 'devic', 'one', 'talk', 'technolog', 'ce', 'digit', 'person', 'video', 'record', 'dvr', 'pvr', 'set', 'top', 'box', 'like', 'us', 'tivo', 'uk', 'sky', 'system', 'allow', 'peopl', 'record', 'store', 'play', 'paus', 'forward', 'wind', 'tv', 'programm', 'want', 'essenti', 'technolog', 'allow', 'much', 'personalis', 'tv', 'also', 'built', 'high', 'definit', 'tv', 'set', 'big', 'busi', 'japan', 'us', 'slower', 'take', 'europ', 'lack', 'high', 'definit', 'program', 'peopl', 'forward', 'wind', 'advert', 'also', 'forget', 'abid', 'network', 'channel', 'schedul', 'put', 'togeth', 'la', 'cart', 'entertain', 'us', 'network', 'cabl', 'satellit', 'compani', 'worri', 'mean', 'term', 'advertis', 'revenu', 'well', 'brand', 'ident', 'viewer', 'loyalti', 'channel', 'although', 'us', 'lead', 'technolog', 'moment', 'also', 'concern', 'rais', 'europ', 'particularli', 'grow', 'uptak', 'servic', 'like', 'sky', 'happen', 'today', 'see', 'nine', 'month', 'year', 'time', 'uk', 'adam', 'hume', 'bbc', 'broadcast', 'futurologist', 'told', 'bbc', 'news', 'websit', 'like', 'bbc', 'issu', 'lost', 'advertis', 'revenu', 'yet', 'press', 'issu', 'moment', 'commerci', 'uk', 'broadcast', 'brand', 'loyalti', 'import', 'everyon', 'talk', 'content', 'brand', 'rather', 'network', 'brand', 'said', 'tim', 'hanlon', 'brand', 'commun', 'firm', 'starcom', 'mediavest', 'realiti', 'broadband', 'connect', 'anybodi', 'produc', 'content', 'ad', 'challeng', 'hard', 'promot', 'programm', 'much', 'choic', 'mean', 'said', 'stacey', 'jolna', 'senior', 'vice', 'presid', 'tv', 'guid', 'tv', 'group', 'way', 'peopl', 'find', 'content', 'want', 'watch', 'simplifi', 'tv', 'viewer', 'mean', 'network', 'us', 'term', 'channel', 'could', 'take', 'leaf', 'googl', 'book', 'search', 'engin', 'futur', 'instead', 'schedul', 'help', 'peopl', 'find', 'want', 'watch', 'kind', 'channel', 'model', 'might', 'work', 'younger', 'ipod', 'gener', 'use', 'take', 'control', 'gadget', 'play', 'might', 'suit', 'everyon', 'panel', 'recognis', 'older', 'gener', 'comfort', 'familiar', 'schedul', 'channel', 'brand', 'know', 'get', 'perhap', 'want', 'much', 'choic', 'put', 'hand', 'mr', 'hanlon', 'suggest', 'end', 'kid', 'diaper', 'push', 'button', 'alreadi', 'everyth', 'possibl', 'avail', 'said', 'mr', 'hanlon', 'ultim', 'consum', 'tell', 'market', 'want', '50', '000', 'new', 'gadget', 'technolog', 'showcas', 'ce', 'mani', 'enhanc', 'tv', 'watch', 'experi', 'high', 'definit', 'tv', 'set', 'everywher', 'mani', 'new', 'model', 'lcd', 'liquid', 'crystal', 'display', 'tv', 'launch', 'dvr', 'capabl', 'built', 'instead', 'extern', 'box', 'one', 'exampl', 'launch', 'show', 'humax', '26', 'inch', 'lcd', 'tv', '80', 'hour', 'tivo', 'dvr', 'dvd', 'record', 'one', 'us', 'biggest', 'satellit', 'tv', 'compani', 'directtv', 'even', 'launch', 'brand', 'dvr', 'show', '100', 'hour', 'record', 'capabl', 'instant', 'replay', 'search', 'function', 'set', 'paus', 'rewind', 'tv', '90', 'hour', 'microsoft', 'chief', 'bill', 'gate', 'announc', 'pre', 'show', 'keynot', 'speech', 'partnership', 'tivo', 'call', 'tivotogo', 'mean', 'peopl', 'play', 'record', 'programm', 'window', 'pc', 'mobil', 'devic', 'reflect', 'increas', 'trend', 'free', 'multimedia', 'peopl', 'watch', 'want', 'want']\n"
     ]
    }
   ],
   "source": [
    "print(stemmed[0])"
   ]
  },
  {
   "cell_type": "markdown",
   "metadata": {
    "id": "dBHm5uBT1XAQ"
   },
   "source": [
    "### 2.4.2.Lemitization"
   ]
  },
  {
   "cell_type": "code",
   "execution_count": 37,
   "metadata": {
    "id": "COOinZej1knp"
   },
   "outputs": [],
   "source": [
    "from nltk.stem import LancasterStemmer\n",
    "lancaster=LancasterStemmer()"
   ]
  },
  {
   "cell_type": "code",
   "execution_count": 38,
   "metadata": {
    "colab": {
     "base_uri": "https://localhost:8080/"
    },
    "executionInfo": {
     "elapsed": 45991,
     "status": "ok",
     "timestamp": 1611200467011,
     "user": {
      "displayName": "Sutithi Chakraborty",
      "photoUrl": "",
      "userId": "12749148906436566424"
     },
     "user_tz": -330
    },
    "id": "qosQTcA3_d9L",
    "outputId": "00a3c682-be04-42eb-c02f-0b3d8c6aa529"
   },
   "outputs": [
    {
     "name": "stdout",
     "output_type": "stream",
     "text": [
      "421\n",
      "421\n"
     ]
    }
   ],
   "source": [
    "# Lemitization\n",
    "\n",
    "lemmitized=[]\n",
    "for line in stemmed:\n",
    "  lines = list(map(lambda x : lancaster.stem(x),line))\n",
    "  lemmitized.append(lines) \n",
    "print(len(stemmed[0])) \n",
    "print(len(lemmitized[0])) "
   ]
  },
  {
   "cell_type": "code",
   "execution_count": 39,
   "metadata": {
    "colab": {
     "base_uri": "https://localhost:8080/"
    },
    "executionInfo": {
     "elapsed": 45978,
     "status": "ok",
     "timestamp": 1611200467013,
     "user": {
      "displayName": "Sutithi Chakraborty",
      "photoUrl": "",
      "userId": "12749148906436566424"
     },
     "user_tz": -330
    },
    "id": "nd2QvGppl1N-",
    "outputId": "e2ee6173-33f4-4069-f8e8-cf3119df5139"
   },
   "outputs": [
    {
     "name": "stdout",
     "output_type": "stream",
     "text": [
      "['tv', 'futur', 'hand', 'viewer', 'home', 'theatr', 'system', 'plasma', 'high', 'definit', 'tv', 'digit', 'video', 'record', 'move', 'live', 'room', 'way', 'peopl', 'watch', 'tv', 'radic', 'differ', 'five', 'year', 'time', 'accord', 'expert', 'panel', 'gather', 'annual', 'consum', 'electron', 'show', 'la', 'vega', 'discuss', 'new', 'technolog', 'impact', 'one', 'favourit', 'pastim', 'us', 'lead', 'trend', 'programm', 'content', 'deliv', 'viewer', 'via', 'home', 'network', 'cabl', 'satellit', 'telecom', 'compani', 'broadband', 'servic', 'provid', 'front', 'room', 'portabl', 'devic', 'one', 'talk', 'technolog', 'ce', 'digit', 'person', 'video', 'record', 'dvr', 'pvr', 'set', 'top', 'box', 'like', 'us', 'tivo', 'uk', 'sky', 'system', 'allow', 'peopl', 'record', 'store', 'play', 'paus', 'forward', 'wind', 'tv', 'programm', 'want', 'essenti', 'technolog', 'allow', 'much', 'personalis', 'tv', 'also', 'built', 'high', 'definit', 'tv', 'set', 'big', 'busi', 'japan', 'us', 'slower', 'take', 'europ', 'lack', 'high', 'definit', 'program', 'peopl', 'forward', 'wind', 'advert', 'also', 'forget', 'abid', 'network', 'channel', 'schedul', 'put', 'togeth', 'la', 'cart', 'entertain', 'us', 'network', 'cabl', 'satellit', 'compani', 'worri', 'mean', 'term', 'advertis', 'revenu', 'well', 'brand', 'ident', 'viewer', 'loyalti', 'channel', 'although', 'us', 'lead', 'technolog', 'moment', 'also', 'concern', 'rais', 'europ', 'particularli', 'grow', 'uptak', 'servic', 'like', 'sky', 'happen', 'today', 'see', 'nine', 'month', 'year', 'time', 'uk', 'adam', 'hume', 'bbc', 'broadcast', 'futurologist', 'told', 'bbc', 'news', 'websit', 'like', 'bbc', 'issu', 'lost', 'advertis', 'revenu', 'yet', 'press', 'issu', 'moment', 'commerci', 'uk', 'broadcast', 'brand', 'loyalti', 'import', 'everyon', 'talk', 'content', 'brand', 'rather', 'network', 'brand', 'said', 'tim', 'hanlon', 'brand', 'commun', 'firm', 'starcom', 'mediavest', 'realiti', 'broadband', 'connect', 'anybodi', 'produc', 'content', 'ad', 'challeng', 'hard', 'promot', 'programm', 'much', 'choic', 'mean', 'said', 'stacey', 'jolna', 'senior', 'vice', 'presid', 'tv', 'guid', 'tv', 'group', 'way', 'peopl', 'find', 'content', 'want', 'watch', 'simplifi', 'tv', 'viewer', 'mean', 'network', 'us', 'term', 'channel', 'could', 'take', 'leaf', 'googl', 'book', 'search', 'engin', 'futur', 'instead', 'schedul', 'help', 'peopl', 'find', 'want', 'watch', 'kind', 'channel', 'model', 'might', 'work', 'younger', 'ipod', 'gener', 'use', 'take', 'control', 'gadget', 'play', 'might', 'suit', 'everyon', 'panel', 'recognis', 'older', 'gener', 'comfort', 'familiar', 'schedul', 'channel', 'brand', 'know', 'get', 'perhap', 'want', 'much', 'choic', 'put', 'hand', 'mr', 'hanlon', 'suggest', 'end', 'kid', 'diaper', 'push', 'button', 'alreadi', 'everyth', 'possibl', 'avail', 'said', 'mr', 'hanlon', 'ultim', 'consum', 'tell', 'market', 'want', '50', '000', 'new', 'gadget', 'technolog', 'showcas', 'ce', 'mani', 'enhanc', 'tv', 'watch', 'experi', 'high', 'definit', 'tv', 'set', 'everywher', 'mani', 'new', 'model', 'lcd', 'liquid', 'crystal', 'display', 'tv', 'launch', 'dvr', 'capabl', 'built', 'instead', 'extern', 'box', 'one', 'exampl', 'launch', 'show', 'humax', '26', 'inch', 'lcd', 'tv', '80', 'hour', 'tivo', 'dvr', 'dvd', 'record', 'one', 'us', 'biggest', 'satellit', 'tv', 'compani', 'directtv', 'even', 'launch', 'brand', 'dvr', 'show', '100', 'hour', 'record', 'capabl', 'instant', 'replay', 'search', 'function', 'set', 'paus', 'rewind', 'tv', '90', 'hour', 'microsoft', 'chief', 'bill', 'gate', 'announc', 'pre', 'show', 'keynot', 'speech', 'partnership', 'tivo', 'call', 'tivotogo', 'mean', 'peopl', 'play', 'record', 'programm', 'window', 'pc', 'mobil', 'devic', 'reflect', 'increas', 'trend', 'free', 'multimedia', 'peopl', 'watch', 'want', 'want']\n"
     ]
    }
   ],
   "source": [
    "print(stemmed[0]) "
   ]
  },
  {
   "cell_type": "code",
   "execution_count": 40,
   "metadata": {
    "colab": {
     "base_uri": "https://localhost:8080/"
    },
    "executionInfo": {
     "elapsed": 45962,
     "status": "ok",
     "timestamp": 1611200467014,
     "user": {
      "displayName": "Sutithi Chakraborty",
      "photoUrl": "",
      "userId": "12749148906436566424"
     },
     "user_tz": -330
    },
    "id": "TKqah5wLl4aa",
    "outputId": "1b91235b-8d9f-4e3c-c7dd-9bf707d908b3"
   },
   "outputs": [
    {
     "name": "stdout",
     "output_type": "stream",
     "text": [
      "['tv', 'fut', 'hand', 'view', 'hom', 'the', 'system', 'plasm', 'high', 'definit', 'tv', 'digit', 'video', 'record', 'mov', 'liv', 'room', 'way', 'peopl', 'watch', 'tv', 'rad', 'diff', 'fiv', 'year', 'tim', 'accord', 'expert', 'panel', 'gath', 'an', 'cons', 'electron', 'show', 'la', 'veg', 'discuss', 'new', 'technolog', 'impact', 'on', 'favourit', 'pastim', 'us', 'lead', 'trend', 'program', 'cont', 'del', 'view', 'via', 'hom', 'network', 'cabl', 'satellit', 'telecom', 'compan', 'broadband', 'serv', 'provid', 'front', 'room', 'port', 'dev', 'on', 'talk', 'technolog', 'ce', 'digit', 'person', 'video', 'record', 'dvr', 'pvr', 'set', 'top', 'box', 'lik', 'us', 'tivo', 'uk', 'sky', 'system', 'allow', 'peopl', 'record', 'stor', 'play', 'pau', 'forward', 'wind', 'tv', 'program', 'want', 'essent', 'technolog', 'allow', 'much', 'person', 'tv', 'also', 'built', 'high', 'definit', 'tv', 'set', 'big', 'bus', 'jap', 'us', 'slow', 'tak', 'europ', 'lack', 'high', 'definit', 'program', 'peopl', 'forward', 'wind', 'advert', 'also', 'forget', 'abid', 'network', 'channel', 'schedul', 'put', 'toge', 'la', 'cart', 'entertain', 'us', 'network', 'cabl', 'satellit', 'compan', 'worr', 'mean', 'term', 'advert', 'revenu', 'wel', 'brand', 'id', 'view', 'loyalt', 'channel', 'although', 'us', 'lead', 'technolog', 'mom', 'also', 'concern', 'rai', 'europ', 'particularl', 'grow', 'uptak', 'serv', 'lik', 'sky', 'hap', 'today', 'see', 'nin', 'mon', 'year', 'tim', 'uk', 'adam', 'hum', 'bbc', 'broadcast', 'futurolog', 'told', 'bbc', 'new', 'websit', 'lik', 'bbc', 'issu', 'lost', 'advert', 'revenu', 'yet', 'press', 'issu', 'mom', 'commerc', 'uk', 'broadcast', 'brand', 'loyalt', 'import', 'everyon', 'talk', 'cont', 'brand', 'rath', 'network', 'brand', 'said', 'tim', 'hanlon', 'brand', 'commun', 'firm', 'starcom', 'mediavest', 'realit', 'broadband', 'connect', 'anybod', 'produc', 'cont', 'ad', 'challeng', 'hard', 'promot', 'program', 'much', 'cho', 'mean', 'said', 'stacey', 'joln', 'seny', 'vic', 'presid', 'tv', 'guid', 'tv', 'group', 'way', 'peopl', 'find', 'cont', 'want', 'watch', 'simplif', 'tv', 'view', 'mean', 'network', 'us', 'term', 'channel', 'could', 'tak', 'leaf', 'googl', 'book', 'search', 'engin', 'fut', 'instead', 'schedul', 'help', 'peopl', 'find', 'want', 'watch', 'kind', 'channel', 'model', 'might', 'work', 'young', 'ipod', 'gen', 'us', 'tak', 'control', 'gadget', 'play', 'might', 'suit', 'everyon', 'panel', 'recogn', 'old', 'gen', 'comfort', 'famili', 'schedul', 'channel', 'brand', 'know', 'get', 'perhap', 'want', 'much', 'cho', 'put', 'hand', 'mr', 'hanlon', 'suggest', 'end', 'kid', 'diap', 'push', 'button', 'alread', 'every', 'poss', 'avail', 'said', 'mr', 'hanlon', 'ultim', 'cons', 'tel', 'market', 'want', '50', '000', 'new', 'gadget', 'technolog', 'showca', 'ce', 'man', 'enh', 'tv', 'watch', 'exper', 'high', 'definit', 'tv', 'set', 'everywh', 'man', 'new', 'model', 'lcd', 'liquid', 'cryst', 'display', 'tv', 'launch', 'dvr', 'cap', 'built', 'instead', 'extern', 'box', 'on', 'exampl', 'launch', 'show', 'humax', '26', 'inch', 'lcd', 'tv', '80', 'hour', 'tivo', 'dvr', 'dvd', 'record', 'on', 'us', 'biggest', 'satellit', 'tv', 'compan', 'directtv', 'ev', 'launch', 'brand', 'dvr', 'show', '100', 'hour', 'record', 'cap', 'inst', 'replay', 'search', 'funct', 'set', 'pau', 'rewind', 'tv', '90', 'hour', 'microsoft', 'chief', 'bil', 'gat', 'annount', 'pre', 'show', 'keynot', 'speech', 'partn', 'tivo', 'cal', 'tivotogo', 'mean', 'peopl', 'play', 'record', 'program', 'window', 'pc', 'mobl', 'dev', 'reflect', 'increa', 'trend', 'fre', 'multimed', 'peopl', 'watch', 'want', 'want']\n"
     ]
    }
   ],
   "source": [
    "print(lemmitized[0])"
   ]
  },
  {
   "cell_type": "markdown",
   "metadata": {
    "id": "RiB_pZw61Sb6"
   },
   "source": [
    "## 2.5.PoS"
   ]
  },
  {
   "cell_type": "code",
   "execution_count": 41,
   "metadata": {
    "colab": {
     "base_uri": "https://localhost:8080/"
    },
    "executionInfo": {
     "elapsed": 45946,
     "status": "ok",
     "timestamp": 1611200467014,
     "user": {
      "displayName": "Sutithi Chakraborty",
      "photoUrl": "",
      "userId": "12749148906436566424"
     },
     "user_tz": -330
    },
    "id": "rdIPBshQ1lIt",
    "outputId": "ec63edab-dd17-47bd-d3b9-3bd599e3e1e4"
   },
   "outputs": [
    {
     "name": "stderr",
     "output_type": "stream",
     "text": [
      "[nltk_data] Downloading package averaged_perceptron_tagger to\n",
      "[nltk_data]     /Users/vidyadharbendre/nltk_data...\n",
      "[nltk_data]   Package averaged_perceptron_tagger is already up-to-\n",
      "[nltk_data]       date!\n"
     ]
    },
    {
     "data": {
      "text/plain": [
       "True"
      ]
     },
     "execution_count": 41,
     "metadata": {},
     "output_type": "execute_result"
    }
   ],
   "source": [
    "nltk.download('averaged_perceptron_tagger')"
   ]
  },
  {
   "cell_type": "code",
   "execution_count": 42,
   "metadata": {
    "colab": {
     "base_uri": "https://localhost:8080/"
    },
    "executionInfo": {
     "elapsed": 45930,
     "status": "ok",
     "timestamp": 1611200467015,
     "user": {
      "displayName": "Sutithi Chakraborty",
      "photoUrl": "",
      "userId": "12749148906436566424"
     },
     "user_tz": -330
    },
    "id": "YN-M6lZ326IN",
    "outputId": "76c3e3c5-56bb-48c8-9c20-6a13247f44b8"
   },
   "outputs": [
    {
     "data": {
      "text/plain": [
       "[('tv', 'NN'),\n",
       " ('fut', 'NNS'),\n",
       " ('hand', 'NN'),\n",
       " ('view', 'NN'),\n",
       " ('hom', 'VBP'),\n",
       " ('the', 'DT'),\n",
       " ('system', 'NN'),\n",
       " ('plasm', 'JJ'),\n",
       " ('high', 'JJ'),\n",
       " ('definit', 'NN'),\n",
       " ('tv', 'NN'),\n",
       " ('digit', 'NN'),\n",
       " ('video', 'NN'),\n",
       " ('record', 'NN'),\n",
       " ('mov', 'NN'),\n",
       " ('liv', 'JJ'),\n",
       " ('room', 'NN'),\n",
       " ('way', 'NN'),\n",
       " ('peopl', 'JJ'),\n",
       " ('watch', 'NN'),\n",
       " ('tv', 'NN'),\n",
       " ('rad', 'NN'),\n",
       " ('diff', 'NN'),\n",
       " ('fiv', 'JJ'),\n",
       " ('year', 'NN'),\n",
       " ('tim', 'NN'),\n",
       " ('accord', 'NN'),\n",
       " ('expert', 'NN'),\n",
       " ('panel', 'NN'),\n",
       " ('gath', 'NN'),\n",
       " ('an', 'DT'),\n",
       " ('cons', 'NNS'),\n",
       " ('electron', 'VBP'),\n",
       " ('show', 'NN'),\n",
       " ('la', 'NN'),\n",
       " ('veg', 'FW'),\n",
       " ('discuss', 'VB'),\n",
       " ('new', 'JJ'),\n",
       " ('technolog', 'NN'),\n",
       " ('impact', 'NN'),\n",
       " ('on', 'IN'),\n",
       " ('favourit', 'NN'),\n",
       " ('pastim', 'NN'),\n",
       " ('us', 'PRP'),\n",
       " ('lead', 'JJ'),\n",
       " ('trend', 'NN'),\n",
       " ('program', 'NN'),\n",
       " ('cont', 'JJ'),\n",
       " ('del', 'NN'),\n",
       " ('view', 'NN'),\n",
       " ('via', 'IN'),\n",
       " ('hom', 'NN'),\n",
       " ('network', 'NN'),\n",
       " ('cabl', 'NN'),\n",
       " ('satellit', 'NN'),\n",
       " ('telecom', 'NN'),\n",
       " ('compan', 'NN'),\n",
       " ('broadband', 'VBP'),\n",
       " ('serv', 'NN'),\n",
       " ('provid', 'NN'),\n",
       " ('front', 'NN'),\n",
       " ('room', 'NN'),\n",
       " ('port', 'NN'),\n",
       " ('dev', 'NN'),\n",
       " ('on', 'IN'),\n",
       " ('talk', 'NN'),\n",
       " ('technolog', 'NN'),\n",
       " ('ce', 'NN'),\n",
       " ('digit', 'JJ'),\n",
       " ('person', 'NN'),\n",
       " ('video', 'NN'),\n",
       " ('record', 'NN'),\n",
       " ('dvr', 'NN'),\n",
       " ('pvr', 'NN'),\n",
       " ('set', 'VBN'),\n",
       " ('top', 'JJ'),\n",
       " ('box', 'NN'),\n",
       " ('lik', 'VBD'),\n",
       " ('us', 'PRP'),\n",
       " ('tivo', 'VB'),\n",
       " ('uk', 'JJ'),\n",
       " ('sky', 'NN'),\n",
       " ('system', 'NN'),\n",
       " ('allow', 'JJ'),\n",
       " ('peopl', 'NN'),\n",
       " ('record', 'NN'),\n",
       " ('stor', 'NN'),\n",
       " ('play', 'NN'),\n",
       " ('pau', 'VBZ'),\n",
       " ('forward', 'RB'),\n",
       " ('wind', 'JJ'),\n",
       " ('tv', 'NN'),\n",
       " ('program', 'NN'),\n",
       " ('want', 'VBP'),\n",
       " ('essent', 'NN'),\n",
       " ('technolog', 'NN'),\n",
       " ('allow', 'VBP'),\n",
       " ('much', 'JJ'),\n",
       " ('person', 'NN'),\n",
       " ('tv', 'NN'),\n",
       " ('also', 'RB'),\n",
       " ('built', 'VBN'),\n",
       " ('high', 'JJ'),\n",
       " ('definit', 'NN'),\n",
       " ('tv', 'NN'),\n",
       " ('set', 'VBN'),\n",
       " ('big', 'JJ'),\n",
       " ('bus', 'NN'),\n",
       " ('jap', 'NN'),\n",
       " ('us', 'PRP'),\n",
       " ('slow', 'JJ'),\n",
       " ('tak', 'NN'),\n",
       " ('europ', 'NN'),\n",
       " ('lack', 'NN'),\n",
       " ('high', 'JJ'),\n",
       " ('definit', 'NN'),\n",
       " ('program', 'NN'),\n",
       " ('peopl', 'NN'),\n",
       " ('forward', 'RB'),\n",
       " ('wind', 'IN'),\n",
       " ('advert', 'NN'),\n",
       " ('also', 'RB'),\n",
       " ('forget', 'VB'),\n",
       " ('abid', 'NN'),\n",
       " ('network', 'NN'),\n",
       " ('channel', 'NN'),\n",
       " ('schedul', 'NN'),\n",
       " ('put', 'VBD'),\n",
       " ('toge', 'RP'),\n",
       " ('la', 'JJ'),\n",
       " ('cart', 'NN'),\n",
       " ('entertain', 'VBP'),\n",
       " ('us', 'PRP'),\n",
       " ('network', 'NN'),\n",
       " ('cabl', 'NN'),\n",
       " ('satellit', 'NN'),\n",
       " ('compan', 'NN'),\n",
       " ('worr', 'VBP'),\n",
       " ('mean', 'JJ'),\n",
       " ('term', 'NN'),\n",
       " ('advert', 'NN'),\n",
       " ('revenu', 'NN'),\n",
       " ('wel', 'NN'),\n",
       " ('brand', 'NN'),\n",
       " ('id', 'NN'),\n",
       " ('view', 'NN'),\n",
       " ('loyalt', 'VBD'),\n",
       " ('channel', 'NNS'),\n",
       " ('although', 'IN'),\n",
       " ('us', 'PRP'),\n",
       " ('lead', 'VBP'),\n",
       " ('technolog', 'JJ'),\n",
       " ('mom', 'NN'),\n",
       " ('also', 'RB'),\n",
       " ('concern', 'NN'),\n",
       " ('rai', 'JJ'),\n",
       " ('europ', 'NN'),\n",
       " ('particularl', 'NN'),\n",
       " ('grow', 'VB'),\n",
       " ('uptak', 'JJ'),\n",
       " ('serv', 'NN'),\n",
       " ('lik', 'NN'),\n",
       " ('sky', 'NN'),\n",
       " ('hap', 'NN'),\n",
       " ('today', 'NN'),\n",
       " ('see', 'VBP'),\n",
       " ('nin', 'RB'),\n",
       " ('mon', 'JJ'),\n",
       " ('year', 'NN'),\n",
       " ('tim', 'NN'),\n",
       " ('uk', 'JJ'),\n",
       " ('adam', 'NN'),\n",
       " ('hum', 'NN'),\n",
       " ('bbc', 'NN'),\n",
       " ('broadcast', 'NN'),\n",
       " ('futurolog', 'NN'),\n",
       " ('told', 'VBD'),\n",
       " ('bbc', 'JJ'),\n",
       " ('new', 'JJ'),\n",
       " ('websit', 'NN'),\n",
       " ('lik', 'NN'),\n",
       " ('bbc', 'NN'),\n",
       " ('issu', 'NN'),\n",
       " ('lost', 'VBD'),\n",
       " ('advert', 'JJ'),\n",
       " ('revenu', 'NN'),\n",
       " ('yet', 'RB'),\n",
       " ('press', 'JJ'),\n",
       " ('issu', 'NN'),\n",
       " ('mom', 'NN'),\n",
       " ('commerc', 'NN'),\n",
       " ('uk', 'JJ'),\n",
       " ('broadcast', 'NN'),\n",
       " ('brand', 'NN'),\n",
       " ('loyalt', 'NN'),\n",
       " ('import', 'NN'),\n",
       " ('everyon', 'NN'),\n",
       " ('talk', 'NN'),\n",
       " ('cont', 'NN'),\n",
       " ('brand', 'NN'),\n",
       " ('rath', 'NN'),\n",
       " ('network', 'NN'),\n",
       " ('brand', 'NN'),\n",
       " ('said', 'VBD'),\n",
       " ('tim', 'JJ'),\n",
       " ('hanlon', 'NN'),\n",
       " ('brand', 'NN'),\n",
       " ('commun', 'NN'),\n",
       " ('firm', 'NN'),\n",
       " ('starcom', 'VBD'),\n",
       " ('mediavest', 'JJS'),\n",
       " ('realit', 'NN'),\n",
       " ('broadband', 'NN'),\n",
       " ('connect', 'NN'),\n",
       " ('anybod', 'NN'),\n",
       " ('produc', 'NN'),\n",
       " ('cont', 'NN'),\n",
       " ('ad', 'NN'),\n",
       " ('challeng', 'NN'),\n",
       " ('hard', 'JJ'),\n",
       " ('promot', 'NN'),\n",
       " ('program', 'NN'),\n",
       " ('much', 'JJ'),\n",
       " ('cho', 'NN'),\n",
       " ('mean', 'NN'),\n",
       " ('said', 'VBD'),\n",
       " ('stacey', 'JJ'),\n",
       " ('joln', 'NN'),\n",
       " ('seny', 'NN'),\n",
       " ('vic', 'NN'),\n",
       " ('presid', 'NN'),\n",
       " ('tv', 'NN'),\n",
       " ('guid', 'NN'),\n",
       " ('tv', 'NN'),\n",
       " ('group', 'NN'),\n",
       " ('way', 'NN'),\n",
       " ('peopl', 'IN'),\n",
       " ('find', 'VBP'),\n",
       " ('cont', 'JJ'),\n",
       " ('want', 'VBP'),\n",
       " ('watch', 'NN'),\n",
       " ('simplif', 'JJ'),\n",
       " ('tv', 'NN'),\n",
       " ('view', 'NN'),\n",
       " ('mean', 'NN'),\n",
       " ('network', 'NN'),\n",
       " ('us', 'PRP'),\n",
       " ('term', 'NN'),\n",
       " ('channel', 'NN'),\n",
       " ('could', 'MD'),\n",
       " ('tak', 'VB'),\n",
       " ('leaf', 'JJ'),\n",
       " ('googl', 'NNS'),\n",
       " ('book', 'NN'),\n",
       " ('search', 'NN'),\n",
       " ('engin', 'VBP'),\n",
       " ('fut', 'VBN'),\n",
       " ('instead', 'RB'),\n",
       " ('schedul', 'VB'),\n",
       " ('help', 'NN'),\n",
       " ('peopl', 'VB'),\n",
       " ('find', 'VB'),\n",
       " ('want', 'JJ'),\n",
       " ('watch', 'NN'),\n",
       " ('kind', 'NN'),\n",
       " ('channel', 'NN'),\n",
       " ('model', 'NN'),\n",
       " ('might', 'MD'),\n",
       " ('work', 'VB'),\n",
       " ('young', 'JJ'),\n",
       " ('ipod', 'NNS'),\n",
       " ('gen', 'VBP'),\n",
       " ('us', 'PRP'),\n",
       " ('tak', 'VB'),\n",
       " ('control', 'NN'),\n",
       " ('gadget', 'NN'),\n",
       " ('play', 'NN'),\n",
       " ('might', 'MD'),\n",
       " ('suit', 'VB'),\n",
       " ('everyon', 'JJ'),\n",
       " ('panel', 'NN'),\n",
       " ('recogn', 'NN'),\n",
       " ('old', 'JJ'),\n",
       " ('gen', 'NN'),\n",
       " ('comfort', 'NN'),\n",
       " ('famili', 'NN'),\n",
       " ('schedul', 'NN'),\n",
       " ('channel', 'NN'),\n",
       " ('brand', 'NN'),\n",
       " ('know', 'VBP'),\n",
       " ('get', 'VBP'),\n",
       " ('perhap', 'JJ'),\n",
       " ('want', 'VBP'),\n",
       " ('much', 'JJ'),\n",
       " ('cho', 'NN'),\n",
       " ('put', 'VBD'),\n",
       " ('hand', 'NN'),\n",
       " ('mr', 'NN'),\n",
       " ('hanlon', 'NN'),\n",
       " ('suggest', 'VBP'),\n",
       " ('end', 'NN'),\n",
       " ('kid', 'NN'),\n",
       " ('diap', 'VBZ'),\n",
       " ('push', 'JJ'),\n",
       " ('button', 'NN'),\n",
       " ('alread', 'NN'),\n",
       " ('every', 'DT'),\n",
       " ('poss', 'NN'),\n",
       " ('avail', 'NN'),\n",
       " ('said', 'VBD'),\n",
       " ('mr', 'JJ'),\n",
       " ('hanlon', 'NN'),\n",
       " ('ultim', 'JJ'),\n",
       " ('cons', 'NNS'),\n",
       " ('tel', 'VBP'),\n",
       " ('market', 'NN'),\n",
       " ('want', 'VBP'),\n",
       " ('50', 'CD'),\n",
       " ('000', 'CD'),\n",
       " ('new', 'JJ'),\n",
       " ('gadget', 'NN'),\n",
       " ('technolog', 'NN'),\n",
       " ('showca', 'NN'),\n",
       " ('ce', 'NN'),\n",
       " ('man', 'NN'),\n",
       " ('enh', 'JJ'),\n",
       " ('tv', 'NN'),\n",
       " ('watch', 'NN'),\n",
       " ('exper', 'NN'),\n",
       " ('high', 'JJ'),\n",
       " ('definit', 'NN'),\n",
       " ('tv', 'NN'),\n",
       " ('set', 'VBN'),\n",
       " ('everywh', 'RB'),\n",
       " ('man', 'NN'),\n",
       " ('new', 'JJ'),\n",
       " ('model', 'NN'),\n",
       " ('lcd', 'NN'),\n",
       " ('liquid', 'JJ'),\n",
       " ('cryst', 'NN'),\n",
       " ('display', 'NN'),\n",
       " ('tv', 'NN'),\n",
       " ('launch', 'NN'),\n",
       " ('dvr', 'NN'),\n",
       " ('cap', 'NN'),\n",
       " ('built', 'VBN'),\n",
       " ('instead', 'RB'),\n",
       " ('extern', 'JJ'),\n",
       " ('box', 'NN'),\n",
       " ('on', 'IN'),\n",
       " ('exampl', 'NN'),\n",
       " ('launch', 'NN'),\n",
       " ('show', 'VBP'),\n",
       " ('humax', 'VBZ'),\n",
       " ('26', 'CD'),\n",
       " ('inch', 'NN'),\n",
       " ('lcd', 'JJ'),\n",
       " ('tv', 'NN'),\n",
       " ('80', 'CD'),\n",
       " ('hour', 'NN'),\n",
       " ('tivo', 'NN'),\n",
       " ('dvr', 'NN'),\n",
       " ('dvd', 'NN'),\n",
       " ('record', 'NN'),\n",
       " ('on', 'IN'),\n",
       " ('us', 'PRP'),\n",
       " ('biggest', 'JJS'),\n",
       " ('satellit', 'JJ'),\n",
       " ('tv', 'NN'),\n",
       " ('compan', 'NN'),\n",
       " ('directtv', 'NN'),\n",
       " ('ev', 'NN'),\n",
       " ('launch', 'NN'),\n",
       " ('brand', 'NN'),\n",
       " ('dvr', 'NN'),\n",
       " ('show', 'VBP'),\n",
       " ('100', 'CD'),\n",
       " ('hour', 'NN'),\n",
       " ('record', 'NN'),\n",
       " ('cap', 'NN'),\n",
       " ('inst', 'VBP'),\n",
       " ('replay', 'NN'),\n",
       " ('search', 'NN'),\n",
       " ('funct', 'NN'),\n",
       " ('set', 'VBN'),\n",
       " ('pau', 'NN'),\n",
       " ('rewind', 'NN'),\n",
       " ('tv', 'NN'),\n",
       " ('90', 'CD'),\n",
       " ('hour', 'NN'),\n",
       " ('microsoft', 'JJ'),\n",
       " ('chief', 'JJ'),\n",
       " ('bil', 'NN'),\n",
       " ('gat', 'NN'),\n",
       " ('annount', 'NN'),\n",
       " ('pre', 'NN'),\n",
       " ('show', 'NN'),\n",
       " ('keynot', 'VBZ'),\n",
       " ('speech', 'JJ'),\n",
       " ('partn', 'NN'),\n",
       " ('tivo', 'NN'),\n",
       " ('cal', 'JJ'),\n",
       " ('tivotogo', 'NN'),\n",
       " ('mean', 'NN'),\n",
       " ('peopl', 'NN'),\n",
       " ('play', 'NN'),\n",
       " ('record', 'NN'),\n",
       " ('program', 'NN'),\n",
       " ('window', 'JJ'),\n",
       " ('pc', 'NN'),\n",
       " ('mobl', 'NN'),\n",
       " ('dev', 'NN'),\n",
       " ('reflect', 'VBP'),\n",
       " ('increa', 'JJ'),\n",
       " ('trend', 'NN'),\n",
       " ('fre', 'NN'),\n",
       " ('multimed', 'VBD'),\n",
       " ('peopl', 'JJ'),\n",
       " ('watch', 'NN'),\n",
       " ('want', 'VBP'),\n",
       " ('want', 'NN')]"
      ]
     },
     "execution_count": 42,
     "metadata": {},
     "output_type": "execute_result"
    }
   ],
   "source": [
    "nltk.pos_tag(lemmitized[0])"
   ]
  },
  {
   "cell_type": "code",
   "execution_count": 43,
   "metadata": {
    "id": "30tsoOLlGgXi"
   },
   "outputs": [],
   "source": [
    "final_X = stemmed"
   ]
  },
  {
   "cell_type": "code",
   "execution_count": 44,
   "metadata": {
    "_uuid": "94dffc6951e46f0e9794dbabe3432344ed95b800",
    "colab": {
     "base_uri": "https://localhost:8080/"
    },
    "executionInfo": {
     "elapsed": 45910,
     "status": "ok",
     "timestamp": 1611200467017,
     "user": {
      "displayName": "Sutithi Chakraborty",
      "photoUrl": "",
      "userId": "12749148906436566424"
     },
     "user_tz": -330
    },
    "id": "D_jRHjL84Ztn",
    "outputId": "775f8e28-16f1-4768-cf1f-8e3c23d66b9d"
   },
   "outputs": [
    {
     "name": "stdout",
     "output_type": "stream",
     "text": [
      "['worldcom', 'boss', 'left', 'book', 'alon', 'former', 'worldcom', 'boss', 'berni', 'ebber', 'accus', 'overse', '11bn', '5', '8bn', 'fraud', 'never', 'made', 'account', 'decis', 'wit', 'told', 'juror', 'david', 'myer', 'made', 'comment', 'question', 'defenc', 'lawyer', 'argu', 'mr', 'ebber', 'respons', 'worldcom', 'problem', 'phone', 'compani', 'collaps', '2002', 'prosecutor', 'claim', 'loss', 'hidden', 'protect', 'firm', 'share', 'mr', 'myer', 'alreadi', 'plead', 'guilti', 'fraud', 'assist', 'prosecutor', 'monday', 'defenc', 'lawyer', 'reid', 'weingarten', 'tri', 'distanc', 'client', 'alleg', 'cross', 'examin', 'ask', 'mr', 'myer', 'ever', 'knew', 'mr', 'ebber', 'make', 'account', 'decis', 'awar', 'mr', 'myer', 'repli', 'ever', 'know', 'mr', 'ebber', 'make', 'account', 'entri', 'worldcom', 'book', 'mr', 'weingarten', 'press', 'repli', 'wit', 'mr', 'myer', 'admit', 'order', 'fals', 'account', 'entri', 'request', 'former', 'worldcom', 'chief', 'financi', 'offic', 'scott', 'sullivan', 'defenc', 'lawyer', 'tri', 'paint', 'mr', 'sullivan', 'admit', 'fraud', 'testifi', 'later', 'trial', 'mastermind', 'behind', 'worldcom', 'account', 'hous', 'card', 'mr', 'ebber', 'team', 'meanwhil', 'look', 'portray', 'affabl', 'boss', 'admiss', 'pe', 'graduat', 'economist', 'whatev', 'abil', 'mr', 'ebber', 'transform', 'worldcom', 'rel', 'unknown', '160bn', 'telecom', 'giant', 'investor', 'darl', 'late', '1990', 'worldcom', 'problem', 'mount', 'howev', 'competit', 'increas', 'telecom', 'boom', 'peter', 'firm', 'final', 'collaps', 'sharehold', 'lost', '180bn', '20', '000', 'worker', 'lost', 'job', 'mr', 'ebber', 'trial', 'expect', 'last', 'two', 'month', 'found', 'guilti', 'former', 'ceo', 'face', 'substanti', 'jail', 'sentenc', 'firmli', 'declar', 'innoc']\n"
     ]
    }
   ],
   "source": [
    "print(final_X[1])"
   ]
  },
  {
   "cell_type": "code",
   "execution_count": 45,
   "metadata": {
    "_uuid": "c9d7c746dae70cb28d489f5f239a8e1e5b46ed1b",
    "colab": {
     "base_uri": "https://localhost:8080/"
    },
    "executionInfo": {
     "elapsed": 46665,
     "status": "ok",
     "timestamp": 1611200467788,
     "user": {
      "displayName": "Sutithi Chakraborty",
      "photoUrl": "",
      "userId": "12749148906436566424"
     },
     "user_tz": -330
    },
    "id": "SgaPKxXn4Zts",
    "outputId": "eefe6bc8-271c-4fd2-c413-64d254a172c8"
   },
   "outputs": [
    {
     "name": "stdout",
     "output_type": "stream",
     "text": [
      " worldcom boss left book alon former worldcom boss berni ebber accus overse 11bn 5 8bn fraud never made account decis wit told juror david myer made comment question defenc lawyer argu mr ebber respons worldcom problem phone compani collaps 2002 prosecutor claim loss hidden protect firm share mr myer alreadi plead guilti fraud assist prosecutor monday defenc lawyer reid weingarten tri distanc client alleg cross examin ask mr myer ever knew mr ebber make account decis awar mr myer repli ever know mr ebber make account entri worldcom book mr weingarten press repli wit mr myer admit order fals account entri request former worldcom chief financi offic scott sullivan defenc lawyer tri paint mr sullivan admit fraud testifi later trial mastermind behind worldcom account hous card mr ebber team meanwhil look portray affabl boss admiss pe graduat economist whatev abil mr ebber transform worldcom rel unknown 160bn telecom giant investor darl late 1990 worldcom problem mount howev competit increas telecom boom peter firm final collaps sharehold lost 180bn 20 000 worker lost job mr ebber trial expect last two month found guilti former ceo face substanti jail sentenc firmli declar innoc\n"
     ]
    }
   ],
   "source": [
    "sent = []\n",
    "for row in final_X:\n",
    "    sequ = ''\n",
    "    for word in row:\n",
    "        sequ = sequ + ' ' + word\n",
    "    sent.append(sequ)\n",
    "\n",
    "final_X = sent\n",
    "print(final_X[1])"
   ]
  },
  {
   "cell_type": "markdown",
   "metadata": {
    "id": "fNekLhZNQScM"
   },
   "source": [
    "# Save the data"
   ]
  },
  {
   "cell_type": "code",
   "execution_count": 46,
   "metadata": {
    "id": "E-_lVldfQbGK"
   },
   "outputs": [],
   "source": [
    "data = pd.DataFrame()\n",
    "data['category'] = list(df['category'])\n",
    "data['Text'] = final_X"
   ]
  },
  {
   "cell_type": "code",
   "execution_count": null,
   "metadata": {
    "colab": {
     "base_uri": "https://localhost:8080/"
    },
    "executionInfo": {
     "elapsed": 46657,
     "status": "ok",
     "timestamp": 1611200467800,
     "user": {
      "displayName": "Sutithi Chakraborty",
      "photoUrl": "",
      "userId": "12749148906436566424"
     },
     "user_tz": -330
    },
    "id": "_0WgjGm3GZA2",
    "outputId": "c8fbdf62-2db9-4e58-fb7f-998e1982a691"
   },
   "outputs": [
    {
     "name": "stdout",
     "output_type": "stream",
     "text": [
      "           category                                               Text\n",
      "0              tech   tv fut hand view hom the system plasm high de...\n",
      "1          business   worldcom boss left book alon form worldcom bo...\n",
      "2             sport   tig war farrel gambl leicest say rush mak bid...\n",
      "3             sport   yead fac newcastl fa cup premy sid newcastl u...\n",
      "4     entertainment   oc twelv raid box off oc twelv crim cap seque...\n",
      "...             ...                                                ...\n",
      "2220       business   car pul us retail fig us retail sal fel 0 3 j...\n",
      "2221       politics   kilroy unveil immigr polic ex chatshow host r...\n",
      "2222  entertainment   rem annount new glasgow concert us band rem a...\n",
      "2223       politics   polit squabbl snowb becom commonplac argu bla...\n",
      "2224          sport   sou delight euro progress boss graem sou felt...\n",
      "\n",
      "[2225 rows x 2 columns]\n"
     ]
    }
   ],
   "source": [
    "print(data)"
   ]
  },
  {
   "cell_type": "code",
   "execution_count": 47,
   "metadata": {},
   "outputs": [
    {
     "data": {
      "text/plain": [
       "'../data'"
      ]
     },
     "execution_count": 47,
     "metadata": {},
     "output_type": "execute_result"
    }
   ],
   "source": [
    "data_folder_path"
   ]
  },
  {
   "cell_type": "code",
   "execution_count": 48,
   "metadata": {
    "id": "P3kXzt7eNxiP"
   },
   "outputs": [],
   "source": [
    "data.to_csv('../data/data2csv.csv', index=False, encoding='utf-8')"
   ]
  },
  {
   "cell_type": "markdown",
   "metadata": {
    "id": "GQonNMAlPKNg"
   },
   "source": [
    "# Load the data"
   ]
  },
  {
   "cell_type": "code",
   "execution_count": 50,
   "metadata": {
    "colab": {
     "base_uri": "https://localhost:8080/",
     "height": 419
    },
    "executionInfo": {
     "elapsed": 46641,
     "status": "ok",
     "timestamp": 1611200467809,
     "user": {
      "displayName": "Sutithi Chakraborty",
      "photoUrl": "",
      "userId": "12749148906436566424"
     },
     "user_tz": -330
    },
    "id": "5blW0yikPrdl",
    "outputId": "48382c02-3cae-4f94-cb8f-35599bb4f238"
   },
   "outputs": [
    {
     "data": {
      "text/html": [
       "<div>\n",
       "<style scoped>\n",
       "    .dataframe tbody tr th:only-of-type {\n",
       "        vertical-align: middle;\n",
       "    }\n",
       "\n",
       "    .dataframe tbody tr th {\n",
       "        vertical-align: top;\n",
       "    }\n",
       "\n",
       "    .dataframe thead th {\n",
       "        text-align: right;\n",
       "    }\n",
       "</style>\n",
       "<table border=\"1\" class=\"dataframe\">\n",
       "  <thead>\n",
       "    <tr style=\"text-align: right;\">\n",
       "      <th></th>\n",
       "      <th>category</th>\n",
       "      <th>Text</th>\n",
       "    </tr>\n",
       "  </thead>\n",
       "  <tbody>\n",
       "    <tr>\n",
       "      <th>0</th>\n",
       "      <td>tech</td>\n",
       "      <td>tv futur hand viewer home theatr system plasm...</td>\n",
       "    </tr>\n",
       "    <tr>\n",
       "      <th>1</th>\n",
       "      <td>business</td>\n",
       "      <td>worldcom boss left book alon former worldcom ...</td>\n",
       "    </tr>\n",
       "    <tr>\n",
       "      <th>2</th>\n",
       "      <td>sport</td>\n",
       "      <td>tiger wari farrel gambl leicest say rush make...</td>\n",
       "    </tr>\n",
       "    <tr>\n",
       "      <th>3</th>\n",
       "      <td>sport</td>\n",
       "      <td>yead face newcastl fa cup premiership side ne...</td>\n",
       "    </tr>\n",
       "    <tr>\n",
       "      <th>4</th>\n",
       "      <td>entertainment</td>\n",
       "      <td>ocean twelv raid box offic ocean twelv crime ...</td>\n",
       "    </tr>\n",
       "    <tr>\n",
       "      <th>...</th>\n",
       "      <td>...</td>\n",
       "      <td>...</td>\n",
       "    </tr>\n",
       "    <tr>\n",
       "      <th>2220</th>\n",
       "      <td>business</td>\n",
       "      <td>car pull us retail figur us retail sale fell ...</td>\n",
       "    </tr>\n",
       "    <tr>\n",
       "      <th>2221</th>\n",
       "      <td>politics</td>\n",
       "      <td>kilroy unveil immigr polici ex chatshow host ...</td>\n",
       "    </tr>\n",
       "    <tr>\n",
       "      <th>2222</th>\n",
       "      <td>entertainment</td>\n",
       "      <td>rem announc new glasgow concert us band rem a...</td>\n",
       "    </tr>\n",
       "    <tr>\n",
       "      <th>2223</th>\n",
       "      <td>politics</td>\n",
       "      <td>polit squabbl snowbal becom commonplac argu b...</td>\n",
       "    </tr>\n",
       "    <tr>\n",
       "      <th>2224</th>\n",
       "      <td>sport</td>\n",
       "      <td>souness delight euro progress boss graem soun...</td>\n",
       "    </tr>\n",
       "  </tbody>\n",
       "</table>\n",
       "<p>2225 rows × 2 columns</p>\n",
       "</div>"
      ],
      "text/plain": [
       "           category                                               Text\n",
       "0              tech   tv futur hand viewer home theatr system plasm...\n",
       "1          business   worldcom boss left book alon former worldcom ...\n",
       "2             sport   tiger wari farrel gambl leicest say rush make...\n",
       "3             sport   yead face newcastl fa cup premiership side ne...\n",
       "4     entertainment   ocean twelv raid box offic ocean twelv crime ...\n",
       "...             ...                                                ...\n",
       "2220       business   car pull us retail figur us retail sale fell ...\n",
       "2221       politics   kilroy unveil immigr polici ex chatshow host ...\n",
       "2222  entertainment   rem announc new glasgow concert us band rem a...\n",
       "2223       politics   polit squabbl snowbal becom commonplac argu b...\n",
       "2224          sport   souness delight euro progress boss graem soun...\n",
       "\n",
       "[2225 rows x 2 columns]"
      ]
     },
     "execution_count": 50,
     "metadata": {},
     "output_type": "execute_result"
    }
   ],
   "source": [
    "data = pd.read_csv('../data/data2csv.csv')\n",
    "data"
   ]
  },
  {
   "cell_type": "markdown",
   "metadata": {
    "id": "i8n3VBOcxb4r"
   },
   "source": [
    "We will employ a text categorization dataset based on BBC articles. Each article is assigned a specific captegory. \n",
    "\n",
    "Implement the code to load the dataset.(Hint: Use the pandas library to load the csv file.)"
   ]
  },
  {
   "cell_type": "code",
   "execution_count": 51,
   "metadata": {
    "colab": {
     "base_uri": "https://localhost:8080/",
     "height": 204
    },
    "executionInfo": {
     "elapsed": 46626,
     "status": "ok",
     "timestamp": 1611200467812,
     "user": {
      "displayName": "Sutithi Chakraborty",
      "photoUrl": "",
      "userId": "12749148906436566424"
     },
     "user_tz": -330
    },
    "id": "cOKHESc_xtyc",
    "outputId": "caeb0d66-4527-4d08-cbe1-7bd505f882b9"
   },
   "outputs": [
    {
     "data": {
      "text/html": [
       "<div>\n",
       "<style scoped>\n",
       "    .dataframe tbody tr th:only-of-type {\n",
       "        vertical-align: middle;\n",
       "    }\n",
       "\n",
       "    .dataframe tbody tr th {\n",
       "        vertical-align: top;\n",
       "    }\n",
       "\n",
       "    .dataframe thead th {\n",
       "        text-align: right;\n",
       "    }\n",
       "</style>\n",
       "<table border=\"1\" class=\"dataframe\">\n",
       "  <thead>\n",
       "    <tr style=\"text-align: right;\">\n",
       "      <th></th>\n",
       "      <th>category</th>\n",
       "      <th>Text</th>\n",
       "    </tr>\n",
       "  </thead>\n",
       "  <tbody>\n",
       "    <tr>\n",
       "      <th>0</th>\n",
       "      <td>tech</td>\n",
       "      <td>tv futur hand viewer home theatr system plasm...</td>\n",
       "    </tr>\n",
       "    <tr>\n",
       "      <th>1</th>\n",
       "      <td>business</td>\n",
       "      <td>worldcom boss left book alon former worldcom ...</td>\n",
       "    </tr>\n",
       "    <tr>\n",
       "      <th>2</th>\n",
       "      <td>sport</td>\n",
       "      <td>tiger wari farrel gambl leicest say rush make...</td>\n",
       "    </tr>\n",
       "    <tr>\n",
       "      <th>3</th>\n",
       "      <td>sport</td>\n",
       "      <td>yead face newcastl fa cup premiership side ne...</td>\n",
       "    </tr>\n",
       "    <tr>\n",
       "      <th>4</th>\n",
       "      <td>entertainment</td>\n",
       "      <td>ocean twelv raid box offic ocean twelv crime ...</td>\n",
       "    </tr>\n",
       "  </tbody>\n",
       "</table>\n",
       "</div>"
      ],
      "text/plain": [
       "        category                                               Text\n",
       "0           tech   tv futur hand viewer home theatr system plasm...\n",
       "1       business   worldcom boss left book alon former worldcom ...\n",
       "2          sport   tiger wari farrel gambl leicest say rush make...\n",
       "3          sport   yead face newcastl fa cup premiership side ne...\n",
       "4  entertainment   ocean twelv raid box offic ocean twelv crime ..."
      ]
     },
     "execution_count": 51,
     "metadata": {},
     "output_type": "execute_result"
    }
   ],
   "source": [
    "# Sanity check: Your output should look like the below\n",
    "data.head()"
   ]
  },
  {
   "cell_type": "markdown",
   "metadata": {
    "id": "wH9BDPmEPSrV"
   },
   "source": [
    "# 3.Techniques for Encoding"
   ]
  },
  {
   "cell_type": "markdown",
   "metadata": {
    "_uuid": "67431e1466aefbba119b54205893dd0dcdff9f3b",
    "id": "-ZTp3zY-4Ztw"
   },
   "source": [
    "3. **Techniques for Encoding**\n",
    "\n",
    "      **BAG OF WORDS**\n",
    "      \n",
    "      In BoW we construct a dictionary that contains set of all unique words from our text review dataset.The frequency of the word is counted here. if there are **d** unique words in our dictionary then for every sentence or review the vector will be of length **d** and count of word from review is stored at its particular location in vector. The vector will be highly sparse in such case.\n",
    "      \n",
    "      Ex. pasta is tasty and pasta is good\n",
    "      \n",
    "     **[0]....[1]............[1]...........[2]..........[2]............[1]..........**             <== Its vector representation ( remaining all dots will be represented as zeroes)\n",
    "     \n",
    "     **[a]..[and].....[good].......[is].......[pasta]....[tasty].......**            <==This is dictionary\n",
    "      .\n",
    "      \n",
    "    Using scikit-learn's CountVectorizer we can get the BoW and check out all the parameters it consists of, one of them is max_features =5000 it tells about to consider only top 5000 most frequently repeated words to place in a dictionary. so our dictionary length or vector length will be only 5000\n",
    "    \n",
    "\n",
    "\n",
    "   **BINARY BAG OF WORDS**\n",
    "    \n",
    "   In binary BoW, we dont count the frequency of word, we just place **1** if the word appears in the review or else **0**. In CountVectorizer there is a parameter **binary = true** this makes our BoW to binary BoW.\n",
    "   \n",
    "  "
   ]
  },
  {
   "cell_type": "code",
   "execution_count": 52,
   "metadata": {
    "id": "nqv4Vh7iQkZW"
   },
   "outputs": [],
   "source": [
    "final_X = data['Text']"
   ]
  },
  {
   "cell_type": "markdown",
   "metadata": {
    "id": "ohaWN5kbyENg"
   },
   "source": [
    "###Create a function called \"count_vect\" to convert each review text to individual tokens."
   ]
  },
  {
   "cell_type": "code",
   "execution_count": 53,
   "metadata": {
    "_uuid": "a640c6fb9a16e4f0e271c1a101411af2d053fca3",
    "colab": {
     "base_uri": "https://localhost:8080/"
    },
    "executionInfo": {
     "elapsed": 46613,
     "status": "ok",
     "timestamp": 1611200467818,
     "user": {
      "displayName": "Sutithi Chakraborty",
      "photoUrl": "",
      "userId": "12749148906436566424"
     },
     "user_tz": -330
    },
    "id": "hkCNzOuN4Ztx",
    "outputId": "7ea65764-7d4d-4ebf-d64c-492c7168906e",
    "scrolled": true
   },
   "outputs": [
    {
     "name": "stdout",
     "output_type": "stream",
     "text": [
      "  (0, 4449)\t2\n",
      "  (0, 1031)\t1\n",
      "  (0, 2931)\t1\n",
      "  (0, 4537)\t1\n",
      "  (0, 2691)\t2\n",
      "  (0, 3451)\t1\n",
      "  (0, 1791)\t2\n",
      "  (0, 670)\t2\n",
      "  (0, 2534)\t1\n",
      "  (0, 2967)\t12\n",
      "  (0, 328)\t1\n",
      "  (0, 0)\t1\n",
      "  (0, 917)\t1\n",
      "  (0, 2281)\t1\n",
      "  (0, 4944)\t8\n",
      "  (0, 683)\t3\n",
      "  (0, 2603)\t1\n",
      "  (0, 325)\t1\n",
      "  (0, 1840)\t3\n",
      "  (0, 592)\t1\n",
      "  (0, 1506)\t7\n",
      "  (0, 232)\t1\n",
      "  (0, 3202)\t1\n",
      "  (0, 13)\t1\n",
      "  (0, 190)\t1\n",
      "  :\t:\n",
      "  (0, 1965)\t1\n",
      "  (0, 2362)\t1\n",
      "  (0, 2571)\t1\n",
      "  (0, 50)\t1\n",
      "  (0, 2953)\t1\n",
      "  (0, 2212)\t1\n",
      "  (0, 1039)\t1\n",
      "  (0, 672)\t1\n",
      "  (0, 3318)\t1\n",
      "  (0, 1777)\t1\n",
      "  (0, 4002)\t1\n",
      "  (0, 63)\t1\n",
      "  (0, 4940)\t1\n",
      "  (0, 2429)\t1\n",
      "  (0, 1664)\t1\n",
      "  (0, 2570)\t1\n",
      "  (0, 4653)\t1\n",
      "  (0, 1853)\t1\n",
      "  (0, 1692)\t1\n",
      "  (0, 4330)\t1\n",
      "  (0, 2402)\t1\n",
      "  (0, 3969)\t1\n",
      "  (0, 1792)\t1\n",
      "  (0, 1271)\t1\n",
      "  (0, 2315)\t1\n"
     ]
    }
   ],
   "source": [
    "# Here we use the CountVectorizer from sklearn to create bag of words\n",
    "count_vect = CountVectorizer(max_features=5000)\n",
    "bow_data = count_vect.fit_transform(final_X)\n",
    "print(bow_data[1])"
   ]
  },
  {
   "cell_type": "markdown",
   "metadata": {
    "_uuid": "da9a72410e69708650ccf3263fea6d9b1222147f",
    "id": "Sd74HLAv4Zt1"
   },
   "source": [
    " **Drawbacks of BoW/ Binary BoW**\n",
    " \n",
    " Our main objective in doing these text to vector encodings is that similar meaning text vectors should be close to each other, but in some cases this may not possible for Bow\n",
    " \n",
    "For example, if we consider two reviews **This pasta is very tasty** and **This pasta is not tasty** after stopwords removal both sentences will be converted to **pasta tasty** so both giving exact same meaning.\n",
    "\n",
    "The main problem is here we are not considering the front and back words related to every word, here comes Bigram and Ngram techniques."
   ]
  },
  {
   "cell_type": "markdown",
   "metadata": {
    "id": "EedzjEBEwsuk"
   },
   "source": [
    "## 3.1.N-gram"
   ]
  },
  {
   "cell_type": "markdown",
   "metadata": {
    "_uuid": "a8c25fa64918f9b5129ca8d424684354c29f041d",
    "id": "3fUU4t5M4Zt2"
   },
   "source": [
    "### 3.1.1.**BI-GRAM BOW**\n",
    "\n",
    "Considering pair of words for creating dictionary is Bi-Gram , Tri-Gram means three consecutive words so as NGram.\n",
    "\n",
    "CountVectorizer has a parameter **ngram_range** if assigned to (1,2) it considers Bi-Gram BoW\n",
    "\n",
    "But this massively increases our dictionary size "
   ]
  },
  {
   "cell_type": "code",
   "execution_count": 54,
   "metadata": {
    "_uuid": "3bc1a606a42d4e333baa3c62d5a7e5953db28cd9",
    "id": "swBfSe5P4Zt3"
   },
   "outputs": [],
   "source": [
    "final_B_X = final_X"
   ]
  },
  {
   "cell_type": "code",
   "execution_count": 55,
   "metadata": {
    "_uuid": "646f10e703dca9daf8a0cca2b5c23f0a21d4ccec",
    "colab": {
     "base_uri": "https://localhost:8080/"
    },
    "executionInfo": {
     "elapsed": 48367,
     "status": "ok",
     "timestamp": 1611200469593,
     "user": {
      "displayName": "Sutithi Chakraborty",
      "photoUrl": "",
      "userId": "12749148906436566424"
     },
     "user_tz": -330
    },
    "id": "TtJrP3uU4Zt7",
    "outputId": "12902491-3e33-45ce-a563-af2eda715376"
   },
   "outputs": [
    {
     "name": "stdout",
     "output_type": "stream",
     "text": [
      "  (0, 297919)\t2\n",
      "  (0, 67873)\t1\n",
      "  (0, 194807)\t1\n",
      "  (0, 304501)\t1\n",
      "  (0, 178277)\t2\n",
      "  (0, 230699)\t1\n",
      "  (0, 118349)\t2\n",
      "  (0, 44750)\t2\n",
      "  (0, 165557)\t1\n",
      "  (0, 197103)\t12\n",
      "  (0, 21176)\t1\n",
      "  (0, 7)\t1\n",
      "  (0, 60310)\t1\n",
      "  (0, 151550)\t1\n",
      "  (0, 332460)\t8\n",
      "  (0, 45443)\t3\n",
      "  (0, 171047)\t1\n",
      "  (0, 20938)\t1\n",
      "  (0, 122375)\t3\n",
      "  (0, 40148)\t1\n",
      "  (0, 97969)\t7\n",
      "  (0, 13517)\t1\n",
      "  (0, 213752)\t1\n",
      "  (0, 1366)\t1\n",
      "  (0, 11196)\t1\n",
      "  :\t:\n",
      "  (0, 65493)\t1\n",
      "  (0, 271110)\t1\n",
      "  (0, 178281)\t1\n",
      "  (0, 2737)\t1\n",
      "  (0, 4028)\t1\n",
      "  (0, 399)\t1\n",
      "  (0, 331885)\t1\n",
      "  (0, 178365)\t1\n",
      "  (0, 161171)\t1\n",
      "  (0, 98007)\t1\n",
      "  (0, 308859)\t1\n",
      "  (0, 109114)\t1\n",
      "  (0, 168233)\t1\n",
      "  (0, 311395)\t1\n",
      "  (0, 194998)\t1\n",
      "  (0, 123201)\t1\n",
      "  (0, 137559)\t1\n",
      "  (0, 122406)\t1\n",
      "  (0, 57061)\t1\n",
      "  (0, 111018)\t1\n",
      "  (0, 290134)\t1\n",
      "  (0, 159799)\t1\n",
      "  (0, 267938)\t1\n",
      "  (0, 118921)\t1\n",
      "  (0, 84871)\t1\n"
     ]
    }
   ],
   "source": [
    "count_vect = CountVectorizer(ngram_range=(1,2))\n",
    "Bigram_data = count_vect.fit_transform(final_B_X)\n",
    "print(Bigram_data[1])"
   ]
  },
  {
   "cell_type": "markdown",
   "metadata": {
    "_uuid": "3d29a0749cc26757d3f311cadee7dfdd97aa7c76",
    "id": "lHcH77Nu4ZuA"
   },
   "source": [
    "## 3.2.TF-IDF\n",
    "\n",
    "**Term Frequency -  Inverse Document Frequency** it makes sure that less importance is given to most frequent words and also considers less frequent words.\n",
    "\n",
    "**Term Frequency** is number of times a **particular word(W)** occurs in a review divided by totall number of words **(Wr)** in review. The term frequency value ranges from 0 to 1.\n",
    "\n",
    "**Inverse Document Frequency** is calculated as **log(Total Number of Docs(N) / Number of Docs which contains particular word(n))**. Here Docs referred as Reviews.\n",
    "\n",
    "\n",
    "**TF-IDF** is **TF * IDF** that is **(W/Wr)*LOG(N/n)**\n",
    "\n",
    "\n",
    " Using scikit-learn's tfidfVectorizer we can get the TF-IDF.\n",
    "\n",
    "So even here we get a TF-IDF value for every word and in some cases it may consider different meaning reviews as similar after stopwords removal. so to over come we can use BI-Gram or NGram."
   ]
  },
  {
   "cell_type": "code",
   "execution_count": 56,
   "metadata": {
    "_uuid": "b1870137f2b5f4f0e97eaa0b8812cae83c53ed21",
    "colab": {
     "base_uri": "https://localhost:8080/"
    },
    "executionInfo": {
     "elapsed": 48354,
     "status": "ok",
     "timestamp": 1611200469595,
     "user": {
      "displayName": "Sutithi Chakraborty",
      "photoUrl": "",
      "userId": "12749148906436566424"
     },
     "user_tz": -330
    },
    "id": "1QSd61Ov4ZuB",
    "outputId": "1da616bc-204f-41e4-a88d-52e4364c8b02"
   },
   "outputs": [
    {
     "name": "stdout",
     "output_type": "stream",
     "text": [
      "  (0, 4449)\t0.0971082203731017\n",
      "  (0, 1031)\t0.02453884272812941\n",
      "  (0, 2931)\t0.023380041176310568\n",
      "  (0, 4537)\t0.023097646984222394\n",
      "  (0, 2691)\t0.06460145682850542\n",
      "  (0, 3451)\t0.03813023707876195\n",
      "  (0, 1791)\t0.05186796078075732\n",
      "  (0, 670)\t0.07499894438607382\n",
      "  (0, 2534)\t0.029888285949420584\n",
      "  (0, 2967)\t0.24626930214571213\n",
      "  (0, 328)\t0.02815522001397196\n",
      "  (0, 0)\t0.025509431563336068\n",
      "  (0, 917)\t0.028456633522144538\n",
      "  (0, 2281)\t0.030017255922213375\n",
      "  (0, 4944)\t0.4807179972112774\n",
      "  (0, 683)\t0.11149594875342364\n",
      "  (0, 2603)\t0.0339293430507526\n",
      "  (0, 325)\t0.045147663260330595\n",
      "  (0, 1840)\t0.08771070044980266\n",
      "  (0, 592)\t0.062191891816284456\n",
      "  (0, 1506)\t0.44101571265627265\n",
      "  (0, 232)\t0.03677836446505865\n",
      "  (0, 3202)\t0.05834993662743945\n",
      "  (0, 13)\t0.059475985619305165\n",
      "  (0, 190)\t0.04796419541388989\n",
      "  :\t:\n",
      "  (0, 1965)\t0.03652837630822445\n",
      "  (0, 2362)\t0.04133620208837136\n",
      "  (0, 2571)\t0.03703468210378202\n",
      "  (0, 50)\t0.04777495614802015\n",
      "  (0, 2953)\t0.05406893135291313\n",
      "  (0, 2212)\t0.02705620443189904\n",
      "  (0, 1039)\t0.03402530591096544\n",
      "  (0, 672)\t0.04777495614802015\n",
      "  (0, 3318)\t0.0415366840049822\n",
      "  (0, 1777)\t0.030313589446835675\n",
      "  (0, 4002)\t0.04431508426430216\n",
      "  (0, 63)\t0.032464683510896604\n",
      "  (0, 4940)\t0.04367002498022364\n",
      "  (0, 2429)\t0.033016652808207196\n",
      "  (0, 1664)\t0.024444840140503833\n",
      "  (0, 2570)\t0.01896000494482844\n",
      "  (0, 4653)\t0.019705251421745573\n",
      "  (0, 1853)\t0.03133211201953419\n",
      "  (0, 1692)\t0.027888783427927475\n",
      "  (0, 4330)\t0.04918053714207229\n",
      "  (0, 2402)\t0.04687844102626966\n",
      "  (0, 3969)\t0.04962078067417157\n",
      "  (0, 1792)\t0.060089749651409674\n",
      "  (0, 1271)\t0.04654094290906374\n",
      "  (0, 2315)\t0.05307232346984103\n"
     ]
    }
   ],
   "source": [
    "final_tf = final_X\n",
    "tf_idf = TfidfVectorizer(max_features=5000)\n",
    "tf_data = tf_idf.fit_transform(final_tf)\n",
    "print(tf_data[1])"
   ]
  },
  {
   "cell_type": "markdown",
   "metadata": {
    "id": "BMQDwUEZyl-t"
   },
   "source": [
    "We will use the above function here to create a list of list that will store each complaint tokenized into separate words."
   ]
  },
  {
   "cell_type": "code",
   "execution_count": 57,
   "metadata": {
    "id": "4G5cotL1UvAK"
   },
   "outputs": [],
   "source": [
    "data_list = list()\n",
    "for comp in data['Text']:\n",
    "    data_list.append(RegexpTokenizer('\\w+').tokenize(comp))"
   ]
  },
  {
   "cell_type": "markdown",
   "metadata": {
    "id": "HcSTnZF1wFhK"
   },
   "source": [
    "## 3.3.Word2Vec"
   ]
  },
  {
   "cell_type": "markdown",
   "metadata": {
    "id": "B7JLBNQSzibP"
   },
   "source": [
    "Next step is to import the Word2Vec model from gensim."
   ]
  },
  {
   "cell_type": "markdown",
   "metadata": {
    "id": "wpIR5o5zveup"
   },
   "source": [
    "Gensim is a free to use python library. It provides APIs to solve various problems relating to natural language processing. It is fast, scalable and robust.\n",
    "\n",
    "In this practice exercise we will train our own Word2Vec model using gensim Word2Vec API. Objectives of this practice exercise are, \n",
    "\n",
    "\n",
    "1.   Train your word2vec word embedding model.\n",
    "2.   Visualize trained word embedding model using principal component analysis.\n",
    "\n",
    "\n",
    "First step will be to load the corpus, clean it and tokenize it."
   ]
  },
  {
   "cell_type": "markdown",
   "metadata": {
    "id": "KYs5Xlmf6539"
   },
   "source": [
    "Libraries used in this notebook along with their version:\n",
    "\n",
    "google\t2.0.3\n",
    "\n",
    "matplotlib\t3.2.1\n",
    "\n",
    "numpy\t1.18.3\n",
    "\n",
    "pandas\t1.0.3"
   ]
  },
  {
   "cell_type": "code",
   "execution_count": 58,
   "metadata": {
    "id": "7ZrUBJEcpAS3"
   },
   "outputs": [],
   "source": [
    "from gensim.models import Word2Vec"
   ]
  },
  {
   "cell_type": "markdown",
   "metadata": {
    "id": "eqTRR4O7zymN"
   },
   "source": [
    "#### Create your own model using the data_list defined above and gensim Word2Vec API. \n",
    "(Hint: https://radimrehurek.com/gensim/models/word2vec.html)"
   ]
  },
  {
   "cell_type": "code",
   "execution_count": 60,
   "metadata": {
    "id": "Ly-vEiBxqN5r"
   },
   "outputs": [],
   "source": [
    "# Solution\n",
    "model = Word2Vec(stemmed, min_count=1, vector_size=100)"
   ]
  },
  {
   "cell_type": "code",
   "execution_count": 63,
   "metadata": {
    "colab": {
     "base_uri": "https://localhost:8080/"
    },
    "executionInfo": {
     "elapsed": 8260,
     "status": "ok",
     "timestamp": 1611200700146,
     "user": {
      "displayName": "Sutithi Chakraborty",
      "photoUrl": "",
      "userId": "12749148906436566424"
     },
     "user_tz": -330
    },
    "id": "XBOIq9BArBGp",
    "outputId": "f65449e4-fbb6-4841-aa1d-2465acfa0456"
   },
   "outputs": [],
   "source": [
    "# # Loading the vectors for each word in varaible \"x\"\n",
    "# x = model[model.wv.vocab]"
   ]
  },
  {
   "cell_type": "code",
   "execution_count": 64,
   "metadata": {},
   "outputs": [],
   "source": [
    "# Loading the vectors for each word\n",
    "x = model.wv[model.wv.key_to_index.keys()]"
   ]
  },
  {
   "cell_type": "markdown",
   "metadata": {
    "id": "b599Joey0a1W"
   },
   "source": [
    "#### Use PCA algorithm from sklearn to convert high dimesnional word embeddings to two diemnsions and save them in the variable \"results\"."
   ]
  },
  {
   "cell_type": "code",
   "execution_count": 68,
   "metadata": {
    "id": "NxSGnuajsOr3"
   },
   "outputs": [],
   "source": [
    "# Solution\n",
    "pca = PCA(n_components=2)\n",
    "result = pca.fit_transform(x)"
   ]
  },
  {
   "cell_type": "markdown",
   "metadata": {
    "id": "c2TT3A0n0u0D"
   },
   "source": [
    "Visualizing the word embeddings."
   ]
  },
  {
   "cell_type": "code",
   "execution_count": 69,
   "metadata": {},
   "outputs": [],
   "source": [
    "# # Train the Word2Vec model\n",
    "# model = Word2Vec(stemmed, min_count=1, vector_size=100)\n",
    "\n",
    "# # Get word vectors and perform PCA for dimensionality reduction\n",
    "# words = list(model.wv.index_to_key)\n",
    "# word_vectors = [model.wv[word] for word in words]\n",
    "# pca = PCA(n_components=2)\n",
    "# result = pca.fit_transform(word_vectors)\n",
    "\n"
   ]
  },
  {
   "cell_type": "code",
   "execution_count": 70,
   "metadata": {},
   "outputs": [
    {
     "data": {
      "image/png": "[encoded data removed]",
      "text/plain": [
       "<Figure size 2000x1000 with 1 Axes>"
      ]
     },
     "metadata": {},
     "output_type": "display_data"
    }
   ],
   "source": [
    "# Plot the result\n",
    "pyplot.figure(figsize=(20, 10))\n",
    "pyplot.scatter(result[40:80, 0], result[40:80, 1])\n",
    "\n",
    "for i, word in enumerate(words[40:80]):\n",
    "    pyplot.annotate(word, xy=(result[40 + i, 0], result[40 + i, 1]))\n",
    "\n",
    "pyplot.show()"
   ]
  },
  {
   "cell_type": "code",
   "execution_count": 71,
   "metadata": {
    "id": "ebvblkiiPYLS"
   },
   "outputs": [],
   "source": [
    "sentence = str(data['Text'][1])"
   ]
  },
  {
   "cell_type": "code",
   "execution_count": 72,
   "metadata": {
    "colab": {
     "base_uri": "https://localhost:8080/",
     "height": 239
    },
    "executionInfo": {
     "elapsed": 8750,
     "status": "ok",
     "timestamp": 1611200700850,
     "user": {
      "displayName": "Sutithi Chakraborty",
      "photoUrl": "",
      "userId": "12749148906436566424"
     },
     "user_tz": -330
    },
    "id": "yU0mfse3PYLT",
    "outputId": "acfda10e-61f8-40b6-a31d-23be15cf2ee9"
   },
   "outputs": [
    {
     "data": {
      "text/plain": [
       "' worldcom boss left book alon former worldcom boss berni ebber accus overse 11bn 5 8bn fraud never made account decis wit told juror david myer made comment question defenc lawyer argu mr ebber respons worldcom problem phone compani collaps 2002 prosecutor claim loss hidden protect firm share mr myer alreadi plead guilti fraud assist prosecutor monday defenc lawyer reid weingarten tri distanc client alleg cross examin ask mr myer ever knew mr ebber make account decis awar mr myer repli ever know mr ebber make account entri worldcom book mr weingarten press repli wit mr myer admit order fals account entri request former worldcom chief financi offic scott sullivan defenc lawyer tri paint mr sullivan admit fraud testifi later trial mastermind behind worldcom account hous card mr ebber team meanwhil look portray affabl boss admiss pe graduat economist whatev abil mr ebber transform worldcom rel unknown 160bn telecom giant investor darl late 1990 worldcom problem mount howev competit increas telecom boom peter firm final collaps sharehold lost 180bn 20 000 worker lost job mr ebber trial expect last two month found guilti former ceo face substanti jail sentenc firmli declar innoc'"
      ]
     },
     "execution_count": 72,
     "metadata": {},
     "output_type": "execute_result"
    }
   ],
   "source": [
    "sentence"
   ]
  },
  {
   "cell_type": "code",
   "execution_count": 73,
   "metadata": {
    "id": "ossfC9dKPYLT"
   },
   "outputs": [],
   "source": [
    "sentence_nlp = sentence"
   ]
  },
  {
   "cell_type": "code",
   "execution_count": 74,
   "metadata": {
    "colab": {
     "base_uri": "https://localhost:8080/",
     "height": 239
    },
    "executionInfo": {
     "elapsed": 8716,
     "status": "ok",
     "timestamp": 1611200700855,
     "user": {
      "displayName": "Sutithi Chakraborty",
      "photoUrl": "",
      "userId": "12749148906436566424"
     },
     "user_tz": -330
    },
    "id": "N5GIgax9PYLT",
    "outputId": "a7ef0334-bca7-4af4-dd63-070cc1a43b7c"
   },
   "outputs": [
    {
     "data": {
      "text/plain": [
       "' worldcom boss left book alon former worldcom boss berni ebber accus overse 11bn 5 8bn fraud never made account decis wit told juror david myer made comment question defenc lawyer argu mr ebber respons worldcom problem phone compani collaps 2002 prosecutor claim loss hidden protect firm share mr myer alreadi plead guilti fraud assist prosecutor monday defenc lawyer reid weingarten tri distanc client alleg cross examin ask mr myer ever knew mr ebber make account decis awar mr myer repli ever know mr ebber make account entri worldcom book mr weingarten press repli wit mr myer admit order fals account entri request former worldcom chief financi offic scott sullivan defenc lawyer tri paint mr sullivan admit fraud testifi later trial mastermind behind worldcom account hous card mr ebber team meanwhil look portray affabl boss admiss pe graduat economist whatev abil mr ebber transform worldcom rel unknown 160bn telecom giant investor darl late 1990 worldcom problem mount howev competit increas telecom boom peter firm final collaps sharehold lost 180bn 20 000 worker lost job mr ebber trial expect last two month found guilti former ceo face substanti jail sentenc firmli declar innoc'"
      ]
     },
     "execution_count": 74,
     "metadata": {},
     "output_type": "execute_result"
    }
   ],
   "source": [
    "sentence_nlp"
   ]
  },
  {
   "cell_type": "code",
   "execution_count": 75,
   "metadata": {
    "colab": {
     "base_uri": "https://localhost:8080/"
    },
    "executionInfo": {
     "elapsed": 8696,
     "status": "ok",
     "timestamp": 1611200700857,
     "user": {
      "displayName": "Sutithi Chakraborty",
      "photoUrl": "",
      "userId": "12749148906436566424"
     },
     "user_tz": -330
    },
    "id": "KlCHSTLaVTc8",
    "outputId": "7d0fb976-dec0-4ddf-9279-6506c8f4cb6d"
   },
   "outputs": [
    {
     "name": "stderr",
     "output_type": "stream",
     "text": [
      "[nltk_data] Downloading package maxent_treebank_pos_tagger to\n",
      "[nltk_data]     /Users/vidyadharbendre/nltk_data...\n",
      "[nltk_data]   Unzipping taggers/maxent_treebank_pos_tagger.zip.\n"
     ]
    },
    {
     "data": {
      "text/plain": [
       "True"
      ]
     },
     "execution_count": 75,
     "metadata": {},
     "output_type": "execute_result"
    }
   ],
   "source": [
    "nltk.download('maxent_treebank_pos_tagger')"
   ]
  },
  {
   "cell_type": "code",
   "execution_count": 76,
   "metadata": {
    "colab": {
     "base_uri": "https://localhost:8080/"
    },
    "executionInfo": {
     "elapsed": 8679,
     "status": "ok",
     "timestamp": 1611200700860,
     "user": {
      "displayName": "Sutithi Chakraborty",
      "photoUrl": "",
      "userId": "12749148906436566424"
     },
     "user_tz": -330
    },
    "id": "s2oLwyUVVTf-",
    "outputId": "d8df436d-ab66-4e70-b4cf-f27f35d21112"
   },
   "outputs": [
    {
     "name": "stderr",
     "output_type": "stream",
     "text": [
      "[nltk_data] Downloading package averaged_perceptron_tagger to\n",
      "[nltk_data]     /Users/vidyadharbendre/nltk_data...\n",
      "[nltk_data]   Package averaged_perceptron_tagger is already up-to-\n",
      "[nltk_data]       date!\n"
     ]
    },
    {
     "data": {
      "text/plain": [
       "True"
      ]
     },
     "execution_count": 76,
     "metadata": {},
     "output_type": "execute_result"
    }
   ],
   "source": [
    "nltk.download('averaged_perceptron_tagger')"
   ]
  },
  {
   "cell_type": "markdown",
   "metadata": {
    "id": "TkYL18YhPYLW"
   },
   "source": [
    "# 4.Emotion and Sentiment Analysis"
   ]
  },
  {
   "cell_type": "code",
   "execution_count": 77,
   "metadata": {
    "colab": {
     "base_uri": "https://localhost:8080/"
    },
    "executionInfo": {
     "elapsed": 10683,
     "status": "ok",
     "timestamp": 1611200702885,
     "user": {
      "displayName": "Sutithi Chakraborty",
      "photoUrl": "",
      "userId": "12749148906436566424"
     },
     "user_tz": -330
    },
    "id": "bf9TVK6CWdJ0",
    "outputId": "103da154-196a-4eb0-8c01-a06083cf28b6"
   },
   "outputs": [
    {
     "name": "stdout",
     "output_type": "stream",
     "text": [
      "Collecting afinn\n",
      "  Downloading afinn-0.1.tar.gz (52 kB)\n",
      "\u001b[2K     \u001b[90m━━━━━━━━━━━━━━━━━━━━━━━━━━━━━━━━━━━━━━━\u001b[0m \u001b[32m52.6/52.6 kB\u001b[0m \u001b[31m692.6 kB/s\u001b[0m eta \u001b[36m0:00:00\u001b[0m \u001b[36m0:00:01\u001b[0m\n",
      "\u001b[?25h  Preparing metadata (setup.py) ... \u001b[?25ldone\n",
      "\u001b[?25hBuilding wheels for collected packages: afinn\n",
      "  Building wheel for afinn (setup.py) ... \u001b[?25ldone\n",
      "\u001b[?25h  Created wheel for afinn: filename=afinn-0.1-py3-none-any.whl size=53427 sha256=79a54d0111202726c89b530bb1bda523501c96a944b4caddd619ea22fcbe8577\n",
      "  Stored in directory: /Users/vidyadharbendre/Library/Caches/pip/wheels/79/91/ee/8374d9bc8c6c0896a2db75afdfd63d43653902407a0e76cd94\n",
      "Successfully built afinn\n",
      "Installing collected packages: afinn\n",
      "Successfully installed afinn-0.1\n",
      "Note: you may need to restart the kernel to use updated packages.\n"
     ]
    }
   ],
   "source": [
    "pip install afinn"
   ]
  },
  {
   "cell_type": "code",
   "execution_count": 78,
   "metadata": {
    "id": "pcD64nWaPYLW"
   },
   "outputs": [],
   "source": [
    "from afinn import Afinn"
   ]
  },
  {
   "cell_type": "code",
   "execution_count": 79,
   "metadata": {
    "id": "mK0qItTkPYLX"
   },
   "outputs": [],
   "source": [
    "af = Afinn()"
   ]
  },
  {
   "cell_type": "code",
   "execution_count": 80,
   "metadata": {
    "id": "ijVaCL2APYLX"
   },
   "outputs": [],
   "source": [
    "sentiment_scores = [af.score(article) for article in data['Text']]"
   ]
  },
  {
   "cell_type": "code",
   "execution_count": 81,
   "metadata": {
    "id": "WjFdGI9fPYLX"
   },
   "outputs": [],
   "source": [
    "sentiment_category = ['positive' if score > 3 \n",
    "                          else 'negative' if score < 3 \n",
    "                              else 'neutral' \n",
    "                                  for score in sentiment_scores]"
   ]
  },
  {
   "cell_type": "code",
   "execution_count": 82,
   "metadata": {
    "id": "ct2_s-CrPYLY"
   },
   "outputs": [],
   "source": [
    "df = pd.DataFrame([list(data['category']), sentiment_scores, sentiment_category]).T"
   ]
  },
  {
   "cell_type": "code",
   "execution_count": 83,
   "metadata": {
    "id": "12Ntxol4PYLY"
   },
   "outputs": [],
   "source": [
    "df.columns = ['category', 'sentiment_score', 'sentiment_category']"
   ]
  },
  {
   "cell_type": "code",
   "execution_count": 84,
   "metadata": {
    "id": "-kj5TaNhPYLZ"
   },
   "outputs": [],
   "source": [
    "df['sentiment_score'] = df.sentiment_score.astype('float')"
   ]
  },
  {
   "cell_type": "code",
   "execution_count": 85,
   "metadata": {
    "colab": {
     "base_uri": "https://localhost:8080/",
     "height": 266
    },
    "executionInfo": {
     "elapsed": 24005,
     "status": "ok",
     "timestamp": 1611200716298,
     "user": {
      "displayName": "Sutithi Chakraborty",
      "photoUrl": "",
      "userId": "12749148906436566424"
     },
     "user_tz": -330
    },
    "id": "GeofMqmwPYLZ",
    "outputId": "d4915e8e-f18d-40fe-98a8-d8499653f429"
   },
   "outputs": [
    {
     "data": {
      "text/html": [
       "<div>\n",
       "<style scoped>\n",
       "    .dataframe tbody tr th:only-of-type {\n",
       "        vertical-align: middle;\n",
       "    }\n",
       "\n",
       "    .dataframe tbody tr th {\n",
       "        vertical-align: top;\n",
       "    }\n",
       "\n",
       "    .dataframe thead tr th {\n",
       "        text-align: left;\n",
       "    }\n",
       "\n",
       "    .dataframe thead tr:last-of-type th {\n",
       "        text-align: right;\n",
       "    }\n",
       "</style>\n",
       "<table border=\"1\" class=\"dataframe\">\n",
       "  <thead>\n",
       "    <tr>\n",
       "      <th></th>\n",
       "      <th colspan=\"8\" halign=\"left\">sentiment_score</th>\n",
       "    </tr>\n",
       "    <tr>\n",
       "      <th></th>\n",
       "      <th>count</th>\n",
       "      <th>mean</th>\n",
       "      <th>std</th>\n",
       "      <th>min</th>\n",
       "      <th>25%</th>\n",
       "      <th>50%</th>\n",
       "      <th>75%</th>\n",
       "      <th>max</th>\n",
       "    </tr>\n",
       "    <tr>\n",
       "      <th>category</th>\n",
       "      <th></th>\n",
       "      <th></th>\n",
       "      <th></th>\n",
       "      <th></th>\n",
       "      <th></th>\n",
       "      <th></th>\n",
       "      <th></th>\n",
       "      <th></th>\n",
       "    </tr>\n",
       "  </thead>\n",
       "  <tbody>\n",
       "    <tr>\n",
       "      <th>business</th>\n",
       "      <td>510.0</td>\n",
       "      <td>3.425490</td>\n",
       "      <td>13.342008</td>\n",
       "      <td>-51.0</td>\n",
       "      <td>-4.0</td>\n",
       "      <td>4.0</td>\n",
       "      <td>11.0</td>\n",
       "      <td>83.0</td>\n",
       "    </tr>\n",
       "    <tr>\n",
       "      <th>entertainment</th>\n",
       "      <td>386.0</td>\n",
       "      <td>18.810881</td>\n",
       "      <td>36.724287</td>\n",
       "      <td>-32.0</td>\n",
       "      <td>1.0</td>\n",
       "      <td>12.0</td>\n",
       "      <td>26.0</td>\n",
       "      <td>511.0</td>\n",
       "    </tr>\n",
       "    <tr>\n",
       "      <th>politics</th>\n",
       "      <td>417.0</td>\n",
       "      <td>-2.182254</td>\n",
       "      <td>20.161973</td>\n",
       "      <td>-205.0</td>\n",
       "      <td>-10.0</td>\n",
       "      <td>0.0</td>\n",
       "      <td>7.0</td>\n",
       "      <td>122.0</td>\n",
       "    </tr>\n",
       "    <tr>\n",
       "      <th>sport</th>\n",
       "      <td>511.0</td>\n",
       "      <td>12.816047</td>\n",
       "      <td>17.423148</td>\n",
       "      <td>-27.0</td>\n",
       "      <td>2.0</td>\n",
       "      <td>11.0</td>\n",
       "      <td>21.5</td>\n",
       "      <td>95.0</td>\n",
       "    </tr>\n",
       "    <tr>\n",
       "      <th>tech</th>\n",
       "      <td>401.0</td>\n",
       "      <td>8.022444</td>\n",
       "      <td>19.778953</td>\n",
       "      <td>-87.0</td>\n",
       "      <td>-1.0</td>\n",
       "      <td>9.0</td>\n",
       "      <td>19.0</td>\n",
       "      <td>72.0</td>\n",
       "    </tr>\n",
       "  </tbody>\n",
       "</table>\n",
       "</div>"
      ],
      "text/plain": [
       "              sentiment_score                                                 \\\n",
       "                        count       mean        std    min   25%   50%   75%   \n",
       "category                                                                       \n",
       "business                510.0   3.425490  13.342008  -51.0  -4.0   4.0  11.0   \n",
       "entertainment           386.0  18.810881  36.724287  -32.0   1.0  12.0  26.0   \n",
       "politics                417.0  -2.182254  20.161973 -205.0 -10.0   0.0   7.0   \n",
       "sport                   511.0  12.816047  17.423148  -27.0   2.0  11.0  21.5   \n",
       "tech                    401.0   8.022444  19.778953  -87.0  -1.0   9.0  19.0   \n",
       "\n",
       "                      \n",
       "                 max  \n",
       "category              \n",
       "business        83.0  \n",
       "entertainment  511.0  \n",
       "politics       122.0  \n",
       "sport           95.0  \n",
       "tech            72.0  "
      ]
     },
     "execution_count": 85,
     "metadata": {},
     "output_type": "execute_result"
    }
   ],
   "source": [
    "df.groupby(by=['category']).describe()"
   ]
  },
  {
   "cell_type": "code",
   "execution_count": 87,
   "metadata": {
    "id": "FBriXTXymYIY"
   },
   "outputs": [],
   "source": [
    "import matplotlib.pyplot as plt\n",
    "import seaborn as sns"
   ]
  },
  {
   "cell_type": "code",
   "execution_count": 88,
   "metadata": {
    "colab": {
     "base_uri": "https://localhost:8080/",
     "height": 308
    },
    "executionInfo": {
     "elapsed": 25302,
     "status": "ok",
     "timestamp": 1611200717615,
     "user": {
      "displayName": "Sutithi Chakraborty",
      "photoUrl": "",
      "userId": "12749148906436566424"
     },
     "user_tz": -330
    },
    "id": "dbewuqPEPYLZ",
    "outputId": "f7be3069-fc74-4bf3-936a-612751944255"
   },
   "outputs": [
    {
     "data": {
      "image/png": "[encoded data removed]",
      "text/plain": [
       "<Figure size 1400x400 with 2 Axes>"
      ]
     },
     "metadata": {},
     "output_type": "display_data"
    }
   ],
   "source": [
    "f, (ax1, ax2) = plt.subplots(1, 2, figsize=(14, 4))\n",
    "sp = sns.stripplot(x='category', y=\"sentiment_score\",  hue='sentiment_category', data=df, ax=ax1)\n",
    "bp = sns.boxplot(x='category', y=\"sentiment_score\", hue='sentiment_category', data=df, palette=\"Set2\", ax=ax2)\n",
    "t = f.suptitle('Visualizing Sentiment', fontsize=14)"
   ]
  },
  {
   "cell_type": "code",
   "execution_count": 90,
   "metadata": {},
   "outputs": [
    {
     "data": {
      "image/png": "[encoded data removed]",
      "text/plain": [
       "<Figure size 649.736x500 with 1 Axes>"
      ]
     },
     "metadata": {},
     "output_type": "display_data"
    }
   ],
   "source": [
    "import seaborn as sns\n",
    "import matplotlib.pyplot as plt\n",
    "\n",
    "# Example dataframe 'df' with columns 'category' and 'sentiment_category'\n",
    "\n",
    "# Ensure your data 'df' is properly defined\n",
    "\n",
    "# Using catplot instead of factorplot\n",
    "fc = sns.catplot(x=\"category\", hue=\"sentiment_category\", \n",
    "                 data=df, kind=\"count\", \n",
    "                 palette={\"negative\": \"#FE2020\", \n",
    "                          \"positive\": \"#BADD07\", \n",
    "                          \"neutral\": \"#68BFF5\"})\n",
    "\n",
    "# Adjusting the labels and title if needed\n",
    "fc.set(xlabel='Category', ylabel='Count', title='Sentiment Distribution by Category')\n",
    "\n",
    "# Show the plot\n",
    "plt.show()\n"
   ]
  },
  {
   "cell_type": "code",
   "execution_count": 91,
   "metadata": {
    "id": "1CBSw6u6PYLa"
   },
   "outputs": [],
   "source": [
    "pos_idx = df[(df.category=='tech') & (df.sentiment_score == df[(df.category=='tech')].sentiment_score.max())].index[0]"
   ]
  },
  {
   "cell_type": "code",
   "execution_count": 92,
   "metadata": {
    "id": "7C7v1uOLPYLb"
   },
   "outputs": [],
   "source": [
    "neg_idx = df[(df.category=='tech') & (df.sentiment_score == df[(df.category=='tech')].sentiment_score.min())].index[0]"
   ]
  },
  {
   "cell_type": "code",
   "execution_count": 93,
   "metadata": {
    "colab": {
     "base_uri": "https://localhost:8080/"
    },
    "executionInfo": {
     "elapsed": 25271,
     "status": "ok",
     "timestamp": 1611200717624,
     "user": {
      "displayName": "Sutithi Chakraborty",
      "photoUrl": "",
      "userId": "12749148906436566424"
     },
     "user_tz": -330
    },
    "id": "Inn4hVSNnHeR",
    "outputId": "0ee907e2-5781-4a78-de31-750e9ff19cbe"
   },
   "outputs": [
    {
     "data": {
      "text/plain": [
       "1189"
      ]
     },
     "execution_count": 93,
     "metadata": {},
     "output_type": "execute_result"
    }
   ],
   "source": [
    "neg_idx"
   ]
  },
  {
   "cell_type": "code",
   "execution_count": 94,
   "metadata": {
    "colab": {
     "base_uri": "https://localhost:8080/"
    },
    "executionInfo": {
     "elapsed": 25263,
     "status": "ok",
     "timestamp": 1611200717625,
     "user": {
      "displayName": "Sutithi Chakraborty",
      "photoUrl": "",
      "userId": "12749148906436566424"
     },
     "user_tz": -330
    },
    "id": "zEi2lpmxo5kE",
    "outputId": "e64ca66d-2278-4bf0-a2d8-0ba934903fcc"
   },
   "outputs": [
    {
     "name": "stdout",
     "output_type": "stream",
     "text": [
      "Most Negative Tech Article:  call action internet scam phone compani enough warn custom internet rogu diall scam accord premium phone line regul icsti receiv 45 000 complaint recent month dial internet connect divert premium rate number without user knowledg phone compani refus pay compens say call must paid must warn peopl earlier possibl fraud icsti said peopl use dial connect affect scam without realis program download divert internet call via premium phone line victim often fail notic receiv unusu high bill icsti spokesman rob dwight said phone compani get touch custom sooner bill goe usual 50 month want know straight away want told hit 750 phone compani system place spot fraudul activ artifici inflat traffic said alert number investig look number ad telecom ombudsman elizabeth franc said certainli would surpris find credit card compani phone someth ordinari would expect phone compani look see similar approach biggest phone compani bt say monitor fraud warn peopl rogu diall advic custom use call bar want prevent call premium line current system call made littl done gavin patterson group manag director bt consum said look custom call pattern make intervent ordinari look moment whether improv bt handl 180 million call day monitor quit task ad govern order review premium line servic like say icsti power deal rogu dialler futur moment cannot demand pay out behalf custom close illeg servic use free anti viru softwar avg free firewal protect zonealarm tool prevent unauthoris access outgo call inadvert innoc caus daughter love music site isp inform custom facil respons clearli fall custom mani fall prey simpli know avoid issu ignor alway expens busi one know happen fraud commit recognis phone compani pay peopl obtain money fraudul peopl follow prosecut dialler mainli download site offer illeg mp3 porn pirat softwar peopl visit site consider less risk whatev happen person respons seem everyon victim day part blame rest manufactur home comput oper system secur system allow web page email download instal anyth without user knowledg scam illeg telephon compani noth refus pay money perpetr receiv good return interest keep scam go bt et al block premium number default turn custom request anyon fall foul scam refus pay telephon provid call notifi telephon provid fraudul transact cannot insist pay bill would knowingli assist fraudster commit fraud custom yet taken court refus pay bill disabl remov modem use broadband instead noth worri buy decent firewal softwar anti viru would walk freez cold without coat would drive car without insur protect pc stop blame phone compani fault impress phone compani recent kept ring hotlin number kyli ticket next day rang back ask awar 40 odd call number great servic got ticket well colleagu fallen victim kind scam inform phone compani subsequ put block premium rate number three month later anoth huge bill 1 000 came block appar work still pay even though block place phone compani probabl quit happi custom hit huge bill otherwis take extra step prevent kind problem scam 139 oper noth add insult injuri charg vat govern premium rate number subject variou scam ever sinc invent one exampl thiev would set premium rate number dial day night phone whose quarterli bill never paid telephon compani victim bet loophol block quickli know peopl run larg bill despit liter talk bt belfast believ shortli give free applic stop diall expens number without know fault phone compani last someth time profit legitim phone compani came end mainli away dial altogeth bring broadband price dial ruin thing dialler scammer also allow peopl updat upgrad secur easili quickli fallen victim rogu diall scam think serious remiss point vast major scam aris peopl tri access servic purport provid free pornographi case user entir fault probabl telephon compani rightli unwil refund telephon supplier inform monthli bill risen normal 3 5 320 scam simpli bill particularli gall 300 stolen supplier govern vat profit crime reimburs portion loss automat monthli cap say 20 premium rate call would contact provid lift way could use legitim premium rate number limit fraudul usag least disput amount would limit far easier telecom oper write 20 750 year back also target scam thank god alreadi upgrad broadband noth connect modem heard sound attempt connect home user take respons ensur anti viru firewal softwar date prevent vast major scam\n",
      "\n",
      "Most Positive Tech Article:  appl laptop greatest gadget appl powerbook 100 chosen greatest gadget time us magazin mobil pc 1991 laptop chosen one first lightweight portabl comput help defin layout futur notebook pc magazin compil time top 100 list gadget includ soni walkman number three 1956 zenith remot control two gadget need move part electron warrant inclus magazin staff compil list specifi gadget also need self contain apparatu use subset anoth devic gener includ item potenti mobil said magazin end tri get heart realli make gadget gadget conclud oldest gadget top 100 abacu magazin date 190 put 60th place pre electron gadget top 100 includ sextant 1731 59th posit marin chronomet 1761 42nd posit kodak browni camera 1900 28th posit tivo person video record newest devic make top 10 also includ first flash mp3 player diamond multimedia well first success digit camera casio qv 10 mobil phone motorola startac popular gadget moment appl ipod number 12 list first soni transistor radio number 13 soni third entri top 20 cdp 101 cd player 1983 forget crystallin hiss free blast madonna like virgin eman first cd player ask magazin karl elsen knife swiss armi knife 1891 number 20 list gadget could said featur surprisingli low list includ origin telephon 23rd nintendo gameboy 25th pulsar quartz digit watch 36th list also contain plenti odditi pez sweet dispens 98th 1990 toy tamagotchi 86th bizarr ronco insid shell egg scrambler 84th almost everyon mobil phone mani peopl powerbook ipod find magazin convinc magnet compass still use 1 000 year invent amaz obsess individu gadget rather genr exampl soni walkman first truli portabl way listen music move wherea minidisc flash mp3 portabl cd player etc realli improv technolog favourit true gadget probabl portabl minidisc player littl batteri power whizzi thing use froth coffe calm opinion list includ taser top 100 gadget suspect swiss armi knife question mani item still rel unchang origin idea still use popular need laptop even pocket calcul work one list mere illustr interest cultur divid american author overwhelmingli british respons brit see mobil phone thirti sinclair whilst american focu appl tv remot tivo probabl rather obscur europ soda stream gadget chang pre teen life lap top may enabl think differ cant use get busi fizzi astro war one pioneer comput game rememb spend mani hour play still work today howev tri day rubbish still great gadget time worri mobil phone soon subsum pda laptop etc marin chronomet complet revolutionis navig boat use centuri time technolog marvel soni net minidisc pave way mp3 player explod onto market alway use netmd could go anywher without laptop comput gadget work tool sinclair execut world first pocket calcul think well clockwork radio gp pocket calcul thing use real peopl pc magazin editor peopl creat list insan sure import gadget modern age mobil phone revolutionis commun said nich market laptop outsid modern age marin chronomet singl import gadget without modern transport system would evolv quickli everyon forgot brevil pie maker interest list electron gadget thousand journalist earli 1980 bless origin noteboook pc tandi 100 size a4 paper light three week set batteri excel keyboard modem piti tandi make do compat appl powerbook 100 date much gadget sure someth simpl timeless tin open swiss armi knife safeti razor blade wristwatch thing take stone hors hoov mobil phone singl devic effect way live short space time ball point pen got one use common gadget ever also mani might grate pocket calcul great improv slide rule casio pocket calcul play simpl game made tinni nois also hot gadget 1980 true gadget could carri around shown top 10 electron toy list probabl better reflect current high tech obsess anyth els say swiss armi knife made 20 sinclair ql machin far ahead time first home machin true multi take os shame market bad appl triumph fashion well everyth els utter rubbish ye appl laptop soni walkman classic gadget call sextant marin chronomet gadget rank less import tv remot control reveal quit shock lack histor perspect former liter help chang world vastli improv navig see latter seed around couch potato cultur develop competit also put appl newton first palm pilot front runner portabl comput possibl toshiba libretto reason wish vulcan inc flipstart vapourwar otherwis would top laptop ever manag beat challeng wristwatch telephon mobil otherwis radio tv swiss armi knife far use gadget got mine 12 year ago still wear use lot stood test time psion organis seri 3 usabl qwerti keyboard remov storag good set app programm case design good batteri hing first think great product innov first mobil pc vote best gadget reader err mobil pc keep put obvious bias list site obvious mobil phone remot control reader less partisan public would tell motorola startac number one mobil phone long notebook comput gadget either gone integr commun devic psion seri 3c first practic way carri info around would back sinclair spectrum without littl beauti would never move world earn live put mobil phone high list probabl nokia model sinclair spectrum 16k plug tv game rubbish gave tast program live wish modern notebook even appl newest offer like pb100 particularli dishearten demis trackbal given way larg useless trackpad everi notebook market today use invari inaccur uncomfort cumbersom use congratul appl deserv win\n"
     ]
    }
   ],
   "source": [
    "print('Most Negative Tech Article:', data['Text'][neg_idx])\n",
    "\n",
    "print()\n",
    "print('Most Positive Tech Article:', data['Text'][pos_idx])"
   ]
  },
  {
   "cell_type": "code",
   "execution_count": 95,
   "metadata": {
    "colab": {
     "base_uri": "https://localhost:8080/"
    },
    "executionInfo": {
     "elapsed": 25254,
     "status": "ok",
     "timestamp": 1611200717626,
     "user": {
      "displayName": "Sutithi Chakraborty",
      "photoUrl": "",
      "userId": "12749148906436566424"
     },
     "user_tz": -330
    },
    "id": "7ltDSDo3PYLb",
    "outputId": "e14dfa9d-34b6-408a-e4a7-ef6fbd31a430"
   },
   "outputs": [
    {
     "data": {
      "text/plain": [
       "array([  -2.,    4.,    1.,    6.,  -64.,    9.,   -4.,   19.,  -13.,\n",
       "          3.,    0.,   13.,  -16.,   -7.,   -1.,   14.,    2.,  -21.,\n",
       "         15.,   17.,  -11.,   32.,  -49.,   10.,   -3.,  -12.,    7.,\n",
       "         -9.,  -10.,   20.,  -19.,   18.,   40.,   26.,  -18.,  -29.,\n",
       "         -5.,   -6.,    5.,   29.,  -25., -205.,   11.,  -20.,   -8.,\n",
       "         16.,  -51.,  -17.,  -14.,   23.,   22.,  -31.,   24.,   34.,\n",
       "        115.,  -40.,  -47.,  -56.,   12.,  -39.,  -35.,    8.,   21.,\n",
       "        -23.,  -43.,  -22.,   25.,  -62.,   44.,  122.,  -41.,  -61.,\n",
       "        -15.,  -48.,  -32.,  -36.])"
      ]
     },
     "execution_count": 95,
     "metadata": {},
     "output_type": "execute_result"
    }
   ],
   "source": [
    "df1 = df[df.category=='politics']\n",
    "pd.unique(df1.sentiment_score)"
   ]
  },
  {
   "cell_type": "code",
   "execution_count": 100,
   "metadata": {},
   "outputs": [
    {
     "name": "stdout",
     "output_type": "stream",
     "text": [
      "Column \"Text\" does not exist in the DataFrame.\n",
      "No article\n"
     ]
    }
   ],
   "source": [
    "# Find the index for the most positive and most negative articles in the 'politics' category\n",
    "pos_articles = df[(df.category=='politics') & (df.sentiment_score == 5)]\n",
    "neg_articles = df[(df.category=='politics') & (df.sentiment_score == 30.)]\n",
    "\n",
    "if not pos_articles.empty:\n",
    "    pos_idx = pos_articles.index[0]\n",
    "    if 'Text' in df.columns:  # Check if 'Text' column exists in the DataFrame\n",
    "        print('Most Positive political Article:', df.loc[pos_idx, 'Text'])\n",
    "    else:\n",
    "        print('Column \"Text\" does not exist in the DataFrame.')\n",
    "else:\n",
    "    print('No articles found for most positive in politics category.')\n",
    "\n",
    "if not neg_articles.empty:\n",
    "    neg_idx = neg_articles.index[0]\n",
    "    if 'Text' in df.columns:  # Check if 'Text' column exists in the DataFrame\n",
    "        print('Most Negative political Article:', df.loc[neg_idx, 'Text'])\n",
    "    else:\n",
    "        print('Column \"Text\" does not exist in the DataFrame.')\n",
    "else:\n",
    "    print('No article')\n"
   ]
  },
  {
   "cell_type": "code",
   "execution_count": 104,
   "metadata": {
    "id": "6mtuWDLfPYLc"
   },
   "outputs": [],
   "source": [
    "from textblob import TextBlob"
   ]
  },
  {
   "cell_type": "code",
   "execution_count": 105,
   "metadata": {
    "id": "ghDoj7aNPYLc"
   },
   "outputs": [],
   "source": [
    "sentiment_scores_tb = [round(TextBlob(article).sentiment.polarity, 3) for article in data['Text']]"
   ]
  },
  {
   "cell_type": "code",
   "execution_count": 106,
   "metadata": {
    "id": "MqNktuadPYLc"
   },
   "outputs": [],
   "source": [
    "sentiment_category_tb = ['positive' if score > 0 \n",
    "                             else 'negative' if score < 0 \n",
    "                                 else 'neutral' \n",
    "                                     for score in sentiment_scores_tb]"
   ]
  },
  {
   "cell_type": "code",
   "execution_count": 107,
   "metadata": {
    "colab": {
     "base_uri": "https://localhost:8080/",
     "height": 266
    },
    "executionInfo": {
     "elapsed": 28772,
     "status": "ok",
     "timestamp": 1611200721191,
     "user": {
      "displayName": "Sutithi Chakraborty",
      "photoUrl": "",
      "userId": "12749148906436566424"
     },
     "user_tz": -330
    },
    "id": "-475pMIAPYLc",
    "outputId": "8388e11c-45b2-4dec-9d13-d6a57e98820a"
   },
   "outputs": [
    {
     "data": {
      "text/html": [
       "<div>\n",
       "<style scoped>\n",
       "    .dataframe tbody tr th:only-of-type {\n",
       "        vertical-align: middle;\n",
       "    }\n",
       "\n",
       "    .dataframe tbody tr th {\n",
       "        vertical-align: top;\n",
       "    }\n",
       "\n",
       "    .dataframe thead tr th {\n",
       "        text-align: left;\n",
       "    }\n",
       "\n",
       "    .dataframe thead tr:last-of-type th {\n",
       "        text-align: right;\n",
       "    }\n",
       "</style>\n",
       "<table border=\"1\" class=\"dataframe\">\n",
       "  <thead>\n",
       "    <tr>\n",
       "      <th></th>\n",
       "      <th colspan=\"8\" halign=\"left\">sentiment_score</th>\n",
       "    </tr>\n",
       "    <tr>\n",
       "      <th></th>\n",
       "      <th>count</th>\n",
       "      <th>mean</th>\n",
       "      <th>std</th>\n",
       "      <th>min</th>\n",
       "      <th>25%</th>\n",
       "      <th>50%</th>\n",
       "      <th>75%</th>\n",
       "      <th>max</th>\n",
       "    </tr>\n",
       "    <tr>\n",
       "      <th>category</th>\n",
       "      <th></th>\n",
       "      <th></th>\n",
       "      <th></th>\n",
       "      <th></th>\n",
       "      <th></th>\n",
       "      <th></th>\n",
       "      <th></th>\n",
       "      <th></th>\n",
       "    </tr>\n",
       "  </thead>\n",
       "  <tbody>\n",
       "    <tr>\n",
       "      <th>business</th>\n",
       "      <td>510.0</td>\n",
       "      <td>0.036624</td>\n",
       "      <td>0.092738</td>\n",
       "      <td>-0.293</td>\n",
       "      <td>-0.01775</td>\n",
       "      <td>0.0300</td>\n",
       "      <td>0.09300</td>\n",
       "      <td>0.372</td>\n",
       "    </tr>\n",
       "    <tr>\n",
       "      <th>entertainment</th>\n",
       "      <td>386.0</td>\n",
       "      <td>0.154573</td>\n",
       "      <td>0.144290</td>\n",
       "      <td>-0.220</td>\n",
       "      <td>0.06000</td>\n",
       "      <td>0.1345</td>\n",
       "      <td>0.22125</td>\n",
       "      <td>0.689</td>\n",
       "    </tr>\n",
       "    <tr>\n",
       "      <th>politics</th>\n",
       "      <td>417.0</td>\n",
       "      <td>0.098746</td>\n",
       "      <td>0.123197</td>\n",
       "      <td>-0.177</td>\n",
       "      <td>0.01400</td>\n",
       "      <td>0.0840</td>\n",
       "      <td>0.17300</td>\n",
       "      <td>0.567</td>\n",
       "    </tr>\n",
       "    <tr>\n",
       "      <th>sport</th>\n",
       "      <td>511.0</td>\n",
       "      <td>0.099029</td>\n",
       "      <td>0.115318</td>\n",
       "      <td>-0.460</td>\n",
       "      <td>0.03600</td>\n",
       "      <td>0.1000</td>\n",
       "      <td>0.16750</td>\n",
       "      <td>0.492</td>\n",
       "    </tr>\n",
       "    <tr>\n",
       "      <th>tech</th>\n",
       "      <td>401.0</td>\n",
       "      <td>0.030312</td>\n",
       "      <td>0.096155</td>\n",
       "      <td>-0.281</td>\n",
       "      <td>-0.03200</td>\n",
       "      <td>0.0360</td>\n",
       "      <td>0.08600</td>\n",
       "      <td>0.358</td>\n",
       "    </tr>\n",
       "  </tbody>\n",
       "</table>\n",
       "</div>"
      ],
      "text/plain": [
       "              sentiment_score                                              \\\n",
       "                        count      mean       std    min      25%     50%   \n",
       "category                                                                    \n",
       "business                510.0  0.036624  0.092738 -0.293 -0.01775  0.0300   \n",
       "entertainment           386.0  0.154573  0.144290 -0.220  0.06000  0.1345   \n",
       "politics                417.0  0.098746  0.123197 -0.177  0.01400  0.0840   \n",
       "sport                   511.0  0.099029  0.115318 -0.460  0.03600  0.1000   \n",
       "tech                    401.0  0.030312  0.096155 -0.281 -0.03200  0.0360   \n",
       "\n",
       "                               \n",
       "                   75%    max  \n",
       "category                       \n",
       "business       0.09300  0.372  \n",
       "entertainment  0.22125  0.689  \n",
       "politics       0.17300  0.567  \n",
       "sport          0.16750  0.492  \n",
       "tech           0.08600  0.358  "
      ]
     },
     "execution_count": 107,
     "metadata": {},
     "output_type": "execute_result"
    }
   ],
   "source": [
    "df = pd.DataFrame([list(data['category']), sentiment_scores_tb, sentiment_category_tb]).T\n",
    "df.columns = ['category', 'sentiment_score', 'sentiment_category']\n",
    "df['sentiment_score'] = df.sentiment_score.astype('float')\n",
    "df.groupby(by=['category']).describe()"
   ]
  },
  {
   "cell_type": "code",
   "execution_count": 108,
   "metadata": {
    "colab": {
     "base_uri": "https://localhost:8080/",
     "height": 204
    },
    "executionInfo": {
     "elapsed": 28762,
     "status": "ok",
     "timestamp": 1611200721194,
     "user": {
      "displayName": "Sutithi Chakraborty",
      "photoUrl": "",
      "userId": "12749148906436566424"
     },
     "user_tz": -330
    },
    "id": "4tueRVdSPYLd",
    "outputId": "5d8d9a66-86e7-4518-d2d9-be24217c9aa6"
   },
   "outputs": [
    {
     "data": {
      "text/html": [
       "<div>\n",
       "<style scoped>\n",
       "    .dataframe tbody tr th:only-of-type {\n",
       "        vertical-align: middle;\n",
       "    }\n",
       "\n",
       "    .dataframe tbody tr th {\n",
       "        vertical-align: top;\n",
       "    }\n",
       "\n",
       "    .dataframe thead th {\n",
       "        text-align: right;\n",
       "    }\n",
       "</style>\n",
       "<table border=\"1\" class=\"dataframe\">\n",
       "  <thead>\n",
       "    <tr style=\"text-align: right;\">\n",
       "      <th></th>\n",
       "      <th>category</th>\n",
       "      <th>sentiment_score</th>\n",
       "      <th>sentiment_category</th>\n",
       "    </tr>\n",
       "  </thead>\n",
       "  <tbody>\n",
       "    <tr>\n",
       "      <th>0</th>\n",
       "      <td>tech</td>\n",
       "      <td>0.083</td>\n",
       "      <td>positive</td>\n",
       "    </tr>\n",
       "    <tr>\n",
       "      <th>1</th>\n",
       "      <td>business</td>\n",
       "      <td>-0.092</td>\n",
       "      <td>negative</td>\n",
       "    </tr>\n",
       "    <tr>\n",
       "      <th>2</th>\n",
       "      <td>sport</td>\n",
       "      <td>0.054</td>\n",
       "      <td>positive</td>\n",
       "    </tr>\n",
       "    <tr>\n",
       "      <th>3</th>\n",
       "      <td>sport</td>\n",
       "      <td>-0.067</td>\n",
       "      <td>negative</td>\n",
       "    </tr>\n",
       "    <tr>\n",
       "      <th>4</th>\n",
       "      <td>entertainment</td>\n",
       "      <td>0.129</td>\n",
       "      <td>positive</td>\n",
       "    </tr>\n",
       "  </tbody>\n",
       "</table>\n",
       "</div>"
      ],
      "text/plain": [
       "        category  sentiment_score sentiment_category\n",
       "0           tech            0.083           positive\n",
       "1       business           -0.092           negative\n",
       "2          sport            0.054           positive\n",
       "3          sport           -0.067           negative\n",
       "4  entertainment            0.129           positive"
      ]
     },
     "execution_count": 108,
     "metadata": {},
     "output_type": "execute_result"
    }
   ],
   "source": [
    "df.head()"
   ]
  },
  {
   "cell_type": "code",
   "execution_count": 111,
   "metadata": {},
   "outputs": [
    {
     "data": {
      "image/png": "[encoded data removed]",
      "text/plain": [
       "<Figure size 649.736x500 with 1 Axes>"
      ]
     },
     "metadata": {},
     "output_type": "display_data"
    }
   ],
   "source": [
    "import seaborn as sns\n",
    "import matplotlib.pyplot as plt\n",
    "\n",
    "# Example dataframe 'df' with columns 'category' and 'sentiment_category'\n",
    "\n",
    "# Ensure your data 'df' is properly defined\n",
    "\n",
    "# Using catplot instead of factorplot\n",
    "fc = sns.catplot(x=\"category\", hue=\"sentiment_category\", \n",
    "                 data=df, kind=\"count\", \n",
    "                 palette={\"negative\": \"#FE2020\", \n",
    "                          \"positive\": \"#BADD07\", \n",
    "                          \"neutral\": \"#68BFF5\"})\n",
    "\n",
    "# Adjusting the labels and title if needed\n",
    "fc.set(xlabel='Category', ylabel='Count', title='Sentiment Distribution by Category')\n",
    "\n",
    "# Show the plot\n",
    "plt.show()\n"
   ]
  },
  {
   "cell_type": "code",
   "execution_count": 112,
   "metadata": {
    "colab": {
     "base_uri": "https://localhost:8080/"
    },
    "executionInfo": {
     "elapsed": 28743,
     "status": "ok",
     "timestamp": 1611200721199,
     "user": {
      "displayName": "Sutithi Chakraborty",
      "photoUrl": "",
      "userId": "12749148906436566424"
     },
     "user_tz": -330
    },
    "id": "V7JlWgWErXAr",
    "outputId": "36095590-9a61-4327-b618-b5fdf41c6777"
   },
   "outputs": [
    {
     "data": {
      "text/plain": [
       "array([[ 345,    2,  511],\n",
       "       [  15,    1,   49],\n",
       "       [ 154,    4, 1144]])"
      ]
     },
     "execution_count": 112,
     "metadata": {},
     "output_type": "execute_result"
    }
   ],
   "source": [
    "from sklearn.metrics import confusion_matrix\n",
    "true_labels=sentiment_category\n",
    "predicted_labels=sentiment_category_tb\n",
    "confusion_matrix(true_labels, predicted_labels)"
   ]
  },
  {
   "cell_type": "code",
   "execution_count": 113,
   "metadata": {
    "colab": {
     "base_uri": "https://localhost:8080/",
     "height": 337
    },
    "executionInfo": {
     "elapsed": 28738,
     "status": "ok",
     "timestamp": 1611200721207,
     "user": {
      "displayName": "Sutithi Chakraborty",
      "photoUrl": "",
      "userId": "12749148906436566424"
     },
     "user_tz": -330
    },
    "id": "qBYfMOcWsXmW",
    "outputId": "1f38356e-7aaf-4779-b0c2-fa4f015d6eff"
   },
   "outputs": [
    {
     "data": {
      "text/plain": [
       "<Axes: >"
      ]
     },
     "execution_count": 113,
     "metadata": {},
     "output_type": "execute_result"
    },
    {
     "data": {
      "image/png": "[encoded data removed]",
      "text/plain": [
       "<Figure size 500x500 with 2 Axes>"
      ]
     },
     "metadata": {},
     "output_type": "display_data"
    }
   ],
   "source": [
    "plt.figure(figsize = (5,5))\n",
    "conf = pd.DataFrame(confusion_matrix(true_labels, predicted_labels),\n",
    "            index = ['negative', 'neutral', 'positive'],\n",
    "                  columns = ['negative', 'neutral', 'positive'])\n",
    "sns.heatmap(conf, annot=True)"
   ]
  },
  {
   "cell_type": "code",
   "execution_count": null,
   "metadata": {},
   "outputs": [],
   "source": []
  }
 ],
 "metadata": {
  "accelerator": "GPU",
  "colab": {
   "collapsed_sections": [],
   "name": "Session2_TakeHome_sol_v1.ipynb",
   "provenance": [],
   "toc_visible": true
  },
  "kernelspec": {
   "display_name": "Python 3 (ipykernel)",
   "language": "python",
   "name": "python3"
  },
  "language_info": {
   "codemirror_mode": {
    "name": "ipython",
    "version": 3
   },
   "file_extension": ".py",
   "mimetype": "text/x-python",
   "name": "python",
   "nbconvert_exporter": "python",
   "pygments_lexer": "ipython3",
   "version": "3.9.16"
  }
 },
 "nbformat": 4,
 "nbformat_minor": 4
}
