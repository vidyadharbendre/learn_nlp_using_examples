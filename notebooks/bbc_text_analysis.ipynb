{
 "cells": [
  {
   "cell_type": "code",
   "execution_count": null,
   "metadata": {
    "id": "RMAUHQ_6QUkP"
   },
   "outputs": [],
   "source": []
  },
  {
   "cell_type": "code",
   "execution_count": null,
   "metadata": {
    "id": "EBYYwy2lQbBw"
   },
   "outputs": [],
   "source": []
  },
  {
   "cell_type": "markdown",
   "metadata": {
    "_uuid": "3c77d7291ae3aff7ea714d3b19d708d455de016c",
    "id": "lSY4R5Pa4Zs2"
   },
   "source": [
    "We cannot work with the text data in machine learning so we need to convert them into numerical vectors, As a part of this practice exercise you will implement different techniques to do the same."
   ]
  },
  {
   "cell_type": "markdown",
   "metadata": {
    "_uuid": "4b77a3ffeea9399d8ff4ed783b11d325c8a47ba7",
    "id": "MnEqJoGl4Zs4"
   },
   "source": [
    "In this notebook we are going to understand some basic text cleaning steps and techniques for encoding text data. We are going to learn about\n",
    "1. **Understanding the data** - See what's data is all about. what should be considered for cleaning for data (Punctuations , stopwords etc..).\n",
    "2. **Basic Cleaning** -We will see what parameters need to be considered for cleaning of data (like Punctuations , stopwords etc..)  and its code.\n",
    "3. **Techniques for Encoding** - All the popular techniques that are used for encoding that I personally came across.\n",
    "    *           **Bag of Words**\n",
    "    *           **Binary Bag of Words**\n",
    "    *           **Bigram, Ngram**\n",
    "    *           **TF-IDF**( **T**erm  **F**requency - **I**nverse **D**ocument **F**requency)\n",
    "    *           **Word2Vec**\n",
    "    *           **Emotion and Sentiment analysis**"
   ]
  },
  {
   "cell_type": "markdown",
   "metadata": {
    "_uuid": "3e9b8360f72e16b27f4ba5e353d412900fc4d5be",
    "id": "jplSqGVx4Zs5"
   },
   "source": [
    "# Import Libraries"
   ]
  },
  {
   "cell_type": "markdown",
   "metadata": {
    "id": "kjyMG_z46P9b"
   },
   "source": [
    "Libraries used in this notebook along with their version:\n",
    "\n",
    "google\t2.0.3\n",
    "\n",
    "nltk\t3.2.5\n",
    "\n",
    "numpy\t1.18.3\n",
    "\n",
    "pandas\t1.0.3"
   ]
  },
  {
   "cell_type": "code",
   "execution_count": 1,
   "metadata": {
    "colab": {
     "base_uri": "https://localhost:8080/"
    },
    "executionInfo": {
     "elapsed": 30099,
     "status": "ok",
     "timestamp": 1611200450793,
     "user": {
      "displayName": "Sutithi Chakraborty",
      "photoUrl": "",
      "userId": "12749148906436566424"
     },
     "user_tz": -330
    },
    "id": "NH1FxGFqA7G6",
    "outputId": "7879b7a3-37b2-4357-cfd7-ba8baeda91f1"
   },
   "outputs": [
    {
     "ename": "ModuleNotFoundError",
     "evalue": "No module named 'google.colab'",
     "output_type": "error",
     "traceback": [
      "\u001b[0;31m---------------------------------------------------------------------------\u001b[0m",
      "\u001b[0;31mModuleNotFoundError\u001b[0m                       Traceback (most recent call last)",
      "Cell \u001b[0;32mIn[1], line 1\u001b[0m\n\u001b[0;32m----> 1\u001b[0m \u001b[38;5;28;01mfrom\u001b[39;00m \u001b[38;5;21;01mgoogle\u001b[39;00m\u001b[38;5;21;01m.\u001b[39;00m\u001b[38;5;21;01mcolab\u001b[39;00m \u001b[38;5;28;01mimport\u001b[39;00m drive\n\u001b[1;32m      2\u001b[0m drive\u001b[38;5;241m.\u001b[39mmount(\u001b[38;5;124m'\u001b[39m\u001b[38;5;124m/content/drive\u001b[39m\u001b[38;5;124m'\u001b[39m)\n",
      "\u001b[0;31mModuleNotFoundError\u001b[0m: No module named 'google.colab'"
     ]
    }
   ],
   "source": [
    "from google.colab import drive\n",
    "drive.mount('/content/drive')"
   ]
  },
  {
   "cell_type": "code",
   "execution_count": 8,
   "metadata": {
    "_cell_guid": "b1076dfc-b9ad-4769-8c92-a6c4dae69d19",
    "_uuid": "8f2839f25d086af736a60e9eeb907d3b93b6e0e5",
    "id": "wzMiuH0-4Zs7"
   },
   "outputs": [],
   "source": [
    "import numpy as np                                  #for large and multi-dimensional arrays\n",
    "import pandas as pd                                 #for data manipulation and analysis\n",
    "import nltk                                         #Natural language processing tool-kit\n",
    "import re\n",
    "from sklearn.decomposition import PCA\n",
    "from matplotlib import pyplot\n",
    "%matplotlib inline\n",
    "from six import string_types\n",
    "from string import punctuation\n",
    "\n",
    "from nltk.corpus import stopwords                   #Stopwords corpus\n",
    "from nltk.stem import PorterStemmer                 # Stemmer\n",
    "from nltk import word_tokenize\n",
    "from nltk.tokenize import RegexpTokenizer\n",
    "\n",
    "from sklearn.feature_extraction.text import CountVectorizer          #For Bag of words\n",
    "from sklearn.feature_extraction.text import TfidfVectorizer          #For TF-IDF\n",
    "import os"
   ]
  },
  {
   "cell_type": "markdown",
   "metadata": {
    "id": "yqD5wboL06eJ"
   },
   "source": [
    "# 1.Understanding the data"
   ]
  },
  {
   "cell_type": "markdown",
   "metadata": {
    "id": "VtkF2UiMA7HA"
   },
   "source": [
    "We will employ a text categorization dataset based on Reviews. Each article is assigned a specific captegory. \n",
    "\n",
    "Implement the code to load the dataset.(Hint: Use the pandas library to load the csv file.)"
   ]
  },
  {
   "cell_type": "code",
   "execution_count": null,
   "metadata": {
    "id": "AwrMMBZdA7HD"
   },
   "outputs": [],
   "source": [
    "# Solution\n",
    "import pandas as pd\n",
    "df = pd.read_csv('/content/drive/MyDrive/My_NLP/Session 1/Takehome/bbc-text.csv')"
   ]
  },
  {
   "cell_type": "code",
   "execution_count": 9,
   "metadata": {},
   "outputs": [
    {
     "ename": "NameError",
     "evalue": "name 'text_file_path' is not defined",
     "output_type": "error",
     "traceback": [
      "\u001b[0;31m---------------------------------------------------------------------------\u001b[0m",
      "\u001b[0;31mNameError\u001b[0m                                 Traceback (most recent call last)",
      "Cell \u001b[0;32mIn[9], line 10\u001b[0m\n\u001b[1;32m      7\u001b[0m csv_file_path \u001b[38;5;241m=\u001b[39m os\u001b[38;5;241m.\u001b[39mpath\u001b[38;5;241m.\u001b[39mjoin(data_folder_path, \u001b[38;5;124m'\u001b[39m\u001b[38;5;124mbbc-text.csv\u001b[39m\u001b[38;5;124m'\u001b[39m)\n\u001b[1;32m      9\u001b[0m \u001b[38;5;66;03m# Read the text file\u001b[39;00m\n\u001b[0;32m---> 10\u001b[0m \u001b[38;5;28;01mwith\u001b[39;00m \u001b[38;5;28mopen\u001b[39m(\u001b[43mtext_file_path\u001b[49m, \u001b[38;5;124m'\u001b[39m\u001b[38;5;124mr\u001b[39m\u001b[38;5;124m'\u001b[39m) \u001b[38;5;28;01mas\u001b[39;00m file:\n\u001b[1;32m     11\u001b[0m     data \u001b[38;5;241m=\u001b[39m file\u001b[38;5;241m.\u001b[39mread()\n\u001b[1;32m     13\u001b[0m \u001b[38;5;28mprint\u001b[39m(data)\n",
      "\u001b[0;31mNameError\u001b[0m: name 'text_file_path' is not defined"
     ]
    }
   ],
   "source": [
    "import os\n",
    "\n",
    "# Define the path to the data folder\n",
    "data_folder_path = os.path.join(os.pardir, 'data')\n",
    "\n",
    "# Define the path to the text file\n",
    "csv_file_path = os.path.join(data_folder_path, 'bbc-text.csv')\n",
    "\n",
    "df = \n"
   ]
  },
  {
   "cell_type": "code",
   "execution_count": null,
   "metadata": {
    "colab": {
     "base_uri": "https://localhost:8080/",
     "height": 204
    },
    "executionInfo": {
     "elapsed": 33407,
     "status": "ok",
     "timestamp": 1611200454130,
     "user": {
      "displayName": "Sutithi Chakraborty",
      "photoUrl": "",
      "userId": "12749148906436566424"
     },
     "user_tz": -330
    },
    "id": "bBWid3pLA7HE",
    "outputId": "0ad3f617-3577-4182-fb8f-49afede65eae"
   },
   "outputs": [
    {
     "data": {
      "text/html": [
       "<div>\n",
       "<style scoped>\n",
       "    .dataframe tbody tr th:only-of-type {\n",
       "        vertical-align: middle;\n",
       "    }\n",
       "\n",
       "    .dataframe tbody tr th {\n",
       "        vertical-align: top;\n",
       "    }\n",
       "\n",
       "    .dataframe thead th {\n",
       "        text-align: right;\n",
       "    }\n",
       "</style>\n",
       "<table border=\"1\" class=\"dataframe\">\n",
       "  <thead>\n",
       "    <tr style=\"text-align: right;\">\n",
       "      <th></th>\n",
       "      <th>category</th>\n",
       "      <th>text</th>\n",
       "    </tr>\n",
       "  </thead>\n",
       "  <tbody>\n",
       "    <tr>\n",
       "      <th>0</th>\n",
       "      <td>tech</td>\n",
       "      <td>tv future in the hands of viewers with home th...</td>\n",
       "    </tr>\n",
       "    <tr>\n",
       "      <th>1</th>\n",
       "      <td>business</td>\n",
       "      <td>worldcom boss  left books alone  former worldc...</td>\n",
       "    </tr>\n",
       "    <tr>\n",
       "      <th>2</th>\n",
       "      <td>sport</td>\n",
       "      <td>tigers wary of farrell  gamble  leicester say ...</td>\n",
       "    </tr>\n",
       "    <tr>\n",
       "      <th>3</th>\n",
       "      <td>sport</td>\n",
       "      <td>yeading face newcastle in fa cup premiership s...</td>\n",
       "    </tr>\n",
       "    <tr>\n",
       "      <th>4</th>\n",
       "      <td>entertainment</td>\n",
       "      <td>ocean s twelve raids box office ocean s twelve...</td>\n",
       "    </tr>\n",
       "  </tbody>\n",
       "</table>\n",
       "</div>"
      ],
      "text/plain": [
       "        category                                               text\n",
       "0           tech  tv future in the hands of viewers with home th...\n",
       "1       business  worldcom boss  left books alone  former worldc...\n",
       "2          sport  tigers wary of farrell  gamble  leicester say ...\n",
       "3          sport  yeading face newcastle in fa cup premiership s...\n",
       "4  entertainment  ocean s twelve raids box office ocean s twelve..."
      ]
     },
     "execution_count": 5,
     "metadata": {
      "tags": []
     },
     "output_type": "execute_result"
    }
   ],
   "source": [
    "# Sanity check: Your output should look like the below\n",
    "df.head()"
   ]
  },
  {
   "cell_type": "markdown",
   "metadata": {
    "id": "I0QdvtLFA7HF"
   },
   "source": [
    "#### Create a function called \"complaint_to_words\" to store each consumer complaint narrative ."
   ]
  },
  {
   "cell_type": "code",
   "execution_count": null,
   "metadata": {
    "id": "E2MzrF_hA7HF"
   },
   "outputs": [],
   "source": [
    "# Solution\n",
    "complaint_to_words = df['text']  "
   ]
  },
  {
   "cell_type": "markdown",
   "metadata": {
    "id": "lwVN_hQ_09r0"
   },
   "source": [
    "# 2.Basic Cleaning"
   ]
  },
  {
   "cell_type": "markdown",
   "metadata": {
    "id": "bPJesTws2BN6"
   },
   "source": [
    "## 2.1.Tokenize"
   ]
  },
  {
   "cell_type": "markdown",
   "metadata": {
    "id": "mlUDtA7hA7HG"
   },
   "source": [
    "We will use the above function here to create a list of list that will store each complaint tokenized into separate words.(Hint: Use regular expression based tokenizer.)"
   ]
  },
  {
   "cell_type": "code",
   "execution_count": null,
   "metadata": {
    "id": "QYxfrDLKA7HH"
   },
   "outputs": [],
   "source": [
    "data_list = list()\n",
    "for comp in complaint_to_words:\n",
    "    data_list.append(RegexpTokenizer('\\w+').tokenize(comp))"
   ]
  },
  {
   "cell_type": "code",
   "execution_count": null,
   "metadata": {
    "colab": {
     "base_uri": "https://localhost:8080/"
    },
    "executionInfo": {
     "elapsed": 33388,
     "status": "ok",
     "timestamp": 1611200454139,
     "user": {
      "displayName": "Sutithi Chakraborty",
      "photoUrl": "",
      "userId": "12749148906436566424"
     },
     "user_tz": -330
    },
    "id": "LQnN5O1-1f0e",
    "outputId": "c541f77f-282f-45db-bb64-1bf99d02bc5b"
   },
   "outputs": [
    {
     "name": "stdout",
     "output_type": "stream",
     "text": [
      "[['tv', 'future', 'in', 'the', 'hands', 'of', 'viewers', 'with', 'home', 'theatre', 'systems', 'plasma', 'high', 'definition', 'tvs', 'and', 'digital', 'video', 'recorders', 'moving', 'into', 'the', 'living', 'room', 'the', 'way', 'people', 'watch', 'tv', 'will', 'be', 'radically', 'different', 'in', 'five', 'years', 'time', 'that', 'is', 'according', 'to', 'an', 'expert', 'panel', 'which', 'gathered', 'at', 'the', 'annual', 'consumer', 'electronics', 'show', 'in', 'las', 'vegas', 'to', 'discuss', 'how', 'these', 'new', 'technologies', 'will', 'impact', 'one', 'of', 'our', 'favourite', 'pastimes', 'with', 'the', 'us', 'leading', 'the', 'trend', 'programmes', 'and', 'other', 'content', 'will', 'be', 'delivered', 'to', 'viewers', 'via', 'home', 'networks', 'through', 'cable', 'satellite', 'telecoms', 'companies', 'and', 'broadband', 'service', 'providers', 'to', 'front', 'rooms', 'and', 'portable', 'devices', 'one', 'of', 'the', 'most', 'talked', 'about', 'technologies', 'of', 'ces', 'has', 'been', 'digital', 'and', 'personal', 'video', 'recorders', 'dvr', 'and', 'pvr', 'these', 'set', 'top', 'boxes', 'like', 'the', 'us', 's', 'tivo', 'and', 'the', 'uk', 's', 'sky', 'system', 'allow', 'people', 'to', 'record', 'store', 'play', 'pause', 'and', 'forward', 'wind', 'tv', 'programmes', 'when', 'they', 'want', 'essentially', 'the', 'technology', 'allows', 'for', 'much', 'more', 'personalised', 'tv', 'they', 'are', 'also', 'being', 'built', 'in', 'to', 'high', 'definition', 'tv', 'sets', 'which', 'are', 'big', 'business', 'in', 'japan', 'and', 'the', 'us', 'but', 'slower', 'to', 'take', 'off', 'in', 'europe', 'because', 'of', 'the', 'lack', 'of', 'high', 'definition', 'programming', 'not', 'only', 'can', 'people', 'forward', 'wind', 'through', 'adverts', 'they', 'can', 'also', 'forget', 'about', 'abiding', 'by', 'network', 'and', 'channel', 'schedules', 'putting', 'together', 'their', 'own', 'a', 'la', 'carte', 'entertainment', 'but', 'some', 'us', 'networks', 'and', 'cable', 'and', 'satellite', 'companies', 'are', 'worried', 'about', 'what', 'it', 'means', 'for', 'them', 'in', 'terms', 'of', 'advertising', 'revenues', 'as', 'well', 'as', 'brand', 'identity', 'and', 'viewer', 'loyalty', 'to', 'channels', 'although', 'the', 'us', 'leads', 'in', 'this', 'technology', 'at', 'the', 'moment', 'it', 'is', 'also', 'a', 'concern', 'that', 'is', 'being', 'raised', 'in', 'europe', 'particularly', 'with', 'the', 'growing', 'uptake', 'of', 'services', 'like', 'sky', 'what', 'happens', 'here', 'today', 'we', 'will', 'see', 'in', 'nine', 'months', 'to', 'a', 'years', 'time', 'in', 'the', 'uk', 'adam', 'hume', 'the', 'bbc', 'broadcast', 's', 'futurologist', 'told', 'the', 'bbc', 'news', 'website', 'for', 'the', 'likes', 'of', 'the', 'bbc', 'there', 'are', 'no', 'issues', 'of', 'lost', 'advertising', 'revenue', 'yet', 'it', 'is', 'a', 'more', 'pressing', 'issue', 'at', 'the', 'moment', 'for', 'commercial', 'uk', 'broadcasters', 'but', 'brand', 'loyalty', 'is', 'important', 'for', 'everyone', 'we', 'will', 'be', 'talking', 'more', 'about', 'content', 'brands', 'rather', 'than', 'network', 'brands', 'said', 'tim', 'hanlon', 'from', 'brand', 'communications', 'firm', 'starcom', 'mediavest', 'the', 'reality', 'is', 'that', 'with', 'broadband', 'connections', 'anybody', 'can', 'be', 'the', 'producer', 'of', 'content', 'he', 'added', 'the', 'challenge', 'now', 'is', 'that', 'it', 'is', 'hard', 'to', 'promote', 'a', 'programme', 'with', 'so', 'much', 'choice', 'what', 'this', 'means', 'said', 'stacey', 'jolna', 'senior', 'vice', 'president', 'of', 'tv', 'guide', 'tv', 'group', 'is', 'that', 'the', 'way', 'people', 'find', 'the', 'content', 'they', 'want', 'to', 'watch', 'has', 'to', 'be', 'simplified', 'for', 'tv', 'viewers', 'it', 'means', 'that', 'networks', 'in', 'us', 'terms', 'or', 'channels', 'could', 'take', 'a', 'leaf', 'out', 'of', 'google', 's', 'book', 'and', 'be', 'the', 'search', 'engine', 'of', 'the', 'future', 'instead', 'of', 'the', 'scheduler', 'to', 'help', 'people', 'find', 'what', 'they', 'want', 'to', 'watch', 'this', 'kind', 'of', 'channel', 'model', 'might', 'work', 'for', 'the', 'younger', 'ipod', 'generation', 'which', 'is', 'used', 'to', 'taking', 'control', 'of', 'their', 'gadgets', 'and', 'what', 'they', 'play', 'on', 'them', 'but', 'it', 'might', 'not', 'suit', 'everyone', 'the', 'panel', 'recognised', 'older', 'generations', 'are', 'more', 'comfortable', 'with', 'familiar', 'schedules', 'and', 'channel', 'brands', 'because', 'they', 'know', 'what', 'they', 'are', 'getting', 'they', 'perhaps', 'do', 'not', 'want', 'so', 'much', 'of', 'the', 'choice', 'put', 'into', 'their', 'hands', 'mr', 'hanlon', 'suggested', 'on', 'the', 'other', 'end', 'you', 'have', 'the', 'kids', 'just', 'out', 'of', 'diapers', 'who', 'are', 'pushing', 'buttons', 'already', 'everything', 'is', 'possible', 'and', 'available', 'to', 'them', 'said', 'mr', 'hanlon', 'ultimately', 'the', 'consumer', 'will', 'tell', 'the', 'market', 'they', 'want', 'of', 'the', '50', '000', 'new', 'gadgets', 'and', 'technologies', 'being', 'showcased', 'at', 'ces', 'many', 'of', 'them', 'are', 'about', 'enhancing', 'the', 'tv', 'watching', 'experience', 'high', 'definition', 'tv', 'sets', 'are', 'everywhere', 'and', 'many', 'new', 'models', 'of', 'lcd', 'liquid', 'crystal', 'display', 'tvs', 'have', 'been', 'launched', 'with', 'dvr', 'capability', 'built', 'into', 'them', 'instead', 'of', 'being', 'external', 'boxes', 'one', 'such', 'example', 'launched', 'at', 'the', 'show', 'is', 'humax', 's', '26', 'inch', 'lcd', 'tv', 'with', 'an', '80', 'hour', 'tivo', 'dvr', 'and', 'dvd', 'recorder', 'one', 'of', 'the', 'us', 's', 'biggest', 'satellite', 'tv', 'companies', 'directtv', 'has', 'even', 'launched', 'its', 'own', 'branded', 'dvr', 'at', 'the', 'show', 'with', '100', 'hours', 'of', 'recording', 'capability', 'instant', 'replay', 'and', 'a', 'search', 'function', 'the', 'set', 'can', 'pause', 'and', 'rewind', 'tv', 'for', 'up', 'to', '90', 'hours', 'and', 'microsoft', 'chief', 'bill', 'gates', 'announced', 'in', 'his', 'pre', 'show', 'keynote', 'speech', 'a', 'partnership', 'with', 'tivo', 'called', 'tivotogo', 'which', 'means', 'people', 'can', 'play', 'recorded', 'programmes', 'on', 'windows', 'pcs', 'and', 'mobile', 'devices', 'all', 'these', 'reflect', 'the', 'increasing', 'trend', 'of', 'freeing', 'up', 'multimedia', 'so', 'that', 'people', 'can', 'watch', 'what', 'they', 'want', 'when', 'they', 'want'], ['worldcom', 'boss', 'left', 'books', 'alone', 'former', 'worldcom', 'boss', 'bernie', 'ebbers', 'who', 'is', 'accused', 'of', 'overseeing', 'an', '11bn', '5', '8bn', 'fraud', 'never', 'made', 'accounting', 'decisions', 'a', 'witness', 'has', 'told', 'jurors', 'david', 'myers', 'made', 'the', 'comments', 'under', 'questioning', 'by', 'defence', 'lawyers', 'who', 'have', 'been', 'arguing', 'that', 'mr', 'ebbers', 'was', 'not', 'responsible', 'for', 'worldcom', 's', 'problems', 'the', 'phone', 'company', 'collapsed', 'in', '2002', 'and', 'prosecutors', 'claim', 'that', 'losses', 'were', 'hidden', 'to', 'protect', 'the', 'firm', 's', 'shares', 'mr', 'myers', 'has', 'already', 'pleaded', 'guilty', 'to', 'fraud', 'and', 'is', 'assisting', 'prosecutors', 'on', 'monday', 'defence', 'lawyer', 'reid', 'weingarten', 'tried', 'to', 'distance', 'his', 'client', 'from', 'the', 'allegations', 'during', 'cross', 'examination', 'he', 'asked', 'mr', 'myers', 'if', 'he', 'ever', 'knew', 'mr', 'ebbers', 'make', 'an', 'accounting', 'decision', 'not', 'that', 'i', 'am', 'aware', 'of', 'mr', 'myers', 'replied', 'did', 'you', 'ever', 'know', 'mr', 'ebbers', 'to', 'make', 'an', 'accounting', 'entry', 'into', 'worldcom', 'books', 'mr', 'weingarten', 'pressed', 'no', 'replied', 'the', 'witness', 'mr', 'myers', 'has', 'admitted', 'that', 'he', 'ordered', 'false', 'accounting', 'entries', 'at', 'the', 'request', 'of', 'former', 'worldcom', 'chief', 'financial', 'officer', 'scott', 'sullivan', 'defence', 'lawyers', 'have', 'been', 'trying', 'to', 'paint', 'mr', 'sullivan', 'who', 'has', 'admitted', 'fraud', 'and', 'will', 'testify', 'later', 'in', 'the', 'trial', 'as', 'the', 'mastermind', 'behind', 'worldcom', 's', 'accounting', 'house', 'of', 'cards', 'mr', 'ebbers', 'team', 'meanwhile', 'are', 'looking', 'to', 'portray', 'him', 'as', 'an', 'affable', 'boss', 'who', 'by', 'his', 'own', 'admission', 'is', 'more', 'pe', 'graduate', 'than', 'economist', 'whatever', 'his', 'abilities', 'mr', 'ebbers', 'transformed', 'worldcom', 'from', 'a', 'relative', 'unknown', 'into', 'a', '160bn', 'telecoms', 'giant', 'and', 'investor', 'darling', 'of', 'the', 'late', '1990s', 'worldcom', 's', 'problems', 'mounted', 'however', 'as', 'competition', 'increased', 'and', 'the', 'telecoms', 'boom', 'petered', 'out', 'when', 'the', 'firm', 'finally', 'collapsed', 'shareholders', 'lost', 'about', '180bn', 'and', '20', '000', 'workers', 'lost', 'their', 'jobs', 'mr', 'ebbers', 'trial', 'is', 'expected', 'to', 'last', 'two', 'months', 'and', 'if', 'found', 'guilty', 'the', 'former', 'ceo', 'faces', 'a', 'substantial', 'jail', 'sentence', 'he', 'has', 'firmly', 'declared', 'his', 'innocence'], ['tigers', 'wary', 'of', 'farrell', 'gamble', 'leicester', 'say', 'they', 'will', 'not', 'be', 'rushed', 'into', 'making', 'a', 'bid', 'for', 'andy', 'farrell', 'should', 'the', 'great', 'britain', 'rugby', 'league', 'captain', 'decide', 'to', 'switch', 'codes', 'we', 'and', 'anybody', 'else', 'involved', 'in', 'the', 'process', 'are', 'still', 'some', 'way', 'away', 'from', 'going', 'to', 'the', 'next', 'stage', 'tigers', 'boss', 'john', 'wells', 'told', 'bbc', 'radio', 'leicester', 'at', 'the', 'moment', 'there', 'are', 'still', 'a', 'lot', 'of', 'unknowns', 'about', 'andy', 'farrell', 'not', 'least', 'his', 'medical', 'situation', 'whoever', 'does', 'take', 'him', 'on', 'is', 'going', 'to', 'take', 'a', 'big', 'big', 'gamble', 'farrell', 'who', 'has', 'had', 'persistent', 'knee', 'problems', 'had', 'an', 'operation', 'on', 'his', 'knee', 'five', 'weeks', 'ago', 'and', 'is', 'expected', 'to', 'be', 'out', 'for', 'another', 'three', 'months', 'leicester', 'and', 'saracens', 'are', 'believed', 'to', 'head', 'the', 'list', 'of', 'rugby', 'union', 'clubs', 'interested', 'in', 'signing', 'farrell', 'if', 'he', 'decides', 'to', 'move', 'to', 'the', '15', 'man', 'game', 'if', 'he', 'does', 'move', 'across', 'to', 'union', 'wells', 'believes', 'he', 'would', 'better', 'off', 'playing', 'in', 'the', 'backs', 'at', 'least', 'initially', 'i', 'm', 'sure', 'he', 'could', 'make', 'the', 'step', 'between', 'league', 'and', 'union', 'by', 'being', 'involved', 'in', 'the', 'centre', 'said', 'wells', 'i', 'think', 'england', 'would', 'prefer', 'him', 'to', 'progress', 'to', 'a', 'position', 'in', 'the', 'back', 'row', 'where', 'they', 'can', 'make', 'use', 'of', 'some', 'of', 'his', 'rugby', 'league', 'skills', 'within', 'the', 'forwards', 'the', 'jury', 'is', 'out', 'on', 'whether', 'he', 'can', 'cross', 'that', 'divide', 'at', 'this', 'club', 'the', 'balance', 'will', 'have', 'to', 'be', 'struck', 'between', 'the', 'cost', 'of', 'that', 'gamble', 'and', 'the', 'option', 'of', 'bringing', 'in', 'a', 'ready', 'made', 'replacement']]\n"
     ]
    }
   ],
   "source": [
    "print(data_list[:3]) # Example"
   ]
  },
  {
   "cell_type": "code",
   "execution_count": null,
   "metadata": {
    "colab": {
     "base_uri": "https://localhost:8080/"
    },
    "executionInfo": {
     "elapsed": 33375,
     "status": "ok",
     "timestamp": 1611200454140,
     "user": {
      "displayName": "Sutithi Chakraborty",
      "photoUrl": "",
      "userId": "12749148906436566424"
     },
     "user_tz": -330
    },
    "id": "Qd7xzHL6oKVC",
    "outputId": "6a62c398-2d65-4400-eedf-ecdb8a4643f4"
   },
   "outputs": [
    {
     "name": "stdout",
     "output_type": "stream",
     "text": [
      "['tv', 'future', 'in', 'the', 'hands', 'of', 'viewers', 'with', 'home', 'theatre', 'systems', 'plasma', 'high', 'definition', 'tvs', 'and', 'digital', 'video', 'recorders', 'moving', 'into', 'the', 'living', 'room', 'the', 'way', 'people', 'watch', 'tv', 'will', 'be', 'radically', 'different', 'in', 'five', 'years', 'time', 'that', 'is', 'according', 'to', 'an', 'expert', 'panel', 'which', 'gathered', 'at', 'the', 'annual', 'consumer', 'electronics', 'show', 'in', 'las', 'vegas', 'to', 'discuss', 'how', 'these', 'new', 'technologies', 'will', 'impact', 'one', 'of', 'our', 'favourite', 'pastimes', 'with', 'the', 'us', 'leading', 'the', 'trend', 'programmes', 'and', 'other', 'content', 'will', 'be', 'delivered', 'to', 'viewers', 'via', 'home', 'networks', 'through', 'cable', 'satellite', 'telecoms', 'companies', 'and', 'broadband', 'service', 'providers', 'to', 'front', 'rooms', 'and', 'portable', 'devices', 'one', 'of', 'the', 'most', 'talked', 'about', 'technologies', 'of', 'ces', 'has', 'been', 'digital', 'and', 'personal', 'video', 'recorders', 'dvr', 'and', 'pvr', 'these', 'set', 'top', 'boxes', 'like', 'the', 'us', 's', 'tivo', 'and', 'the', 'uk', 's', 'sky', 'system', 'allow', 'people', 'to', 'record', 'store', 'play', 'pause', 'and', 'forward', 'wind', 'tv', 'programmes', 'when', 'they', 'want', 'essentially', 'the', 'technology', 'allows', 'for', 'much', 'more', 'personalised', 'tv', 'they', 'are', 'also', 'being', 'built', 'in', 'to', 'high', 'definition', 'tv', 'sets', 'which', 'are', 'big', 'business', 'in', 'japan', 'and', 'the', 'us', 'but', 'slower', 'to', 'take', 'off', 'in', 'europe', 'because', 'of', 'the', 'lack', 'of', 'high', 'definition', 'programming', 'not', 'only', 'can', 'people', 'forward', 'wind', 'through', 'adverts', 'they', 'can', 'also', 'forget', 'about', 'abiding', 'by', 'network', 'and', 'channel', 'schedules', 'putting', 'together', 'their', 'own', 'a', 'la', 'carte', 'entertainment', 'but', 'some', 'us', 'networks', 'and', 'cable', 'and', 'satellite', 'companies', 'are', 'worried', 'about', 'what', 'it', 'means', 'for', 'them', 'in', 'terms', 'of', 'advertising', 'revenues', 'as', 'well', 'as', 'brand', 'identity', 'and', 'viewer', 'loyalty', 'to', 'channels', 'although', 'the', 'us', 'leads', 'in', 'this', 'technology', 'at', 'the', 'moment', 'it', 'is', 'also', 'a', 'concern', 'that', 'is', 'being', 'raised', 'in', 'europe', 'particularly', 'with', 'the', 'growing', 'uptake', 'of', 'services', 'like', 'sky', 'what', 'happens', 'here', 'today', 'we', 'will', 'see', 'in', 'nine', 'months', 'to', 'a', 'years', 'time', 'in', 'the', 'uk', 'adam', 'hume', 'the', 'bbc', 'broadcast', 's', 'futurologist', 'told', 'the', 'bbc', 'news', 'website', 'for', 'the', 'likes', 'of', 'the', 'bbc', 'there', 'are', 'no', 'issues', 'of', 'lost', 'advertising', 'revenue', 'yet', 'it', 'is', 'a', 'more', 'pressing', 'issue', 'at', 'the', 'moment', 'for', 'commercial', 'uk', 'broadcasters', 'but', 'brand', 'loyalty', 'is', 'important', 'for', 'everyone', 'we', 'will', 'be', 'talking', 'more', 'about', 'content', 'brands', 'rather', 'than', 'network', 'brands', 'said', 'tim', 'hanlon', 'from', 'brand', 'communications', 'firm', 'starcom', 'mediavest', 'the', 'reality', 'is', 'that', 'with', 'broadband', 'connections', 'anybody', 'can', 'be', 'the', 'producer', 'of', 'content', 'he', 'added', 'the', 'challenge', 'now', 'is', 'that', 'it', 'is', 'hard', 'to', 'promote', 'a', 'programme', 'with', 'so', 'much', 'choice', 'what', 'this', 'means', 'said', 'stacey', 'jolna', 'senior', 'vice', 'president', 'of', 'tv', 'guide', 'tv', 'group', 'is', 'that', 'the', 'way', 'people', 'find', 'the', 'content', 'they', 'want', 'to', 'watch', 'has', 'to', 'be', 'simplified', 'for', 'tv', 'viewers', 'it', 'means', 'that', 'networks', 'in', 'us', 'terms', 'or', 'channels', 'could', 'take', 'a', 'leaf', 'out', 'of', 'google', 's', 'book', 'and', 'be', 'the', 'search', 'engine', 'of', 'the', 'future', 'instead', 'of', 'the', 'scheduler', 'to', 'help', 'people', 'find', 'what', 'they', 'want', 'to', 'watch', 'this', 'kind', 'of', 'channel', 'model', 'might', 'work', 'for', 'the', 'younger', 'ipod', 'generation', 'which', 'is', 'used', 'to', 'taking', 'control', 'of', 'their', 'gadgets', 'and', 'what', 'they', 'play', 'on', 'them', 'but', 'it', 'might', 'not', 'suit', 'everyone', 'the', 'panel', 'recognised', 'older', 'generations', 'are', 'more', 'comfortable', 'with', 'familiar', 'schedules', 'and', 'channel', 'brands', 'because', 'they', 'know', 'what', 'they', 'are', 'getting', 'they', 'perhaps', 'do', 'not', 'want', 'so', 'much', 'of', 'the', 'choice', 'put', 'into', 'their', 'hands', 'mr', 'hanlon', 'suggested', 'on', 'the', 'other', 'end', 'you', 'have', 'the', 'kids', 'just', 'out', 'of', 'diapers', 'who', 'are', 'pushing', 'buttons', 'already', 'everything', 'is', 'possible', 'and', 'available', 'to', 'them', 'said', 'mr', 'hanlon', 'ultimately', 'the', 'consumer', 'will', 'tell', 'the', 'market', 'they', 'want', 'of', 'the', '50', '000', 'new', 'gadgets', 'and', 'technologies', 'being', 'showcased', 'at', 'ces', 'many', 'of', 'them', 'are', 'about', 'enhancing', 'the', 'tv', 'watching', 'experience', 'high', 'definition', 'tv', 'sets', 'are', 'everywhere', 'and', 'many', 'new', 'models', 'of', 'lcd', 'liquid', 'crystal', 'display', 'tvs', 'have', 'been', 'launched', 'with', 'dvr', 'capability', 'built', 'into', 'them', 'instead', 'of', 'being', 'external', 'boxes', 'one', 'such', 'example', 'launched', 'at', 'the', 'show', 'is', 'humax', 's', '26', 'inch', 'lcd', 'tv', 'with', 'an', '80', 'hour', 'tivo', 'dvr', 'and', 'dvd', 'recorder', 'one', 'of', 'the', 'us', 's', 'biggest', 'satellite', 'tv', 'companies', 'directtv', 'has', 'even', 'launched', 'its', 'own', 'branded', 'dvr', 'at', 'the', 'show', 'with', '100', 'hours', 'of', 'recording', 'capability', 'instant', 'replay', 'and', 'a', 'search', 'function', 'the', 'set', 'can', 'pause', 'and', 'rewind', 'tv', 'for', 'up', 'to', '90', 'hours', 'and', 'microsoft', 'chief', 'bill', 'gates', 'announced', 'in', 'his', 'pre', 'show', 'keynote', 'speech', 'a', 'partnership', 'with', 'tivo', 'called', 'tivotogo', 'which', 'means', 'people', 'can', 'play', 'recorded', 'programmes', 'on', 'windows', 'pcs', 'and', 'mobile', 'devices', 'all', 'these', 'reflect', 'the', 'increasing', 'trend', 'of', 'freeing', 'up', 'multimedia', 'so', 'that', 'people', 'can', 'watch', 'what', 'they', 'want', 'when', 'they', 'want']\n",
      "['worldcom', 'boss', 'left', 'books', 'alone', 'former', 'worldcom', 'boss', 'bernie', 'ebbers', 'who', 'is', 'accused', 'of', 'overseeing', 'an', '11bn', '5', '8bn', 'fraud', 'never', 'made', 'accounting', 'decisions', 'a', 'witness', 'has', 'told', 'jurors', 'david', 'myers', 'made', 'the', 'comments', 'under', 'questioning', 'by', 'defence', 'lawyers', 'who', 'have', 'been', 'arguing', 'that', 'mr', 'ebbers', 'was', 'not', 'responsible', 'for', 'worldcom', 's', 'problems', 'the', 'phone', 'company', 'collapsed', 'in', '2002', 'and', 'prosecutors', 'claim', 'that', 'losses', 'were', 'hidden', 'to', 'protect', 'the', 'firm', 's', 'shares', 'mr', 'myers', 'has', 'already', 'pleaded', 'guilty', 'to', 'fraud', 'and', 'is', 'assisting', 'prosecutors', 'on', 'monday', 'defence', 'lawyer', 'reid', 'weingarten', 'tried', 'to', 'distance', 'his', 'client', 'from', 'the', 'allegations', 'during', 'cross', 'examination', 'he', 'asked', 'mr', 'myers', 'if', 'he', 'ever', 'knew', 'mr', 'ebbers', 'make', 'an', 'accounting', 'decision', 'not', 'that', 'i', 'am', 'aware', 'of', 'mr', 'myers', 'replied', 'did', 'you', 'ever', 'know', 'mr', 'ebbers', 'to', 'make', 'an', 'accounting', 'entry', 'into', 'worldcom', 'books', 'mr', 'weingarten', 'pressed', 'no', 'replied', 'the', 'witness', 'mr', 'myers', 'has', 'admitted', 'that', 'he', 'ordered', 'false', 'accounting', 'entries', 'at', 'the', 'request', 'of', 'former', 'worldcom', 'chief', 'financial', 'officer', 'scott', 'sullivan', 'defence', 'lawyers', 'have', 'been', 'trying', 'to', 'paint', 'mr', 'sullivan', 'who', 'has', 'admitted', 'fraud', 'and', 'will', 'testify', 'later', 'in', 'the', 'trial', 'as', 'the', 'mastermind', 'behind', 'worldcom', 's', 'accounting', 'house', 'of', 'cards', 'mr', 'ebbers', 'team', 'meanwhile', 'are', 'looking', 'to', 'portray', 'him', 'as', 'an', 'affable', 'boss', 'who', 'by', 'his', 'own', 'admission', 'is', 'more', 'pe', 'graduate', 'than', 'economist', 'whatever', 'his', 'abilities', 'mr', 'ebbers', 'transformed', 'worldcom', 'from', 'a', 'relative', 'unknown', 'into', 'a', '160bn', 'telecoms', 'giant', 'and', 'investor', 'darling', 'of', 'the', 'late', '1990s', 'worldcom', 's', 'problems', 'mounted', 'however', 'as', 'competition', 'increased', 'and', 'the', 'telecoms', 'boom', 'petered', 'out', 'when', 'the', 'firm', 'finally', 'collapsed', 'shareholders', 'lost', 'about', '180bn', 'and', '20', '000', 'workers', 'lost', 'their', 'jobs', 'mr', 'ebbers', 'trial', 'is', 'expected', 'to', 'last', 'two', 'months', 'and', 'if', 'found', 'guilty', 'the', 'former', 'ceo', 'faces', 'a', 'substantial', 'jail', 'sentence', 'he', 'has', 'firmly', 'declared', 'his', 'innocence']\n",
      "['tigers', 'wary', 'of', 'farrell', 'gamble', 'leicester', 'say', 'they', 'will', 'not', 'be', 'rushed', 'into', 'making', 'a', 'bid', 'for', 'andy', 'farrell', 'should', 'the', 'great', 'britain', 'rugby', 'league', 'captain', 'decide', 'to', 'switch', 'codes', 'we', 'and', 'anybody', 'else', 'involved', 'in', 'the', 'process', 'are', 'still', 'some', 'way', 'away', 'from', 'going', 'to', 'the', 'next', 'stage', 'tigers', 'boss', 'john', 'wells', 'told', 'bbc', 'radio', 'leicester', 'at', 'the', 'moment', 'there', 'are', 'still', 'a', 'lot', 'of', 'unknowns', 'about', 'andy', 'farrell', 'not', 'least', 'his', 'medical', 'situation', 'whoever', 'does', 'take', 'him', 'on', 'is', 'going', 'to', 'take', 'a', 'big', 'big', 'gamble', 'farrell', 'who', 'has', 'had', 'persistent', 'knee', 'problems', 'had', 'an', 'operation', 'on', 'his', 'knee', 'five', 'weeks', 'ago', 'and', 'is', 'expected', 'to', 'be', 'out', 'for', 'another', 'three', 'months', 'leicester', 'and', 'saracens', 'are', 'believed', 'to', 'head', 'the', 'list', 'of', 'rugby', 'union', 'clubs', 'interested', 'in', 'signing', 'farrell', 'if', 'he', 'decides', 'to', 'move', 'to', 'the', '15', 'man', 'game', 'if', 'he', 'does', 'move', 'across', 'to', 'union', 'wells', 'believes', 'he', 'would', 'better', 'off', 'playing', 'in', 'the', 'backs', 'at', 'least', 'initially', 'i', 'm', 'sure', 'he', 'could', 'make', 'the', 'step', 'between', 'league', 'and', 'union', 'by', 'being', 'involved', 'in', 'the', 'centre', 'said', 'wells', 'i', 'think', 'england', 'would', 'prefer', 'him', 'to', 'progress', 'to', 'a', 'position', 'in', 'the', 'back', 'row', 'where', 'they', 'can', 'make', 'use', 'of', 'some', 'of', 'his', 'rugby', 'league', 'skills', 'within', 'the', 'forwards', 'the', 'jury', 'is', 'out', 'on', 'whether', 'he', 'can', 'cross', 'that', 'divide', 'at', 'this', 'club', 'the', 'balance', 'will', 'have', 'to', 'be', 'struck', 'between', 'the', 'cost', 'of', 'that', 'gamble', 'and', 'the', 'option', 'of', 'bringing', 'in', 'a', 'ready', 'made', 'replacement']\n"
     ]
    }
   ],
   "source": [
    "for file_id in data_list[:3]:\n",
    "  print(file_id)"
   ]
  },
  {
   "cell_type": "markdown",
   "metadata": {
    "id": "aleHavwG1Ihn"
   },
   "source": [
    "## 2.2.Lower Case"
   ]
  },
  {
   "cell_type": "code",
   "execution_count": null,
   "metadata": {
    "colab": {
     "base_uri": "https://localhost:8080/"
    },
    "executionInfo": {
     "elapsed": 33363,
     "status": "ok",
     "timestamp": 1611200454143,
     "user": {
      "displayName": "Sutithi Chakraborty",
      "photoUrl": "",
      "userId": "12749148906436566424"
     },
     "user_tz": -330
    },
    "id": "47KG0vMxSoL5",
    "outputId": "1eaf3346-1bea-4e00-c4da-1b170864afdb"
   },
   "outputs": [
    {
     "name": "stdout",
     "output_type": "stream",
     "text": [
      "[['tv', 'future', 'in', 'the', 'hands', 'of', 'viewers', 'with', 'home', 'theatre', 'systems', 'plasma', 'high', 'definition', 'tvs', 'and', 'digital', 'video', 'recorders', 'moving', 'into', 'the', 'living', 'room', 'the', 'way', 'people', 'watch', 'tv', 'will', 'be', 'radically', 'different', 'in', 'five', 'years', 'time', 'that', 'is', 'according', 'to', 'an', 'expert', 'panel', 'which', 'gathered', 'at', 'the', 'annual', 'consumer', 'electronics', 'show', 'in', 'las', 'vegas', 'to', 'discuss', 'how', 'these', 'new', 'technologies', 'will', 'impact', 'one', 'of', 'our', 'favourite', 'pastimes', 'with', 'the', 'us', 'leading', 'the', 'trend', 'programmes', 'and', 'other', 'content', 'will', 'be', 'delivered', 'to', 'viewers', 'via', 'home', 'networks', 'through', 'cable', 'satellite', 'telecoms', 'companies', 'and', 'broadband', 'service', 'providers', 'to', 'front', 'rooms', 'and', 'portable', 'devices', 'one', 'of', 'the', 'most', 'talked', 'about', 'technologies', 'of', 'ces', 'has', 'been', 'digital', 'and', 'personal', 'video', 'recorders', 'dvr', 'and', 'pvr', 'these', 'set', 'top', 'boxes', 'like', 'the', 'us', 's', 'tivo', 'and', 'the', 'uk', 's', 'sky', 'system', 'allow', 'people', 'to', 'record', 'store', 'play', 'pause', 'and', 'forward', 'wind', 'tv', 'programmes', 'when', 'they', 'want', 'essentially', 'the', 'technology', 'allows', 'for', 'much', 'more', 'personalised', 'tv', 'they', 'are', 'also', 'being', 'built', 'in', 'to', 'high', 'definition', 'tv', 'sets', 'which', 'are', 'big', 'business', 'in', 'japan', 'and', 'the', 'us', 'but', 'slower', 'to', 'take', 'off', 'in', 'europe', 'because', 'of', 'the', 'lack', 'of', 'high', 'definition', 'programming', 'not', 'only', 'can', 'people', 'forward', 'wind', 'through', 'adverts', 'they', 'can', 'also', 'forget', 'about', 'abiding', 'by', 'network', 'and', 'channel', 'schedules', 'putting', 'together', 'their', 'own', 'a', 'la', 'carte', 'entertainment', 'but', 'some', 'us', 'networks', 'and', 'cable', 'and', 'satellite', 'companies', 'are', 'worried', 'about', 'what', 'it', 'means', 'for', 'them', 'in', 'terms', 'of', 'advertising', 'revenues', 'as', 'well', 'as', 'brand', 'identity', 'and', 'viewer', 'loyalty', 'to', 'channels', 'although', 'the', 'us', 'leads', 'in', 'this', 'technology', 'at', 'the', 'moment', 'it', 'is', 'also', 'a', 'concern', 'that', 'is', 'being', 'raised', 'in', 'europe', 'particularly', 'with', 'the', 'growing', 'uptake', 'of', 'services', 'like', 'sky', 'what', 'happens', 'here', 'today', 'we', 'will', 'see', 'in', 'nine', 'months', 'to', 'a', 'years', 'time', 'in', 'the', 'uk', 'adam', 'hume', 'the', 'bbc', 'broadcast', 's', 'futurologist', 'told', 'the', 'bbc', 'news', 'website', 'for', 'the', 'likes', 'of', 'the', 'bbc', 'there', 'are', 'no', 'issues', 'of', 'lost', 'advertising', 'revenue', 'yet', 'it', 'is', 'a', 'more', 'pressing', 'issue', 'at', 'the', 'moment', 'for', 'commercial', 'uk', 'broadcasters', 'but', 'brand', 'loyalty', 'is', 'important', 'for', 'everyone', 'we', 'will', 'be', 'talking', 'more', 'about', 'content', 'brands', 'rather', 'than', 'network', 'brands', 'said', 'tim', 'hanlon', 'from', 'brand', 'communications', 'firm', 'starcom', 'mediavest', 'the', 'reality', 'is', 'that', 'with', 'broadband', 'connections', 'anybody', 'can', 'be', 'the', 'producer', 'of', 'content', 'he', 'added', 'the', 'challenge', 'now', 'is', 'that', 'it', 'is', 'hard', 'to', 'promote', 'a', 'programme', 'with', 'so', 'much', 'choice', 'what', 'this', 'means', 'said', 'stacey', 'jolna', 'senior', 'vice', 'president', 'of', 'tv', 'guide', 'tv', 'group', 'is', 'that', 'the', 'way', 'people', 'find', 'the', 'content', 'they', 'want', 'to', 'watch', 'has', 'to', 'be', 'simplified', 'for', 'tv', 'viewers', 'it', 'means', 'that', 'networks', 'in', 'us', 'terms', 'or', 'channels', 'could', 'take', 'a', 'leaf', 'out', 'of', 'google', 's', 'book', 'and', 'be', 'the', 'search', 'engine', 'of', 'the', 'future', 'instead', 'of', 'the', 'scheduler', 'to', 'help', 'people', 'find', 'what', 'they', 'want', 'to', 'watch', 'this', 'kind', 'of', 'channel', 'model', 'might', 'work', 'for', 'the', 'younger', 'ipod', 'generation', 'which', 'is', 'used', 'to', 'taking', 'control', 'of', 'their', 'gadgets', 'and', 'what', 'they', 'play', 'on', 'them', 'but', 'it', 'might', 'not', 'suit', 'everyone', 'the', 'panel', 'recognised', 'older', 'generations', 'are', 'more', 'comfortable', 'with', 'familiar', 'schedules', 'and', 'channel', 'brands', 'because', 'they', 'know', 'what', 'they', 'are', 'getting', 'they', 'perhaps', 'do', 'not', 'want', 'so', 'much', 'of', 'the', 'choice', 'put', 'into', 'their', 'hands', 'mr', 'hanlon', 'suggested', 'on', 'the', 'other', 'end', 'you', 'have', 'the', 'kids', 'just', 'out', 'of', 'diapers', 'who', 'are', 'pushing', 'buttons', 'already', 'everything', 'is', 'possible', 'and', 'available', 'to', 'them', 'said', 'mr', 'hanlon', 'ultimately', 'the', 'consumer', 'will', 'tell', 'the', 'market', 'they', 'want', 'of', 'the', '50', '000', 'new', 'gadgets', 'and', 'technologies', 'being', 'showcased', 'at', 'ces', 'many', 'of', 'them', 'are', 'about', 'enhancing', 'the', 'tv', 'watching', 'experience', 'high', 'definition', 'tv', 'sets', 'are', 'everywhere', 'and', 'many', 'new', 'models', 'of', 'lcd', 'liquid', 'crystal', 'display', 'tvs', 'have', 'been', 'launched', 'with', 'dvr', 'capability', 'built', 'into', 'them', 'instead', 'of', 'being', 'external', 'boxes', 'one', 'such', 'example', 'launched', 'at', 'the', 'show', 'is', 'humax', 's', '26', 'inch', 'lcd', 'tv', 'with', 'an', '80', 'hour', 'tivo', 'dvr', 'and', 'dvd', 'recorder', 'one', 'of', 'the', 'us', 's', 'biggest', 'satellite', 'tv', 'companies', 'directtv', 'has', 'even', 'launched', 'its', 'own', 'branded', 'dvr', 'at', 'the', 'show', 'with', '100', 'hours', 'of', 'recording', 'capability', 'instant', 'replay', 'and', 'a', 'search', 'function', 'the', 'set', 'can', 'pause', 'and', 'rewind', 'tv', 'for', 'up', 'to', '90', 'hours', 'and', 'microsoft', 'chief', 'bill', 'gates', 'announced', 'in', 'his', 'pre', 'show', 'keynote', 'speech', 'a', 'partnership', 'with', 'tivo', 'called', 'tivotogo', 'which', 'means', 'people', 'can', 'play', 'recorded', 'programmes', 'on', 'windows', 'pcs', 'and', 'mobile', 'devices', 'all', 'these', 'reflect', 'the', 'increasing', 'trend', 'of', 'freeing', 'up', 'multimedia', 'so', 'that', 'people', 'can', 'watch', 'what', 'they', 'want', 'when', 'they', 'want'], ['worldcom', 'boss', 'left', 'books', 'alone', 'former', 'worldcom', 'boss', 'bernie', 'ebbers', 'who', 'is', 'accused', 'of', 'overseeing', 'an', '11bn', '5', '8bn', 'fraud', 'never', 'made', 'accounting', 'decisions', 'a', 'witness', 'has', 'told', 'jurors', 'david', 'myers', 'made', 'the', 'comments', 'under', 'questioning', 'by', 'defence', 'lawyers', 'who', 'have', 'been', 'arguing', 'that', 'mr', 'ebbers', 'was', 'not', 'responsible', 'for', 'worldcom', 's', 'problems', 'the', 'phone', 'company', 'collapsed', 'in', '2002', 'and', 'prosecutors', 'claim', 'that', 'losses', 'were', 'hidden', 'to', 'protect', 'the', 'firm', 's', 'shares', 'mr', 'myers', 'has', 'already', 'pleaded', 'guilty', 'to', 'fraud', 'and', 'is', 'assisting', 'prosecutors', 'on', 'monday', 'defence', 'lawyer', 'reid', 'weingarten', 'tried', 'to', 'distance', 'his', 'client', 'from', 'the', 'allegations', 'during', 'cross', 'examination', 'he', 'asked', 'mr', 'myers', 'if', 'he', 'ever', 'knew', 'mr', 'ebbers', 'make', 'an', 'accounting', 'decision', 'not', 'that', 'i', 'am', 'aware', 'of', 'mr', 'myers', 'replied', 'did', 'you', 'ever', 'know', 'mr', 'ebbers', 'to', 'make', 'an', 'accounting', 'entry', 'into', 'worldcom', 'books', 'mr', 'weingarten', 'pressed', 'no', 'replied', 'the', 'witness', 'mr', 'myers', 'has', 'admitted', 'that', 'he', 'ordered', 'false', 'accounting', 'entries', 'at', 'the', 'request', 'of', 'former', 'worldcom', 'chief', 'financial', 'officer', 'scott', 'sullivan', 'defence', 'lawyers', 'have', 'been', 'trying', 'to', 'paint', 'mr', 'sullivan', 'who', 'has', 'admitted', 'fraud', 'and', 'will', 'testify', 'later', 'in', 'the', 'trial', 'as', 'the', 'mastermind', 'behind', 'worldcom', 's', 'accounting', 'house', 'of', 'cards', 'mr', 'ebbers', 'team', 'meanwhile', 'are', 'looking', 'to', 'portray', 'him', 'as', 'an', 'affable', 'boss', 'who', 'by', 'his', 'own', 'admission', 'is', 'more', 'pe', 'graduate', 'than', 'economist', 'whatever', 'his', 'abilities', 'mr', 'ebbers', 'transformed', 'worldcom', 'from', 'a', 'relative', 'unknown', 'into', 'a', '160bn', 'telecoms', 'giant', 'and', 'investor', 'darling', 'of', 'the', 'late', '1990s', 'worldcom', 's', 'problems', 'mounted', 'however', 'as', 'competition', 'increased', 'and', 'the', 'telecoms', 'boom', 'petered', 'out', 'when', 'the', 'firm', 'finally', 'collapsed', 'shareholders', 'lost', 'about', '180bn', 'and', '20', '000', 'workers', 'lost', 'their', 'jobs', 'mr', 'ebbers', 'trial', 'is', 'expected', 'to', 'last', 'two', 'months', 'and', 'if', 'found', 'guilty', 'the', 'former', 'ceo', 'faces', 'a', 'substantial', 'jail', 'sentence', 'he', 'has', 'firmly', 'declared', 'his', 'innocence'], ['tigers', 'wary', 'of', 'farrell', 'gamble', 'leicester', 'say', 'they', 'will', 'not', 'be', 'rushed', 'into', 'making', 'a', 'bid', 'for', 'andy', 'farrell', 'should', 'the', 'great', 'britain', 'rugby', 'league', 'captain', 'decide', 'to', 'switch', 'codes', 'we', 'and', 'anybody', 'else', 'involved', 'in', 'the', 'process', 'are', 'still', 'some', 'way', 'away', 'from', 'going', 'to', 'the', 'next', 'stage', 'tigers', 'boss', 'john', 'wells', 'told', 'bbc', 'radio', 'leicester', 'at', 'the', 'moment', 'there', 'are', 'still', 'a', 'lot', 'of', 'unknowns', 'about', 'andy', 'farrell', 'not', 'least', 'his', 'medical', 'situation', 'whoever', 'does', 'take', 'him', 'on', 'is', 'going', 'to', 'take', 'a', 'big', 'big', 'gamble', 'farrell', 'who', 'has', 'had', 'persistent', 'knee', 'problems', 'had', 'an', 'operation', 'on', 'his', 'knee', 'five', 'weeks', 'ago', 'and', 'is', 'expected', 'to', 'be', 'out', 'for', 'another', 'three', 'months', 'leicester', 'and', 'saracens', 'are', 'believed', 'to', 'head', 'the', 'list', 'of', 'rugby', 'union', 'clubs', 'interested', 'in', 'signing', 'farrell', 'if', 'he', 'decides', 'to', 'move', 'to', 'the', '15', 'man', 'game', 'if', 'he', 'does', 'move', 'across', 'to', 'union', 'wells', 'believes', 'he', 'would', 'better', 'off', 'playing', 'in', 'the', 'backs', 'at', 'least', 'initially', 'i', 'm', 'sure', 'he', 'could', 'make', 'the', 'step', 'between', 'league', 'and', 'union', 'by', 'being', 'involved', 'in', 'the', 'centre', 'said', 'wells', 'i', 'think', 'england', 'would', 'prefer', 'him', 'to', 'progress', 'to', 'a', 'position', 'in', 'the', 'back', 'row', 'where', 'they', 'can', 'make', 'use', 'of', 'some', 'of', 'his', 'rugby', 'league', 'skills', 'within', 'the', 'forwards', 'the', 'jury', 'is', 'out', 'on', 'whether', 'he', 'can', 'cross', 'that', 'divide', 'at', 'this', 'club', 'the', 'balance', 'will', 'have', 'to', 'be', 'struck', 'between', 'the', 'cost', 'of', 'that', 'gamble', 'and', 'the', 'option', 'of', 'bringing', 'in', 'a', 'ready', 'made', 'replacement']]\n"
     ]
    }
   ],
   "source": [
    "low=[]\n",
    "for line in data_list:\n",
    "  lines = list(map(lambda x : x.lower(),line))\n",
    "  low.append(lines) \n",
    "print(low[:3])"
   ]
  },
  {
   "cell_type": "markdown",
   "metadata": {
    "id": "DFzCpnAr9Bw0"
   },
   "source": [
    "## 2.3.Removing Stopwords"
   ]
  },
  {
   "cell_type": "markdown",
   "metadata": {
    "_uuid": "1b0ead76f4f3eeb725cdad927053df4bda1efea3",
    "id": "4duJnJXk4Ztb"
   },
   "source": [
    "Converting all words to lowercase and removing punctuations and html tags if any\n",
    "\n",
    "**Stemming**- Converting the words into their base word or stem word ( Ex - tastefully, tasty,  these words are converted to stem word called 'tasti'). This reduces the vector dimension because we dont consider all similar words  \n",
    "\n",
    "**Stopwords** - Stopwords are the unnecessary words that even if they are removed the sentiment of the sentence dosent change.\n",
    "\n",
    "Ex -    This pasta is so tasty ==> pasta tasty    ( This , is, so are stopwords so they are removed)\n",
    "\n",
    "To see all the stopwords see the below code cell."
   ]
  },
  {
   "cell_type": "markdown",
   "metadata": {
    "id": "5V3POzrb2hfU"
   },
   "source": [
    "### 2.3.1.Removing Punctuation"
   ]
  },
  {
   "cell_type": "code",
   "execution_count": null,
   "metadata": {
    "colab": {
     "base_uri": "https://localhost:8080/"
    },
    "executionInfo": {
     "elapsed": 34242,
     "status": "ok",
     "timestamp": 1611200455037,
     "user": {
      "displayName": "Sutithi Chakraborty",
      "photoUrl": "",
      "userId": "12749148906436566424"
     },
     "user_tz": -330
    },
    "id": "0qtEojLr2pkk",
    "outputId": "e613fb93-01c9-46e2-a4bf-845c930bd727"
   },
   "outputs": [
    {
     "name": "stdout",
     "output_type": "stream",
     "text": [
      "[nltk_data] Downloading package punkt to /root/nltk_data...\n",
      "[nltk_data]   Unzipping tokenizers/punkt.zip.\n"
     ]
    },
    {
     "data": {
      "text/plain": [
       "True"
      ]
     },
     "execution_count": 11,
     "metadata": {
      "tags": []
     },
     "output_type": "execute_result"
    }
   ],
   "source": [
    "nltk.download('punkt')"
   ]
  },
  {
   "cell_type": "code",
   "execution_count": null,
   "metadata": {
    "colab": {
     "base_uri": "https://localhost:8080/"
    },
    "executionInfo": {
     "elapsed": 34228,
     "status": "ok",
     "timestamp": 1611200455038,
     "user": {
      "displayName": "Sutithi Chakraborty",
      "photoUrl": "",
      "userId": "12749148906436566424"
     },
     "user_tz": -330
    },
    "id": "B2akKbFI2j2b",
    "outputId": "94eda38f-5b05-416e-d600-03295760b7db"
   },
   "outputs": [
    {
     "name": "stdout",
     "output_type": "stream",
     "text": [
      "750\n",
      "750\n"
     ]
    }
   ],
   "source": [
    "# Remove Punctuation\n",
    "  \n",
    "#stop_words = set(stopwords.words('english')) \n",
    "puncList = [\";\",\":\",\"!\",\"?\",\"/\",\"\\\\\",\",\",\"#\",\"@\",\"$\",\"&\",\")\",\"(\",\"\\\"\"]\n",
    "\n",
    "#word_tokens = word_tokenize(text_tokens) \n",
    "\n",
    "Punc_filtered_sentence = [] \n",
    "\n",
    "for lines in low:\n",
    "  punc = []\n",
    "  for w in lines: \n",
    "      if w not in puncList: \n",
    "          punc.append(w) \n",
    "  Punc_filtered_sentence.append(punc)\n",
    "\n",
    "print(len(low[0])) \n",
    "print(len(Punc_filtered_sentence[0])) "
   ]
  },
  {
   "cell_type": "code",
   "execution_count": null,
   "metadata": {
    "colab": {
     "base_uri": "https://localhost:8080/"
    },
    "executionInfo": {
     "elapsed": 34215,
     "status": "ok",
     "timestamp": 1611200455040,
     "user": {
      "displayName": "Sutithi Chakraborty",
      "photoUrl": "",
      "userId": "12749148906436566424"
     },
     "user_tz": -330
    },
    "id": "KzLraFlRc1cI",
    "outputId": "24e78b71-75b2-45ff-bdd7-4388b96aff8a"
   },
   "outputs": [
    {
     "name": "stdout",
     "output_type": "stream",
     "text": [
      "['tv', 'future', 'in', 'the', 'hands', 'of', 'viewers', 'with', 'home', 'theatre', 'systems', 'plasma', 'high', 'definition', 'tvs', 'and', 'digital', 'video', 'recorders', 'moving', 'into', 'the', 'living', 'room', 'the', 'way', 'people', 'watch', 'tv', 'will', 'be', 'radically', 'different', 'in', 'five', 'years', 'time', 'that', 'is', 'according', 'to', 'an', 'expert', 'panel', 'which', 'gathered', 'at', 'the', 'annual', 'consumer', 'electronics', 'show', 'in', 'las', 'vegas', 'to', 'discuss', 'how', 'these', 'new', 'technologies', 'will', 'impact', 'one', 'of', 'our', 'favourite', 'pastimes', 'with', 'the', 'us', 'leading', 'the', 'trend', 'programmes', 'and', 'other', 'content', 'will', 'be', 'delivered', 'to', 'viewers', 'via', 'home', 'networks', 'through', 'cable', 'satellite', 'telecoms', 'companies', 'and', 'broadband', 'service', 'providers', 'to', 'front', 'rooms', 'and', 'portable', 'devices', 'one', 'of', 'the', 'most', 'talked', 'about', 'technologies', 'of', 'ces', 'has', 'been', 'digital', 'and', 'personal', 'video', 'recorders', 'dvr', 'and', 'pvr', 'these', 'set', 'top', 'boxes', 'like', 'the', 'us', 's', 'tivo', 'and', 'the', 'uk', 's', 'sky', 'system', 'allow', 'people', 'to', 'record', 'store', 'play', 'pause', 'and', 'forward', 'wind', 'tv', 'programmes', 'when', 'they', 'want', 'essentially', 'the', 'technology', 'allows', 'for', 'much', 'more', 'personalised', 'tv', 'they', 'are', 'also', 'being', 'built', 'in', 'to', 'high', 'definition', 'tv', 'sets', 'which', 'are', 'big', 'business', 'in', 'japan', 'and', 'the', 'us', 'but', 'slower', 'to', 'take', 'off', 'in', 'europe', 'because', 'of', 'the', 'lack', 'of', 'high', 'definition', 'programming', 'not', 'only', 'can', 'people', 'forward', 'wind', 'through', 'adverts', 'they', 'can', 'also', 'forget', 'about', 'abiding', 'by', 'network', 'and', 'channel', 'schedules', 'putting', 'together', 'their', 'own', 'a', 'la', 'carte', 'entertainment', 'but', 'some', 'us', 'networks', 'and', 'cable', 'and', 'satellite', 'companies', 'are', 'worried', 'about', 'what', 'it', 'means', 'for', 'them', 'in', 'terms', 'of', 'advertising', 'revenues', 'as', 'well', 'as', 'brand', 'identity', 'and', 'viewer', 'loyalty', 'to', 'channels', 'although', 'the', 'us', 'leads', 'in', 'this', 'technology', 'at', 'the', 'moment', 'it', 'is', 'also', 'a', 'concern', 'that', 'is', 'being', 'raised', 'in', 'europe', 'particularly', 'with', 'the', 'growing', 'uptake', 'of', 'services', 'like', 'sky', 'what', 'happens', 'here', 'today', 'we', 'will', 'see', 'in', 'nine', 'months', 'to', 'a', 'years', 'time', 'in', 'the', 'uk', 'adam', 'hume', 'the', 'bbc', 'broadcast', 's', 'futurologist', 'told', 'the', 'bbc', 'news', 'website', 'for', 'the', 'likes', 'of', 'the', 'bbc', 'there', 'are', 'no', 'issues', 'of', 'lost', 'advertising', 'revenue', 'yet', 'it', 'is', 'a', 'more', 'pressing', 'issue', 'at', 'the', 'moment', 'for', 'commercial', 'uk', 'broadcasters', 'but', 'brand', 'loyalty', 'is', 'important', 'for', 'everyone', 'we', 'will', 'be', 'talking', 'more', 'about', 'content', 'brands', 'rather', 'than', 'network', 'brands', 'said', 'tim', 'hanlon', 'from', 'brand', 'communications', 'firm', 'starcom', 'mediavest', 'the', 'reality', 'is', 'that', 'with', 'broadband', 'connections', 'anybody', 'can', 'be', 'the', 'producer', 'of', 'content', 'he', 'added', 'the', 'challenge', 'now', 'is', 'that', 'it', 'is', 'hard', 'to', 'promote', 'a', 'programme', 'with', 'so', 'much', 'choice', 'what', 'this', 'means', 'said', 'stacey', 'jolna', 'senior', 'vice', 'president', 'of', 'tv', 'guide', 'tv', 'group', 'is', 'that', 'the', 'way', 'people', 'find', 'the', 'content', 'they', 'want', 'to', 'watch', 'has', 'to', 'be', 'simplified', 'for', 'tv', 'viewers', 'it', 'means', 'that', 'networks', 'in', 'us', 'terms', 'or', 'channels', 'could', 'take', 'a', 'leaf', 'out', 'of', 'google', 's', 'book', 'and', 'be', 'the', 'search', 'engine', 'of', 'the', 'future', 'instead', 'of', 'the', 'scheduler', 'to', 'help', 'people', 'find', 'what', 'they', 'want', 'to', 'watch', 'this', 'kind', 'of', 'channel', 'model', 'might', 'work', 'for', 'the', 'younger', 'ipod', 'generation', 'which', 'is', 'used', 'to', 'taking', 'control', 'of', 'their', 'gadgets', 'and', 'what', 'they', 'play', 'on', 'them', 'but', 'it', 'might', 'not', 'suit', 'everyone', 'the', 'panel', 'recognised', 'older', 'generations', 'are', 'more', 'comfortable', 'with', 'familiar', 'schedules', 'and', 'channel', 'brands', 'because', 'they', 'know', 'what', 'they', 'are', 'getting', 'they', 'perhaps', 'do', 'not', 'want', 'so', 'much', 'of', 'the', 'choice', 'put', 'into', 'their', 'hands', 'mr', 'hanlon', 'suggested', 'on', 'the', 'other', 'end', 'you', 'have', 'the', 'kids', 'just', 'out', 'of', 'diapers', 'who', 'are', 'pushing', 'buttons', 'already', 'everything', 'is', 'possible', 'and', 'available', 'to', 'them', 'said', 'mr', 'hanlon', 'ultimately', 'the', 'consumer', 'will', 'tell', 'the', 'market', 'they', 'want', 'of', 'the', '50', '000', 'new', 'gadgets', 'and', 'technologies', 'being', 'showcased', 'at', 'ces', 'many', 'of', 'them', 'are', 'about', 'enhancing', 'the', 'tv', 'watching', 'experience', 'high', 'definition', 'tv', 'sets', 'are', 'everywhere', 'and', 'many', 'new', 'models', 'of', 'lcd', 'liquid', 'crystal', 'display', 'tvs', 'have', 'been', 'launched', 'with', 'dvr', 'capability', 'built', 'into', 'them', 'instead', 'of', 'being', 'external', 'boxes', 'one', 'such', 'example', 'launched', 'at', 'the', 'show', 'is', 'humax', 's', '26', 'inch', 'lcd', 'tv', 'with', 'an', '80', 'hour', 'tivo', 'dvr', 'and', 'dvd', 'recorder', 'one', 'of', 'the', 'us', 's', 'biggest', 'satellite', 'tv', 'companies', 'directtv', 'has', 'even', 'launched', 'its', 'own', 'branded', 'dvr', 'at', 'the', 'show', 'with', '100', 'hours', 'of', 'recording', 'capability', 'instant', 'replay', 'and', 'a', 'search', 'function', 'the', 'set', 'can', 'pause', 'and', 'rewind', 'tv', 'for', 'up', 'to', '90', 'hours', 'and', 'microsoft', 'chief', 'bill', 'gates', 'announced', 'in', 'his', 'pre', 'show', 'keynote', 'speech', 'a', 'partnership', 'with', 'tivo', 'called', 'tivotogo', 'which', 'means', 'people', 'can', 'play', 'recorded', 'programmes', 'on', 'windows', 'pcs', 'and', 'mobile', 'devices', 'all', 'these', 'reflect', 'the', 'increasing', 'trend', 'of', 'freeing', 'up', 'multimedia', 'so', 'that', 'people', 'can', 'watch', 'what', 'they', 'want', 'when', 'they', 'want']\n"
     ]
    }
   ],
   "source": [
    "print(low[0])"
   ]
  },
  {
   "cell_type": "code",
   "execution_count": null,
   "metadata": {
    "colab": {
     "base_uri": "https://localhost:8080/"
    },
    "executionInfo": {
     "elapsed": 34202,
     "status": "ok",
     "timestamp": 1611200455044,
     "user": {
      "displayName": "Sutithi Chakraborty",
      "photoUrl": "",
      "userId": "12749148906436566424"
     },
     "user_tz": -330
    },
    "id": "DVOL7iWjc1f2",
    "outputId": "cd482439-45ae-412c-fd60-d35fe7ae53c3"
   },
   "outputs": [
    {
     "name": "stdout",
     "output_type": "stream",
     "text": [
      "['tv', 'future', 'in', 'the', 'hands', 'of', 'viewers', 'with', 'home', 'theatre', 'systems', 'plasma', 'high', 'definition', 'tvs', 'and', 'digital', 'video', 'recorders', 'moving', 'into', 'the', 'living', 'room', 'the', 'way', 'people', 'watch', 'tv', 'will', 'be', 'radically', 'different', 'in', 'five', 'years', 'time', 'that', 'is', 'according', 'to', 'an', 'expert', 'panel', 'which', 'gathered', 'at', 'the', 'annual', 'consumer', 'electronics', 'show', 'in', 'las', 'vegas', 'to', 'discuss', 'how', 'these', 'new', 'technologies', 'will', 'impact', 'one', 'of', 'our', 'favourite', 'pastimes', 'with', 'the', 'us', 'leading', 'the', 'trend', 'programmes', 'and', 'other', 'content', 'will', 'be', 'delivered', 'to', 'viewers', 'via', 'home', 'networks', 'through', 'cable', 'satellite', 'telecoms', 'companies', 'and', 'broadband', 'service', 'providers', 'to', 'front', 'rooms', 'and', 'portable', 'devices', 'one', 'of', 'the', 'most', 'talked', 'about', 'technologies', 'of', 'ces', 'has', 'been', 'digital', 'and', 'personal', 'video', 'recorders', 'dvr', 'and', 'pvr', 'these', 'set', 'top', 'boxes', 'like', 'the', 'us', 's', 'tivo', 'and', 'the', 'uk', 's', 'sky', 'system', 'allow', 'people', 'to', 'record', 'store', 'play', 'pause', 'and', 'forward', 'wind', 'tv', 'programmes', 'when', 'they', 'want', 'essentially', 'the', 'technology', 'allows', 'for', 'much', 'more', 'personalised', 'tv', 'they', 'are', 'also', 'being', 'built', 'in', 'to', 'high', 'definition', 'tv', 'sets', 'which', 'are', 'big', 'business', 'in', 'japan', 'and', 'the', 'us', 'but', 'slower', 'to', 'take', 'off', 'in', 'europe', 'because', 'of', 'the', 'lack', 'of', 'high', 'definition', 'programming', 'not', 'only', 'can', 'people', 'forward', 'wind', 'through', 'adverts', 'they', 'can', 'also', 'forget', 'about', 'abiding', 'by', 'network', 'and', 'channel', 'schedules', 'putting', 'together', 'their', 'own', 'a', 'la', 'carte', 'entertainment', 'but', 'some', 'us', 'networks', 'and', 'cable', 'and', 'satellite', 'companies', 'are', 'worried', 'about', 'what', 'it', 'means', 'for', 'them', 'in', 'terms', 'of', 'advertising', 'revenues', 'as', 'well', 'as', 'brand', 'identity', 'and', 'viewer', 'loyalty', 'to', 'channels', 'although', 'the', 'us', 'leads', 'in', 'this', 'technology', 'at', 'the', 'moment', 'it', 'is', 'also', 'a', 'concern', 'that', 'is', 'being', 'raised', 'in', 'europe', 'particularly', 'with', 'the', 'growing', 'uptake', 'of', 'services', 'like', 'sky', 'what', 'happens', 'here', 'today', 'we', 'will', 'see', 'in', 'nine', 'months', 'to', 'a', 'years', 'time', 'in', 'the', 'uk', 'adam', 'hume', 'the', 'bbc', 'broadcast', 's', 'futurologist', 'told', 'the', 'bbc', 'news', 'website', 'for', 'the', 'likes', 'of', 'the', 'bbc', 'there', 'are', 'no', 'issues', 'of', 'lost', 'advertising', 'revenue', 'yet', 'it', 'is', 'a', 'more', 'pressing', 'issue', 'at', 'the', 'moment', 'for', 'commercial', 'uk', 'broadcasters', 'but', 'brand', 'loyalty', 'is', 'important', 'for', 'everyone', 'we', 'will', 'be', 'talking', 'more', 'about', 'content', 'brands', 'rather', 'than', 'network', 'brands', 'said', 'tim', 'hanlon', 'from', 'brand', 'communications', 'firm', 'starcom', 'mediavest', 'the', 'reality', 'is', 'that', 'with', 'broadband', 'connections', 'anybody', 'can', 'be', 'the', 'producer', 'of', 'content', 'he', 'added', 'the', 'challenge', 'now', 'is', 'that', 'it', 'is', 'hard', 'to', 'promote', 'a', 'programme', 'with', 'so', 'much', 'choice', 'what', 'this', 'means', 'said', 'stacey', 'jolna', 'senior', 'vice', 'president', 'of', 'tv', 'guide', 'tv', 'group', 'is', 'that', 'the', 'way', 'people', 'find', 'the', 'content', 'they', 'want', 'to', 'watch', 'has', 'to', 'be', 'simplified', 'for', 'tv', 'viewers', 'it', 'means', 'that', 'networks', 'in', 'us', 'terms', 'or', 'channels', 'could', 'take', 'a', 'leaf', 'out', 'of', 'google', 's', 'book', 'and', 'be', 'the', 'search', 'engine', 'of', 'the', 'future', 'instead', 'of', 'the', 'scheduler', 'to', 'help', 'people', 'find', 'what', 'they', 'want', 'to', 'watch', 'this', 'kind', 'of', 'channel', 'model', 'might', 'work', 'for', 'the', 'younger', 'ipod', 'generation', 'which', 'is', 'used', 'to', 'taking', 'control', 'of', 'their', 'gadgets', 'and', 'what', 'they', 'play', 'on', 'them', 'but', 'it', 'might', 'not', 'suit', 'everyone', 'the', 'panel', 'recognised', 'older', 'generations', 'are', 'more', 'comfortable', 'with', 'familiar', 'schedules', 'and', 'channel', 'brands', 'because', 'they', 'know', 'what', 'they', 'are', 'getting', 'they', 'perhaps', 'do', 'not', 'want', 'so', 'much', 'of', 'the', 'choice', 'put', 'into', 'their', 'hands', 'mr', 'hanlon', 'suggested', 'on', 'the', 'other', 'end', 'you', 'have', 'the', 'kids', 'just', 'out', 'of', 'diapers', 'who', 'are', 'pushing', 'buttons', 'already', 'everything', 'is', 'possible', 'and', 'available', 'to', 'them', 'said', 'mr', 'hanlon', 'ultimately', 'the', 'consumer', 'will', 'tell', 'the', 'market', 'they', 'want', 'of', 'the', '50', '000', 'new', 'gadgets', 'and', 'technologies', 'being', 'showcased', 'at', 'ces', 'many', 'of', 'them', 'are', 'about', 'enhancing', 'the', 'tv', 'watching', 'experience', 'high', 'definition', 'tv', 'sets', 'are', 'everywhere', 'and', 'many', 'new', 'models', 'of', 'lcd', 'liquid', 'crystal', 'display', 'tvs', 'have', 'been', 'launched', 'with', 'dvr', 'capability', 'built', 'into', 'them', 'instead', 'of', 'being', 'external', 'boxes', 'one', 'such', 'example', 'launched', 'at', 'the', 'show', 'is', 'humax', 's', '26', 'inch', 'lcd', 'tv', 'with', 'an', '80', 'hour', 'tivo', 'dvr', 'and', 'dvd', 'recorder', 'one', 'of', 'the', 'us', 's', 'biggest', 'satellite', 'tv', 'companies', 'directtv', 'has', 'even', 'launched', 'its', 'own', 'branded', 'dvr', 'at', 'the', 'show', 'with', '100', 'hours', 'of', 'recording', 'capability', 'instant', 'replay', 'and', 'a', 'search', 'function', 'the', 'set', 'can', 'pause', 'and', 'rewind', 'tv', 'for', 'up', 'to', '90', 'hours', 'and', 'microsoft', 'chief', 'bill', 'gates', 'announced', 'in', 'his', 'pre', 'show', 'keynote', 'speech', 'a', 'partnership', 'with', 'tivo', 'called', 'tivotogo', 'which', 'means', 'people', 'can', 'play', 'recorded', 'programmes', 'on', 'windows', 'pcs', 'and', 'mobile', 'devices', 'all', 'these', 'reflect', 'the', 'increasing', 'trend', 'of', 'freeing', 'up', 'multimedia', 'so', 'that', 'people', 'can', 'watch', 'what', 'they', 'want', 'when', 'they', 'want']\n"
     ]
    }
   ],
   "source": [
    "print(Punc_filtered_sentence[0])"
   ]
  },
  {
   "cell_type": "markdown",
   "metadata": {
    "id": "ZdaaR23Z1Kop"
   },
   "source": [
    "### 2.3.2.Removing the Stop Words"
   ]
  },
  {
   "cell_type": "code",
   "execution_count": null,
   "metadata": {
    "colab": {
     "base_uri": "https://localhost:8080/"
    },
    "executionInfo": {
     "elapsed": 34188,
     "status": "ok",
     "timestamp": 1611200455045,
     "user": {
      "displayName": "Sutithi Chakraborty",
      "photoUrl": "",
      "userId": "12749148906436566424"
     },
     "user_tz": -330
    },
    "id": "4jBdZY5V1iDU",
    "outputId": "1c439956-8d58-41f4-ee09-2372624b761d"
   },
   "outputs": [
    {
     "name": "stdout",
     "output_type": "stream",
     "text": [
      "[nltk_data] Downloading package stopwords to /root/nltk_data...\n",
      "[nltk_data]   Unzipping corpora/stopwords.zip.\n"
     ]
    },
    {
     "data": {
      "text/plain": [
       "True"
      ]
     },
     "execution_count": 15,
     "metadata": {
      "tags": []
     },
     "output_type": "execute_result"
    }
   ],
   "source": [
    "import nltk\n",
    "from nltk.corpus import stopwords\n",
    "nltk.download('stopwords')"
   ]
  },
  {
   "cell_type": "code",
   "execution_count": null,
   "metadata": {
    "colab": {
     "base_uri": "https://localhost:8080/"
    },
    "executionInfo": {
     "elapsed": 34174,
     "status": "ok",
     "timestamp": 1611200455046,
     "user": {
      "displayName": "Sutithi Chakraborty",
      "photoUrl": "",
      "userId": "12749148906436566424"
     },
     "user_tz": -330
    },
    "id": "rYH5FIo82pnV",
    "outputId": "3fa55c2e-7b7b-4b1b-f62e-b573df59616d"
   },
   "outputs": [
    {
     "name": "stdout",
     "output_type": "stream",
     "text": [
      "['i', 'me', 'my', 'myself', 'we', 'our', 'ours', 'ourselves', 'you', \"you're\", \"you've\", \"you'll\", \"you'd\", 'your', 'yours', 'yourself', 'yourselves', 'he', 'him', 'his', 'himself', 'she', \"she's\", 'her', 'hers', 'herself', 'it', \"it's\", 'its', 'itself', 'they', 'them', 'their', 'theirs', 'themselves', 'what', 'which', 'who', 'whom', 'this', 'that', \"that'll\", 'these', 'those', 'am', 'is', 'are', 'was', 'were', 'be', 'been', 'being', 'have', 'has', 'had', 'having', 'do', 'does', 'did', 'doing', 'a', 'an', 'the', 'and', 'but', 'if', 'or', 'because', 'as', 'until', 'while', 'of', 'at', 'by', 'for', 'with', 'about', 'against', 'between', 'into', 'through', 'during', 'before', 'after', 'above', 'below', 'to', 'from', 'up', 'down', 'in', 'out', 'on', 'off', 'over', 'under', 'again', 'further', 'then', 'once', 'here', 'there', 'when', 'where', 'why', 'how', 'all', 'any', 'both', 'each', 'few', 'more', 'most', 'other', 'some', 'such', 'no', 'nor', 'not', 'only', 'own', 'same', 'so', 'than', 'too', 'very', 's', 't', 'can', 'will', 'just', 'don', \"don't\", 'should', \"should've\", 'now', 'd', 'll', 'm', 'o', 're', 've', 'y', 'ain', 'aren', \"aren't\", 'couldn', \"couldn't\", 'didn', \"didn't\", 'doesn', \"doesn't\", 'hadn', \"hadn't\", 'hasn', \"hasn't\", 'haven', \"haven't\", 'isn', \"isn't\", 'ma', 'mightn', \"mightn't\", 'mustn', \"mustn't\", 'needn', \"needn't\", 'shan', \"shan't\", 'shouldn', \"shouldn't\", 'wasn', \"wasn't\", 'weren', \"weren't\", 'won', \"won't\", 'wouldn', \"wouldn't\"]\n"
     ]
    }
   ],
   "source": [
    "print(stopwords.words('english'))"
   ]
  },
  {
   "cell_type": "code",
   "execution_count": null,
   "metadata": {
    "colab": {
     "base_uri": "https://localhost:8080/"
    },
    "executionInfo": {
     "elapsed": 34158,
     "status": "ok",
     "timestamp": 1611200455047,
     "user": {
      "displayName": "Sutithi Chakraborty",
      "photoUrl": "",
      "userId": "12749148906436566424"
     },
     "user_tz": -330
    },
    "id": "SFWmxV8k2pqh",
    "outputId": "97c01094-beb3-49f6-8cae-d5b4966861dd"
   },
   "outputs": [
    {
     "name": "stdout",
     "output_type": "stream",
     "text": [
      "750\n",
      "421\n"
     ]
    }
   ],
   "source": [
    "from nltk.corpus import stopwords \n",
    "from nltk.tokenize import word_tokenize \n",
    "    \n",
    "stop_words = set(stopwords.words('english')) \n",
    "    \n",
    "filtered_sentence = [] \n",
    "\n",
    "for lines in Punc_filtered_sentence:\n",
    "  word = []\n",
    "  for w in lines: \n",
    "      if w not in stop_words: \n",
    "          word.append(w) \n",
    "  filtered_sentence.append(word)\n",
    "\n",
    "print(len(Punc_filtered_sentence[0])) \n",
    "print(len(filtered_sentence[0])) "
   ]
  },
  {
   "cell_type": "code",
   "execution_count": null,
   "metadata": {
    "colab": {
     "base_uri": "https://localhost:8080/"
    },
    "executionInfo": {
     "elapsed": 34144,
     "status": "ok",
     "timestamp": 1611200455048,
     "user": {
      "displayName": "Sutithi Chakraborty",
      "photoUrl": "",
      "userId": "12749148906436566424"
     },
     "user_tz": -330
    },
    "id": "wMmsQCFrdtLC",
    "outputId": "0fe57590-ae2a-48b9-a21c-430b260b9cd6"
   },
   "outputs": [
    {
     "name": "stdout",
     "output_type": "stream",
     "text": [
      "['tv', 'future', 'in', 'the', 'hands', 'of', 'viewers', 'with', 'home', 'theatre', 'systems', 'plasma', 'high', 'definition', 'tvs', 'and', 'digital', 'video', 'recorders', 'moving', 'into', 'the', 'living', 'room', 'the', 'way', 'people', 'watch', 'tv', 'will', 'be', 'radically', 'different', 'in', 'five', 'years', 'time', 'that', 'is', 'according', 'to', 'an', 'expert', 'panel', 'which', 'gathered', 'at', 'the', 'annual', 'consumer', 'electronics', 'show', 'in', 'las', 'vegas', 'to', 'discuss', 'how', 'these', 'new', 'technologies', 'will', 'impact', 'one', 'of', 'our', 'favourite', 'pastimes', 'with', 'the', 'us', 'leading', 'the', 'trend', 'programmes', 'and', 'other', 'content', 'will', 'be', 'delivered', 'to', 'viewers', 'via', 'home', 'networks', 'through', 'cable', 'satellite', 'telecoms', 'companies', 'and', 'broadband', 'service', 'providers', 'to', 'front', 'rooms', 'and', 'portable', 'devices', 'one', 'of', 'the', 'most', 'talked', 'about', 'technologies', 'of', 'ces', 'has', 'been', 'digital', 'and', 'personal', 'video', 'recorders', 'dvr', 'and', 'pvr', 'these', 'set', 'top', 'boxes', 'like', 'the', 'us', 's', 'tivo', 'and', 'the', 'uk', 's', 'sky', 'system', 'allow', 'people', 'to', 'record', 'store', 'play', 'pause', 'and', 'forward', 'wind', 'tv', 'programmes', 'when', 'they', 'want', 'essentially', 'the', 'technology', 'allows', 'for', 'much', 'more', 'personalised', 'tv', 'they', 'are', 'also', 'being', 'built', 'in', 'to', 'high', 'definition', 'tv', 'sets', 'which', 'are', 'big', 'business', 'in', 'japan', 'and', 'the', 'us', 'but', 'slower', 'to', 'take', 'off', 'in', 'europe', 'because', 'of', 'the', 'lack', 'of', 'high', 'definition', 'programming', 'not', 'only', 'can', 'people', 'forward', 'wind', 'through', 'adverts', 'they', 'can', 'also', 'forget', 'about', 'abiding', 'by', 'network', 'and', 'channel', 'schedules', 'putting', 'together', 'their', 'own', 'a', 'la', 'carte', 'entertainment', 'but', 'some', 'us', 'networks', 'and', 'cable', 'and', 'satellite', 'companies', 'are', 'worried', 'about', 'what', 'it', 'means', 'for', 'them', 'in', 'terms', 'of', 'advertising', 'revenues', 'as', 'well', 'as', 'brand', 'identity', 'and', 'viewer', 'loyalty', 'to', 'channels', 'although', 'the', 'us', 'leads', 'in', 'this', 'technology', 'at', 'the', 'moment', 'it', 'is', 'also', 'a', 'concern', 'that', 'is', 'being', 'raised', 'in', 'europe', 'particularly', 'with', 'the', 'growing', 'uptake', 'of', 'services', 'like', 'sky', 'what', 'happens', 'here', 'today', 'we', 'will', 'see', 'in', 'nine', 'months', 'to', 'a', 'years', 'time', 'in', 'the', 'uk', 'adam', 'hume', 'the', 'bbc', 'broadcast', 's', 'futurologist', 'told', 'the', 'bbc', 'news', 'website', 'for', 'the', 'likes', 'of', 'the', 'bbc', 'there', 'are', 'no', 'issues', 'of', 'lost', 'advertising', 'revenue', 'yet', 'it', 'is', 'a', 'more', 'pressing', 'issue', 'at', 'the', 'moment', 'for', 'commercial', 'uk', 'broadcasters', 'but', 'brand', 'loyalty', 'is', 'important', 'for', 'everyone', 'we', 'will', 'be', 'talking', 'more', 'about', 'content', 'brands', 'rather', 'than', 'network', 'brands', 'said', 'tim', 'hanlon', 'from', 'brand', 'communications', 'firm', 'starcom', 'mediavest', 'the', 'reality', 'is', 'that', 'with', 'broadband', 'connections', 'anybody', 'can', 'be', 'the', 'producer', 'of', 'content', 'he', 'added', 'the', 'challenge', 'now', 'is', 'that', 'it', 'is', 'hard', 'to', 'promote', 'a', 'programme', 'with', 'so', 'much', 'choice', 'what', 'this', 'means', 'said', 'stacey', 'jolna', 'senior', 'vice', 'president', 'of', 'tv', 'guide', 'tv', 'group', 'is', 'that', 'the', 'way', 'people', 'find', 'the', 'content', 'they', 'want', 'to', 'watch', 'has', 'to', 'be', 'simplified', 'for', 'tv', 'viewers', 'it', 'means', 'that', 'networks', 'in', 'us', 'terms', 'or', 'channels', 'could', 'take', 'a', 'leaf', 'out', 'of', 'google', 's', 'book', 'and', 'be', 'the', 'search', 'engine', 'of', 'the', 'future', 'instead', 'of', 'the', 'scheduler', 'to', 'help', 'people', 'find', 'what', 'they', 'want', 'to', 'watch', 'this', 'kind', 'of', 'channel', 'model', 'might', 'work', 'for', 'the', 'younger', 'ipod', 'generation', 'which', 'is', 'used', 'to', 'taking', 'control', 'of', 'their', 'gadgets', 'and', 'what', 'they', 'play', 'on', 'them', 'but', 'it', 'might', 'not', 'suit', 'everyone', 'the', 'panel', 'recognised', 'older', 'generations', 'are', 'more', 'comfortable', 'with', 'familiar', 'schedules', 'and', 'channel', 'brands', 'because', 'they', 'know', 'what', 'they', 'are', 'getting', 'they', 'perhaps', 'do', 'not', 'want', 'so', 'much', 'of', 'the', 'choice', 'put', 'into', 'their', 'hands', 'mr', 'hanlon', 'suggested', 'on', 'the', 'other', 'end', 'you', 'have', 'the', 'kids', 'just', 'out', 'of', 'diapers', 'who', 'are', 'pushing', 'buttons', 'already', 'everything', 'is', 'possible', 'and', 'available', 'to', 'them', 'said', 'mr', 'hanlon', 'ultimately', 'the', 'consumer', 'will', 'tell', 'the', 'market', 'they', 'want', 'of', 'the', '50', '000', 'new', 'gadgets', 'and', 'technologies', 'being', 'showcased', 'at', 'ces', 'many', 'of', 'them', 'are', 'about', 'enhancing', 'the', 'tv', 'watching', 'experience', 'high', 'definition', 'tv', 'sets', 'are', 'everywhere', 'and', 'many', 'new', 'models', 'of', 'lcd', 'liquid', 'crystal', 'display', 'tvs', 'have', 'been', 'launched', 'with', 'dvr', 'capability', 'built', 'into', 'them', 'instead', 'of', 'being', 'external', 'boxes', 'one', 'such', 'example', 'launched', 'at', 'the', 'show', 'is', 'humax', 's', '26', 'inch', 'lcd', 'tv', 'with', 'an', '80', 'hour', 'tivo', 'dvr', 'and', 'dvd', 'recorder', 'one', 'of', 'the', 'us', 's', 'biggest', 'satellite', 'tv', 'companies', 'directtv', 'has', 'even', 'launched', 'its', 'own', 'branded', 'dvr', 'at', 'the', 'show', 'with', '100', 'hours', 'of', 'recording', 'capability', 'instant', 'replay', 'and', 'a', 'search', 'function', 'the', 'set', 'can', 'pause', 'and', 'rewind', 'tv', 'for', 'up', 'to', '90', 'hours', 'and', 'microsoft', 'chief', 'bill', 'gates', 'announced', 'in', 'his', 'pre', 'show', 'keynote', 'speech', 'a', 'partnership', 'with', 'tivo', 'called', 'tivotogo', 'which', 'means', 'people', 'can', 'play', 'recorded', 'programmes', 'on', 'windows', 'pcs', 'and', 'mobile', 'devices', 'all', 'these', 'reflect', 'the', 'increasing', 'trend', 'of', 'freeing', 'up', 'multimedia', 'so', 'that', 'people', 'can', 'watch', 'what', 'they', 'want', 'when', 'they', 'want']\n"
     ]
    }
   ],
   "source": [
    "print(Punc_filtered_sentence[0])"
   ]
  },
  {
   "cell_type": "code",
   "execution_count": null,
   "metadata": {
    "colab": {
     "base_uri": "https://localhost:8080/"
    },
    "executionInfo": {
     "elapsed": 34130,
     "status": "ok",
     "timestamp": 1611200455049,
     "user": {
      "displayName": "Sutithi Chakraborty",
      "photoUrl": "",
      "userId": "12749148906436566424"
     },
     "user_tz": -330
    },
    "id": "ypHAaMNMdtUe",
    "outputId": "6e4a8763-c104-454e-c906-9a45eb2f1acb"
   },
   "outputs": [
    {
     "name": "stdout",
     "output_type": "stream",
     "text": [
      "['tv', 'future', 'hands', 'viewers', 'home', 'theatre', 'systems', 'plasma', 'high', 'definition', 'tvs', 'digital', 'video', 'recorders', 'moving', 'living', 'room', 'way', 'people', 'watch', 'tv', 'radically', 'different', 'five', 'years', 'time', 'according', 'expert', 'panel', 'gathered', 'annual', 'consumer', 'electronics', 'show', 'las', 'vegas', 'discuss', 'new', 'technologies', 'impact', 'one', 'favourite', 'pastimes', 'us', 'leading', 'trend', 'programmes', 'content', 'delivered', 'viewers', 'via', 'home', 'networks', 'cable', 'satellite', 'telecoms', 'companies', 'broadband', 'service', 'providers', 'front', 'rooms', 'portable', 'devices', 'one', 'talked', 'technologies', 'ces', 'digital', 'personal', 'video', 'recorders', 'dvr', 'pvr', 'set', 'top', 'boxes', 'like', 'us', 'tivo', 'uk', 'sky', 'system', 'allow', 'people', 'record', 'store', 'play', 'pause', 'forward', 'wind', 'tv', 'programmes', 'want', 'essentially', 'technology', 'allows', 'much', 'personalised', 'tv', 'also', 'built', 'high', 'definition', 'tv', 'sets', 'big', 'business', 'japan', 'us', 'slower', 'take', 'europe', 'lack', 'high', 'definition', 'programming', 'people', 'forward', 'wind', 'adverts', 'also', 'forget', 'abiding', 'network', 'channel', 'schedules', 'putting', 'together', 'la', 'carte', 'entertainment', 'us', 'networks', 'cable', 'satellite', 'companies', 'worried', 'means', 'terms', 'advertising', 'revenues', 'well', 'brand', 'identity', 'viewer', 'loyalty', 'channels', 'although', 'us', 'leads', 'technology', 'moment', 'also', 'concern', 'raised', 'europe', 'particularly', 'growing', 'uptake', 'services', 'like', 'sky', 'happens', 'today', 'see', 'nine', 'months', 'years', 'time', 'uk', 'adam', 'hume', 'bbc', 'broadcast', 'futurologist', 'told', 'bbc', 'news', 'website', 'likes', 'bbc', 'issues', 'lost', 'advertising', 'revenue', 'yet', 'pressing', 'issue', 'moment', 'commercial', 'uk', 'broadcasters', 'brand', 'loyalty', 'important', 'everyone', 'talking', 'content', 'brands', 'rather', 'network', 'brands', 'said', 'tim', 'hanlon', 'brand', 'communications', 'firm', 'starcom', 'mediavest', 'reality', 'broadband', 'connections', 'anybody', 'producer', 'content', 'added', 'challenge', 'hard', 'promote', 'programme', 'much', 'choice', 'means', 'said', 'stacey', 'jolna', 'senior', 'vice', 'president', 'tv', 'guide', 'tv', 'group', 'way', 'people', 'find', 'content', 'want', 'watch', 'simplified', 'tv', 'viewers', 'means', 'networks', 'us', 'terms', 'channels', 'could', 'take', 'leaf', 'google', 'book', 'search', 'engine', 'future', 'instead', 'scheduler', 'help', 'people', 'find', 'want', 'watch', 'kind', 'channel', 'model', 'might', 'work', 'younger', 'ipod', 'generation', 'used', 'taking', 'control', 'gadgets', 'play', 'might', 'suit', 'everyone', 'panel', 'recognised', 'older', 'generations', 'comfortable', 'familiar', 'schedules', 'channel', 'brands', 'know', 'getting', 'perhaps', 'want', 'much', 'choice', 'put', 'hands', 'mr', 'hanlon', 'suggested', 'end', 'kids', 'diapers', 'pushing', 'buttons', 'already', 'everything', 'possible', 'available', 'said', 'mr', 'hanlon', 'ultimately', 'consumer', 'tell', 'market', 'want', '50', '000', 'new', 'gadgets', 'technologies', 'showcased', 'ces', 'many', 'enhancing', 'tv', 'watching', 'experience', 'high', 'definition', 'tv', 'sets', 'everywhere', 'many', 'new', 'models', 'lcd', 'liquid', 'crystal', 'display', 'tvs', 'launched', 'dvr', 'capability', 'built', 'instead', 'external', 'boxes', 'one', 'example', 'launched', 'show', 'humax', '26', 'inch', 'lcd', 'tv', '80', 'hour', 'tivo', 'dvr', 'dvd', 'recorder', 'one', 'us', 'biggest', 'satellite', 'tv', 'companies', 'directtv', 'even', 'launched', 'branded', 'dvr', 'show', '100', 'hours', 'recording', 'capability', 'instant', 'replay', 'search', 'function', 'set', 'pause', 'rewind', 'tv', '90', 'hours', 'microsoft', 'chief', 'bill', 'gates', 'announced', 'pre', 'show', 'keynote', 'speech', 'partnership', 'tivo', 'called', 'tivotogo', 'means', 'people', 'play', 'recorded', 'programmes', 'windows', 'pcs', 'mobile', 'devices', 'reflect', 'increasing', 'trend', 'freeing', 'multimedia', 'people', 'watch', 'want', 'want']\n"
     ]
    }
   ],
   "source": [
    "print(filtered_sentence[0])"
   ]
  },
  {
   "cell_type": "markdown",
   "metadata": {
    "id": "fnQytxul1N7Z"
   },
   "source": [
    "## 2.4.Stemming & Lemitization"
   ]
  },
  {
   "cell_type": "markdown",
   "metadata": {
    "id": "DOCGBspF1VNJ"
   },
   "source": [
    "### 2.4.1.Stemming"
   ]
  },
  {
   "cell_type": "code",
   "execution_count": null,
   "metadata": {
    "id": "_phA-6SE1j_w"
   },
   "outputs": [],
   "source": [
    "from nltk.stem import PorterStemmer"
   ]
  },
  {
   "cell_type": "code",
   "execution_count": null,
   "metadata": {
    "id": "SS6Gz9PS2x-k"
   },
   "outputs": [],
   "source": [
    "#create an object of class PorterStemmer\n",
    "porter = PorterStemmer()"
   ]
  },
  {
   "cell_type": "code",
   "execution_count": null,
   "metadata": {
    "colab": {
     "base_uri": "https://localhost:8080/"
    },
    "executionInfo": {
     "elapsed": 41803,
     "status": "ok",
     "timestamp": 1611200462765,
     "user": {
      "displayName": "Sutithi Chakraborty",
      "photoUrl": "",
      "userId": "12749148906436566424"
     },
     "user_tz": -330
    },
    "id": "FJvoM82-2yBY",
    "outputId": "742208e4-a34d-4fcd-dcd2-f175ab36adc9"
   },
   "outputs": [
    {
     "name": "stdout",
     "output_type": "stream",
     "text": [
      "421\n",
      "421\n"
     ]
    }
   ],
   "source": [
    "# Stemming\n",
    "\n",
    "stemmed=[]\n",
    "for line in filtered_sentence:\n",
    "  lines = list(map(lambda x : porter.stem(x),line))\n",
    "  stemmed.append(lines) \n",
    "print(len(filtered_sentence[0])) \n",
    "print(len(stemmed[0])) "
   ]
  },
  {
   "cell_type": "code",
   "execution_count": null,
   "metadata": {
    "colab": {
     "base_uri": "https://localhost:8080/"
    },
    "executionInfo": {
     "elapsed": 41787,
     "status": "ok",
     "timestamp": 1611200462766,
     "user": {
      "displayName": "Sutithi Chakraborty",
      "photoUrl": "",
      "userId": "12749148906436566424"
     },
     "user_tz": -330
    },
    "id": "HJIoDgiwhGGD",
    "outputId": "f4d949ac-6dd6-4f2d-dd98-c051866869be"
   },
   "outputs": [
    {
     "name": "stdout",
     "output_type": "stream",
     "text": [
      "['tv', 'future', 'hands', 'viewers', 'home', 'theatre', 'systems', 'plasma', 'high', 'definition', 'tvs', 'digital', 'video', 'recorders', 'moving', 'living', 'room', 'way', 'people', 'watch', 'tv', 'radically', 'different', 'five', 'years', 'time', 'according', 'expert', 'panel', 'gathered', 'annual', 'consumer', 'electronics', 'show', 'las', 'vegas', 'discuss', 'new', 'technologies', 'impact', 'one', 'favourite', 'pastimes', 'us', 'leading', 'trend', 'programmes', 'content', 'delivered', 'viewers', 'via', 'home', 'networks', 'cable', 'satellite', 'telecoms', 'companies', 'broadband', 'service', 'providers', 'front', 'rooms', 'portable', 'devices', 'one', 'talked', 'technologies', 'ces', 'digital', 'personal', 'video', 'recorders', 'dvr', 'pvr', 'set', 'top', 'boxes', 'like', 'us', 'tivo', 'uk', 'sky', 'system', 'allow', 'people', 'record', 'store', 'play', 'pause', 'forward', 'wind', 'tv', 'programmes', 'want', 'essentially', 'technology', 'allows', 'much', 'personalised', 'tv', 'also', 'built', 'high', 'definition', 'tv', 'sets', 'big', 'business', 'japan', 'us', 'slower', 'take', 'europe', 'lack', 'high', 'definition', 'programming', 'people', 'forward', 'wind', 'adverts', 'also', 'forget', 'abiding', 'network', 'channel', 'schedules', 'putting', 'together', 'la', 'carte', 'entertainment', 'us', 'networks', 'cable', 'satellite', 'companies', 'worried', 'means', 'terms', 'advertising', 'revenues', 'well', 'brand', 'identity', 'viewer', 'loyalty', 'channels', 'although', 'us', 'leads', 'technology', 'moment', 'also', 'concern', 'raised', 'europe', 'particularly', 'growing', 'uptake', 'services', 'like', 'sky', 'happens', 'today', 'see', 'nine', 'months', 'years', 'time', 'uk', 'adam', 'hume', 'bbc', 'broadcast', 'futurologist', 'told', 'bbc', 'news', 'website', 'likes', 'bbc', 'issues', 'lost', 'advertising', 'revenue', 'yet', 'pressing', 'issue', 'moment', 'commercial', 'uk', 'broadcasters', 'brand', 'loyalty', 'important', 'everyone', 'talking', 'content', 'brands', 'rather', 'network', 'brands', 'said', 'tim', 'hanlon', 'brand', 'communications', 'firm', 'starcom', 'mediavest', 'reality', 'broadband', 'connections', 'anybody', 'producer', 'content', 'added', 'challenge', 'hard', 'promote', 'programme', 'much', 'choice', 'means', 'said', 'stacey', 'jolna', 'senior', 'vice', 'president', 'tv', 'guide', 'tv', 'group', 'way', 'people', 'find', 'content', 'want', 'watch', 'simplified', 'tv', 'viewers', 'means', 'networks', 'us', 'terms', 'channels', 'could', 'take', 'leaf', 'google', 'book', 'search', 'engine', 'future', 'instead', 'scheduler', 'help', 'people', 'find', 'want', 'watch', 'kind', 'channel', 'model', 'might', 'work', 'younger', 'ipod', 'generation', 'used', 'taking', 'control', 'gadgets', 'play', 'might', 'suit', 'everyone', 'panel', 'recognised', 'older', 'generations', 'comfortable', 'familiar', 'schedules', 'channel', 'brands', 'know', 'getting', 'perhaps', 'want', 'much', 'choice', 'put', 'hands', 'mr', 'hanlon', 'suggested', 'end', 'kids', 'diapers', 'pushing', 'buttons', 'already', 'everything', 'possible', 'available', 'said', 'mr', 'hanlon', 'ultimately', 'consumer', 'tell', 'market', 'want', '50', '000', 'new', 'gadgets', 'technologies', 'showcased', 'ces', 'many', 'enhancing', 'tv', 'watching', 'experience', 'high', 'definition', 'tv', 'sets', 'everywhere', 'many', 'new', 'models', 'lcd', 'liquid', 'crystal', 'display', 'tvs', 'launched', 'dvr', 'capability', 'built', 'instead', 'external', 'boxes', 'one', 'example', 'launched', 'show', 'humax', '26', 'inch', 'lcd', 'tv', '80', 'hour', 'tivo', 'dvr', 'dvd', 'recorder', 'one', 'us', 'biggest', 'satellite', 'tv', 'companies', 'directtv', 'even', 'launched', 'branded', 'dvr', 'show', '100', 'hours', 'recording', 'capability', 'instant', 'replay', 'search', 'function', 'set', 'pause', 'rewind', 'tv', '90', 'hours', 'microsoft', 'chief', 'bill', 'gates', 'announced', 'pre', 'show', 'keynote', 'speech', 'partnership', 'tivo', 'called', 'tivotogo', 'means', 'people', 'play', 'recorded', 'programmes', 'windows', 'pcs', 'mobile', 'devices', 'reflect', 'increasing', 'trend', 'freeing', 'multimedia', 'people', 'watch', 'want', 'want']\n"
     ]
    }
   ],
   "source": [
    "print(filtered_sentence[0]) "
   ]
  },
  {
   "cell_type": "code",
   "execution_count": null,
   "metadata": {
    "colab": {
     "base_uri": "https://localhost:8080/"
    },
    "executionInfo": {
     "elapsed": 41769,
     "status": "ok",
     "timestamp": 1611200462767,
     "user": {
      "displayName": "Sutithi Chakraborty",
      "photoUrl": "",
      "userId": "12749148906436566424"
     },
     "user_tz": -330
    },
    "id": "YOxrFdhr2yKD",
    "outputId": "aa225b26-ad35-4307-8897-cacb0825f981"
   },
   "outputs": [
    {
     "name": "stdout",
     "output_type": "stream",
     "text": [
      "['tv', 'futur', 'hand', 'viewer', 'home', 'theatr', 'system', 'plasma', 'high', 'definit', 'tv', 'digit', 'video', 'record', 'move', 'live', 'room', 'way', 'peopl', 'watch', 'tv', 'radic', 'differ', 'five', 'year', 'time', 'accord', 'expert', 'panel', 'gather', 'annual', 'consum', 'electron', 'show', 'la', 'vega', 'discuss', 'new', 'technolog', 'impact', 'one', 'favourit', 'pastim', 'us', 'lead', 'trend', 'programm', 'content', 'deliv', 'viewer', 'via', 'home', 'network', 'cabl', 'satellit', 'telecom', 'compani', 'broadband', 'servic', 'provid', 'front', 'room', 'portabl', 'devic', 'one', 'talk', 'technolog', 'ce', 'digit', 'person', 'video', 'record', 'dvr', 'pvr', 'set', 'top', 'box', 'like', 'us', 'tivo', 'uk', 'sky', 'system', 'allow', 'peopl', 'record', 'store', 'play', 'paus', 'forward', 'wind', 'tv', 'programm', 'want', 'essenti', 'technolog', 'allow', 'much', 'personalis', 'tv', 'also', 'built', 'high', 'definit', 'tv', 'set', 'big', 'busi', 'japan', 'us', 'slower', 'take', 'europ', 'lack', 'high', 'definit', 'program', 'peopl', 'forward', 'wind', 'advert', 'also', 'forget', 'abid', 'network', 'channel', 'schedul', 'put', 'togeth', 'la', 'cart', 'entertain', 'us', 'network', 'cabl', 'satellit', 'compani', 'worri', 'mean', 'term', 'advertis', 'revenu', 'well', 'brand', 'ident', 'viewer', 'loyalti', 'channel', 'although', 'us', 'lead', 'technolog', 'moment', 'also', 'concern', 'rais', 'europ', 'particularli', 'grow', 'uptak', 'servic', 'like', 'sky', 'happen', 'today', 'see', 'nine', 'month', 'year', 'time', 'uk', 'adam', 'hume', 'bbc', 'broadcast', 'futurologist', 'told', 'bbc', 'news', 'websit', 'like', 'bbc', 'issu', 'lost', 'advertis', 'revenu', 'yet', 'press', 'issu', 'moment', 'commerci', 'uk', 'broadcast', 'brand', 'loyalti', 'import', 'everyon', 'talk', 'content', 'brand', 'rather', 'network', 'brand', 'said', 'tim', 'hanlon', 'brand', 'commun', 'firm', 'starcom', 'mediavest', 'realiti', 'broadband', 'connect', 'anybodi', 'produc', 'content', 'ad', 'challeng', 'hard', 'promot', 'programm', 'much', 'choic', 'mean', 'said', 'stacey', 'jolna', 'senior', 'vice', 'presid', 'tv', 'guid', 'tv', 'group', 'way', 'peopl', 'find', 'content', 'want', 'watch', 'simplifi', 'tv', 'viewer', 'mean', 'network', 'us', 'term', 'channel', 'could', 'take', 'leaf', 'googl', 'book', 'search', 'engin', 'futur', 'instead', 'schedul', 'help', 'peopl', 'find', 'want', 'watch', 'kind', 'channel', 'model', 'might', 'work', 'younger', 'ipod', 'gener', 'use', 'take', 'control', 'gadget', 'play', 'might', 'suit', 'everyon', 'panel', 'recognis', 'older', 'gener', 'comfort', 'familiar', 'schedul', 'channel', 'brand', 'know', 'get', 'perhap', 'want', 'much', 'choic', 'put', 'hand', 'mr', 'hanlon', 'suggest', 'end', 'kid', 'diaper', 'push', 'button', 'alreadi', 'everyth', 'possibl', 'avail', 'said', 'mr', 'hanlon', 'ultim', 'consum', 'tell', 'market', 'want', '50', '000', 'new', 'gadget', 'technolog', 'showcas', 'ce', 'mani', 'enhanc', 'tv', 'watch', 'experi', 'high', 'definit', 'tv', 'set', 'everywher', 'mani', 'new', 'model', 'lcd', 'liquid', 'crystal', 'display', 'tv', 'launch', 'dvr', 'capabl', 'built', 'instead', 'extern', 'box', 'one', 'exampl', 'launch', 'show', 'humax', '26', 'inch', 'lcd', 'tv', '80', 'hour', 'tivo', 'dvr', 'dvd', 'record', 'one', 'us', 'biggest', 'satellit', 'tv', 'compani', 'directtv', 'even', 'launch', 'brand', 'dvr', 'show', '100', 'hour', 'record', 'capabl', 'instant', 'replay', 'search', 'function', 'set', 'paus', 'rewind', 'tv', '90', 'hour', 'microsoft', 'chief', 'bill', 'gate', 'announc', 'pre', 'show', 'keynot', 'speech', 'partnership', 'tivo', 'call', 'tivotogo', 'mean', 'peopl', 'play', 'record', 'programm', 'window', 'pc', 'mobil', 'devic', 'reflect', 'increas', 'trend', 'free', 'multimedia', 'peopl', 'watch', 'want', 'want']\n"
     ]
    }
   ],
   "source": [
    "print(stemmed[0])"
   ]
  },
  {
   "cell_type": "markdown",
   "metadata": {
    "id": "dBHm5uBT1XAQ"
   },
   "source": [
    "### 2.4.2.Lemitization"
   ]
  },
  {
   "cell_type": "code",
   "execution_count": null,
   "metadata": {
    "id": "COOinZej1knp"
   },
   "outputs": [],
   "source": [
    "from nltk.stem import LancasterStemmer\n",
    "lancaster=LancasterStemmer()"
   ]
  },
  {
   "cell_type": "code",
   "execution_count": null,
   "metadata": {
    "colab": {
     "base_uri": "https://localhost:8080/"
    },
    "executionInfo": {
     "elapsed": 45991,
     "status": "ok",
     "timestamp": 1611200467011,
     "user": {
      "displayName": "Sutithi Chakraborty",
      "photoUrl": "",
      "userId": "12749148906436566424"
     },
     "user_tz": -330
    },
    "id": "qosQTcA3_d9L",
    "outputId": "00a3c682-be04-42eb-c02f-0b3d8c6aa529"
   },
   "outputs": [
    {
     "name": "stdout",
     "output_type": "stream",
     "text": [
      "421\n",
      "421\n"
     ]
    }
   ],
   "source": [
    "# Lemitization\n",
    "\n",
    "lemmitized=[]\n",
    "for line in stemmed:\n",
    "  lines = list(map(lambda x : lancaster.stem(x),line))\n",
    "  lemmitized.append(lines) \n",
    "print(len(stemmed[0])) \n",
    "print(len(lemmitized[0])) "
   ]
  },
  {
   "cell_type": "code",
   "execution_count": null,
   "metadata": {
    "colab": {
     "base_uri": "https://localhost:8080/"
    },
    "executionInfo": {
     "elapsed": 45978,
     "status": "ok",
     "timestamp": 1611200467013,
     "user": {
      "displayName": "Sutithi Chakraborty",
      "photoUrl": "",
      "userId": "12749148906436566424"
     },
     "user_tz": -330
    },
    "id": "nd2QvGppl1N-",
    "outputId": "e2ee6173-33f4-4069-f8e8-cf3119df5139"
   },
   "outputs": [
    {
     "name": "stdout",
     "output_type": "stream",
     "text": [
      "['tv', 'futur', 'hand', 'viewer', 'home', 'theatr', 'system', 'plasma', 'high', 'definit', 'tv', 'digit', 'video', 'record', 'move', 'live', 'room', 'way', 'peopl', 'watch', 'tv', 'radic', 'differ', 'five', 'year', 'time', 'accord', 'expert', 'panel', 'gather', 'annual', 'consum', 'electron', 'show', 'la', 'vega', 'discuss', 'new', 'technolog', 'impact', 'one', 'favourit', 'pastim', 'us', 'lead', 'trend', 'programm', 'content', 'deliv', 'viewer', 'via', 'home', 'network', 'cabl', 'satellit', 'telecom', 'compani', 'broadband', 'servic', 'provid', 'front', 'room', 'portabl', 'devic', 'one', 'talk', 'technolog', 'ce', 'digit', 'person', 'video', 'record', 'dvr', 'pvr', 'set', 'top', 'box', 'like', 'us', 'tivo', 'uk', 'sky', 'system', 'allow', 'peopl', 'record', 'store', 'play', 'paus', 'forward', 'wind', 'tv', 'programm', 'want', 'essenti', 'technolog', 'allow', 'much', 'personalis', 'tv', 'also', 'built', 'high', 'definit', 'tv', 'set', 'big', 'busi', 'japan', 'us', 'slower', 'take', 'europ', 'lack', 'high', 'definit', 'program', 'peopl', 'forward', 'wind', 'advert', 'also', 'forget', 'abid', 'network', 'channel', 'schedul', 'put', 'togeth', 'la', 'cart', 'entertain', 'us', 'network', 'cabl', 'satellit', 'compani', 'worri', 'mean', 'term', 'advertis', 'revenu', 'well', 'brand', 'ident', 'viewer', 'loyalti', 'channel', 'although', 'us', 'lead', 'technolog', 'moment', 'also', 'concern', 'rais', 'europ', 'particularli', 'grow', 'uptak', 'servic', 'like', 'sky', 'happen', 'today', 'see', 'nine', 'month', 'year', 'time', 'uk', 'adam', 'hume', 'bbc', 'broadcast', 'futurologist', 'told', 'bbc', 'news', 'websit', 'like', 'bbc', 'issu', 'lost', 'advertis', 'revenu', 'yet', 'press', 'issu', 'moment', 'commerci', 'uk', 'broadcast', 'brand', 'loyalti', 'import', 'everyon', 'talk', 'content', 'brand', 'rather', 'network', 'brand', 'said', 'tim', 'hanlon', 'brand', 'commun', 'firm', 'starcom', 'mediavest', 'realiti', 'broadband', 'connect', 'anybodi', 'produc', 'content', 'ad', 'challeng', 'hard', 'promot', 'programm', 'much', 'choic', 'mean', 'said', 'stacey', 'jolna', 'senior', 'vice', 'presid', 'tv', 'guid', 'tv', 'group', 'way', 'peopl', 'find', 'content', 'want', 'watch', 'simplifi', 'tv', 'viewer', 'mean', 'network', 'us', 'term', 'channel', 'could', 'take', 'leaf', 'googl', 'book', 'search', 'engin', 'futur', 'instead', 'schedul', 'help', 'peopl', 'find', 'want', 'watch', 'kind', 'channel', 'model', 'might', 'work', 'younger', 'ipod', 'gener', 'use', 'take', 'control', 'gadget', 'play', 'might', 'suit', 'everyon', 'panel', 'recognis', 'older', 'gener', 'comfort', 'familiar', 'schedul', 'channel', 'brand', 'know', 'get', 'perhap', 'want', 'much', 'choic', 'put', 'hand', 'mr', 'hanlon', 'suggest', 'end', 'kid', 'diaper', 'push', 'button', 'alreadi', 'everyth', 'possibl', 'avail', 'said', 'mr', 'hanlon', 'ultim', 'consum', 'tell', 'market', 'want', '50', '000', 'new', 'gadget', 'technolog', 'showcas', 'ce', 'mani', 'enhanc', 'tv', 'watch', 'experi', 'high', 'definit', 'tv', 'set', 'everywher', 'mani', 'new', 'model', 'lcd', 'liquid', 'crystal', 'display', 'tv', 'launch', 'dvr', 'capabl', 'built', 'instead', 'extern', 'box', 'one', 'exampl', 'launch', 'show', 'humax', '26', 'inch', 'lcd', 'tv', '80', 'hour', 'tivo', 'dvr', 'dvd', 'record', 'one', 'us', 'biggest', 'satellit', 'tv', 'compani', 'directtv', 'even', 'launch', 'brand', 'dvr', 'show', '100', 'hour', 'record', 'capabl', 'instant', 'replay', 'search', 'function', 'set', 'paus', 'rewind', 'tv', '90', 'hour', 'microsoft', 'chief', 'bill', 'gate', 'announc', 'pre', 'show', 'keynot', 'speech', 'partnership', 'tivo', 'call', 'tivotogo', 'mean', 'peopl', 'play', 'record', 'programm', 'window', 'pc', 'mobil', 'devic', 'reflect', 'increas', 'trend', 'free', 'multimedia', 'peopl', 'watch', 'want', 'want']\n"
     ]
    }
   ],
   "source": [
    "print(stemmed[0]) "
   ]
  },
  {
   "cell_type": "code",
   "execution_count": null,
   "metadata": {
    "colab": {
     "base_uri": "https://localhost:8080/"
    },
    "executionInfo": {
     "elapsed": 45962,
     "status": "ok",
     "timestamp": 1611200467014,
     "user": {
      "displayName": "Sutithi Chakraborty",
      "photoUrl": "",
      "userId": "12749148906436566424"
     },
     "user_tz": -330
    },
    "id": "TKqah5wLl4aa",
    "outputId": "1b91235b-8d9f-4e3c-c7dd-9bf707d908b3"
   },
   "outputs": [
    {
     "name": "stdout",
     "output_type": "stream",
     "text": [
      "['tv', 'fut', 'hand', 'view', 'hom', 'the', 'system', 'plasm', 'high', 'definit', 'tv', 'digit', 'video', 'record', 'mov', 'liv', 'room', 'way', 'peopl', 'watch', 'tv', 'rad', 'diff', 'fiv', 'year', 'tim', 'accord', 'expert', 'panel', 'gath', 'an', 'cons', 'electron', 'show', 'la', 'veg', 'discuss', 'new', 'technolog', 'impact', 'on', 'favourit', 'pastim', 'us', 'lead', 'trend', 'program', 'cont', 'del', 'view', 'via', 'hom', 'network', 'cabl', 'satellit', 'telecom', 'compan', 'broadband', 'serv', 'provid', 'front', 'room', 'port', 'dev', 'on', 'talk', 'technolog', 'ce', 'digit', 'person', 'video', 'record', 'dvr', 'pvr', 'set', 'top', 'box', 'lik', 'us', 'tivo', 'uk', 'sky', 'system', 'allow', 'peopl', 'record', 'stor', 'play', 'pau', 'forward', 'wind', 'tv', 'program', 'want', 'essent', 'technolog', 'allow', 'much', 'person', 'tv', 'also', 'built', 'high', 'definit', 'tv', 'set', 'big', 'bus', 'jap', 'us', 'slow', 'tak', 'europ', 'lack', 'high', 'definit', 'program', 'peopl', 'forward', 'wind', 'advert', 'also', 'forget', 'abid', 'network', 'channel', 'schedul', 'put', 'toge', 'la', 'cart', 'entertain', 'us', 'network', 'cabl', 'satellit', 'compan', 'worr', 'mean', 'term', 'advert', 'revenu', 'wel', 'brand', 'id', 'view', 'loyalt', 'channel', 'although', 'us', 'lead', 'technolog', 'mom', 'also', 'concern', 'rai', 'europ', 'particularl', 'grow', 'uptak', 'serv', 'lik', 'sky', 'hap', 'today', 'see', 'nin', 'mon', 'year', 'tim', 'uk', 'adam', 'hum', 'bbc', 'broadcast', 'futurolog', 'told', 'bbc', 'new', 'websit', 'lik', 'bbc', 'issu', 'lost', 'advert', 'revenu', 'yet', 'press', 'issu', 'mom', 'commerc', 'uk', 'broadcast', 'brand', 'loyalt', 'import', 'everyon', 'talk', 'cont', 'brand', 'rath', 'network', 'brand', 'said', 'tim', 'hanlon', 'brand', 'commun', 'firm', 'starcom', 'mediavest', 'realit', 'broadband', 'connect', 'anybod', 'produc', 'cont', 'ad', 'challeng', 'hard', 'promot', 'program', 'much', 'cho', 'mean', 'said', 'stacey', 'joln', 'seny', 'vic', 'presid', 'tv', 'guid', 'tv', 'group', 'way', 'peopl', 'find', 'cont', 'want', 'watch', 'simplif', 'tv', 'view', 'mean', 'network', 'us', 'term', 'channel', 'could', 'tak', 'leaf', 'googl', 'book', 'search', 'engin', 'fut', 'instead', 'schedul', 'help', 'peopl', 'find', 'want', 'watch', 'kind', 'channel', 'model', 'might', 'work', 'young', 'ipod', 'gen', 'us', 'tak', 'control', 'gadget', 'play', 'might', 'suit', 'everyon', 'panel', 'recogn', 'old', 'gen', 'comfort', 'famili', 'schedul', 'channel', 'brand', 'know', 'get', 'perhap', 'want', 'much', 'cho', 'put', 'hand', 'mr', 'hanlon', 'suggest', 'end', 'kid', 'diap', 'push', 'button', 'alread', 'every', 'poss', 'avail', 'said', 'mr', 'hanlon', 'ultim', 'cons', 'tel', 'market', 'want', '50', '000', 'new', 'gadget', 'technolog', 'showca', 'ce', 'man', 'enh', 'tv', 'watch', 'exper', 'high', 'definit', 'tv', 'set', 'everywh', 'man', 'new', 'model', 'lcd', 'liquid', 'cryst', 'display', 'tv', 'launch', 'dvr', 'cap', 'built', 'instead', 'extern', 'box', 'on', 'exampl', 'launch', 'show', 'humax', '26', 'inch', 'lcd', 'tv', '80', 'hour', 'tivo', 'dvr', 'dvd', 'record', 'on', 'us', 'biggest', 'satellit', 'tv', 'compan', 'directtv', 'ev', 'launch', 'brand', 'dvr', 'show', '100', 'hour', 'record', 'cap', 'inst', 'replay', 'search', 'funct', 'set', 'pau', 'rewind', 'tv', '90', 'hour', 'microsoft', 'chief', 'bil', 'gat', 'annount', 'pre', 'show', 'keynot', 'speech', 'partn', 'tivo', 'cal', 'tivotogo', 'mean', 'peopl', 'play', 'record', 'program', 'window', 'pc', 'mobl', 'dev', 'reflect', 'increa', 'trend', 'fre', 'multimed', 'peopl', 'watch', 'want', 'want']\n"
     ]
    }
   ],
   "source": [
    "print(lemmitized[0])"
   ]
  },
  {
   "cell_type": "markdown",
   "metadata": {
    "id": "RiB_pZw61Sb6"
   },
   "source": [
    "## 2.5.PoS"
   ]
  },
  {
   "cell_type": "code",
   "execution_count": null,
   "metadata": {
    "colab": {
     "base_uri": "https://localhost:8080/"
    },
    "executionInfo": {
     "elapsed": 45946,
     "status": "ok",
     "timestamp": 1611200467014,
     "user": {
      "displayName": "Sutithi Chakraborty",
      "photoUrl": "",
      "userId": "12749148906436566424"
     },
     "user_tz": -330
    },
    "id": "rdIPBshQ1lIt",
    "outputId": "ec63edab-dd17-47bd-d3b9-3bd599e3e1e4"
   },
   "outputs": [
    {
     "name": "stdout",
     "output_type": "stream",
     "text": [
      "[nltk_data] Downloading package averaged_perceptron_tagger to\n",
      "[nltk_data]     /root/nltk_data...\n",
      "[nltk_data]   Unzipping taggers/averaged_perceptron_tagger.zip.\n"
     ]
    },
    {
     "data": {
      "text/plain": [
       "True"
      ]
     },
     "execution_count": 29,
     "metadata": {
      "tags": []
     },
     "output_type": "execute_result"
    }
   ],
   "source": [
    "nltk.download('averaged_perceptron_tagger')"
   ]
  },
  {
   "cell_type": "code",
   "execution_count": null,
   "metadata": {
    "colab": {
     "base_uri": "https://localhost:8080/"
    },
    "executionInfo": {
     "elapsed": 45930,
     "status": "ok",
     "timestamp": 1611200467015,
     "user": {
      "displayName": "Sutithi Chakraborty",
      "photoUrl": "",
      "userId": "12749148906436566424"
     },
     "user_tz": -330
    },
    "id": "YN-M6lZ326IN",
    "outputId": "76c3e3c5-56bb-48c8-9c20-6a13247f44b8"
   },
   "outputs": [
    {
     "data": {
      "text/plain": [
       "[('tv', 'NN'),\n",
       " ('fut', 'NNS'),\n",
       " ('hand', 'NN'),\n",
       " ('view', 'NN'),\n",
       " ('hom', 'VBP'),\n",
       " ('the', 'DT'),\n",
       " ('system', 'NN'),\n",
       " ('plasm', 'JJ'),\n",
       " ('high', 'JJ'),\n",
       " ('definit', 'NN'),\n",
       " ('tv', 'NN'),\n",
       " ('digit', 'NN'),\n",
       " ('video', 'NN'),\n",
       " ('record', 'NN'),\n",
       " ('mov', 'NN'),\n",
       " ('liv', 'JJ'),\n",
       " ('room', 'NN'),\n",
       " ('way', 'NN'),\n",
       " ('peopl', 'JJ'),\n",
       " ('watch', 'NN'),\n",
       " ('tv', 'NN'),\n",
       " ('rad', 'NN'),\n",
       " ('diff', 'NN'),\n",
       " ('fiv', 'JJ'),\n",
       " ('year', 'NN'),\n",
       " ('tim', 'NN'),\n",
       " ('accord', 'NN'),\n",
       " ('expert', 'NN'),\n",
       " ('panel', 'NN'),\n",
       " ('gath', 'NN'),\n",
       " ('an', 'DT'),\n",
       " ('cons', 'NNS'),\n",
       " ('electron', 'VBP'),\n",
       " ('show', 'NN'),\n",
       " ('la', 'NN'),\n",
       " ('veg', 'FW'),\n",
       " ('discuss', 'VB'),\n",
       " ('new', 'JJ'),\n",
       " ('technolog', 'NN'),\n",
       " ('impact', 'NN'),\n",
       " ('on', 'IN'),\n",
       " ('favourit', 'NN'),\n",
       " ('pastim', 'NN'),\n",
       " ('us', 'PRP'),\n",
       " ('lead', 'JJ'),\n",
       " ('trend', 'NN'),\n",
       " ('program', 'NN'),\n",
       " ('cont', 'JJ'),\n",
       " ('del', 'NN'),\n",
       " ('view', 'NN'),\n",
       " ('via', 'IN'),\n",
       " ('hom', 'NN'),\n",
       " ('network', 'NN'),\n",
       " ('cabl', 'NN'),\n",
       " ('satellit', 'NN'),\n",
       " ('telecom', 'NN'),\n",
       " ('compan', 'NN'),\n",
       " ('broadband', 'VBP'),\n",
       " ('serv', 'NN'),\n",
       " ('provid', 'NN'),\n",
       " ('front', 'NN'),\n",
       " ('room', 'NN'),\n",
       " ('port', 'NN'),\n",
       " ('dev', 'NN'),\n",
       " ('on', 'IN'),\n",
       " ('talk', 'NN'),\n",
       " ('technolog', 'NN'),\n",
       " ('ce', 'NN'),\n",
       " ('digit', 'JJ'),\n",
       " ('person', 'NN'),\n",
       " ('video', 'NN'),\n",
       " ('record', 'NN'),\n",
       " ('dvr', 'NN'),\n",
       " ('pvr', 'NN'),\n",
       " ('set', 'VBN'),\n",
       " ('top', 'JJ'),\n",
       " ('box', 'NN'),\n",
       " ('lik', 'VBD'),\n",
       " ('us', 'PRP'),\n",
       " ('tivo', 'VB'),\n",
       " ('uk', 'JJ'),\n",
       " ('sky', 'NN'),\n",
       " ('system', 'NN'),\n",
       " ('allow', 'JJ'),\n",
       " ('peopl', 'NN'),\n",
       " ('record', 'NN'),\n",
       " ('stor', 'NN'),\n",
       " ('play', 'NN'),\n",
       " ('pau', 'VBZ'),\n",
       " ('forward', 'RB'),\n",
       " ('wind', 'JJ'),\n",
       " ('tv', 'NN'),\n",
       " ('program', 'NN'),\n",
       " ('want', 'VBP'),\n",
       " ('essent', 'NN'),\n",
       " ('technolog', 'NN'),\n",
       " ('allow', 'VBP'),\n",
       " ('much', 'JJ'),\n",
       " ('person', 'NN'),\n",
       " ('tv', 'NN'),\n",
       " ('also', 'RB'),\n",
       " ('built', 'VBN'),\n",
       " ('high', 'JJ'),\n",
       " ('definit', 'NN'),\n",
       " ('tv', 'NN'),\n",
       " ('set', 'VBN'),\n",
       " ('big', 'JJ'),\n",
       " ('bus', 'NN'),\n",
       " ('jap', 'NN'),\n",
       " ('us', 'PRP'),\n",
       " ('slow', 'JJ'),\n",
       " ('tak', 'NN'),\n",
       " ('europ', 'NN'),\n",
       " ('lack', 'NN'),\n",
       " ('high', 'JJ'),\n",
       " ('definit', 'NN'),\n",
       " ('program', 'NN'),\n",
       " ('peopl', 'NN'),\n",
       " ('forward', 'RB'),\n",
       " ('wind', 'IN'),\n",
       " ('advert', 'NN'),\n",
       " ('also', 'RB'),\n",
       " ('forget', 'VB'),\n",
       " ('abid', 'NN'),\n",
       " ('network', 'NN'),\n",
       " ('channel', 'NN'),\n",
       " ('schedul', 'NN'),\n",
       " ('put', 'VBD'),\n",
       " ('toge', 'RP'),\n",
       " ('la', 'JJ'),\n",
       " ('cart', 'NN'),\n",
       " ('entertain', 'VBP'),\n",
       " ('us', 'PRP'),\n",
       " ('network', 'NN'),\n",
       " ('cabl', 'NN'),\n",
       " ('satellit', 'NN'),\n",
       " ('compan', 'NN'),\n",
       " ('worr', 'VBP'),\n",
       " ('mean', 'JJ'),\n",
       " ('term', 'NN'),\n",
       " ('advert', 'NN'),\n",
       " ('revenu', 'NN'),\n",
       " ('wel', 'NN'),\n",
       " ('brand', 'NN'),\n",
       " ('id', 'NN'),\n",
       " ('view', 'NN'),\n",
       " ('loyalt', 'VBD'),\n",
       " ('channel', 'NNS'),\n",
       " ('although', 'IN'),\n",
       " ('us', 'PRP'),\n",
       " ('lead', 'VBP'),\n",
       " ('technolog', 'JJ'),\n",
       " ('mom', 'NN'),\n",
       " ('also', 'RB'),\n",
       " ('concern', 'NN'),\n",
       " ('rai', 'JJ'),\n",
       " ('europ', 'NN'),\n",
       " ('particularl', 'NN'),\n",
       " ('grow', 'VB'),\n",
       " ('uptak', 'JJ'),\n",
       " ('serv', 'NN'),\n",
       " ('lik', 'NN'),\n",
       " ('sky', 'NN'),\n",
       " ('hap', 'NN'),\n",
       " ('today', 'NN'),\n",
       " ('see', 'VBP'),\n",
       " ('nin', 'RB'),\n",
       " ('mon', 'JJ'),\n",
       " ('year', 'NN'),\n",
       " ('tim', 'NN'),\n",
       " ('uk', 'JJ'),\n",
       " ('adam', 'NN'),\n",
       " ('hum', 'NN'),\n",
       " ('bbc', 'NN'),\n",
       " ('broadcast', 'NN'),\n",
       " ('futurolog', 'NN'),\n",
       " ('told', 'VBD'),\n",
       " ('bbc', 'JJ'),\n",
       " ('new', 'JJ'),\n",
       " ('websit', 'NN'),\n",
       " ('lik', 'NN'),\n",
       " ('bbc', 'NN'),\n",
       " ('issu', 'NN'),\n",
       " ('lost', 'VBD'),\n",
       " ('advert', 'JJ'),\n",
       " ('revenu', 'NN'),\n",
       " ('yet', 'RB'),\n",
       " ('press', 'JJ'),\n",
       " ('issu', 'NN'),\n",
       " ('mom', 'NN'),\n",
       " ('commerc', 'NN'),\n",
       " ('uk', 'JJ'),\n",
       " ('broadcast', 'NN'),\n",
       " ('brand', 'NN'),\n",
       " ('loyalt', 'NN'),\n",
       " ('import', 'NN'),\n",
       " ('everyon', 'NN'),\n",
       " ('talk', 'NN'),\n",
       " ('cont', 'NN'),\n",
       " ('brand', 'NN'),\n",
       " ('rath', 'NN'),\n",
       " ('network', 'NN'),\n",
       " ('brand', 'NN'),\n",
       " ('said', 'VBD'),\n",
       " ('tim', 'JJ'),\n",
       " ('hanlon', 'NN'),\n",
       " ('brand', 'NN'),\n",
       " ('commun', 'NN'),\n",
       " ('firm', 'NN'),\n",
       " ('starcom', 'VBD'),\n",
       " ('mediavest', 'JJS'),\n",
       " ('realit', 'NN'),\n",
       " ('broadband', 'NN'),\n",
       " ('connect', 'NN'),\n",
       " ('anybod', 'NN'),\n",
       " ('produc', 'NN'),\n",
       " ('cont', 'NN'),\n",
       " ('ad', 'NN'),\n",
       " ('challeng', 'NN'),\n",
       " ('hard', 'JJ'),\n",
       " ('promot', 'NN'),\n",
       " ('program', 'NN'),\n",
       " ('much', 'JJ'),\n",
       " ('cho', 'NN'),\n",
       " ('mean', 'NN'),\n",
       " ('said', 'VBD'),\n",
       " ('stacey', 'JJ'),\n",
       " ('joln', 'NN'),\n",
       " ('seny', 'NN'),\n",
       " ('vic', 'NN'),\n",
       " ('presid', 'NN'),\n",
       " ('tv', 'NN'),\n",
       " ('guid', 'NN'),\n",
       " ('tv', 'NN'),\n",
       " ('group', 'NN'),\n",
       " ('way', 'NN'),\n",
       " ('peopl', 'IN'),\n",
       " ('find', 'VBP'),\n",
       " ('cont', 'JJ'),\n",
       " ('want', 'VBP'),\n",
       " ('watch', 'NN'),\n",
       " ('simplif', 'JJ'),\n",
       " ('tv', 'NN'),\n",
       " ('view', 'NN'),\n",
       " ('mean', 'NN'),\n",
       " ('network', 'NN'),\n",
       " ('us', 'PRP'),\n",
       " ('term', 'NN'),\n",
       " ('channel', 'NN'),\n",
       " ('could', 'MD'),\n",
       " ('tak', 'VB'),\n",
       " ('leaf', 'JJ'),\n",
       " ('googl', 'NNS'),\n",
       " ('book', 'NN'),\n",
       " ('search', 'NN'),\n",
       " ('engin', 'VBP'),\n",
       " ('fut', 'VBN'),\n",
       " ('instead', 'RB'),\n",
       " ('schedul', 'VB'),\n",
       " ('help', 'NN'),\n",
       " ('peopl', 'VB'),\n",
       " ('find', 'VB'),\n",
       " ('want', 'JJ'),\n",
       " ('watch', 'NN'),\n",
       " ('kind', 'NN'),\n",
       " ('channel', 'NN'),\n",
       " ('model', 'NN'),\n",
       " ('might', 'MD'),\n",
       " ('work', 'VB'),\n",
       " ('young', 'JJ'),\n",
       " ('ipod', 'NNS'),\n",
       " ('gen', 'VBP'),\n",
       " ('us', 'PRP'),\n",
       " ('tak', 'VB'),\n",
       " ('control', 'NN'),\n",
       " ('gadget', 'NN'),\n",
       " ('play', 'NN'),\n",
       " ('might', 'MD'),\n",
       " ('suit', 'VB'),\n",
       " ('everyon', 'JJ'),\n",
       " ('panel', 'NN'),\n",
       " ('recogn', 'NN'),\n",
       " ('old', 'JJ'),\n",
       " ('gen', 'NN'),\n",
       " ('comfort', 'NN'),\n",
       " ('famili', 'NN'),\n",
       " ('schedul', 'NN'),\n",
       " ('channel', 'NN'),\n",
       " ('brand', 'NN'),\n",
       " ('know', 'VBP'),\n",
       " ('get', 'VBP'),\n",
       " ('perhap', 'JJ'),\n",
       " ('want', 'VBP'),\n",
       " ('much', 'JJ'),\n",
       " ('cho', 'NN'),\n",
       " ('put', 'VBD'),\n",
       " ('hand', 'NN'),\n",
       " ('mr', 'NN'),\n",
       " ('hanlon', 'NN'),\n",
       " ('suggest', 'VBP'),\n",
       " ('end', 'NN'),\n",
       " ('kid', 'NN'),\n",
       " ('diap', 'VBZ'),\n",
       " ('push', 'JJ'),\n",
       " ('button', 'NN'),\n",
       " ('alread', 'NN'),\n",
       " ('every', 'DT'),\n",
       " ('poss', 'NN'),\n",
       " ('avail', 'NN'),\n",
       " ('said', 'VBD'),\n",
       " ('mr', 'JJ'),\n",
       " ('hanlon', 'NN'),\n",
       " ('ultim', 'JJ'),\n",
       " ('cons', 'NNS'),\n",
       " ('tel', 'VBP'),\n",
       " ('market', 'NN'),\n",
       " ('want', 'VBP'),\n",
       " ('50', 'CD'),\n",
       " ('000', 'CD'),\n",
       " ('new', 'JJ'),\n",
       " ('gadget', 'NN'),\n",
       " ('technolog', 'NN'),\n",
       " ('showca', 'NN'),\n",
       " ('ce', 'NN'),\n",
       " ('man', 'NN'),\n",
       " ('enh', 'JJ'),\n",
       " ('tv', 'NN'),\n",
       " ('watch', 'NN'),\n",
       " ('exper', 'NN'),\n",
       " ('high', 'JJ'),\n",
       " ('definit', 'NN'),\n",
       " ('tv', 'NN'),\n",
       " ('set', 'VBN'),\n",
       " ('everywh', 'RB'),\n",
       " ('man', 'NN'),\n",
       " ('new', 'JJ'),\n",
       " ('model', 'NN'),\n",
       " ('lcd', 'NN'),\n",
       " ('liquid', 'JJ'),\n",
       " ('cryst', 'NN'),\n",
       " ('display', 'NN'),\n",
       " ('tv', 'NN'),\n",
       " ('launch', 'NN'),\n",
       " ('dvr', 'NN'),\n",
       " ('cap', 'NN'),\n",
       " ('built', 'VBN'),\n",
       " ('instead', 'RB'),\n",
       " ('extern', 'JJ'),\n",
       " ('box', 'NN'),\n",
       " ('on', 'IN'),\n",
       " ('exampl', 'NN'),\n",
       " ('launch', 'NN'),\n",
       " ('show', 'VBP'),\n",
       " ('humax', 'VBZ'),\n",
       " ('26', 'CD'),\n",
       " ('inch', 'NN'),\n",
       " ('lcd', 'JJ'),\n",
       " ('tv', 'NN'),\n",
       " ('80', 'CD'),\n",
       " ('hour', 'NN'),\n",
       " ('tivo', 'NN'),\n",
       " ('dvr', 'NN'),\n",
       " ('dvd', 'NN'),\n",
       " ('record', 'NN'),\n",
       " ('on', 'IN'),\n",
       " ('us', 'PRP'),\n",
       " ('biggest', 'JJS'),\n",
       " ('satellit', 'JJ'),\n",
       " ('tv', 'NN'),\n",
       " ('compan', 'NN'),\n",
       " ('directtv', 'NN'),\n",
       " ('ev', 'NN'),\n",
       " ('launch', 'NN'),\n",
       " ('brand', 'NN'),\n",
       " ('dvr', 'NN'),\n",
       " ('show', 'VBP'),\n",
       " ('100', 'CD'),\n",
       " ('hour', 'NN'),\n",
       " ('record', 'NN'),\n",
       " ('cap', 'NN'),\n",
       " ('inst', 'VBP'),\n",
       " ('replay', 'NN'),\n",
       " ('search', 'NN'),\n",
       " ('funct', 'NN'),\n",
       " ('set', 'VBN'),\n",
       " ('pau', 'NN'),\n",
       " ('rewind', 'NN'),\n",
       " ('tv', 'NN'),\n",
       " ('90', 'CD'),\n",
       " ('hour', 'NN'),\n",
       " ('microsoft', 'JJ'),\n",
       " ('chief', 'JJ'),\n",
       " ('bil', 'NN'),\n",
       " ('gat', 'NN'),\n",
       " ('annount', 'NN'),\n",
       " ('pre', 'NN'),\n",
       " ('show', 'NN'),\n",
       " ('keynot', 'VBZ'),\n",
       " ('speech', 'JJ'),\n",
       " ('partn', 'NN'),\n",
       " ('tivo', 'NN'),\n",
       " ('cal', 'JJ'),\n",
       " ('tivotogo', 'NN'),\n",
       " ('mean', 'NN'),\n",
       " ('peopl', 'NN'),\n",
       " ('play', 'NN'),\n",
       " ('record', 'NN'),\n",
       " ('program', 'NN'),\n",
       " ('window', 'JJ'),\n",
       " ('pc', 'NN'),\n",
       " ('mobl', 'NN'),\n",
       " ('dev', 'NN'),\n",
       " ('reflect', 'VBP'),\n",
       " ('increa', 'JJ'),\n",
       " ('trend', 'NN'),\n",
       " ('fre', 'NN'),\n",
       " ('multimed', 'VBD'),\n",
       " ('peopl', 'JJ'),\n",
       " ('watch', 'NN'),\n",
       " ('want', 'VBP'),\n",
       " ('want', 'NN')]"
      ]
     },
     "execution_count": 30,
     "metadata": {
      "tags": []
     },
     "output_type": "execute_result"
    }
   ],
   "source": [
    "nltk.pos_tag(lemmitized[0])"
   ]
  },
  {
   "cell_type": "code",
   "execution_count": null,
   "metadata": {
    "id": "30tsoOLlGgXi"
   },
   "outputs": [],
   "source": [
    "final_X = stemmed"
   ]
  },
  {
   "cell_type": "code",
   "execution_count": null,
   "metadata": {
    "_uuid": "94dffc6951e46f0e9794dbabe3432344ed95b800",
    "colab": {
     "base_uri": "https://localhost:8080/"
    },
    "executionInfo": {
     "elapsed": 45910,
     "status": "ok",
     "timestamp": 1611200467017,
     "user": {
      "displayName": "Sutithi Chakraborty",
      "photoUrl": "",
      "userId": "12749148906436566424"
     },
     "user_tz": -330
    },
    "id": "D_jRHjL84Ztn",
    "outputId": "775f8e28-16f1-4768-cf1f-8e3c23d66b9d"
   },
   "outputs": [
    {
     "name": "stdout",
     "output_type": "stream",
     "text": [
      "['worldcom', 'boss', 'left', 'book', 'alon', 'form', 'worldcom', 'boss', 'bern', 'eb', 'acc', 'overs', '11bn', '5', '8bn', 'fraud', 'nev', 'mad', 'account', 'dec', 'wit', 'told', 'jur', 'david', 'myer', 'mad', 'com', 'quest', 'def', 'lawy', 'argu', 'mr', 'eb', 'respon', 'worldcom', 'problem', 'phon', 'compan', 'collap', '2002', 'prosecut', 'claim', 'loss', 'hid', 'protect', 'firm', 'shar', 'mr', 'myer', 'alread', 'plead', 'guilt', 'fraud', 'assist', 'prosecut', 'monday', 'def', 'lawy', 'reid', 'weingart', 'tri', 'dist', 'cli', 'alleg', 'cross', 'examin', 'ask', 'mr', 'myer', 'ev', 'knew', 'mr', 'eb', 'mak', 'account', 'dec', 'aw', 'mr', 'myer', 'repl', 'ev', 'know', 'mr', 'eb', 'mak', 'account', 'entr', 'worldcom', 'book', 'mr', 'weingart', 'press', 'repl', 'wit', 'mr', 'myer', 'admit', 'ord', 'fal', 'account', 'entr', 'request', 'form', 'worldcom', 'chief', 'financ', 'off', 'scot', 'sul', 'def', 'lawy', 'tri', 'paint', 'mr', 'sul', 'admit', 'fraud', 'testif', 'lat', 'tri', 'mastermind', 'behind', 'worldcom', 'account', 'hou', 'card', 'mr', 'eb', 'team', 'meanwhil', 'look', 'portray', 'aff', 'boss', 'admiss', 'pe', 'gradu', 'econom', 'whatev', 'abl', 'mr', 'eb', 'transform', 'worldcom', 'rel', 'unknown', '160bn', 'telecom', 'giant', 'invest', 'darl', 'lat', '1990', 'worldcom', 'problem', 'mount', 'howev', 'competit', 'increa', 'telecom', 'boom', 'pet', 'firm', 'fin', 'collap', 'sharehold', 'lost', '180bn', '20', '000', 'work', 'lost', 'job', 'mr', 'eb', 'tri', 'expect', 'last', 'two', 'mon', 'found', 'guilt', 'form', 'ceo', 'fac', 'substant', 'jail', 'sent', 'firml', 'decl', 'innoc']\n"
     ]
    }
   ],
   "source": [
    "print(final_X[1])"
   ]
  },
  {
   "cell_type": "code",
   "execution_count": null,
   "metadata": {
    "_uuid": "c9d7c746dae70cb28d489f5f239a8e1e5b46ed1b",
    "colab": {
     "base_uri": "https://localhost:8080/"
    },
    "executionInfo": {
     "elapsed": 46665,
     "status": "ok",
     "timestamp": 1611200467788,
     "user": {
      "displayName": "Sutithi Chakraborty",
      "photoUrl": "",
      "userId": "12749148906436566424"
     },
     "user_tz": -330
    },
    "id": "SgaPKxXn4Zts",
    "outputId": "eefe6bc8-271c-4fd2-c413-64d254a172c8"
   },
   "outputs": [
    {
     "name": "stdout",
     "output_type": "stream",
     "text": [
      " worldcom boss left book alon form worldcom boss bern eb acc overs 11bn 5 8bn fraud nev mad account dec wit told jur david myer mad com quest def lawy argu mr eb respon worldcom problem phon compan collap 2002 prosecut claim loss hid protect firm shar mr myer alread plead guilt fraud assist prosecut monday def lawy reid weingart tri dist cli alleg cross examin ask mr myer ev knew mr eb mak account dec aw mr myer repl ev know mr eb mak account entr worldcom book mr weingart press repl wit mr myer admit ord fal account entr request form worldcom chief financ off scot sul def lawy tri paint mr sul admit fraud testif lat tri mastermind behind worldcom account hou card mr eb team meanwhil look portray aff boss admiss pe gradu econom whatev abl mr eb transform worldcom rel unknown 160bn telecom giant invest darl lat 1990 worldcom problem mount howev competit increa telecom boom pet firm fin collap sharehold lost 180bn 20 000 work lost job mr eb tri expect last two mon found guilt form ceo fac substant jail sent firml decl innoc\n"
     ]
    }
   ],
   "source": [
    "sent = []\n",
    "for row in final_X:\n",
    "    sequ = ''\n",
    "    for word in row:\n",
    "        sequ = sequ + ' ' + word\n",
    "    sent.append(sequ)\n",
    "\n",
    "final_X = sent\n",
    "print(final_X[1])"
   ]
  },
  {
   "cell_type": "markdown",
   "metadata": {
    "id": "fNekLhZNQScM"
   },
   "source": [
    "# Save the data"
   ]
  },
  {
   "cell_type": "code",
   "execution_count": null,
   "metadata": {
    "id": "E-_lVldfQbGK"
   },
   "outputs": [],
   "source": [
    "data = pd.DataFrame()\n",
    "data['category'] = list(df['category'])\n",
    "data['Text'] = final_X"
   ]
  },
  {
   "cell_type": "code",
   "execution_count": null,
   "metadata": {
    "colab": {
     "base_uri": "https://localhost:8080/"
    },
    "executionInfo": {
     "elapsed": 46657,
     "status": "ok",
     "timestamp": 1611200467800,
     "user": {
      "displayName": "Sutithi Chakraborty",
      "photoUrl": "",
      "userId": "12749148906436566424"
     },
     "user_tz": -330
    },
    "id": "_0WgjGm3GZA2",
    "outputId": "c8fbdf62-2db9-4e58-fb7f-998e1982a691"
   },
   "outputs": [
    {
     "name": "stdout",
     "output_type": "stream",
     "text": [
      "           category                                               Text\n",
      "0              tech   tv fut hand view hom the system plasm high de...\n",
      "1          business   worldcom boss left book alon form worldcom bo...\n",
      "2             sport   tig war farrel gambl leicest say rush mak bid...\n",
      "3             sport   yead fac newcastl fa cup premy sid newcastl u...\n",
      "4     entertainment   oc twelv raid box off oc twelv crim cap seque...\n",
      "...             ...                                                ...\n",
      "2220       business   car pul us retail fig us retail sal fel 0 3 j...\n",
      "2221       politics   kilroy unveil immigr polic ex chatshow host r...\n",
      "2222  entertainment   rem annount new glasgow concert us band rem a...\n",
      "2223       politics   polit squabbl snowb becom commonplac argu bla...\n",
      "2224          sport   sou delight euro progress boss graem sou felt...\n",
      "\n",
      "[2225 rows x 2 columns]\n"
     ]
    }
   ],
   "source": [
    "print(data)"
   ]
  },
  {
   "cell_type": "code",
   "execution_count": null,
   "metadata": {
    "id": "P3kXzt7eNxiP"
   },
   "outputs": [],
   "source": [
    "data.to_csv('S1TakeHome.csv', index=False, encoding='utf-8')"
   ]
  },
  {
   "cell_type": "markdown",
   "metadata": {
    "id": "GQonNMAlPKNg"
   },
   "source": [
    "# Load the data"
   ]
  },
  {
   "cell_type": "code",
   "execution_count": null,
   "metadata": {
    "colab": {
     "base_uri": "https://localhost:8080/",
     "height": 419
    },
    "executionInfo": {
     "elapsed": 46641,
     "status": "ok",
     "timestamp": 1611200467809,
     "user": {
      "displayName": "Sutithi Chakraborty",
      "photoUrl": "",
      "userId": "12749148906436566424"
     },
     "user_tz": -330
    },
    "id": "5blW0yikPrdl",
    "outputId": "48382c02-3cae-4f94-cb8f-35599bb4f238"
   },
   "outputs": [
    {
     "data": {
      "text/html": [
       "<div>\n",
       "<style scoped>\n",
       "    .dataframe tbody tr th:only-of-type {\n",
       "        vertical-align: middle;\n",
       "    }\n",
       "\n",
       "    .dataframe tbody tr th {\n",
       "        vertical-align: top;\n",
       "    }\n",
       "\n",
       "    .dataframe thead th {\n",
       "        text-align: right;\n",
       "    }\n",
       "</style>\n",
       "<table border=\"1\" class=\"dataframe\">\n",
       "  <thead>\n",
       "    <tr style=\"text-align: right;\">\n",
       "      <th></th>\n",
       "      <th>category</th>\n",
       "      <th>Text</th>\n",
       "    </tr>\n",
       "  </thead>\n",
       "  <tbody>\n",
       "    <tr>\n",
       "      <th>0</th>\n",
       "      <td>tech</td>\n",
       "      <td>tv fut hand view hom the system plasm high de...</td>\n",
       "    </tr>\n",
       "    <tr>\n",
       "      <th>1</th>\n",
       "      <td>business</td>\n",
       "      <td>worldcom boss left book alon form worldcom bo...</td>\n",
       "    </tr>\n",
       "    <tr>\n",
       "      <th>2</th>\n",
       "      <td>sport</td>\n",
       "      <td>tig war farrel gambl leicest say rush mak bid...</td>\n",
       "    </tr>\n",
       "    <tr>\n",
       "      <th>3</th>\n",
       "      <td>sport</td>\n",
       "      <td>yead fac newcastl fa cup premy sid newcastl u...</td>\n",
       "    </tr>\n",
       "    <tr>\n",
       "      <th>4</th>\n",
       "      <td>entertainment</td>\n",
       "      <td>oc twelv raid box off oc twelv crim cap seque...</td>\n",
       "    </tr>\n",
       "    <tr>\n",
       "      <th>...</th>\n",
       "      <td>...</td>\n",
       "      <td>...</td>\n",
       "    </tr>\n",
       "    <tr>\n",
       "      <th>2220</th>\n",
       "      <td>business</td>\n",
       "      <td>car pul us retail fig us retail sal fel 0 3 j...</td>\n",
       "    </tr>\n",
       "    <tr>\n",
       "      <th>2221</th>\n",
       "      <td>politics</td>\n",
       "      <td>kilroy unveil immigr polic ex chatshow host r...</td>\n",
       "    </tr>\n",
       "    <tr>\n",
       "      <th>2222</th>\n",
       "      <td>entertainment</td>\n",
       "      <td>rem annount new glasgow concert us band rem a...</td>\n",
       "    </tr>\n",
       "    <tr>\n",
       "      <th>2223</th>\n",
       "      <td>politics</td>\n",
       "      <td>polit squabbl snowb becom commonplac argu bla...</td>\n",
       "    </tr>\n",
       "    <tr>\n",
       "      <th>2224</th>\n",
       "      <td>sport</td>\n",
       "      <td>sou delight euro progress boss graem sou felt...</td>\n",
       "    </tr>\n",
       "  </tbody>\n",
       "</table>\n",
       "<p>2225 rows × 2 columns</p>\n",
       "</div>"
      ],
      "text/plain": [
       "           category                                               Text\n",
       "0              tech   tv fut hand view hom the system plasm high de...\n",
       "1          business   worldcom boss left book alon form worldcom bo...\n",
       "2             sport   tig war farrel gambl leicest say rush mak bid...\n",
       "3             sport   yead fac newcastl fa cup premy sid newcastl u...\n",
       "4     entertainment   oc twelv raid box off oc twelv crim cap seque...\n",
       "...             ...                                                ...\n",
       "2220       business   car pul us retail fig us retail sal fel 0 3 j...\n",
       "2221       politics   kilroy unveil immigr polic ex chatshow host r...\n",
       "2222  entertainment   rem annount new glasgow concert us band rem a...\n",
       "2223       politics   polit squabbl snowb becom commonplac argu bla...\n",
       "2224          sport   sou delight euro progress boss graem sou felt...\n",
       "\n",
       "[2225 rows x 2 columns]"
      ]
     },
     "execution_count": 37,
     "metadata": {
      "tags": []
     },
     "output_type": "execute_result"
    }
   ],
   "source": [
    "data = pd.read_csv('/content/S1TakeHome.csv')\n",
    "data"
   ]
  },
  {
   "cell_type": "markdown",
   "metadata": {
    "id": "i8n3VBOcxb4r"
   },
   "source": [
    "We will employ a text categorization dataset based on BBC articles. Each article is assigned a specific captegory. \n",
    "\n",
    "Implement the code to load the dataset.(Hint: Use the pandas library to load the csv file.)"
   ]
  },
  {
   "cell_type": "code",
   "execution_count": null,
   "metadata": {
    "colab": {
     "base_uri": "https://localhost:8080/",
     "height": 204
    },
    "executionInfo": {
     "elapsed": 46626,
     "status": "ok",
     "timestamp": 1611200467812,
     "user": {
      "displayName": "Sutithi Chakraborty",
      "photoUrl": "",
      "userId": "12749148906436566424"
     },
     "user_tz": -330
    },
    "id": "cOKHESc_xtyc",
    "outputId": "caeb0d66-4527-4d08-cbe1-7bd505f882b9"
   },
   "outputs": [
    {
     "data": {
      "text/html": [
       "<div>\n",
       "<style scoped>\n",
       "    .dataframe tbody tr th:only-of-type {\n",
       "        vertical-align: middle;\n",
       "    }\n",
       "\n",
       "    .dataframe tbody tr th {\n",
       "        vertical-align: top;\n",
       "    }\n",
       "\n",
       "    .dataframe thead th {\n",
       "        text-align: right;\n",
       "    }\n",
       "</style>\n",
       "<table border=\"1\" class=\"dataframe\">\n",
       "  <thead>\n",
       "    <tr style=\"text-align: right;\">\n",
       "      <th></th>\n",
       "      <th>category</th>\n",
       "      <th>Text</th>\n",
       "    </tr>\n",
       "  </thead>\n",
       "  <tbody>\n",
       "    <tr>\n",
       "      <th>0</th>\n",
       "      <td>tech</td>\n",
       "      <td>tv fut hand view hom the system plasm high de...</td>\n",
       "    </tr>\n",
       "    <tr>\n",
       "      <th>1</th>\n",
       "      <td>business</td>\n",
       "      <td>worldcom boss left book alon form worldcom bo...</td>\n",
       "    </tr>\n",
       "    <tr>\n",
       "      <th>2</th>\n",
       "      <td>sport</td>\n",
       "      <td>tig war farrel gambl leicest say rush mak bid...</td>\n",
       "    </tr>\n",
       "    <tr>\n",
       "      <th>3</th>\n",
       "      <td>sport</td>\n",
       "      <td>yead fac newcastl fa cup premy sid newcastl u...</td>\n",
       "    </tr>\n",
       "    <tr>\n",
       "      <th>4</th>\n",
       "      <td>entertainment</td>\n",
       "      <td>oc twelv raid box off oc twelv crim cap seque...</td>\n",
       "    </tr>\n",
       "  </tbody>\n",
       "</table>\n",
       "</div>"
      ],
      "text/plain": [
       "        category                                               Text\n",
       "0           tech   tv fut hand view hom the system plasm high de...\n",
       "1       business   worldcom boss left book alon form worldcom bo...\n",
       "2          sport   tig war farrel gambl leicest say rush mak bid...\n",
       "3          sport   yead fac newcastl fa cup premy sid newcastl u...\n",
       "4  entertainment   oc twelv raid box off oc twelv crim cap seque..."
      ]
     },
     "execution_count": 38,
     "metadata": {
      "tags": []
     },
     "output_type": "execute_result"
    }
   ],
   "source": [
    "# Sanity check: Your output should look like the below\n",
    "data.head()"
   ]
  },
  {
   "cell_type": "markdown",
   "metadata": {
    "id": "wH9BDPmEPSrV"
   },
   "source": [
    "# 3.Techniques for Encoding"
   ]
  },
  {
   "cell_type": "markdown",
   "metadata": {
    "_uuid": "67431e1466aefbba119b54205893dd0dcdff9f3b",
    "id": "-ZTp3zY-4Ztw"
   },
   "source": [
    "3. **Techniques for Encoding**\n",
    "\n",
    "      **BAG OF WORDS**\n",
    "      \n",
    "      In BoW we construct a dictionary that contains set of all unique words from our text review dataset.The frequency of the word is counted here. if there are **d** unique words in our dictionary then for every sentence or review the vector will be of length **d** and count of word from review is stored at its particular location in vector. The vector will be highly sparse in such case.\n",
    "      \n",
    "      Ex. pasta is tasty and pasta is good\n",
    "      \n",
    "     **[0]....[1]............[1]...........[2]..........[2]............[1]..........**             <== Its vector representation ( remaining all dots will be represented as zeroes)\n",
    "     \n",
    "     **[a]..[and].....[good].......[is].......[pasta]....[tasty].......**            <==This is dictionary\n",
    "      .\n",
    "      \n",
    "    Using scikit-learn's CountVectorizer we can get the BoW and check out all the parameters it consists of, one of them is max_features =5000 it tells about to consider only top 5000 most frequently repeated words to place in a dictionary. so our dictionary length or vector length will be only 5000\n",
    "    \n",
    "\n",
    "\n",
    "   **BINARY BAG OF WORDS**\n",
    "    \n",
    "   In binary BoW, we dont count the frequency of word, we just place **1** if the word appears in the review or else **0**. In CountVectorizer there is a parameter **binary = true** this makes our BoW to binary BoW.\n",
    "   \n",
    "  "
   ]
  },
  {
   "cell_type": "code",
   "execution_count": null,
   "metadata": {
    "id": "nqv4Vh7iQkZW"
   },
   "outputs": [],
   "source": [
    "final_X = data['Text']"
   ]
  },
  {
   "cell_type": "markdown",
   "metadata": {
    "id": "ohaWN5kbyENg"
   },
   "source": [
    "###Create a function called \"count_vect\" to convert each review text to individual tokens."
   ]
  },
  {
   "cell_type": "code",
   "execution_count": null,
   "metadata": {
    "_uuid": "a640c6fb9a16e4f0e271c1a101411af2d053fca3",
    "colab": {
     "base_uri": "https://localhost:8080/"
    },
    "executionInfo": {
     "elapsed": 46613,
     "status": "ok",
     "timestamp": 1611200467818,
     "user": {
      "displayName": "Sutithi Chakraborty",
      "photoUrl": "",
      "userId": "12749148906436566424"
     },
     "user_tz": -330
    },
    "id": "hkCNzOuN4Ztx",
    "outputId": "7ea65764-7d4d-4ebf-d64c-492c7168906e",
    "scrolled": true
   },
   "outputs": [
    {
     "name": "stdout",
     "output_type": "stream",
     "text": [
      "  (0, 4443)\t2\n",
      "  (0, 1071)\t1\n",
      "  (0, 2961)\t1\n",
      "  (0, 4537)\t1\n",
      "  (0, 2732)\t2\n",
      "  (0, 3489)\t1\n",
      "  (0, 1800)\t2\n",
      "  (0, 691)\t2\n",
      "  (0, 4937)\t1\n",
      "  (0, 2564)\t1\n",
      "  (0, 3000)\t12\n",
      "  (0, 342)\t1\n",
      "  (0, 0)\t1\n",
      "  (0, 1649)\t2\n",
      "  (0, 952)\t1\n",
      "  (0, 2325)\t1\n",
      "  (0, 4941)\t8\n",
      "  (0, 704)\t3\n",
      "  (0, 2637)\t1\n",
      "  (0, 338)\t1\n",
      "  (0, 1849)\t3\n",
      "  (0, 604)\t1\n",
      "  (0, 1535)\t7\n",
      "  (0, 242)\t1\n",
      "  (0, 3245)\t1\n",
      "  :\t:\n",
      "  (0, 1975)\t1\n",
      "  (0, 2396)\t1\n",
      "  (0, 1261)\t1\n",
      "  (0, 63)\t1\n",
      "  (0, 2990)\t1\n",
      "  (0, 2248)\t1\n",
      "  (0, 1076)\t1\n",
      "  (0, 693)\t1\n",
      "  (0, 3359)\t1\n",
      "  (0, 1789)\t1\n",
      "  (0, 4021)\t1\n",
      "  (0, 76)\t1\n",
      "  (0, 2463)\t1\n",
      "  (0, 1686)\t1\n",
      "  (0, 2607)\t1\n",
      "  (0, 4644)\t1\n",
      "  (0, 1861)\t1\n",
      "  (0, 913)\t1\n",
      "  (0, 1711)\t1\n",
      "  (0, 4330)\t1\n",
      "  (0, 2435)\t1\n",
      "  (0, 3991)\t1\n",
      "  (0, 1801)\t1\n",
      "  (0, 1290)\t1\n",
      "  (0, 2357)\t1\n"
     ]
    }
   ],
   "source": [
    "# Here we use the CountVectorizer from sklearn to create bag of words\n",
    "count_vect = CountVectorizer(max_features=5000)\n",
    "bow_data = count_vect.fit_transform(final_X)\n",
    "print(bow_data[1])"
   ]
  },
  {
   "cell_type": "markdown",
   "metadata": {
    "_uuid": "da9a72410e69708650ccf3263fea6d9b1222147f",
    "id": "Sd74HLAv4Zt1"
   },
   "source": [
    " **Drawbacks of BoW/ Binary BoW**\n",
    " \n",
    " Our main objective in doing these text to vector encodings is that similar meaning text vectors should be close to each other, but in some cases this may not possible for Bow\n",
    " \n",
    "For example, if we consider two reviews **This pasta is very tasty** and **This pasta is not tasty** after stopwords removal both sentences will be converted to **pasta tasty** so both giving exact same meaning.\n",
    "\n",
    "The main problem is here we are not considering the front and back words related to every word, here comes Bigram and Ngram techniques."
   ]
  },
  {
   "cell_type": "markdown",
   "metadata": {
    "id": "EedzjEBEwsuk"
   },
   "source": [
    "## 3.1.N-gram"
   ]
  },
  {
   "cell_type": "markdown",
   "metadata": {
    "_uuid": "a8c25fa64918f9b5129ca8d424684354c29f041d",
    "id": "3fUU4t5M4Zt2"
   },
   "source": [
    "### 3.1.1.**BI-GRAM BOW**\n",
    "\n",
    "Considering pair of words for creating dictionary is Bi-Gram , Tri-Gram means three consecutive words so as NGram.\n",
    "\n",
    "CountVectorizer has a parameter **ngram_range** if assigned to (1,2) it considers Bi-Gram BoW\n",
    "\n",
    "But this massively increases our dictionary size "
   ]
  },
  {
   "cell_type": "code",
   "execution_count": null,
   "metadata": {
    "_uuid": "3bc1a606a42d4e333baa3c62d5a7e5953db28cd9",
    "id": "swBfSe5P4Zt3"
   },
   "outputs": [],
   "source": [
    "final_B_X = final_X"
   ]
  },
  {
   "cell_type": "code",
   "execution_count": null,
   "metadata": {
    "_uuid": "646f10e703dca9daf8a0cca2b5c23f0a21d4ccec",
    "colab": {
     "base_uri": "https://localhost:8080/"
    },
    "executionInfo": {
     "elapsed": 48367,
     "status": "ok",
     "timestamp": 1611200469593,
     "user": {
      "displayName": "Sutithi Chakraborty",
      "photoUrl": "",
      "userId": "12749148906436566424"
     },
     "user_tz": -330
    },
    "id": "TtJrP3uU4Zt7",
    "outputId": "12902491-3e33-45ce-a563-af2eda715376"
   },
   "outputs": [
    {
     "name": "stdout",
     "output_type": "stream",
     "text": [
      "  (0, 287072)\t2\n",
      "  (0, 65879)\t1\n",
      "  (0, 187417)\t1\n",
      "  (0, 293414)\t1\n",
      "  (0, 172265)\t2\n",
      "  (0, 222303)\t1\n",
      "  (0, 114359)\t2\n",
      "  (0, 43437)\t2\n",
      "  (0, 318732)\t1\n",
      "  (0, 159995)\t1\n",
      "  (0, 190238)\t12\n",
      "  (0, 20589)\t1\n",
      "  (0, 7)\t1\n",
      "  (0, 102651)\t2\n",
      "  (0, 58518)\t1\n",
      "  (0, 146435)\t1\n",
      "  (0, 319902)\t8\n",
      "  (0, 44111)\t3\n",
      "  (0, 165279)\t1\n",
      "  (0, 20351)\t1\n",
      "  (0, 118003)\t3\n",
      "  (0, 38963)\t1\n",
      "  (0, 94835)\t7\n",
      "  (0, 12479)\t1\n",
      "  (0, 206145)\t1\n",
      "  :\t:\n",
      "  (0, 63530)\t1\n",
      "  (0, 261127)\t1\n",
      "  (0, 172269)\t1\n",
      "  (0, 2715)\t1\n",
      "  (0, 4006)\t1\n",
      "  (0, 388)\t1\n",
      "  (0, 319080)\t1\n",
      "  (0, 172353)\t1\n",
      "  (0, 155706)\t1\n",
      "  (0, 94875)\t1\n",
      "  (0, 297372)\t1\n",
      "  (0, 105581)\t1\n",
      "  (0, 162602)\t1\n",
      "  (0, 300037)\t1\n",
      "  (0, 187601)\t1\n",
      "  (0, 119066)\t1\n",
      "  (0, 132813)\t1\n",
      "  (0, 118079)\t1\n",
      "  (0, 55355)\t1\n",
      "  (0, 107371)\t1\n",
      "  (0, 279505)\t1\n",
      "  (0, 154379)\t1\n",
      "  (0, 257979)\t1\n",
      "  (0, 114911)\t1\n",
      "  (0, 82152)\t1\n"
     ]
    }
   ],
   "source": [
    "count_vect = CountVectorizer(ngram_range=(1,2))\n",
    "Bigram_data = count_vect.fit_transform(final_B_X)\n",
    "print(Bigram_data[1])"
   ]
  },
  {
   "cell_type": "markdown",
   "metadata": {
    "_uuid": "3d29a0749cc26757d3f311cadee7dfdd97aa7c76",
    "id": "lHcH77Nu4ZuA"
   },
   "source": [
    "## 3.2.TF-IDF\n",
    "\n",
    "**Term Frequency -  Inverse Document Frequency** it makes sure that less importance is given to most frequent words and also considers less frequent words.\n",
    "\n",
    "**Term Frequency** is number of times a **particular word(W)** occurs in a review divided by totall number of words **(Wr)** in review. The term frequency value ranges from 0 to 1.\n",
    "\n",
    "**Inverse Document Frequency** is calculated as **log(Total Number of Docs(N) / Number of Docs which contains particular word(n))**. Here Docs referred as Reviews.\n",
    "\n",
    "\n",
    "**TF-IDF** is **TF * IDF** that is **(W/Wr)*LOG(N/n)**\n",
    "\n",
    "\n",
    " Using scikit-learn's tfidfVectorizer we can get the TF-IDF.\n",
    "\n",
    "So even here we get a TF-IDF value for every word and in some cases it may consider different meaning reviews as similar after stopwords removal. so to over come we can use BI-Gram or NGram."
   ]
  },
  {
   "cell_type": "code",
   "execution_count": null,
   "metadata": {
    "_uuid": "b1870137f2b5f4f0e97eaa0b8812cae83c53ed21",
    "colab": {
     "base_uri": "https://localhost:8080/"
    },
    "executionInfo": {
     "elapsed": 48354,
     "status": "ok",
     "timestamp": 1611200469595,
     "user": {
      "displayName": "Sutithi Chakraborty",
      "photoUrl": "",
      "userId": "12749148906436566424"
     },
     "user_tz": -330
    },
    "id": "1QSd61Ov4ZuB",
    "outputId": "1da616bc-204f-41e4-a88d-52e4364c8b02"
   },
   "outputs": [
    {
     "name": "stdout",
     "output_type": "stream",
     "text": [
      "  (0, 2357)\t0.053998575236851074\n",
      "  (0, 1290)\t0.04735320489025118\n",
      "  (0, 1801)\t0.06113847397992787\n",
      "  (0, 3991)\t0.03761521543600182\n",
      "  (0, 2435)\t0.047696593238127\n",
      "  (0, 4330)\t0.050038866991833506\n",
      "  (0, 1711)\t0.028348795751903327\n",
      "  (0, 913)\t0.06597983872295728\n",
      "  (0, 1861)\t0.029595454361795392\n",
      "  (0, 4644)\t0.02004915993668257\n",
      "  (0, 2607)\t0.019290906946747503\n",
      "  (0, 1686)\t0.02487146695640509\n",
      "  (0, 2463)\t0.03359288032200236\n",
      "  (0, 76)\t0.03303127770729499\n",
      "  (0, 4021)\t0.04508849915216427\n",
      "  (0, 1789)\t0.024460877595589577\n",
      "  (0, 3359)\t0.04029808602089793\n",
      "  (0, 693)\t0.04860875490898975\n",
      "  (0, 1076)\t0.03350446178332555\n",
      "  (0, 2248)\t0.02752840642957251\n",
      "  (0, 2990)\t0.05501257655123274\n",
      "  (0, 63)\t0.04860875490898975\n",
      "  (0, 1261)\t0.06597983872295728\n",
      "  (0, 2396)\t0.03377202738544144\n",
      "  (0, 1975)\t0.03716589264234024\n",
      "  :\t:\n",
      "  (0, 3245)\t0.059368296638317865\n",
      "  (0, 242)\t0.035759069505679926\n",
      "  (0, 1535)\t0.4326228598951786\n",
      "  (0, 604)\t0.06180326569931124\n",
      "  (0, 1849)\t0.07188275694032832\n",
      "  (0, 338)\t0.04593560884358774\n",
      "  (0, 2637)\t0.034424778546459\n",
      "  (0, 704)\t0.1130431044209148\n",
      "  (0, 4941)\t0.48910779183942293\n",
      "  (0, 2325)\t0.0305411360638948\n",
      "  (0, 952)\t0.02895327669432489\n",
      "  (0, 1649)\t0.04503194086837458\n",
      "  (0, 0)\t0.02595463830229463\n",
      "  (0, 342)\t0.02864660272690929\n",
      "  (0, 3000)\t0.250567349816499\n",
      "  (0, 2564)\t0.03040991522554007\n",
      "  (0, 4937)\t0.02273025713834127\n",
      "  (0, 691)\t0.07603318410409361\n",
      "  (0, 1800)\t0.05277319324814091\n",
      "  (0, 3489)\t0.03187893986170963\n",
      "  (0, 2732)\t0.06572892232514661\n",
      "  (0, 4537)\t0.02350076173281763\n",
      "  (0, 2961)\t0.023788084447011377\n",
      "  (0, 1071)\t0.02496711013666349\n",
      "  (0, 4443)\t0.09880301447351261\n"
     ]
    }
   ],
   "source": [
    "final_tf = final_X\n",
    "tf_idf = TfidfVectorizer(max_features=5000)\n",
    "tf_data = tf_idf.fit_transform(final_tf)\n",
    "print(tf_data[1])"
   ]
  },
  {
   "cell_type": "markdown",
   "metadata": {
    "id": "BMQDwUEZyl-t"
   },
   "source": [
    "We will use the above function here to create a list of list that will store each complaint tokenized into separate words."
   ]
  },
  {
   "cell_type": "code",
   "execution_count": null,
   "metadata": {
    "id": "4G5cotL1UvAK"
   },
   "outputs": [],
   "source": [
    "data_list = list()\n",
    "for comp in data['Text']:\n",
    "    data_list.append(RegexpTokenizer('\\w+').tokenize(comp))"
   ]
  },
  {
   "cell_type": "markdown",
   "metadata": {
    "id": "HcSTnZF1wFhK"
   },
   "source": [
    "## 3.3.Word2Vec"
   ]
  },
  {
   "cell_type": "markdown",
   "metadata": {
    "id": "B7JLBNQSzibP"
   },
   "source": [
    "Next step is to import the Word2Vec model from gensim."
   ]
  },
  {
   "cell_type": "markdown",
   "metadata": {
    "id": "wpIR5o5zveup"
   },
   "source": [
    "Gensim is a free to use python library. It provides APIs to solve various problems relating to natural language processing. It is fast, scalable and robust.\n",
    "\n",
    "In this practice exercise we will train our own Word2Vec model using gensim Word2Vec API. Objectives of this practice exercise are, \n",
    "\n",
    "\n",
    "1.   Train your word2vec word embedding model.\n",
    "2.   Visualize trained word embedding model using principal component analysis.\n",
    "\n",
    "\n",
    "First step will be to load the corpus, clean it and tokenize it."
   ]
  },
  {
   "cell_type": "markdown",
   "metadata": {
    "id": "KYs5Xlmf6539"
   },
   "source": [
    "Libraries used in this notebook along with their version:\n",
    "\n",
    "google\t2.0.3\n",
    "\n",
    "matplotlib\t3.2.1\n",
    "\n",
    "numpy\t1.18.3\n",
    "\n",
    "pandas\t1.0.3"
   ]
  },
  {
   "cell_type": "code",
   "execution_count": null,
   "metadata": {
    "id": "7ZrUBJEcpAS3"
   },
   "outputs": [],
   "source": [
    "from gensim.models import Word2Vec"
   ]
  },
  {
   "cell_type": "markdown",
   "metadata": {
    "id": "eqTRR4O7zymN"
   },
   "source": [
    "#### Create your own model using the data_list defined above and gensim Word2Vec API. \n",
    "(Hint: https://radimrehurek.com/gensim/models/word2vec.html)"
   ]
  },
  {
   "cell_type": "code",
   "execution_count": null,
   "metadata": {
    "id": "Ly-vEiBxqN5r"
   },
   "outputs": [],
   "source": [
    "# Solution\n",
    "model = Word2Vec(stemmed, min_count=1, size=100)"
   ]
  },
  {
   "cell_type": "code",
   "execution_count": null,
   "metadata": {
    "colab": {
     "base_uri": "https://localhost:8080/"
    },
    "executionInfo": {
     "elapsed": 8260,
     "status": "ok",
     "timestamp": 1611200700146,
     "user": {
      "displayName": "Sutithi Chakraborty",
      "photoUrl": "",
      "userId": "12749148906436566424"
     },
     "user_tz": -330
    },
    "id": "XBOIq9BArBGp",
    "outputId": "f65449e4-fbb6-4841-aa1d-2465acfa0456"
   },
   "outputs": [
    {
     "name": "stderr",
     "output_type": "stream",
     "text": [
      "/usr/local/lib/python3.6/dist-packages/ipykernel_launcher.py:2: DeprecationWarning: Call to deprecated `__getitem__` (Method will be removed in 4.0.0, use self.wv.__getitem__() instead).\n",
      "  \n"
     ]
    }
   ],
   "source": [
    "# Loading the vectors for each word in varaible \"x\"\n",
    "x = model[model.wv.vocab]"
   ]
  },
  {
   "cell_type": "markdown",
   "metadata": {
    "id": "b599Joey0a1W"
   },
   "source": [
    "#### Use PCA algorithm from sklearn to convert high dimesnional word embeddings to two diemnsions and save them in the variable \"results\"."
   ]
  },
  {
   "cell_type": "code",
   "execution_count": null,
   "metadata": {
    "id": "NxSGnuajsOr3"
   },
   "outputs": [],
   "source": [
    "# Solution\n",
    "pca = PCA(n_components=2)\n",
    "result = pca.fit_transform(x)"
   ]
  },
  {
   "cell_type": "markdown",
   "metadata": {
    "id": "c2TT3A0n0u0D"
   },
   "source": [
    "Visualizing the word embeddings."
   ]
  },
  {
   "cell_type": "code",
   "execution_count": null,
   "metadata": {
    "colab": {
     "base_uri": "https://localhost:8080/",
     "height": 330
    },
    "executionInfo": {
     "elapsed": 8245,
     "status": "ok",
     "timestamp": 1611200700156,
     "user": {
      "displayName": "Sutithi Chakraborty",
      "photoUrl": "",
      "userId": "12749148906436566424"
     },
     "user_tz": -330
    },
    "id": "qctwS62-shmh",
    "outputId": "0d27e85f-e282-4c5c-d233-110ddde2fc0e"
   },
   "outputs": [
    {
     "data": {
      "image/png": "[encoded data removed]",
      "text/plain": [
       "<Figure size 1440x720 with 1 Axes>"
      ]
     },
     "metadata": {
      "needs_background": "light",
      "tags": []
     },
     "output_type": "display_data"
    }
   ],
   "source": [
    "pyplot.figure(figsize = (20, 10))\n",
    "pyplot.scatter(result[40:80, 0], result[40:80, 1])\n",
    "words = list(model.wv.vocab)\n",
    "for i, word in enumerate(words[40:80]):\n",
    "\tpyplot.annotate(word, xy=(result[40 + i, 0], result[40 + i, 1]))\n",
    "pyplot.show()"
   ]
  },
  {
   "cell_type": "code",
   "execution_count": null,
   "metadata": {
    "id": "ebvblkiiPYLS"
   },
   "outputs": [],
   "source": [
    "sentence = str(data['Text'][1])"
   ]
  },
  {
   "cell_type": "code",
   "execution_count": null,
   "metadata": {
    "colab": {
     "base_uri": "https://localhost:8080/",
     "height": 239
    },
    "executionInfo": {
     "elapsed": 8750,
     "status": "ok",
     "timestamp": 1611200700850,
     "user": {
      "displayName": "Sutithi Chakraborty",
      "photoUrl": "",
      "userId": "12749148906436566424"
     },
     "user_tz": -330
    },
    "id": "yU0mfse3PYLT",
    "outputId": "acfda10e-61f8-40b6-a31d-23be15cf2ee9"
   },
   "outputs": [
    {
     "data": {
      "application/vnd.google.colaboratory.intrinsic+json": {
       "type": "string"
      },
      "text/plain": [
       "' worldcom boss left book alon form worldcom boss bern eb acc overs 11bn 5 8bn fraud nev mad account dec wit told jur david myer mad com quest def lawy argu mr eb respon worldcom problem phon compan collap 2002 prosecut claim loss hid protect firm shar mr myer alread plead guilt fraud assist prosecut monday def lawy reid weingart tri dist cli alleg cross examin ask mr myer ev knew mr eb mak account dec aw mr myer repl ev know mr eb mak account entr worldcom book mr weingart press repl wit mr myer admit ord fal account entr request form worldcom chief financ off scot sul def lawy tri paint mr sul admit fraud testif lat tri mastermind behind worldcom account hou card mr eb team meanwhil look portray aff boss admiss pe gradu econom whatev abl mr eb transform worldcom rel unknown 160bn telecom giant invest darl lat 1990 worldcom problem mount howev competit increa telecom boom pet firm fin collap sharehold lost 180bn 20 000 work lost job mr eb tri expect last two mon found guilt form ceo fac substant jail sent firml decl innoc'"
      ]
     },
     "execution_count": 86,
     "metadata": {
      "tags": []
     },
     "output_type": "execute_result"
    }
   ],
   "source": [
    "sentence"
   ]
  },
  {
   "cell_type": "code",
   "execution_count": null,
   "metadata": {
    "id": "ossfC9dKPYLT"
   },
   "outputs": [],
   "source": [
    "sentence_nlp = sentence"
   ]
  },
  {
   "cell_type": "code",
   "execution_count": null,
   "metadata": {
    "colab": {
     "base_uri": "https://localhost:8080/",
     "height": 239
    },
    "executionInfo": {
     "elapsed": 8716,
     "status": "ok",
     "timestamp": 1611200700855,
     "user": {
      "displayName": "Sutithi Chakraborty",
      "photoUrl": "",
      "userId": "12749148906436566424"
     },
     "user_tz": -330
    },
    "id": "N5GIgax9PYLT",
    "outputId": "a7ef0334-bca7-4af4-dd63-070cc1a43b7c"
   },
   "outputs": [
    {
     "data": {
      "application/vnd.google.colaboratory.intrinsic+json": {
       "type": "string"
      },
      "text/plain": [
       "' worldcom boss left book alon form worldcom boss bern eb acc overs 11bn 5 8bn fraud nev mad account dec wit told jur david myer mad com quest def lawy argu mr eb respon worldcom problem phon compan collap 2002 prosecut claim loss hid protect firm shar mr myer alread plead guilt fraud assist prosecut monday def lawy reid weingart tri dist cli alleg cross examin ask mr myer ev knew mr eb mak account dec aw mr myer repl ev know mr eb mak account entr worldcom book mr weingart press repl wit mr myer admit ord fal account entr request form worldcom chief financ off scot sul def lawy tri paint mr sul admit fraud testif lat tri mastermind behind worldcom account hou card mr eb team meanwhil look portray aff boss admiss pe gradu econom whatev abl mr eb transform worldcom rel unknown 160bn telecom giant invest darl lat 1990 worldcom problem mount howev competit increa telecom boom pet firm fin collap sharehold lost 180bn 20 000 work lost job mr eb tri expect last two mon found guilt form ceo fac substant jail sent firml decl innoc'"
      ]
     },
     "execution_count": 88,
     "metadata": {
      "tags": []
     },
     "output_type": "execute_result"
    }
   ],
   "source": [
    "sentence_nlp"
   ]
  },
  {
   "cell_type": "code",
   "execution_count": null,
   "metadata": {
    "colab": {
     "base_uri": "https://localhost:8080/"
    },
    "executionInfo": {
     "elapsed": 8696,
     "status": "ok",
     "timestamp": 1611200700857,
     "user": {
      "displayName": "Sutithi Chakraborty",
      "photoUrl": "",
      "userId": "12749148906436566424"
     },
     "user_tz": -330
    },
    "id": "KlCHSTLaVTc8",
    "outputId": "7d0fb976-dec0-4ddf-9279-6506c8f4cb6d"
   },
   "outputs": [
    {
     "name": "stdout",
     "output_type": "stream",
     "text": [
      "[nltk_data] Downloading package maxent_treebank_pos_tagger to\n",
      "[nltk_data]     /root/nltk_data...\n",
      "[nltk_data]   Package maxent_treebank_pos_tagger is already up-to-\n",
      "[nltk_data]       date!\n"
     ]
    },
    {
     "data": {
      "text/plain": [
       "True"
      ]
     },
     "execution_count": 89,
     "metadata": {
      "tags": []
     },
     "output_type": "execute_result"
    }
   ],
   "source": [
    "nltk.download('maxent_treebank_pos_tagger')"
   ]
  },
  {
   "cell_type": "code",
   "execution_count": null,
   "metadata": {
    "colab": {
     "base_uri": "https://localhost:8080/"
    },
    "executionInfo": {
     "elapsed": 8679,
     "status": "ok",
     "timestamp": 1611200700860,
     "user": {
      "displayName": "Sutithi Chakraborty",
      "photoUrl": "",
      "userId": "12749148906436566424"
     },
     "user_tz": -330
    },
    "id": "s2oLwyUVVTf-",
    "outputId": "d8df436d-ab66-4e70-b4cf-f27f35d21112"
   },
   "outputs": [
    {
     "name": "stdout",
     "output_type": "stream",
     "text": [
      "[nltk_data] Downloading package averaged_perceptron_tagger to\n",
      "[nltk_data]     /root/nltk_data...\n",
      "[nltk_data]   Package averaged_perceptron_tagger is already up-to-\n",
      "[nltk_data]       date!\n"
     ]
    },
    {
     "data": {
      "text/plain": [
       "True"
      ]
     },
     "execution_count": 90,
     "metadata": {
      "tags": []
     },
     "output_type": "execute_result"
    }
   ],
   "source": [
    "nltk.download('averaged_perceptron_tagger')"
   ]
  },
  {
   "cell_type": "markdown",
   "metadata": {
    "id": "TkYL18YhPYLW"
   },
   "source": [
    "# 4.Emotion and Sentiment Analysis"
   ]
  },
  {
   "cell_type": "code",
   "execution_count": null,
   "metadata": {
    "colab": {
     "base_uri": "https://localhost:8080/"
    },
    "executionInfo": {
     "elapsed": 10683,
     "status": "ok",
     "timestamp": 1611200702885,
     "user": {
      "displayName": "Sutithi Chakraborty",
      "photoUrl": "",
      "userId": "12749148906436566424"
     },
     "user_tz": -330
    },
    "id": "bf9TVK6CWdJ0",
    "outputId": "103da154-196a-4eb0-8c01-a06083cf28b6"
   },
   "outputs": [
    {
     "name": "stdout",
     "output_type": "stream",
     "text": [
      "Requirement already satisfied: afinn in /usr/local/lib/python3.6/dist-packages (0.1)\n"
     ]
    }
   ],
   "source": [
    "pip install afinn"
   ]
  },
  {
   "cell_type": "code",
   "execution_count": null,
   "metadata": {
    "id": "pcD64nWaPYLW"
   },
   "outputs": [],
   "source": [
    "from afinn import Afinn"
   ]
  },
  {
   "cell_type": "code",
   "execution_count": null,
   "metadata": {
    "id": "mK0qItTkPYLX"
   },
   "outputs": [],
   "source": [
    "af = Afinn()"
   ]
  },
  {
   "cell_type": "code",
   "execution_count": null,
   "metadata": {
    "id": "ijVaCL2APYLX"
   },
   "outputs": [],
   "source": [
    "sentiment_scores = [af.score(article) for article in data['Text']]"
   ]
  },
  {
   "cell_type": "code",
   "execution_count": null,
   "metadata": {
    "id": "WjFdGI9fPYLX"
   },
   "outputs": [],
   "source": [
    "sentiment_category = ['positive' if score > 3 \n",
    "                          else 'negative' if score < 3 \n",
    "                              else 'neutral' \n",
    "                                  for score in sentiment_scores]"
   ]
  },
  {
   "cell_type": "code",
   "execution_count": null,
   "metadata": {
    "id": "ct2_s-CrPYLY"
   },
   "outputs": [],
   "source": [
    "df = pd.DataFrame([list(data['category']), sentiment_scores, sentiment_category]).T"
   ]
  },
  {
   "cell_type": "code",
   "execution_count": null,
   "metadata": {
    "id": "12Ntxol4PYLY"
   },
   "outputs": [],
   "source": [
    "df.columns = ['category', 'sentiment_score', 'sentiment_category']"
   ]
  },
  {
   "cell_type": "code",
   "execution_count": null,
   "metadata": {
    "id": "-kj5TaNhPYLZ"
   },
   "outputs": [],
   "source": [
    "df['sentiment_score'] = df.sentiment_score.astype('float')"
   ]
  },
  {
   "cell_type": "code",
   "execution_count": null,
   "metadata": {
    "colab": {
     "base_uri": "https://localhost:8080/",
     "height": 266
    },
    "executionInfo": {
     "elapsed": 24005,
     "status": "ok",
     "timestamp": 1611200716298,
     "user": {
      "displayName": "Sutithi Chakraborty",
      "photoUrl": "",
      "userId": "12749148906436566424"
     },
     "user_tz": -330
    },
    "id": "GeofMqmwPYLZ",
    "outputId": "d4915e8e-f18d-40fe-98a8-d8499653f429"
   },
   "outputs": [
    {
     "data": {
      "text/html": [
       "<div>\n",
       "<style scoped>\n",
       "    .dataframe tbody tr th:only-of-type {\n",
       "        vertical-align: middle;\n",
       "    }\n",
       "\n",
       "    .dataframe tbody tr th {\n",
       "        vertical-align: top;\n",
       "    }\n",
       "\n",
       "    .dataframe thead tr th {\n",
       "        text-align: left;\n",
       "    }\n",
       "\n",
       "    .dataframe thead tr:last-of-type th {\n",
       "        text-align: right;\n",
       "    }\n",
       "</style>\n",
       "<table border=\"1\" class=\"dataframe\">\n",
       "  <thead>\n",
       "    <tr>\n",
       "      <th></th>\n",
       "      <th colspan=\"8\" halign=\"left\">sentiment_score</th>\n",
       "    </tr>\n",
       "    <tr>\n",
       "      <th></th>\n",
       "      <th>count</th>\n",
       "      <th>mean</th>\n",
       "      <th>std</th>\n",
       "      <th>min</th>\n",
       "      <th>25%</th>\n",
       "      <th>50%</th>\n",
       "      <th>75%</th>\n",
       "      <th>max</th>\n",
       "    </tr>\n",
       "    <tr>\n",
       "      <th>category</th>\n",
       "      <th></th>\n",
       "      <th></th>\n",
       "      <th></th>\n",
       "      <th></th>\n",
       "      <th></th>\n",
       "      <th></th>\n",
       "      <th></th>\n",
       "      <th></th>\n",
       "    </tr>\n",
       "  </thead>\n",
       "  <tbody>\n",
       "    <tr>\n",
       "      <th>business</th>\n",
       "      <td>510.0</td>\n",
       "      <td>-2.094118</td>\n",
       "      <td>11.757160</td>\n",
       "      <td>-46.0</td>\n",
       "      <td>-8.0</td>\n",
       "      <td>-1.0</td>\n",
       "      <td>4.0</td>\n",
       "      <td>52.0</td>\n",
       "    </tr>\n",
       "    <tr>\n",
       "      <th>entertainment</th>\n",
       "      <td>386.0</td>\n",
       "      <td>14.064767</td>\n",
       "      <td>30.451212</td>\n",
       "      <td>-26.0</td>\n",
       "      <td>-1.0</td>\n",
       "      <td>8.0</td>\n",
       "      <td>18.0</td>\n",
       "      <td>375.0</td>\n",
       "    </tr>\n",
       "    <tr>\n",
       "      <th>politics</th>\n",
       "      <td>417.0</td>\n",
       "      <td>-5.254197</td>\n",
       "      <td>14.058519</td>\n",
       "      <td>-147.0</td>\n",
       "      <td>-12.0</td>\n",
       "      <td>-4.0</td>\n",
       "      <td>2.0</td>\n",
       "      <td>71.0</td>\n",
       "    </tr>\n",
       "    <tr>\n",
       "      <th>sport</th>\n",
       "      <td>511.0</td>\n",
       "      <td>8.168297</td>\n",
       "      <td>14.270601</td>\n",
       "      <td>-23.0</td>\n",
       "      <td>-1.0</td>\n",
       "      <td>6.0</td>\n",
       "      <td>15.5</td>\n",
       "      <td>70.0</td>\n",
       "    </tr>\n",
       "    <tr>\n",
       "      <th>tech</th>\n",
       "      <td>401.0</td>\n",
       "      <td>-0.256858</td>\n",
       "      <td>16.562046</td>\n",
       "      <td>-102.0</td>\n",
       "      <td>-7.0</td>\n",
       "      <td>2.0</td>\n",
       "      <td>9.0</td>\n",
       "      <td>63.0</td>\n",
       "    </tr>\n",
       "  </tbody>\n",
       "</table>\n",
       "</div>"
      ],
      "text/plain": [
       "              sentiment_score                        ...                  \n",
       "                        count       mean        std  ...  50%   75%    max\n",
       "category                                             ...                  \n",
       "business                510.0  -2.094118  11.757160  ... -1.0   4.0   52.0\n",
       "entertainment           386.0  14.064767  30.451212  ...  8.0  18.0  375.0\n",
       "politics                417.0  -5.254197  14.058519  ... -4.0   2.0   71.0\n",
       "sport                   511.0   8.168297  14.270601  ...  6.0  15.5   70.0\n",
       "tech                    401.0  -0.256858  16.562046  ...  2.0   9.0   63.0\n",
       "\n",
       "[5 rows x 8 columns]"
      ]
     },
     "execution_count": 99,
     "metadata": {
      "tags": []
     },
     "output_type": "execute_result"
    }
   ],
   "source": [
    "df.groupby(by=['category']).describe()"
   ]
  },
  {
   "cell_type": "code",
   "execution_count": null,
   "metadata": {
    "id": "FBriXTXymYIY"
   },
   "outputs": [],
   "source": [
    "import matplotlib.pyplot as plt\n",
    "import seaborn as sns"
   ]
  },
  {
   "cell_type": "code",
   "execution_count": null,
   "metadata": {
    "colab": {
     "base_uri": "https://localhost:8080/",
     "height": 308
    },
    "executionInfo": {
     "elapsed": 25302,
     "status": "ok",
     "timestamp": 1611200717615,
     "user": {
      "displayName": "Sutithi Chakraborty",
      "photoUrl": "",
      "userId": "12749148906436566424"
     },
     "user_tz": -330
    },
    "id": "dbewuqPEPYLZ",
    "outputId": "f7be3069-fc74-4bf3-936a-612751944255"
   },
   "outputs": [
    {
     "data": {
      "image/png": "[encoded data removed]",
      "text/plain": [
       "<Figure size 1008x288 with 2 Axes>"
      ]
     },
     "metadata": {
      "needs_background": "light",
      "tags": []
     },
     "output_type": "display_data"
    }
   ],
   "source": [
    "f, (ax1, ax2) = plt.subplots(1, 2, figsize=(14, 4))\n",
    "sp = sns.stripplot(x='category', y=\"sentiment_score\",  hue='sentiment_category', data=df, ax=ax1)\n",
    "bp = sns.boxplot(x='category', y=\"sentiment_score\", hue='sentiment_category', data=df, palette=\"Set2\", ax=ax2)\n",
    "t = f.suptitle('Visualizing Sentiment', fontsize=14)"
   ]
  },
  {
   "cell_type": "code",
   "execution_count": null,
   "metadata": {
    "colab": {
     "base_uri": "https://localhost:8080/",
     "height": 437
    },
    "executionInfo": {
     "elapsed": 25290,
     "status": "ok",
     "timestamp": 1611200717617,
     "user": {
      "displayName": "Sutithi Chakraborty",
      "photoUrl": "",
      "userId": "12749148906436566424"
     },
     "user_tz": -330
    },
    "id": "rVCsOcufPYLa",
    "outputId": "273e4917-65e3-46c8-88d3-a716488e064d"
   },
   "outputs": [
    {
     "name": "stderr",
     "output_type": "stream",
     "text": [
      "/usr/local/lib/python3.6/dist-packages/seaborn/categorical.py:3714: UserWarning: The `factorplot` function has been renamed to `catplot`. The original name will be removed in a future release. Please update your code. Note that the default `kind` in `factorplot` (`'point'`) has changed `'strip'` in `catplot`.\n",
      "  warnings.warn(msg)\n"
     ]
    },
    {
     "data": {
      "image/png": "[encoded data removed]",
      "text/plain": [
       "<Figure size 467.5x360 with 1 Axes>"
      ]
     },
     "metadata": {
      "needs_background": "light",
      "tags": []
     },
     "output_type": "display_data"
    }
   ],
   "source": [
    "fc = sns.factorplot(x=\"category\", hue=\"sentiment_category\", \n",
    "                    data=df, kind=\"count\", \n",
    "                    palette={\"negative\": \"#FE2020\", \n",
    "                             \"positive\": \"#BADD07\", \n",
    "                             \"neutral\": \"#68BFF5\"})"
   ]
  },
  {
   "cell_type": "code",
   "execution_count": null,
   "metadata": {
    "id": "1CBSw6u6PYLa"
   },
   "outputs": [],
   "source": [
    "pos_idx = df[(df.category=='tech') & (df.sentiment_score == df[(df.category=='tech')].sentiment_score.max())].index[0]"
   ]
  },
  {
   "cell_type": "code",
   "execution_count": null,
   "metadata": {
    "id": "7C7v1uOLPYLb"
   },
   "outputs": [],
   "source": [
    "neg_idx = df[(df.category=='tech') & (df.sentiment_score == df[(df.category=='tech')].sentiment_score.min())].index[0]"
   ]
  },
  {
   "cell_type": "code",
   "execution_count": null,
   "metadata": {
    "colab": {
     "base_uri": "https://localhost:8080/"
    },
    "executionInfo": {
     "elapsed": 25271,
     "status": "ok",
     "timestamp": 1611200717624,
     "user": {
      "displayName": "Sutithi Chakraborty",
      "photoUrl": "",
      "userId": "12749148906436566424"
     },
     "user_tz": -330
    },
    "id": "Inn4hVSNnHeR",
    "outputId": "0ee907e2-5781-4a78-de31-750e9ff19cbe"
   },
   "outputs": [
    {
     "data": {
      "text/plain": [
       "1189"
      ]
     },
     "execution_count": 105,
     "metadata": {
      "tags": []
     },
     "output_type": "execute_result"
    }
   ],
   "source": [
    "neg_idx"
   ]
  },
  {
   "cell_type": "code",
   "execution_count": null,
   "metadata": {
    "colab": {
     "base_uri": "https://localhost:8080/"
    },
    "executionInfo": {
     "elapsed": 25263,
     "status": "ok",
     "timestamp": 1611200717625,
     "user": {
      "displayName": "Sutithi Chakraborty",
      "photoUrl": "",
      "userId": "12749148906436566424"
     },
     "user_tz": -330
    },
    "id": "zEi2lpmxo5kE",
    "outputId": "e64ca66d-2278-4bf0-a2d8-0ba934903fcc"
   },
   "outputs": [
    {
     "name": "stdout",
     "output_type": "stream",
     "text": [
      "Most Negative Tech Article:  cal act internet scam phon compan enough warn custom internet rog dial scam accord prem phon lin reg icst receiv 45 000 complaint rec mon dial internet connect divert prem rat numb without us knowledg phon compan ref pay comp say cal must paid must warn peopl ear poss fraud icst said peopl us dial connect affect scam without real program download divert internet cal via prem phon lin victim oft fail not receiv unusu high bil icst spokesm rob dwight said phon compan get touch custom soon bil goe us 50 mon want know straight away want told hit 750 phon compan system plac spot fraud act artific infl traff said alert numb investig look numb ad telecom ombudsm elizabe frant said certainl would surpr find credit card compan phon some ordinar would expect phon compan look see simil approach biggest phon compan bt say monit fraud warn peopl rog dial adv custom us cal bar want prev cal prem lin cur system cal mad littl don gavin patterson group man direct bt cons said look custom cal pattern mak interv ordinar look mom wheth improv bt handl 180 mil cal day monit quit task ad govern ord review prem lin serv lik say icst pow deal rog dial fut mom cannot demand pay out behalf custom clos illeg serv us fre ant viru softw avg fre firew protect zonealarm tool prev unauth access outgo cal inadvert innoc cau daught lov mus sit isp inform custom facil respon clearl fal custom man fal prey simpl know avoid issu ign alway exp bus on know hap fraud commit recogn phon compan pay peopl obtain money fraud peopl follow prosecut dial mainl download sit off illeg mp3 porn pir softw peopl visit sit consid less risk whatev hap person respon seem everyon victim day part blam rest manufact hom comput op system sec system allow web pag email download inst any without us knowledg scam illeg telephon compan noth ref pay money perpet receiv good return interest keep scam go bt et al block prem numb default turn custom request anyon fal foul scam ref pay telephon provid cal notif telephon provid fraud transact cannot insist pay bil would knowingl assist fraudst commit fraud custom yet tak court ref pay bil dis remov modem us broadband instead noth worr buy dec firew softw ant viru would walk freez cold without coat would driv car without ins protect pc stop blam phon compan fault impress phon compan rec kept ring hotlin numb kyl ticket next day rang back ask aw 40 od cal numb gre serv got ticket wel colleagu fal victim kind scam inform phon compan subsequ put block prem rat numb three mon lat ano hug bil 1 000 cam block app work stil pay ev though block plac phon compan prob quit happ custom hit hug bil otherw tak extr step prev kind problem scam 139 op noth ad insult injur charg vat govern prem rat numb subject variou scam ev sint inv on exampl thiev would set prem rat numb dial day night phon whos quarterl bil nev paid telephon compan victim bet loophol block quickl know peopl run larg bil despit lit talk bt belfast believ shortl giv fre appl stop dial exp numb without know fault phon compan last some tim profit legitim phon compan cam end mainl away dial altoge bring broadband pric dial ruin thing dial scam also allow peopl upd upgrad sec easil quickl fal victim rog dial scam think sery remiss point vast maj scam ar peopl tri access serv purport provid fre pornograph cas us entir fault prob telephon compan rightl unwil refund telephon supply inform monthl bil ris norm 3 5 320 scam simpl bil particularl gal 300 stol supply govern vat profit crim reimb port loss autom monthl cap say 20 prem rat cal would contact provid lift way could us legitim prem rat numb limit fraud us least disput amount would limit far easy telecom op writ 20 750 year back also target scam thank god alread upgrad broadband noth connect modem heard sound attempt connect hom us tak respon ens ant viru firew softw dat prev vast maj scam\n",
      "\n",
      "Most Positive Tech Article:  half lif 2 sweep baft award pc first person shoot half lif 2 six baft award includ best gam best onlin gam titl develop valv relea last year un acclaim receiv spec pra im plot phys engin gam also baft best act adv best pc gam art direct anim burnout 3 three award categor rac techn direct best playst 2 gam grant dean chairm baft gam award said ceremon london tuesday last year gre year interact entertain industr award reflect enorm achiev progress div seen tim halo 2 best xbox gam categor print pers warry within adjudg best gamecub titl sport award went konam pro evolv socc 4 baft said sign feat year award numb non tradit gam origin award playst 2 titl singst childr award went gamecub bongo rhythm gam donkey kong handheld award went colin mcrae rall 2005 mobl categor blu too bypl audio award cal dut finest hour hitm contract mus award\n"
     ]
    }
   ],
   "source": [
    "print('Most Negative Tech Article:', data['Text'][neg_idx])\n",
    "\n",
    "print()\n",
    "print('Most Positive Tech Article:', data['Text'][pos_idx])"
   ]
  },
  {
   "cell_type": "code",
   "execution_count": null,
   "metadata": {
    "colab": {
     "base_uri": "https://localhost:8080/"
    },
    "executionInfo": {
     "elapsed": 25254,
     "status": "ok",
     "timestamp": 1611200717626,
     "user": {
      "displayName": "Sutithi Chakraborty",
      "photoUrl": "",
      "userId": "12749148906436566424"
     },
     "user_tz": -330
    },
    "id": "7ltDSDo3PYLb",
    "outputId": "e14dfa9d-34b6-408a-e4a7-ef6fbd31a430"
   },
   "outputs": [
    {
     "data": {
      "text/plain": [
       "array([  -5.,    0.,    2.,  -35.,    7.,    1.,    9.,  -13.,   -3.,\n",
       "         10.,  -16.,   -4.,   -2.,    8.,  -27.,   13.,    6.,  -21.,\n",
       "         18.,  -29.,    4.,    5.,  -23.,   -9.,   -8.,  -19.,  -11.,\n",
       "         -1.,   16.,  -12.,  -18.,  -24.,  -14.,   -7.,  -39., -147.,\n",
       "        -20.,   -6.,  -25.,  -17.,   11.,    3.,  -10.,   24.,   35.,\n",
       "        -41.,  -26.,  -64.,  -22.,  -15.,  -32.,  -31.,   14.,   12.,\n",
       "        -37.,  -33.,   71.,  -28.,  -38.,  -30.,   30.])"
      ]
     },
     "execution_count": 107,
     "metadata": {
      "tags": []
     },
     "output_type": "execute_result"
    }
   ],
   "source": [
    "df1 = df[df.category=='politics']\n",
    "pd.unique(df1.sentiment_score)"
   ]
  },
  {
   "cell_type": "code",
   "execution_count": null,
   "metadata": {
    "colab": {
     "base_uri": "https://localhost:8080/"
    },
    "executionInfo": {
     "elapsed": 25247,
     "status": "ok",
     "timestamp": 1611200717630,
     "user": {
      "displayName": "Sutithi Chakraborty",
      "photoUrl": "",
      "userId": "12749148906436566424"
     },
     "user_tz": -330
    },
    "id": "b7yRRhVBPYLb",
    "outputId": "a82a8c14-76c7-4e96-e677-f6135d8d0e16"
   },
   "outputs": [
    {
     "name": "stdout",
     "output_type": "stream",
     "text": [
      "Most Negative political Article:  howard rebut asyl crit tor lead michael howard gon off respon peopl quest son immigr propo asyl quot mr howard whos par fled naz threat com uk say claim would mean on immigr famil could becom premy com com bbc documentar cal mr nast tv pres an robinson said hom secretar gav impress would lik kick cat ms robinson friend tor lead also rev cambridg stud mr howard much lov wom courteou kind rath dash lov although den person exper cambridg person exper know peopl documentar mak michael cockerel giv behind scen access mr howard film portrait tor lead ask respond peopl said quot immigr asyl 1930 par might allow countr repl inf reach view nee control immigr interest countr allow put view forward hap descend immigr seem absolv extraordinar proposit would certainl mean on immigr par could prim min ms robinson pres weakest link tel cockerel despair hardlin im hom secretar john maj govern us sit hand get telev giv pass impress someon lik kick cat would put bab prison cri mean dracon film show mr howard laugh ror bremn impress dracul cal good fun apart seriou fals com suggest want few black peopl uk film show priv sid tor lead watch telev hom play tabl tenn wif ex model sandr ask enjoy gam ping pong confess yeah would enjoy could win occas otherw quit fun form down street commun chief alastair campbel work labo elect campaign say touch feel im fit mr howard say ton blair worr oppon earl perform common clash mr howard lack big strategi includ issu lik iraq tor lead brand crit absolv rub argu consist support war crit mr blair fail tel tru intellig form tor chancel ken clark say mr howard big problem chang perceiv tor part person im mr clark say part improv conceiv could win next elect ad got chang bit broad ap michael howard mr nast shown bbc2 saturday 12 februar 2005 gmt\n",
      "\n",
      "Most Positive political Article:  mp deb euthanas law mp prep deb bil crit claim would leg euthanas back door bil would giv leg forc liv wil peopl say want med tre withheld becom sev incapacit ment capac bil broad support charit say would giv bet safeguard tre christian group say could mean doct withhold food fluid ev think inappropr min insist ment capac bil england wal would chang law assist suicid contain presum favo preserv lif bil would est leg presum everybod mak dec tre unless prov otherw would allow peopl giv somebod pow attorney mak dec behalf could challeng doct crit fear could allow kil omiss withdraw tre amend bil spec prev dec would bring dea tabl form conserv lead iain dunt smi ninet on mp sign petit back amend mp could vot lat tuesday bil report stag deb bil go third read deb lord becom law christian med fellow cmf lawy christian fellow lcf said ment capac bil would allow euthanas back door pet saund cmf said believ adv ref advisor leg bind cmf concern paty mak unw hast adv dec ref food fluid without properl inform diagnos expect cour il tak said lcf andre william said man loophol could ab unscrup doct ex labo min frank field told bbc two newsnight program dang peopl would feel press away rel could inherit asset constitut affair min david lamm said law affect 750 000 peopl dement nee upd mr lamm told bbc new labo mp would get fre vot law strengthen chang euthanas assist suicid situ peopl mak liv wil forc common law said doct say want clarit paty say want clarit mak dec al includ alzheim societ ag concern mencap nat aut societ said misunderstand bil clear chang cur law euthanas act provid ser bet safeguard dec mad peopl lack capac al said stat brit med assoc also back bil say giv incapacit peopl right oth deb leg euthanas intensif uk cas lik mot neuron paty dian prett die two year ago los leg battl allow husband help commit suicid\n"
     ]
    }
   ],
   "source": [
    "pos_idx = df[(df.category=='politics') & (df.sentiment_score == 5)].index[0]\n",
    "neg_idx = df[(df.category=='politics') & (df.sentiment_score == 30.)].index[0]\n",
    "\n",
    "print('Most Negative political Article:', data.iloc[neg_idx][['Text']][0])\n",
    "print()\n",
    "print('Most Positive political Article:', data.iloc[pos_idx][['Text']][0])"
   ]
  },
  {
   "cell_type": "code",
   "execution_count": null,
   "metadata": {
    "id": "6mtuWDLfPYLc"
   },
   "outputs": [],
   "source": [
    "from textblob import TextBlob"
   ]
  },
  {
   "cell_type": "code",
   "execution_count": null,
   "metadata": {
    "id": "ghDoj7aNPYLc"
   },
   "outputs": [],
   "source": [
    "sentiment_scores_tb = [round(TextBlob(article).sentiment.polarity, 3) for article in data['Text']]"
   ]
  },
  {
   "cell_type": "code",
   "execution_count": null,
   "metadata": {
    "id": "MqNktuadPYLc"
   },
   "outputs": [],
   "source": [
    "sentiment_category_tb = ['positive' if score > 0 \n",
    "                             else 'negative' if score < 0 \n",
    "                                 else 'neutral' \n",
    "                                     for score in sentiment_scores_tb]"
   ]
  },
  {
   "cell_type": "code",
   "execution_count": null,
   "metadata": {
    "colab": {
     "base_uri": "https://localhost:8080/",
     "height": 266
    },
    "executionInfo": {
     "elapsed": 28772,
     "status": "ok",
     "timestamp": 1611200721191,
     "user": {
      "displayName": "Sutithi Chakraborty",
      "photoUrl": "",
      "userId": "12749148906436566424"
     },
     "user_tz": -330
    },
    "id": "-475pMIAPYLc",
    "outputId": "8388e11c-45b2-4dec-9d13-d6a57e98820a"
   },
   "outputs": [
    {
     "data": {
      "text/html": [
       "<div>\n",
       "<style scoped>\n",
       "    .dataframe tbody tr th:only-of-type {\n",
       "        vertical-align: middle;\n",
       "    }\n",
       "\n",
       "    .dataframe tbody tr th {\n",
       "        vertical-align: top;\n",
       "    }\n",
       "\n",
       "    .dataframe thead tr th {\n",
       "        text-align: left;\n",
       "    }\n",
       "\n",
       "    .dataframe thead tr:last-of-type th {\n",
       "        text-align: right;\n",
       "    }\n",
       "</style>\n",
       "<table border=\"1\" class=\"dataframe\">\n",
       "  <thead>\n",
       "    <tr>\n",
       "      <th></th>\n",
       "      <th colspan=\"8\" halign=\"left\">sentiment_score</th>\n",
       "    </tr>\n",
       "    <tr>\n",
       "      <th></th>\n",
       "      <th>count</th>\n",
       "      <th>mean</th>\n",
       "      <th>std</th>\n",
       "      <th>min</th>\n",
       "      <th>25%</th>\n",
       "      <th>50%</th>\n",
       "      <th>75%</th>\n",
       "      <th>max</th>\n",
       "    </tr>\n",
       "    <tr>\n",
       "      <th>category</th>\n",
       "      <th></th>\n",
       "      <th></th>\n",
       "      <th></th>\n",
       "      <th></th>\n",
       "      <th></th>\n",
       "      <th></th>\n",
       "      <th></th>\n",
       "      <th></th>\n",
       "    </tr>\n",
       "  </thead>\n",
       "  <tbody>\n",
       "    <tr>\n",
       "      <th>business</th>\n",
       "      <td>510.0</td>\n",
       "      <td>0.026808</td>\n",
       "      <td>0.122986</td>\n",
       "      <td>-0.396</td>\n",
       "      <td>-0.04375</td>\n",
       "      <td>0.0225</td>\n",
       "      <td>0.0920</td>\n",
       "      <td>0.575</td>\n",
       "    </tr>\n",
       "    <tr>\n",
       "      <th>entertainment</th>\n",
       "      <td>386.0</td>\n",
       "      <td>0.147199</td>\n",
       "      <td>0.186464</td>\n",
       "      <td>-0.287</td>\n",
       "      <td>0.02600</td>\n",
       "      <td>0.1175</td>\n",
       "      <td>0.2445</td>\n",
       "      <td>0.800</td>\n",
       "    </tr>\n",
       "    <tr>\n",
       "      <th>politics</th>\n",
       "      <td>417.0</td>\n",
       "      <td>0.080916</td>\n",
       "      <td>0.166758</td>\n",
       "      <td>-0.656</td>\n",
       "      <td>-0.03400</td>\n",
       "      <td>0.0610</td>\n",
       "      <td>0.2010</td>\n",
       "      <td>0.860</td>\n",
       "    </tr>\n",
       "    <tr>\n",
       "      <th>sport</th>\n",
       "      <td>511.0</td>\n",
       "      <td>0.110648</td>\n",
       "      <td>0.146961</td>\n",
       "      <td>-0.600</td>\n",
       "      <td>0.03050</td>\n",
       "      <td>0.1100</td>\n",
       "      <td>0.1990</td>\n",
       "      <td>0.688</td>\n",
       "    </tr>\n",
       "    <tr>\n",
       "      <th>tech</th>\n",
       "      <td>401.0</td>\n",
       "      <td>0.032489</td>\n",
       "      <td>0.121398</td>\n",
       "      <td>-0.276</td>\n",
       "      <td>-0.04600</td>\n",
       "      <td>0.0250</td>\n",
       "      <td>0.0950</td>\n",
       "      <td>0.625</td>\n",
       "    </tr>\n",
       "  </tbody>\n",
       "</table>\n",
       "</div>"
      ],
      "text/plain": [
       "              sentiment_score                      ...                       \n",
       "                        count      mean       std  ...     50%     75%    max\n",
       "category                                           ...                       \n",
       "business                510.0  0.026808  0.122986  ...  0.0225  0.0920  0.575\n",
       "entertainment           386.0  0.147199  0.186464  ...  0.1175  0.2445  0.800\n",
       "politics                417.0  0.080916  0.166758  ...  0.0610  0.2010  0.860\n",
       "sport                   511.0  0.110648  0.146961  ...  0.1100  0.1990  0.688\n",
       "tech                    401.0  0.032489  0.121398  ...  0.0250  0.0950  0.625\n",
       "\n",
       "[5 rows x 8 columns]"
      ]
     },
     "execution_count": 112,
     "metadata": {
      "tags": []
     },
     "output_type": "execute_result"
    }
   ],
   "source": [
    "df = pd.DataFrame([list(data['category']), sentiment_scores_tb, sentiment_category_tb]).T\n",
    "df.columns = ['category', 'sentiment_score', 'sentiment_category']\n",
    "df['sentiment_score'] = df.sentiment_score.astype('float')\n",
    "df.groupby(by=['category']).describe()"
   ]
  },
  {
   "cell_type": "code",
   "execution_count": null,
   "metadata": {
    "colab": {
     "base_uri": "https://localhost:8080/",
     "height": 204
    },
    "executionInfo": {
     "elapsed": 28762,
     "status": "ok",
     "timestamp": 1611200721194,
     "user": {
      "displayName": "Sutithi Chakraborty",
      "photoUrl": "",
      "userId": "12749148906436566424"
     },
     "user_tz": -330
    },
    "id": "4tueRVdSPYLd",
    "outputId": "5d8d9a66-86e7-4518-d2d9-be24217c9aa6"
   },
   "outputs": [
    {
     "data": {
      "text/html": [
       "<div>\n",
       "<style scoped>\n",
       "    .dataframe tbody tr th:only-of-type {\n",
       "        vertical-align: middle;\n",
       "    }\n",
       "\n",
       "    .dataframe tbody tr th {\n",
       "        vertical-align: top;\n",
       "    }\n",
       "\n",
       "    .dataframe thead th {\n",
       "        text-align: right;\n",
       "    }\n",
       "</style>\n",
       "<table border=\"1\" class=\"dataframe\">\n",
       "  <thead>\n",
       "    <tr style=\"text-align: right;\">\n",
       "      <th></th>\n",
       "      <th>category</th>\n",
       "      <th>sentiment_score</th>\n",
       "      <th>sentiment_category</th>\n",
       "    </tr>\n",
       "  </thead>\n",
       "  <tbody>\n",
       "    <tr>\n",
       "      <th>0</th>\n",
       "      <td>tech</td>\n",
       "      <td>0.045</td>\n",
       "      <td>positive</td>\n",
       "    </tr>\n",
       "    <tr>\n",
       "      <th>1</th>\n",
       "      <td>business</td>\n",
       "      <td>-0.205</td>\n",
       "      <td>negative</td>\n",
       "    </tr>\n",
       "    <tr>\n",
       "      <th>2</th>\n",
       "      <td>sport</td>\n",
       "      <td>-0.133</td>\n",
       "      <td>negative</td>\n",
       "    </tr>\n",
       "    <tr>\n",
       "      <th>3</th>\n",
       "      <td>sport</td>\n",
       "      <td>-0.010</td>\n",
       "      <td>negative</td>\n",
       "    </tr>\n",
       "    <tr>\n",
       "      <th>4</th>\n",
       "      <td>entertainment</td>\n",
       "      <td>0.100</td>\n",
       "      <td>positive</td>\n",
       "    </tr>\n",
       "  </tbody>\n",
       "</table>\n",
       "</div>"
      ],
      "text/plain": [
       "        category  sentiment_score sentiment_category\n",
       "0           tech            0.045           positive\n",
       "1       business           -0.205           negative\n",
       "2          sport           -0.133           negative\n",
       "3          sport           -0.010           negative\n",
       "4  entertainment            0.100           positive"
      ]
     },
     "execution_count": 113,
     "metadata": {
      "tags": []
     },
     "output_type": "execute_result"
    }
   ],
   "source": [
    "df.head()"
   ]
  },
  {
   "cell_type": "code",
   "execution_count": null,
   "metadata": {
    "colab": {
     "base_uri": "https://localhost:8080/",
     "height": 437
    },
    "executionInfo": {
     "elapsed": 28751,
     "status": "ok",
     "timestamp": 1611200721197,
     "user": {
      "displayName": "Sutithi Chakraborty",
      "photoUrl": "",
      "userId": "12749148906436566424"
     },
     "user_tz": -330
    },
    "id": "qPwfGcIwPYLd",
    "outputId": "def15926-cbc4-49d6-cfb3-ac3ded1c3ef7"
   },
   "outputs": [
    {
     "name": "stderr",
     "output_type": "stream",
     "text": [
      "/usr/local/lib/python3.6/dist-packages/seaborn/categorical.py:3714: UserWarning: The `factorplot` function has been renamed to `catplot`. The original name will be removed in a future release. Please update your code. Note that the default `kind` in `factorplot` (`'point'`) has changed `'strip'` in `catplot`.\n",
      "  warnings.warn(msg)\n"
     ]
    },
    {
     "data": {
      "image/png": "[encoded data removed]",
      "text/plain": [
       "<Figure size 467.5x360 with 1 Axes>"
      ]
     },
     "metadata": {
      "needs_background": "light",
      "tags": []
     },
     "output_type": "display_data"
    }
   ],
   "source": [
    "fc = sns.factorplot(x=\"category\", hue=\"sentiment_category\", \n",
    "                    data=df, kind=\"count\", \n",
    "                    palette={\"negative\": \"#FE2020\", \n",
    "                             \"positive\": \"#BADD07\", \n",
    "                             \"neutral\": \"#68BFF5\"})"
   ]
  },
  {
   "cell_type": "code",
   "execution_count": null,
   "metadata": {
    "colab": {
     "base_uri": "https://localhost:8080/"
    },
    "executionInfo": {
     "elapsed": 28743,
     "status": "ok",
     "timestamp": 1611200721199,
     "user": {
      "displayName": "Sutithi Chakraborty",
      "photoUrl": "",
      "userId": "12749148906436566424"
     },
     "user_tz": -330
    },
    "id": "V7JlWgWErXAr",
    "outputId": "36095590-9a61-4327-b618-b5fdf41c6777"
   },
   "outputs": [
    {
     "data": {
      "text/plain": [
       "array([[581,  10, 629],\n",
       "       [ 18,   1,  56],\n",
       "       [ 96,   2, 832]])"
      ]
     },
     "execution_count": 115,
     "metadata": {
      "tags": []
     },
     "output_type": "execute_result"
    }
   ],
   "source": [
    "from sklearn.metrics import confusion_matrix\n",
    "true_labels=sentiment_category\n",
    "predicted_labels=sentiment_category_tb\n",
    "confusion_matrix(true_labels, predicted_labels)"
   ]
  },
  {
   "cell_type": "code",
   "execution_count": null,
   "metadata": {
    "colab": {
     "base_uri": "https://localhost:8080/",
     "height": 337
    },
    "executionInfo": {
     "elapsed": 28738,
     "status": "ok",
     "timestamp": 1611200721207,
     "user": {
      "displayName": "Sutithi Chakraborty",
      "photoUrl": "",
      "userId": "12749148906436566424"
     },
     "user_tz": -330
    },
    "id": "qBYfMOcWsXmW",
    "outputId": "1f38356e-7aaf-4779-b0c2-fa4f015d6eff"
   },
   "outputs": [
    {
     "data": {
      "text/plain": [
       "<matplotlib.axes._subplots.AxesSubplot at 0x7fdcecc36390>"
      ]
     },
     "execution_count": 116,
     "metadata": {
      "tags": []
     },
     "output_type": "execute_result"
    },
    {
     "data": {
      "image/png": "[encoded data removed]",
      "text/plain": [
       "<Figure size 360x360 with 2 Axes>"
      ]
     },
     "metadata": {
      "needs_background": "light",
      "tags": []
     },
     "output_type": "display_data"
    }
   ],
   "source": [
    "plt.figure(figsize = (5,5))\n",
    "conf = pd.DataFrame(confusion_matrix(true_labels, predicted_labels),\n",
    "            index = ['negative', 'neutral', 'positive'],\n",
    "                  columns = ['negative', 'neutral', 'positive'])\n",
    "sns.heatmap(conf, annot=True)"
   ]
  }
 ],
 "metadata": {
  "accelerator": "GPU",
  "colab": {
   "collapsed_sections": [],
   "name": "Session2_TakeHome_sol_v1.ipynb",
   "provenance": [],
   "toc_visible": true
  },
  "kernelspec": {
   "display_name": "Python 3 (ipykernel)",
   "language": "python",
   "name": "python3"
  },
  "language_info": {
   "codemirror_mode": {
    "name": "ipython",
    "version": 3
   },
   "file_extension": ".py",
   "mimetype": "text/x-python",
   "name": "python",
   "nbconvert_exporter": "python",
   "pygments_lexer": "ipython3",
   "version": "3.9.19"
  }
 },
 "nbformat": 4,
 "nbformat_minor": 4
}
