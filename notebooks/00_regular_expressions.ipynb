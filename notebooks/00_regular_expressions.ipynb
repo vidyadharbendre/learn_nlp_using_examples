{
 "cells": [
  {
   "cell_type": "markdown",
   "metadata": {},
   "source": [
    "<table align=\"left\" width=100%>\n",
    "    <tr>\n",
    "        <td width=\"10%\">\n",
    "            <img src=\"../images/RA_Logo.png\">\n",
    "        </td>\n",
    "        <td>\n",
    "            <div align=\"center\">\n",
    "                <font color=\"#21618C\" size=8px>\n",
    "                  <b> Regular Expression </b>\n",
    "                </font>\n",
    "            </div>\n",
    "        </td>\n",
    "    </tr>\n",
    "</table>"
   ]
  },
  {
   "cell_type": "markdown",
   "metadata": {},
   "source": [
    "<table align=\"left\">\n",
    "  <td>\n",
    "    <a href=\"https://colab.research.google.com/github/vidyadharbendre/learn_nlp_using_examples/blob/main/notebooks/00_regular_expressions.ipynb\" target=\"_parent\"><img src=\"https://colab.research.google.com/assets/colab-badge.svg\" alt=\"Open In Colab\"/></a>\n",
    "  </td>\n",
    "  <td>\n",
    "    <a target=\"_blank\" href=\"https://kaggle.com/kernels/welcome?src=https://github.com/vidyadharbendre/learn_nlp_using_examples/blob/main/notebooks/regular_expressions.ipynb\"><img src=\"https://kaggle.com/static/images/open-in-kaggle.svg\" /></a>\n",
    "  </td>\n",
    "</table>"
   ]
  },
  {
   "cell_type": "markdown",
   "metadata": {},
   "source": [
    "# Regular Expressions\n",
    "\n",
    "Regular expressions is a concept used to search for patterns in string text.\n",
    "\n",
    "This is a univerisal concept for any programming language or text editing program. \n",
    "\n",
    "We're going to learn the concepts while we learn the syntax for python.\n",
    "\n",
    "The goal of regular expressions is to be able to search for a specific type of text inside of a string.  If we have a form on our webpage where we ask for email addresses, can we check whether the inputted string actually follows the form of an email?  some letters or numbers or special characters, then an @ sign then some more letters numbers or special characters then a . then a few more letters"
   ]
  },
  {
   "cell_type": "raw",
   "metadata": {},
   "source": [
    ".       - Any Character Except New Line\n",
    "\\d      - Digit (0-9)\n",
    "\\D      - Not a Digit (0-9)\n",
    "\\w      - Word Character (a-z, A-Z, 0-9, _)\n",
    "\\W      - Not a Word Character\n",
    "\\s      - Whitespace (space, tab, newline)\n",
    "\\S      - Not Whitespace (space, tab, newline)\n",
    "\n",
    "\\b      - Word Boundary\n",
    "\\B      - Not a Word Boundary\n",
    "^       - Beginning of a String\n",
    "$       - End of a String\n",
    "\n",
    "[]      - Matches Characters in brackets\n",
    "[^ ]    - Matches Characters NOT in brackets\n",
    "|       - Either Or\n",
    "( )     - Group\n",
    "\n",
    "Quantifiers:\n",
    "*       - 0 or More\n",
    "+       - 1 or More\n",
    "?       - 0 or One\n",
    "{3}     - Exact Number\n",
    "{3,4}   - Range of Numbers (Minimum, Maximum)"
   ]
  },
  {
   "cell_type": "markdown",
   "metadata": {},
   "source": [
    "# Text Preprocessing with Regular Expressions (Regex)\n",
    "\n",
    "Regular expressions (regex) are sequences of characters that define search patterns, primarily used for string matching and manipulation. In text preprocessing, regex can be used to clean and normalize text data by removing unwanted characters, extracting specific patterns, and more.\n",
    "\n",
    "## Table of Contents\n",
    "1. [Introduction to Regular Expressions](#introduction-to-regular-expressions)\n",
    "2. [Installation](#installation)\n",
    "3. [Basic Regex Operations](#basic-regex-operations)\n",
    "    - [Pattern Matching](#pattern-matching)\n",
    "    - [Replacing Patterns](#replacing-patterns)\n",
    "    - [Splitting Strings](#splitting-strings)\n",
    "4. [Text Preprocessing Examples](#text-preprocessing-examples)\n",
    "    - [Removing Punctuation](#removing-punctuation)\n",
    "    - [Removing Digits](#removing-digits)\n",
    "    - [Extracting Email Addresses](#extracting-email-addresses)\n",
    "    - [Normalizing Whitespace](#normalizing-whitespace)\n",
    "5. [Conclusion](#conclusion)\n",
    "\n",
    "## Introduction to Regular Expressions\n",
    "\n",
    "Regular expressions are used to identify patterns in text. They are supported by most programming languages, including Python, and are very powerful for text processing tasks.\n",
    "\n",
    "## Installation\n",
    "\n",
    "In Python, the `re` module provides support for working with regular expressions. No additional installation is required as it is part of the standard library.\n",
    "\n",
    "## Basic Regex Operations\n",
    "\n",
    "### Pattern Matching\n",
    "\n",
    "To search for patterns in text, use the `re.search` function."
   ]
  },
  {
   "cell_type": "code",
   "execution_count": 118,
   "metadata": {},
   "outputs": [
    {
     "name": "stdout",
     "output_type": "stream",
     "text": [
      "Pattern found: Radhika\n"
     ]
    }
   ],
   "source": [
    "import re\n",
    "\n",
    "text = \"Hello, my name is Radhika.\"\n",
    "pattern = r\"Radhika\"\n",
    "match = re.search(pattern, text)\n",
    "\n",
    "if match:\n",
    "    print(\"Pattern found:\", match.group())\n",
    "else:\n",
    "    print(\"Pattern not found\")"
   ]
  },
  {
   "cell_type": "markdown",
   "metadata": {},
   "source": [
    "### Replacing Patterns\n",
    "To replace patterns in text, use the re.sub function."
   ]
  },
  {
   "cell_type": "code",
   "execution_count": 120,
   "metadata": {},
   "outputs": [
    {
     "name": "stdout",
     "output_type": "stream",
     "text": [
      "Hello, my name is Pandit.\n"
     ]
    }
   ],
   "source": [
    "text = \"Hello, my name is Radhika.\"\n",
    "pattern = r\"Radhika\"\n",
    "replacement = \"Pandit\"\n",
    "new_text = re.sub(pattern, replacement, text)\n",
    "print(new_text)\n"
   ]
  },
  {
   "cell_type": "markdown",
   "metadata": {},
   "source": [
    "### Splitting Strings\n",
    "To split strings based on patterns, use the re.split function."
   ]
  },
  {
   "cell_type": "code",
   "execution_count": 121,
   "metadata": {},
   "outputs": [
    {
     "name": "stdout",
     "output_type": "stream",
     "text": [
      "['Hello,', 'my', 'name', 'is', 'Radhika.']\n"
     ]
    }
   ],
   "source": [
    "text = \"Hello, my name is Radhika.\"\n",
    "pattern = r\"\\s+\"  # Split by whitespace\n",
    "tokens = re.split(pattern, text)\n",
    "print(tokens)"
   ]
  },
  {
   "cell_type": "markdown",
   "metadata": {},
   "source": [
    "## Text Preprocessing Examples\n",
    "### Removing Punctuation\n",
    "Use regex to remove punctuation from text."
   ]
  },
  {
   "cell_type": "code",
   "execution_count": 122,
   "metadata": {},
   "outputs": [
    {
     "name": "stdout",
     "output_type": "stream",
     "text": [
      "Hello my name is Radhika\n"
     ]
    }
   ],
   "source": [
    "import re\n",
    "\n",
    "text = \"Hello, my name is Radhika!\"\n",
    "pattern = r\"[^\\w\\s]\"\n",
    "clean_text = re.sub(pattern, \"\", text)\n",
    "print(clean_text)"
   ]
  },
  {
   "cell_type": "markdown",
   "metadata": {},
   "source": [
    "## Removing Digits\n",
    "Use regex to remove digits from text."
   ]
  },
  {
   "cell_type": "code",
   "execution_count": 123,
   "metadata": {},
   "outputs": [
    {
     "name": "stdout",
     "output_type": "stream",
     "text": [
      "I have  apples and  bananas.\n"
     ]
    }
   ],
   "source": [
    "text = \"I have 2 apples and 3 bananas.\"\n",
    "pattern = r\"\\d\"\n",
    "clean_text = re.sub(pattern, \"\", text)\n",
    "print(clean_text)"
   ]
  },
  {
   "cell_type": "markdown",
   "metadata": {},
   "source": [
    "## Text Preprocessing Examples\n",
    "### Removing Punctuation"
   ]
  },
  {
   "cell_type": "code",
   "execution_count": 125,
   "metadata": {},
   "outputs": [
    {
     "name": "stdout",
     "output_type": "stream",
     "text": [
      "Hello my name is Radhika\n"
     ]
    }
   ],
   "source": [
    "import re\n",
    "\n",
    "text = \"Hello, my name is Radhika!\"\n",
    "pattern = r\"[^\\w\\s]\"\n",
    "clean_text = re.sub(pattern, \"\", text)\n",
    "print(clean_text)"
   ]
  },
  {
   "cell_type": "markdown",
   "metadata": {},
   "source": [
    "## Removing Digits\n",
    "Use regex to remove digits from text."
   ]
  },
  {
   "cell_type": "code",
   "execution_count": 126,
   "metadata": {},
   "outputs": [
    {
     "name": "stdout",
     "output_type": "stream",
     "text": [
      "I have  apples and  bananas.\n"
     ]
    }
   ],
   "source": [
    "text = \"I have 2 apples and 3 bananas.\"\n",
    "pattern = r\"\\d\"\n",
    "clean_text = re.sub(pattern, \"\", text)\n",
    "print(clean_text)"
   ]
  },
  {
   "cell_type": "markdown",
   "metadata": {},
   "source": [
    "## Extracting Email Addresses\n",
    "Use regex to extract email addresses from text."
   ]
  },
  {
   "cell_type": "code",
   "execution_count": 127,
   "metadata": {},
   "outputs": [
    {
     "name": "stdout",
     "output_type": "stream",
     "text": [
      "['support@example.com']\n"
     ]
    }
   ],
   "source": [
    "text = \"Please contact us at support@example.com for further information.\"\n",
    "pattern = r\"\\b[A-Za-z0-9._%+-]+@[A-Za-z0-9.-]+\\.[A-Z|a-z]{2,}\\b\"\n",
    "emails = re.findall(pattern, text)\n",
    "print(emails)"
   ]
  },
  {
   "cell_type": "markdown",
   "metadata": {},
   "source": [
    "## Normalizing Whitespace\n",
    "Use regex to normalize whitespace by replacing multiple spaces with a single space."
   ]
  },
  {
   "cell_type": "code",
   "execution_count": 128,
   "metadata": {},
   "outputs": [
    {
     "name": "stdout",
     "output_type": "stream",
     "text": [
      "This is an example text.\n"
     ]
    }
   ],
   "source": [
    "text = \"This  is    an example  text.\"\n",
    "pattern = r\"\\s+\"\n",
    "normalized_text = re.sub(pattern, \" \", text).strip()\n",
    "print(normalized_text)"
   ]
  },
  {
   "cell_type": "markdown",
   "metadata": {},
   "source": [
    "## Conclusion\n",
    "Regular expressions are a versatile tool for text preprocessing, allowing for complex pattern matching and manipulation. With regex, you can clean and prepare your text data efficiently, making it suitable for various NLP tasks."
   ]
  },
  {
   "cell_type": "code",
   "execution_count": 112,
   "metadata": {},
   "outputs": [],
   "source": [
    "import re\n",
    "\n",
    "text_to_search = '''\n",
    "abcdefghijklmnopqurtuvwxyz\n",
    "ABCDEFGHIJKLMNOPQRSTUVWXYZ\n",
    "1234567890\n",
    "123abc\n",
    "\n",
    "Hello HelloHello\n",
    "\n",
    "MetaCharacters (Need to be escaped):\n",
    ". ^ $ * + ? { } [ ] \\ | ( )\n",
    "\n",
    "utexas.edu\n",
    "\n",
    "321-555-4321\n",
    "123.555.1234\n",
    "\n",
    "daniel-mitchell@utexas.edu\n",
    "\n",
    "Mr. Vidyadhar\n",
    "Mr Bendre\n",
    "Ms Akshara\n",
    "Mrs. Poornima\n",
    "Mr. Atharva\n",
    "'''"
   ]
  },
  {
   "cell_type": "markdown",
   "metadata": {},
   "source": [
    "## Searching literals"
   ]
  },
  {
   "cell_type": "code",
   "execution_count": 114,
   "metadata": {},
   "outputs": [
    {
     "data": {
      "text/plain": [
       "re.compile(r'abc', re.UNICODE)"
      ]
     },
     "execution_count": 114,
     "metadata": {},
     "output_type": "execute_result"
    }
   ],
   "source": [
    "pattern = re.compile(r'abc')\n",
    "pattern"
   ]
  },
  {
   "cell_type": "code",
   "execution_count": 115,
   "metadata": {},
   "outputs": [
    {
     "data": {
      "text/plain": [
       "<callable_iterator at 0x107f3b4c0>"
      ]
     },
     "execution_count": 115,
     "metadata": {},
     "output_type": "execute_result"
    }
   ],
   "source": [
    "matches = pattern.finditer(text_to_search)\n",
    "matches"
   ]
  },
  {
   "cell_type": "code",
   "execution_count": 116,
   "metadata": {},
   "outputs": [
    {
     "name": "stdout",
     "output_type": "stream",
     "text": [
      "<re.Match object; span=(1, 4), match='abc'>\n",
      "<re.Match object; span=(69, 72), match='abc'>\n"
     ]
    }
   ],
   "source": [
    "for mat in matches:\n",
    "    print(mat)"
   ]
  },
  {
   "cell_type": "code",
   "execution_count": 117,
   "metadata": {},
   "outputs": [
    {
     "name": "stdout",
     "output_type": "stream",
     "text": [
      "abc\n"
     ]
    }
   ],
   "source": [
    "print(text_to_search[69:72])"
   ]
  },
  {
   "cell_type": "code",
   "execution_count": 111,
   "metadata": {},
   "outputs": [],
   "source": [
    "pattern = re.compile(r'cba')\n",
    "matches = pattern.finditer(text_to_search)\n",
    "for mat in matches:\n",
    "    print(mat)"
   ]
  },
  {
   "cell_type": "markdown",
   "metadata": {},
   "source": [
    "## Searching special characters"
   ]
  },
  {
   "cell_type": "code",
   "execution_count": 67,
   "metadata": {},
   "outputs": [
    {
     "name": "stdout",
     "output_type": "stream",
     "text": [
      "<re.Match object; span=(1, 2), match='a'>\n",
      "<re.Match object; span=(2, 3), match='b'>\n",
      "<re.Match object; span=(3, 4), match='c'>\n",
      "<re.Match object; span=(4, 5), match='d'>\n",
      "<re.Match object; span=(5, 6), match='e'>\n",
      "<re.Match object; span=(6, 7), match='f'>\n",
      "<re.Match object; span=(7, 8), match='g'>\n",
      "<re.Match object; span=(8, 9), match='h'>\n",
      "<re.Match object; span=(9, 10), match='i'>\n",
      "<re.Match object; span=(10, 11), match='j'>\n",
      "<re.Match object; span=(11, 12), match='k'>\n",
      "<re.Match object; span=(12, 13), match='l'>\n",
      "<re.Match object; span=(13, 14), match='m'>\n",
      "<re.Match object; span=(14, 15), match='n'>\n",
      "<re.Match object; span=(15, 16), match='o'>\n",
      "<re.Match object; span=(16, 17), match='p'>\n",
      "<re.Match object; span=(17, 18), match='q'>\n",
      "<re.Match object; span=(18, 19), match='u'>\n",
      "<re.Match object; span=(19, 20), match='r'>\n",
      "<re.Match object; span=(20, 21), match='t'>\n",
      "<re.Match object; span=(21, 22), match='u'>\n",
      "<re.Match object; span=(22, 23), match='v'>\n",
      "<re.Match object; span=(23, 24), match='w'>\n",
      "<re.Match object; span=(24, 25), match='x'>\n",
      "<re.Match object; span=(25, 26), match='y'>\n",
      "<re.Match object; span=(26, 27), match='z'>\n",
      "<re.Match object; span=(28, 29), match='A'>\n",
      "<re.Match object; span=(29, 30), match='B'>\n",
      "<re.Match object; span=(30, 31), match='C'>\n",
      "<re.Match object; span=(31, 32), match='D'>\n",
      "<re.Match object; span=(32, 33), match='E'>\n",
      "<re.Match object; span=(33, 34), match='F'>\n",
      "<re.Match object; span=(34, 35), match='G'>\n",
      "<re.Match object; span=(35, 36), match='H'>\n",
      "<re.Match object; span=(36, 37), match='I'>\n",
      "<re.Match object; span=(37, 38), match='J'>\n",
      "<re.Match object; span=(38, 39), match='K'>\n",
      "<re.Match object; span=(39, 40), match='L'>\n",
      "<re.Match object; span=(40, 41), match='M'>\n",
      "<re.Match object; span=(41, 42), match='N'>\n",
      "<re.Match object; span=(42, 43), match='O'>\n",
      "<re.Match object; span=(43, 44), match='P'>\n",
      "<re.Match object; span=(44, 45), match='Q'>\n",
      "<re.Match object; span=(45, 46), match='R'>\n",
      "<re.Match object; span=(46, 47), match='S'>\n",
      "<re.Match object; span=(47, 48), match='T'>\n",
      "<re.Match object; span=(48, 49), match='U'>\n",
      "<re.Match object; span=(49, 50), match='V'>\n",
      "<re.Match object; span=(50, 51), match='W'>\n",
      "<re.Match object; span=(51, 52), match='X'>\n",
      "<re.Match object; span=(52, 53), match='Y'>\n",
      "<re.Match object; span=(53, 54), match='Z'>\n",
      "<re.Match object; span=(55, 56), match='1'>\n",
      "<re.Match object; span=(56, 57), match='2'>\n",
      "<re.Match object; span=(57, 58), match='3'>\n",
      "<re.Match object; span=(58, 59), match='4'>\n",
      "<re.Match object; span=(59, 60), match='5'>\n",
      "<re.Match object; span=(60, 61), match='6'>\n",
      "<re.Match object; span=(61, 62), match='7'>\n",
      "<re.Match object; span=(62, 63), match='8'>\n",
      "<re.Match object; span=(63, 64), match='9'>\n",
      "<re.Match object; span=(64, 65), match='0'>\n",
      "<re.Match object; span=(66, 67), match='1'>\n",
      "<re.Match object; span=(67, 68), match='2'>\n",
      "<re.Match object; span=(68, 69), match='3'>\n",
      "<re.Match object; span=(69, 70), match='a'>\n",
      "<re.Match object; span=(70, 71), match='b'>\n",
      "<re.Match object; span=(71, 72), match='c'>\n",
      "<re.Match object; span=(74, 75), match='H'>\n",
      "<re.Match object; span=(75, 76), match='e'>\n",
      "<re.Match object; span=(76, 77), match='l'>\n",
      "<re.Match object; span=(77, 78), match='l'>\n",
      "<re.Match object; span=(78, 79), match='o'>\n",
      "<re.Match object; span=(79, 80), match=' '>\n",
      "<re.Match object; span=(80, 81), match='H'>\n",
      "<re.Match object; span=(81, 82), match='e'>\n",
      "<re.Match object; span=(82, 83), match='l'>\n",
      "<re.Match object; span=(83, 84), match='l'>\n",
      "<re.Match object; span=(84, 85), match='o'>\n",
      "<re.Match object; span=(85, 86), match='H'>\n",
      "<re.Match object; span=(86, 87), match='e'>\n",
      "<re.Match object; span=(87, 88), match='l'>\n",
      "<re.Match object; span=(88, 89), match='l'>\n",
      "<re.Match object; span=(89, 90), match='o'>\n",
      "<re.Match object; span=(92, 93), match='M'>\n",
      "<re.Match object; span=(93, 94), match='e'>\n",
      "<re.Match object; span=(94, 95), match='t'>\n",
      "<re.Match object; span=(95, 96), match='a'>\n",
      "<re.Match object; span=(96, 97), match='C'>\n",
      "<re.Match object; span=(97, 98), match='h'>\n",
      "<re.Match object; span=(98, 99), match='a'>\n",
      "<re.Match object; span=(99, 100), match='r'>\n",
      "<re.Match object; span=(100, 101), match='a'>\n",
      "<re.Match object; span=(101, 102), match='c'>\n",
      "<re.Match object; span=(102, 103), match='t'>\n",
      "<re.Match object; span=(103, 104), match='e'>\n",
      "<re.Match object; span=(104, 105), match='r'>\n",
      "<re.Match object; span=(105, 106), match='s'>\n",
      "<re.Match object; span=(106, 107), match=' '>\n",
      "<re.Match object; span=(107, 108), match='('>\n",
      "<re.Match object; span=(108, 109), match='N'>\n",
      "<re.Match object; span=(109, 110), match='e'>\n",
      "<re.Match object; span=(110, 111), match='e'>\n",
      "<re.Match object; span=(111, 112), match='d'>\n",
      "<re.Match object; span=(112, 113), match=' '>\n",
      "<re.Match object; span=(113, 114), match='t'>\n",
      "<re.Match object; span=(114, 115), match='o'>\n",
      "<re.Match object; span=(115, 116), match=' '>\n",
      "<re.Match object; span=(116, 117), match='b'>\n",
      "<re.Match object; span=(117, 118), match='e'>\n",
      "<re.Match object; span=(118, 119), match=' '>\n",
      "<re.Match object; span=(119, 120), match='e'>\n",
      "<re.Match object; span=(120, 121), match='s'>\n",
      "<re.Match object; span=(121, 122), match='c'>\n",
      "<re.Match object; span=(122, 123), match='a'>\n",
      "<re.Match object; span=(123, 124), match='p'>\n",
      "<re.Match object; span=(124, 125), match='e'>\n",
      "<re.Match object; span=(125, 126), match='d'>\n",
      "<re.Match object; span=(126, 127), match=')'>\n",
      "<re.Match object; span=(127, 128), match=':'>\n",
      "<re.Match object; span=(129, 130), match='.'>\n",
      "<re.Match object; span=(130, 131), match=' '>\n",
      "<re.Match object; span=(131, 132), match='^'>\n",
      "<re.Match object; span=(132, 133), match=' '>\n",
      "<re.Match object; span=(133, 134), match='$'>\n",
      "<re.Match object; span=(134, 135), match=' '>\n",
      "<re.Match object; span=(135, 136), match='*'>\n",
      "<re.Match object; span=(136, 137), match=' '>\n",
      "<re.Match object; span=(137, 138), match='+'>\n",
      "<re.Match object; span=(138, 139), match=' '>\n",
      "<re.Match object; span=(139, 140), match='?'>\n",
      "<re.Match object; span=(140, 141), match=' '>\n",
      "<re.Match object; span=(141, 142), match='{'>\n",
      "<re.Match object; span=(142, 143), match=' '>\n",
      "<re.Match object; span=(143, 144), match='}'>\n",
      "<re.Match object; span=(144, 145), match=' '>\n",
      "<re.Match object; span=(145, 146), match='['>\n",
      "<re.Match object; span=(146, 147), match=' '>\n",
      "<re.Match object; span=(147, 148), match=']'>\n",
      "<re.Match object; span=(148, 149), match=' '>\n",
      "<re.Match object; span=(149, 150), match='\\\\'>\n",
      "<re.Match object; span=(150, 151), match=' '>\n",
      "<re.Match object; span=(151, 152), match='|'>\n",
      "<re.Match object; span=(152, 153), match=' '>\n",
      "<re.Match object; span=(153, 154), match='('>\n",
      "<re.Match object; span=(154, 155), match=' '>\n",
      "<re.Match object; span=(155, 156), match=')'>\n",
      "<re.Match object; span=(158, 159), match='u'>\n",
      "<re.Match object; span=(159, 160), match='t'>\n",
      "<re.Match object; span=(160, 161), match='e'>\n",
      "<re.Match object; span=(161, 162), match='x'>\n",
      "<re.Match object; span=(162, 163), match='a'>\n",
      "<re.Match object; span=(163, 164), match='s'>\n",
      "<re.Match object; span=(164, 165), match='.'>\n",
      "<re.Match object; span=(165, 166), match='e'>\n",
      "<re.Match object; span=(166, 167), match='d'>\n",
      "<re.Match object; span=(167, 168), match='u'>\n",
      "<re.Match object; span=(170, 171), match='3'>\n",
      "<re.Match object; span=(171, 172), match='2'>\n",
      "<re.Match object; span=(172, 173), match='1'>\n",
      "<re.Match object; span=(173, 174), match='-'>\n",
      "<re.Match object; span=(174, 175), match='5'>\n",
      "<re.Match object; span=(175, 176), match='5'>\n",
      "<re.Match object; span=(176, 177), match='5'>\n",
      "<re.Match object; span=(177, 178), match='-'>\n",
      "<re.Match object; span=(178, 179), match='4'>\n",
      "<re.Match object; span=(179, 180), match='3'>\n",
      "<re.Match object; span=(180, 181), match='2'>\n",
      "<re.Match object; span=(181, 182), match='1'>\n",
      "<re.Match object; span=(183, 184), match='1'>\n",
      "<re.Match object; span=(184, 185), match='2'>\n",
      "<re.Match object; span=(185, 186), match='3'>\n",
      "<re.Match object; span=(186, 187), match='.'>\n",
      "<re.Match object; span=(187, 188), match='5'>\n",
      "<re.Match object; span=(188, 189), match='5'>\n",
      "<re.Match object; span=(189, 190), match='5'>\n",
      "<re.Match object; span=(190, 191), match='.'>\n",
      "<re.Match object; span=(191, 192), match='1'>\n",
      "<re.Match object; span=(192, 193), match='2'>\n",
      "<re.Match object; span=(193, 194), match='3'>\n",
      "<re.Match object; span=(194, 195), match='4'>\n",
      "<re.Match object; span=(197, 198), match='d'>\n",
      "<re.Match object; span=(198, 199), match='a'>\n",
      "<re.Match object; span=(199, 200), match='n'>\n",
      "<re.Match object; span=(200, 201), match='i'>\n",
      "<re.Match object; span=(201, 202), match='e'>\n",
      "<re.Match object; span=(202, 203), match='l'>\n",
      "<re.Match object; span=(203, 204), match='-'>\n",
      "<re.Match object; span=(204, 205), match='m'>\n",
      "<re.Match object; span=(205, 206), match='i'>\n",
      "<re.Match object; span=(206, 207), match='t'>\n",
      "<re.Match object; span=(207, 208), match='c'>\n",
      "<re.Match object; span=(208, 209), match='h'>\n",
      "<re.Match object; span=(209, 210), match='e'>\n",
      "<re.Match object; span=(210, 211), match='l'>\n",
      "<re.Match object; span=(211, 212), match='l'>\n",
      "<re.Match object; span=(212, 213), match='@'>\n",
      "<re.Match object; span=(213, 214), match='u'>\n",
      "<re.Match object; span=(214, 215), match='t'>\n",
      "<re.Match object; span=(215, 216), match='e'>\n",
      "<re.Match object; span=(216, 217), match='x'>\n",
      "<re.Match object; span=(217, 218), match='a'>\n",
      "<re.Match object; span=(218, 219), match='s'>\n",
      "<re.Match object; span=(219, 220), match='.'>\n",
      "<re.Match object; span=(220, 221), match='e'>\n",
      "<re.Match object; span=(221, 222), match='d'>\n",
      "<re.Match object; span=(222, 223), match='u'>\n",
      "<re.Match object; span=(225, 226), match='M'>\n",
      "<re.Match object; span=(226, 227), match='r'>\n",
      "<re.Match object; span=(227, 228), match='.'>\n",
      "<re.Match object; span=(228, 229), match=' '>\n",
      "<re.Match object; span=(229, 230), match='V'>\n",
      "<re.Match object; span=(230, 231), match='i'>\n",
      "<re.Match object; span=(231, 232), match='d'>\n",
      "<re.Match object; span=(232, 233), match='y'>\n",
      "<re.Match object; span=(233, 234), match='a'>\n",
      "<re.Match object; span=(234, 235), match='d'>\n",
      "<re.Match object; span=(235, 236), match='h'>\n",
      "<re.Match object; span=(236, 237), match='a'>\n",
      "<re.Match object; span=(237, 238), match='r'>\n",
      "<re.Match object; span=(239, 240), match='M'>\n",
      "<re.Match object; span=(240, 241), match='r'>\n",
      "<re.Match object; span=(241, 242), match=' '>\n",
      "<re.Match object; span=(242, 243), match='B'>\n",
      "<re.Match object; span=(243, 244), match='e'>\n",
      "<re.Match object; span=(244, 245), match='n'>\n",
      "<re.Match object; span=(245, 246), match='d'>\n",
      "<re.Match object; span=(246, 247), match='r'>\n",
      "<re.Match object; span=(247, 248), match='e'>\n",
      "<re.Match object; span=(249, 250), match='M'>\n",
      "<re.Match object; span=(250, 251), match='s'>\n",
      "<re.Match object; span=(251, 252), match=' '>\n",
      "<re.Match object; span=(252, 253), match='A'>\n",
      "<re.Match object; span=(253, 254), match='k'>\n",
      "<re.Match object; span=(254, 255), match='s'>\n",
      "<re.Match object; span=(255, 256), match='h'>\n",
      "<re.Match object; span=(256, 257), match='a'>\n",
      "<re.Match object; span=(257, 258), match='r'>\n",
      "<re.Match object; span=(258, 259), match='a'>\n",
      "<re.Match object; span=(260, 261), match='M'>\n",
      "<re.Match object; span=(261, 262), match='r'>\n",
      "<re.Match object; span=(262, 263), match='s'>\n",
      "<re.Match object; span=(263, 264), match='.'>\n",
      "<re.Match object; span=(264, 265), match=' '>\n",
      "<re.Match object; span=(265, 266), match='P'>\n",
      "<re.Match object; span=(266, 267), match='o'>\n",
      "<re.Match object; span=(267, 268), match='o'>\n",
      "<re.Match object; span=(268, 269), match='r'>\n",
      "<re.Match object; span=(269, 270), match='n'>\n",
      "<re.Match object; span=(270, 271), match='i'>\n",
      "<re.Match object; span=(271, 272), match='m'>\n",
      "<re.Match object; span=(272, 273), match='a'>\n",
      "<re.Match object; span=(274, 275), match='M'>\n",
      "<re.Match object; span=(275, 276), match='r'>\n",
      "<re.Match object; span=(276, 277), match='.'>\n",
      "<re.Match object; span=(277, 278), match=' '>\n",
      "<re.Match object; span=(278, 279), match='A'>\n",
      "<re.Match object; span=(279, 280), match='t'>\n",
      "<re.Match object; span=(280, 281), match='h'>\n",
      "<re.Match object; span=(281, 282), match='a'>\n",
      "<re.Match object; span=(282, 283), match='r'>\n",
      "<re.Match object; span=(283, 284), match='v'>\n",
      "<re.Match object; span=(284, 285), match='a'>\n"
     ]
    }
   ],
   "source": [
    "pattern = re.compile(r'.')\n",
    "matches = pattern.finditer(text_to_search)\n",
    "for mat in matches:\n",
    "    print(mat)"
   ]
  },
  {
   "cell_type": "code",
   "execution_count": 68,
   "metadata": {},
   "outputs": [
    {
     "name": "stdout",
     "output_type": "stream",
     "text": [
      "<re.Match object; span=(129, 130), match='.'>\n",
      "<re.Match object; span=(164, 165), match='.'>\n",
      "<re.Match object; span=(186, 187), match='.'>\n",
      "<re.Match object; span=(190, 191), match='.'>\n",
      "<re.Match object; span=(219, 220), match='.'>\n",
      "<re.Match object; span=(227, 228), match='.'>\n",
      "<re.Match object; span=(263, 264), match='.'>\n",
      "<re.Match object; span=(276, 277), match='.'>\n"
     ]
    }
   ],
   "source": [
    "pattern = re.compile(r'\\.')\n",
    "matches = pattern.finditer(text_to_search)\n",
    "for mat in matches:\n",
    "    print(mat)"
   ]
  },
  {
   "cell_type": "code",
   "execution_count": 69,
   "metadata": {},
   "outputs": [
    {
     "name": "stdout",
     "output_type": "stream",
     "text": [
      "<re.Match object; span=(55, 56), match='1'>\n",
      "<re.Match object; span=(56, 57), match='2'>\n",
      "<re.Match object; span=(57, 58), match='3'>\n",
      "<re.Match object; span=(58, 59), match='4'>\n",
      "<re.Match object; span=(59, 60), match='5'>\n",
      "<re.Match object; span=(60, 61), match='6'>\n",
      "<re.Match object; span=(61, 62), match='7'>\n",
      "<re.Match object; span=(62, 63), match='8'>\n",
      "<re.Match object; span=(63, 64), match='9'>\n",
      "<re.Match object; span=(64, 65), match='0'>\n",
      "<re.Match object; span=(66, 67), match='1'>\n",
      "<re.Match object; span=(67, 68), match='2'>\n",
      "<re.Match object; span=(68, 69), match='3'>\n",
      "<re.Match object; span=(170, 171), match='3'>\n",
      "<re.Match object; span=(171, 172), match='2'>\n",
      "<re.Match object; span=(172, 173), match='1'>\n",
      "<re.Match object; span=(174, 175), match='5'>\n",
      "<re.Match object; span=(175, 176), match='5'>\n",
      "<re.Match object; span=(176, 177), match='5'>\n",
      "<re.Match object; span=(178, 179), match='4'>\n",
      "<re.Match object; span=(179, 180), match='3'>\n",
      "<re.Match object; span=(180, 181), match='2'>\n",
      "<re.Match object; span=(181, 182), match='1'>\n",
      "<re.Match object; span=(183, 184), match='1'>\n",
      "<re.Match object; span=(184, 185), match='2'>\n",
      "<re.Match object; span=(185, 186), match='3'>\n",
      "<re.Match object; span=(187, 188), match='5'>\n",
      "<re.Match object; span=(188, 189), match='5'>\n",
      "<re.Match object; span=(189, 190), match='5'>\n",
      "<re.Match object; span=(191, 192), match='1'>\n",
      "<re.Match object; span=(192, 193), match='2'>\n",
      "<re.Match object; span=(193, 194), match='3'>\n",
      "<re.Match object; span=(194, 195), match='4'>\n"
     ]
    }
   ],
   "source": [
    "pattern = re.compile(r'\\d')\n",
    "matches = pattern.finditer(text_to_search)\n",
    "for mat in matches:\n",
    "    print(mat)"
   ]
  },
  {
   "cell_type": "code",
   "execution_count": 70,
   "metadata": {},
   "outputs": [
    {
     "name": "stdout",
     "output_type": "stream",
     "text": [
      "<re.Match object; span=(0, 1), match='\\n'>\n",
      "<re.Match object; span=(1, 2), match='a'>\n",
      "<re.Match object; span=(2, 3), match='b'>\n",
      "<re.Match object; span=(3, 4), match='c'>\n",
      "<re.Match object; span=(4, 5), match='d'>\n",
      "<re.Match object; span=(5, 6), match='e'>\n",
      "<re.Match object; span=(6, 7), match='f'>\n",
      "<re.Match object; span=(7, 8), match='g'>\n",
      "<re.Match object; span=(8, 9), match='h'>\n",
      "<re.Match object; span=(9, 10), match='i'>\n",
      "<re.Match object; span=(10, 11), match='j'>\n",
      "<re.Match object; span=(11, 12), match='k'>\n",
      "<re.Match object; span=(12, 13), match='l'>\n",
      "<re.Match object; span=(13, 14), match='m'>\n",
      "<re.Match object; span=(14, 15), match='n'>\n",
      "<re.Match object; span=(15, 16), match='o'>\n",
      "<re.Match object; span=(16, 17), match='p'>\n",
      "<re.Match object; span=(17, 18), match='q'>\n",
      "<re.Match object; span=(18, 19), match='u'>\n",
      "<re.Match object; span=(19, 20), match='r'>\n",
      "<re.Match object; span=(20, 21), match='t'>\n",
      "<re.Match object; span=(21, 22), match='u'>\n",
      "<re.Match object; span=(22, 23), match='v'>\n",
      "<re.Match object; span=(23, 24), match='w'>\n",
      "<re.Match object; span=(24, 25), match='x'>\n",
      "<re.Match object; span=(25, 26), match='y'>\n",
      "<re.Match object; span=(26, 27), match='z'>\n",
      "<re.Match object; span=(27, 28), match='\\n'>\n",
      "<re.Match object; span=(28, 29), match='A'>\n",
      "<re.Match object; span=(29, 30), match='B'>\n",
      "<re.Match object; span=(30, 31), match='C'>\n",
      "<re.Match object; span=(31, 32), match='D'>\n",
      "<re.Match object; span=(32, 33), match='E'>\n",
      "<re.Match object; span=(33, 34), match='F'>\n",
      "<re.Match object; span=(34, 35), match='G'>\n",
      "<re.Match object; span=(35, 36), match='H'>\n",
      "<re.Match object; span=(36, 37), match='I'>\n",
      "<re.Match object; span=(37, 38), match='J'>\n",
      "<re.Match object; span=(38, 39), match='K'>\n",
      "<re.Match object; span=(39, 40), match='L'>\n",
      "<re.Match object; span=(40, 41), match='M'>\n",
      "<re.Match object; span=(41, 42), match='N'>\n",
      "<re.Match object; span=(42, 43), match='O'>\n",
      "<re.Match object; span=(43, 44), match='P'>\n",
      "<re.Match object; span=(44, 45), match='Q'>\n",
      "<re.Match object; span=(45, 46), match='R'>\n",
      "<re.Match object; span=(46, 47), match='S'>\n",
      "<re.Match object; span=(47, 48), match='T'>\n",
      "<re.Match object; span=(48, 49), match='U'>\n",
      "<re.Match object; span=(49, 50), match='V'>\n",
      "<re.Match object; span=(50, 51), match='W'>\n",
      "<re.Match object; span=(51, 52), match='X'>\n",
      "<re.Match object; span=(52, 53), match='Y'>\n",
      "<re.Match object; span=(53, 54), match='Z'>\n",
      "<re.Match object; span=(54, 55), match='\\n'>\n",
      "<re.Match object; span=(65, 66), match='\\n'>\n",
      "<re.Match object; span=(69, 70), match='a'>\n",
      "<re.Match object; span=(70, 71), match='b'>\n",
      "<re.Match object; span=(71, 72), match='c'>\n",
      "<re.Match object; span=(72, 73), match='\\n'>\n",
      "<re.Match object; span=(73, 74), match='\\n'>\n",
      "<re.Match object; span=(74, 75), match='H'>\n",
      "<re.Match object; span=(75, 76), match='e'>\n",
      "<re.Match object; span=(76, 77), match='l'>\n",
      "<re.Match object; span=(77, 78), match='l'>\n",
      "<re.Match object; span=(78, 79), match='o'>\n",
      "<re.Match object; span=(79, 80), match=' '>\n",
      "<re.Match object; span=(80, 81), match='H'>\n",
      "<re.Match object; span=(81, 82), match='e'>\n",
      "<re.Match object; span=(82, 83), match='l'>\n",
      "<re.Match object; span=(83, 84), match='l'>\n",
      "<re.Match object; span=(84, 85), match='o'>\n",
      "<re.Match object; span=(85, 86), match='H'>\n",
      "<re.Match object; span=(86, 87), match='e'>\n",
      "<re.Match object; span=(87, 88), match='l'>\n",
      "<re.Match object; span=(88, 89), match='l'>\n",
      "<re.Match object; span=(89, 90), match='o'>\n",
      "<re.Match object; span=(90, 91), match='\\n'>\n",
      "<re.Match object; span=(91, 92), match='\\n'>\n",
      "<re.Match object; span=(92, 93), match='M'>\n",
      "<re.Match object; span=(93, 94), match='e'>\n",
      "<re.Match object; span=(94, 95), match='t'>\n",
      "<re.Match object; span=(95, 96), match='a'>\n",
      "<re.Match object; span=(96, 97), match='C'>\n",
      "<re.Match object; span=(97, 98), match='h'>\n",
      "<re.Match object; span=(98, 99), match='a'>\n",
      "<re.Match object; span=(99, 100), match='r'>\n",
      "<re.Match object; span=(100, 101), match='a'>\n",
      "<re.Match object; span=(101, 102), match='c'>\n",
      "<re.Match object; span=(102, 103), match='t'>\n",
      "<re.Match object; span=(103, 104), match='e'>\n",
      "<re.Match object; span=(104, 105), match='r'>\n",
      "<re.Match object; span=(105, 106), match='s'>\n",
      "<re.Match object; span=(106, 107), match=' '>\n",
      "<re.Match object; span=(107, 108), match='('>\n",
      "<re.Match object; span=(108, 109), match='N'>\n",
      "<re.Match object; span=(109, 110), match='e'>\n",
      "<re.Match object; span=(110, 111), match='e'>\n",
      "<re.Match object; span=(111, 112), match='d'>\n",
      "<re.Match object; span=(112, 113), match=' '>\n",
      "<re.Match object; span=(113, 114), match='t'>\n",
      "<re.Match object; span=(114, 115), match='o'>\n",
      "<re.Match object; span=(115, 116), match=' '>\n",
      "<re.Match object; span=(116, 117), match='b'>\n",
      "<re.Match object; span=(117, 118), match='e'>\n",
      "<re.Match object; span=(118, 119), match=' '>\n",
      "<re.Match object; span=(119, 120), match='e'>\n",
      "<re.Match object; span=(120, 121), match='s'>\n",
      "<re.Match object; span=(121, 122), match='c'>\n",
      "<re.Match object; span=(122, 123), match='a'>\n",
      "<re.Match object; span=(123, 124), match='p'>\n",
      "<re.Match object; span=(124, 125), match='e'>\n",
      "<re.Match object; span=(125, 126), match='d'>\n",
      "<re.Match object; span=(126, 127), match=')'>\n",
      "<re.Match object; span=(127, 128), match=':'>\n",
      "<re.Match object; span=(128, 129), match='\\n'>\n",
      "<re.Match object; span=(129, 130), match='.'>\n",
      "<re.Match object; span=(130, 131), match=' '>\n",
      "<re.Match object; span=(131, 132), match='^'>\n",
      "<re.Match object; span=(132, 133), match=' '>\n",
      "<re.Match object; span=(133, 134), match='$'>\n",
      "<re.Match object; span=(134, 135), match=' '>\n",
      "<re.Match object; span=(135, 136), match='*'>\n",
      "<re.Match object; span=(136, 137), match=' '>\n",
      "<re.Match object; span=(137, 138), match='+'>\n",
      "<re.Match object; span=(138, 139), match=' '>\n",
      "<re.Match object; span=(139, 140), match='?'>\n",
      "<re.Match object; span=(140, 141), match=' '>\n",
      "<re.Match object; span=(141, 142), match='{'>\n",
      "<re.Match object; span=(142, 143), match=' '>\n",
      "<re.Match object; span=(143, 144), match='}'>\n",
      "<re.Match object; span=(144, 145), match=' '>\n",
      "<re.Match object; span=(145, 146), match='['>\n",
      "<re.Match object; span=(146, 147), match=' '>\n",
      "<re.Match object; span=(147, 148), match=']'>\n",
      "<re.Match object; span=(148, 149), match=' '>\n",
      "<re.Match object; span=(149, 150), match='\\\\'>\n",
      "<re.Match object; span=(150, 151), match=' '>\n",
      "<re.Match object; span=(151, 152), match='|'>\n",
      "<re.Match object; span=(152, 153), match=' '>\n",
      "<re.Match object; span=(153, 154), match='('>\n",
      "<re.Match object; span=(154, 155), match=' '>\n",
      "<re.Match object; span=(155, 156), match=')'>\n",
      "<re.Match object; span=(156, 157), match='\\n'>\n",
      "<re.Match object; span=(157, 158), match='\\n'>\n",
      "<re.Match object; span=(158, 159), match='u'>\n",
      "<re.Match object; span=(159, 160), match='t'>\n",
      "<re.Match object; span=(160, 161), match='e'>\n",
      "<re.Match object; span=(161, 162), match='x'>\n",
      "<re.Match object; span=(162, 163), match='a'>\n",
      "<re.Match object; span=(163, 164), match='s'>\n",
      "<re.Match object; span=(164, 165), match='.'>\n",
      "<re.Match object; span=(165, 166), match='e'>\n",
      "<re.Match object; span=(166, 167), match='d'>\n",
      "<re.Match object; span=(167, 168), match='u'>\n",
      "<re.Match object; span=(168, 169), match='\\n'>\n",
      "<re.Match object; span=(169, 170), match='\\n'>\n",
      "<re.Match object; span=(173, 174), match='-'>\n",
      "<re.Match object; span=(177, 178), match='-'>\n",
      "<re.Match object; span=(182, 183), match='\\n'>\n",
      "<re.Match object; span=(186, 187), match='.'>\n",
      "<re.Match object; span=(190, 191), match='.'>\n",
      "<re.Match object; span=(195, 196), match='\\n'>\n",
      "<re.Match object; span=(196, 197), match='\\n'>\n",
      "<re.Match object; span=(197, 198), match='d'>\n",
      "<re.Match object; span=(198, 199), match='a'>\n",
      "<re.Match object; span=(199, 200), match='n'>\n",
      "<re.Match object; span=(200, 201), match='i'>\n",
      "<re.Match object; span=(201, 202), match='e'>\n",
      "<re.Match object; span=(202, 203), match='l'>\n",
      "<re.Match object; span=(203, 204), match='-'>\n",
      "<re.Match object; span=(204, 205), match='m'>\n",
      "<re.Match object; span=(205, 206), match='i'>\n",
      "<re.Match object; span=(206, 207), match='t'>\n",
      "<re.Match object; span=(207, 208), match='c'>\n",
      "<re.Match object; span=(208, 209), match='h'>\n",
      "<re.Match object; span=(209, 210), match='e'>\n",
      "<re.Match object; span=(210, 211), match='l'>\n",
      "<re.Match object; span=(211, 212), match='l'>\n",
      "<re.Match object; span=(212, 213), match='@'>\n",
      "<re.Match object; span=(213, 214), match='u'>\n",
      "<re.Match object; span=(214, 215), match='t'>\n",
      "<re.Match object; span=(215, 216), match='e'>\n",
      "<re.Match object; span=(216, 217), match='x'>\n",
      "<re.Match object; span=(217, 218), match='a'>\n",
      "<re.Match object; span=(218, 219), match='s'>\n",
      "<re.Match object; span=(219, 220), match='.'>\n",
      "<re.Match object; span=(220, 221), match='e'>\n",
      "<re.Match object; span=(221, 222), match='d'>\n",
      "<re.Match object; span=(222, 223), match='u'>\n",
      "<re.Match object; span=(223, 224), match='\\n'>\n",
      "<re.Match object; span=(224, 225), match='\\n'>\n",
      "<re.Match object; span=(225, 226), match='M'>\n",
      "<re.Match object; span=(226, 227), match='r'>\n",
      "<re.Match object; span=(227, 228), match='.'>\n",
      "<re.Match object; span=(228, 229), match=' '>\n",
      "<re.Match object; span=(229, 230), match='V'>\n",
      "<re.Match object; span=(230, 231), match='i'>\n",
      "<re.Match object; span=(231, 232), match='d'>\n",
      "<re.Match object; span=(232, 233), match='y'>\n",
      "<re.Match object; span=(233, 234), match='a'>\n",
      "<re.Match object; span=(234, 235), match='d'>\n",
      "<re.Match object; span=(235, 236), match='h'>\n",
      "<re.Match object; span=(236, 237), match='a'>\n",
      "<re.Match object; span=(237, 238), match='r'>\n",
      "<re.Match object; span=(238, 239), match='\\n'>\n",
      "<re.Match object; span=(239, 240), match='M'>\n",
      "<re.Match object; span=(240, 241), match='r'>\n",
      "<re.Match object; span=(241, 242), match=' '>\n",
      "<re.Match object; span=(242, 243), match='B'>\n",
      "<re.Match object; span=(243, 244), match='e'>\n",
      "<re.Match object; span=(244, 245), match='n'>\n",
      "<re.Match object; span=(245, 246), match='d'>\n",
      "<re.Match object; span=(246, 247), match='r'>\n",
      "<re.Match object; span=(247, 248), match='e'>\n",
      "<re.Match object; span=(248, 249), match='\\n'>\n",
      "<re.Match object; span=(249, 250), match='M'>\n",
      "<re.Match object; span=(250, 251), match='s'>\n",
      "<re.Match object; span=(251, 252), match=' '>\n",
      "<re.Match object; span=(252, 253), match='A'>\n",
      "<re.Match object; span=(253, 254), match='k'>\n",
      "<re.Match object; span=(254, 255), match='s'>\n",
      "<re.Match object; span=(255, 256), match='h'>\n",
      "<re.Match object; span=(256, 257), match='a'>\n",
      "<re.Match object; span=(257, 258), match='r'>\n",
      "<re.Match object; span=(258, 259), match='a'>\n",
      "<re.Match object; span=(259, 260), match='\\n'>\n",
      "<re.Match object; span=(260, 261), match='M'>\n",
      "<re.Match object; span=(261, 262), match='r'>\n",
      "<re.Match object; span=(262, 263), match='s'>\n",
      "<re.Match object; span=(263, 264), match='.'>\n",
      "<re.Match object; span=(264, 265), match=' '>\n",
      "<re.Match object; span=(265, 266), match='P'>\n",
      "<re.Match object; span=(266, 267), match='o'>\n",
      "<re.Match object; span=(267, 268), match='o'>\n",
      "<re.Match object; span=(268, 269), match='r'>\n",
      "<re.Match object; span=(269, 270), match='n'>\n",
      "<re.Match object; span=(270, 271), match='i'>\n",
      "<re.Match object; span=(271, 272), match='m'>\n",
      "<re.Match object; span=(272, 273), match='a'>\n",
      "<re.Match object; span=(273, 274), match='\\n'>\n",
      "<re.Match object; span=(274, 275), match='M'>\n",
      "<re.Match object; span=(275, 276), match='r'>\n",
      "<re.Match object; span=(276, 277), match='.'>\n",
      "<re.Match object; span=(277, 278), match=' '>\n",
      "<re.Match object; span=(278, 279), match='A'>\n",
      "<re.Match object; span=(279, 280), match='t'>\n",
      "<re.Match object; span=(280, 281), match='h'>\n",
      "<re.Match object; span=(281, 282), match='a'>\n",
      "<re.Match object; span=(282, 283), match='r'>\n",
      "<re.Match object; span=(283, 284), match='v'>\n",
      "<re.Match object; span=(284, 285), match='a'>\n",
      "<re.Match object; span=(285, 286), match='\\n'>\n"
     ]
    }
   ],
   "source": [
    "pattern = re.compile(r'\\D')\n",
    "matches = pattern.finditer(text_to_search)\n",
    "for mat in matches:\n",
    "    print(mat)"
   ]
  },
  {
   "cell_type": "code",
   "execution_count": 71,
   "metadata": {},
   "outputs": [
    {
     "name": "stdout",
     "output_type": "stream",
     "text": [
      "<re.Match object; span=(55, 57), match='12'>\n",
      "<re.Match object; span=(57, 59), match='34'>\n",
      "<re.Match object; span=(59, 61), match='56'>\n",
      "<re.Match object; span=(61, 63), match='78'>\n",
      "<re.Match object; span=(63, 65), match='90'>\n",
      "<re.Match object; span=(66, 68), match='12'>\n",
      "<re.Match object; span=(68, 70), match='3a'>\n",
      "<re.Match object; span=(170, 172), match='32'>\n",
      "<re.Match object; span=(174, 176), match='55'>\n",
      "<re.Match object; span=(178, 180), match='43'>\n",
      "<re.Match object; span=(180, 182), match='21'>\n",
      "<re.Match object; span=(183, 185), match='12'>\n",
      "<re.Match object; span=(187, 189), match='55'>\n",
      "<re.Match object; span=(191, 193), match='12'>\n",
      "<re.Match object; span=(193, 195), match='34'>\n"
     ]
    }
   ],
   "source": [
    "pattern = re.compile(r'\\d\\w')\n",
    "matches = pattern.finditer(text_to_search)\n",
    "for mat in matches:\n",
    "    print(mat)"
   ]
  },
  {
   "cell_type": "code",
   "execution_count": 72,
   "metadata": {},
   "outputs": [
    {
     "name": "stdout",
     "output_type": "stream",
     "text": [
      "<re.Match object; span=(64, 66), match='0\\n'>\n",
      "<re.Match object; span=(181, 183), match='1\\n'>\n",
      "<re.Match object; span=(194, 196), match='4\\n'>\n"
     ]
    }
   ],
   "source": [
    "pattern = re.compile(r'\\d\\s')\n",
    "matches = pattern.finditer(text_to_search)\n",
    "for mat in matches:\n",
    "    print(mat)"
   ]
  },
  {
   "cell_type": "code",
   "execution_count": 73,
   "metadata": {},
   "outputs": [],
   "source": [
    "## Word boundary"
   ]
  },
  {
   "cell_type": "code",
   "execution_count": 74,
   "metadata": {},
   "outputs": [
    {
     "name": "stdout",
     "output_type": "stream",
     "text": [
      "<re.Match object; span=(74, 79), match='Hello'>\n",
      "<re.Match object; span=(80, 85), match='Hello'>\n",
      "<re.Match object; span=(85, 90), match='Hello'>\n"
     ]
    }
   ],
   "source": [
    "# Hello HelloHello\n",
    "pattern = re.compile(r'Hello')\n",
    "matches = pattern.finditer(text_to_search)\n",
    "for mat in matches:\n",
    "    print(mat)"
   ]
  },
  {
   "cell_type": "code",
   "execution_count": 75,
   "metadata": {},
   "outputs": [
    {
     "name": "stdout",
     "output_type": "stream",
     "text": [
      "<re.Match object; span=(74, 79), match='Hello'>\n",
      "<re.Match object; span=(85, 90), match='Hello'>\n"
     ]
    }
   ],
   "source": [
    "pattern = re.compile(r'Hello\\b')\n",
    "matches = pattern.finditer(text_to_search)\n",
    "for mat in matches:\n",
    "    print(mat)"
   ]
  },
  {
   "cell_type": "code",
   "execution_count": 76,
   "metadata": {},
   "outputs": [
    {
     "name": "stdout",
     "output_type": "stream",
     "text": [
      "<re.Match object; span=(74, 79), match='Hello'>\n"
     ]
    }
   ],
   "source": [
    "pattern = re.compile(r'\\bHello\\b')\n",
    "matches = pattern.finditer(text_to_search)\n",
    "for mat in matches:\n",
    "    print(mat)"
   ]
  },
  {
   "cell_type": "code",
   "execution_count": 77,
   "metadata": {},
   "outputs": [
    {
     "name": "stdout",
     "output_type": "stream",
     "text": [
      "<re.Match object; span=(85, 90), match='Hello'>\n"
     ]
    }
   ],
   "source": [
    "pattern = re.compile(r'\\BHello\\b')\n",
    "matches = pattern.finditer(text_to_search)\n",
    "for mat in matches:\n",
    "    print(mat)"
   ]
  },
  {
   "cell_type": "code",
   "execution_count": 78,
   "metadata": {
    "scrolled": true
   },
   "outputs": [
    {
     "name": "stdout",
     "output_type": "stream",
     "text": [
      "<re.Match object; span=(55, 56), match='1'>\n",
      "<re.Match object; span=(66, 67), match='1'>\n",
      "<re.Match object; span=(170, 171), match='3'>\n",
      "<re.Match object; span=(174, 175), match='5'>\n",
      "<re.Match object; span=(178, 179), match='4'>\n",
      "<re.Match object; span=(183, 184), match='1'>\n",
      "<re.Match object; span=(187, 188), match='5'>\n",
      "<re.Match object; span=(191, 192), match='1'>\n"
     ]
    }
   ],
   "source": [
    "pattern = re.compile(r'\\b\\d')\n",
    "matches = pattern.finditer(text_to_search)\n",
    "for mat in matches:\n",
    "    print(mat)"
   ]
  },
  {
   "cell_type": "code",
   "execution_count": 79,
   "metadata": {},
   "outputs": [
    {
     "name": "stdout",
     "output_type": "stream",
     "text": [
      "<re.Match object; span=(0, 1), match='\\n'>\n"
     ]
    }
   ],
   "source": [
    "pattern = re.compile(r'^\\s')\n",
    "matches = pattern.finditer(text_to_search)\n",
    "for mat in matches:\n",
    "    print(mat)"
   ]
  },
  {
   "cell_type": "code",
   "execution_count": 80,
   "metadata": {},
   "outputs": [],
   "source": [
    "## Character sets"
   ]
  },
  {
   "cell_type": "code",
   "execution_count": 81,
   "metadata": {},
   "outputs": [
    {
     "name": "stdout",
     "output_type": "stream",
     "text": [
      "<re.Match object; span=(55, 57), match='12'>\n",
      "<re.Match object; span=(57, 59), match='34'>\n",
      "<re.Match object; span=(66, 68), match='12'>\n",
      "<re.Match object; span=(68, 70), match='3a'>\n",
      "<re.Match object; span=(170, 172), match='32'>\n",
      "<re.Match object; span=(179, 181), match='32'>\n",
      "<re.Match object; span=(183, 185), match='12'>\n",
      "<re.Match object; span=(191, 193), match='12'>\n",
      "<re.Match object; span=(193, 195), match='34'>\n"
     ]
    }
   ],
   "source": [
    "pattern = re.compile(r'[123]\\w')\n",
    "matches = pattern.finditer(text_to_search)\n",
    "for mat in matches:\n",
    "    print(mat)"
   ]
  },
  {
   "cell_type": "code",
   "execution_count": 82,
   "metadata": {},
   "outputs": [
    {
     "name": "stdout",
     "output_type": "stream",
     "text": [
      "<re.Match object; span=(1, 3), match='ab'>\n",
      "<re.Match object; span=(3, 5), match='cd'>\n",
      "<re.Match object; span=(5, 7), match='ef'>\n",
      "<re.Match object; span=(7, 9), match='gh'>\n",
      "<re.Match object; span=(9, 11), match='ij'>\n",
      "<re.Match object; span=(11, 13), match='kl'>\n",
      "<re.Match object; span=(13, 15), match='mn'>\n",
      "<re.Match object; span=(15, 17), match='op'>\n",
      "<re.Match object; span=(17, 19), match='qu'>\n",
      "<re.Match object; span=(19, 21), match='rt'>\n",
      "<re.Match object; span=(21, 23), match='uv'>\n",
      "<re.Match object; span=(23, 25), match='wx'>\n",
      "<re.Match object; span=(25, 27), match='yz'>\n",
      "<re.Match object; span=(69, 71), match='ab'>\n",
      "<re.Match object; span=(75, 77), match='el'>\n",
      "<re.Match object; span=(77, 79), match='lo'>\n",
      "<re.Match object; span=(81, 83), match='el'>\n",
      "<re.Match object; span=(83, 85), match='lo'>\n",
      "<re.Match object; span=(86, 88), match='el'>\n",
      "<re.Match object; span=(88, 90), match='lo'>\n",
      "<re.Match object; span=(93, 95), match='et'>\n",
      "<re.Match object; span=(97, 99), match='ha'>\n",
      "<re.Match object; span=(99, 101), match='ra'>\n",
      "<re.Match object; span=(101, 103), match='ct'>\n",
      "<re.Match object; span=(103, 105), match='er'>\n",
      "<re.Match object; span=(109, 111), match='ee'>\n",
      "<re.Match object; span=(113, 115), match='to'>\n",
      "<re.Match object; span=(116, 118), match='be'>\n",
      "<re.Match object; span=(119, 121), match='es'>\n",
      "<re.Match object; span=(121, 123), match='ca'>\n",
      "<re.Match object; span=(123, 125), match='pe'>\n",
      "<re.Match object; span=(158, 160), match='ut'>\n",
      "<re.Match object; span=(160, 162), match='ex'>\n",
      "<re.Match object; span=(162, 164), match='as'>\n",
      "<re.Match object; span=(165, 167), match='ed'>\n",
      "<re.Match object; span=(197, 199), match='da'>\n",
      "<re.Match object; span=(199, 201), match='ni'>\n",
      "<re.Match object; span=(201, 203), match='el'>\n",
      "<re.Match object; span=(204, 206), match='mi'>\n",
      "<re.Match object; span=(206, 208), match='tc'>\n",
      "<re.Match object; span=(208, 210), match='he'>\n",
      "<re.Match object; span=(210, 212), match='ll'>\n",
      "<re.Match object; span=(213, 215), match='ut'>\n",
      "<re.Match object; span=(215, 217), match='ex'>\n",
      "<re.Match object; span=(217, 219), match='as'>\n",
      "<re.Match object; span=(220, 222), match='ed'>\n",
      "<re.Match object; span=(230, 232), match='id'>\n",
      "<re.Match object; span=(232, 234), match='ya'>\n",
      "<re.Match object; span=(234, 236), match='dh'>\n",
      "<re.Match object; span=(236, 238), match='ar'>\n",
      "<re.Match object; span=(243, 245), match='en'>\n",
      "<re.Match object; span=(245, 247), match='dr'>\n",
      "<re.Match object; span=(253, 255), match='ks'>\n",
      "<re.Match object; span=(255, 257), match='ha'>\n",
      "<re.Match object; span=(257, 259), match='ra'>\n",
      "<re.Match object; span=(261, 263), match='rs'>\n",
      "<re.Match object; span=(266, 268), match='oo'>\n",
      "<re.Match object; span=(268, 270), match='rn'>\n",
      "<re.Match object; span=(270, 272), match='im'>\n",
      "<re.Match object; span=(279, 281), match='th'>\n",
      "<re.Match object; span=(281, 283), match='ar'>\n",
      "<re.Match object; span=(283, 285), match='va'>\n"
     ]
    }
   ],
   "source": [
    "pattern = re.compile(r'[a-z][a-z]')\n",
    "matches = pattern.finditer(text_to_search)\n",
    "for mat in matches:\n",
    "    print(mat)"
   ]
  },
  {
   "cell_type": "code",
   "execution_count": 83,
   "metadata": {},
   "outputs": [
    {
     "name": "stdout",
     "output_type": "stream",
     "text": [
      "<re.Match object; span=(1, 3), match='ab'>\n",
      "<re.Match object; span=(3, 5), match='cd'>\n",
      "<re.Match object; span=(5, 7), match='ef'>\n",
      "<re.Match object; span=(7, 9), match='gh'>\n",
      "<re.Match object; span=(9, 11), match='ij'>\n",
      "<re.Match object; span=(11, 13), match='kl'>\n",
      "<re.Match object; span=(13, 15), match='mn'>\n",
      "<re.Match object; span=(15, 17), match='op'>\n",
      "<re.Match object; span=(17, 19), match='qu'>\n",
      "<re.Match object; span=(19, 21), match='rt'>\n",
      "<re.Match object; span=(21, 23), match='uv'>\n",
      "<re.Match object; span=(23, 25), match='wx'>\n",
      "<re.Match object; span=(25, 27), match='yz'>\n",
      "<re.Match object; span=(28, 30), match='AB'>\n",
      "<re.Match object; span=(30, 32), match='CD'>\n",
      "<re.Match object; span=(32, 34), match='EF'>\n",
      "<re.Match object; span=(34, 36), match='GH'>\n",
      "<re.Match object; span=(36, 38), match='IJ'>\n",
      "<re.Match object; span=(38, 40), match='KL'>\n",
      "<re.Match object; span=(40, 42), match='MN'>\n",
      "<re.Match object; span=(42, 44), match='OP'>\n",
      "<re.Match object; span=(44, 46), match='QR'>\n",
      "<re.Match object; span=(46, 48), match='ST'>\n",
      "<re.Match object; span=(48, 50), match='UV'>\n",
      "<re.Match object; span=(50, 52), match='WX'>\n",
      "<re.Match object; span=(52, 54), match='YZ'>\n",
      "<re.Match object; span=(68, 70), match='3a'>\n",
      "<re.Match object; span=(70, 72), match='bc'>\n",
      "<re.Match object; span=(74, 76), match='He'>\n",
      "<re.Match object; span=(76, 78), match='ll'>\n",
      "<re.Match object; span=(80, 82), match='He'>\n",
      "<re.Match object; span=(82, 84), match='ll'>\n",
      "<re.Match object; span=(84, 86), match='oH'>\n",
      "<re.Match object; span=(86, 88), match='el'>\n",
      "<re.Match object; span=(88, 90), match='lo'>\n",
      "<re.Match object; span=(92, 94), match='Me'>\n",
      "<re.Match object; span=(94, 96), match='ta'>\n",
      "<re.Match object; span=(96, 98), match='Ch'>\n",
      "<re.Match object; span=(98, 100), match='ar'>\n",
      "<re.Match object; span=(100, 102), match='ac'>\n",
      "<re.Match object; span=(102, 104), match='te'>\n",
      "<re.Match object; span=(104, 106), match='rs'>\n",
      "<re.Match object; span=(108, 110), match='Ne'>\n",
      "<re.Match object; span=(110, 112), match='ed'>\n",
      "<re.Match object; span=(113, 115), match='to'>\n",
      "<re.Match object; span=(116, 118), match='be'>\n",
      "<re.Match object; span=(119, 121), match='es'>\n",
      "<re.Match object; span=(121, 123), match='ca'>\n",
      "<re.Match object; span=(123, 125), match='pe'>\n",
      "<re.Match object; span=(158, 160), match='ut'>\n",
      "<re.Match object; span=(160, 162), match='ex'>\n",
      "<re.Match object; span=(162, 164), match='as'>\n",
      "<re.Match object; span=(165, 167), match='ed'>\n",
      "<re.Match object; span=(172, 174), match='1-'>\n",
      "<re.Match object; span=(176, 178), match='5-'>\n",
      "<re.Match object; span=(197, 199), match='da'>\n",
      "<re.Match object; span=(199, 201), match='ni'>\n",
      "<re.Match object; span=(201, 203), match='el'>\n",
      "<re.Match object; span=(204, 206), match='mi'>\n",
      "<re.Match object; span=(206, 208), match='tc'>\n",
      "<re.Match object; span=(208, 210), match='he'>\n",
      "<re.Match object; span=(210, 212), match='ll'>\n",
      "<re.Match object; span=(213, 215), match='ut'>\n",
      "<re.Match object; span=(215, 217), match='ex'>\n",
      "<re.Match object; span=(217, 219), match='as'>\n",
      "<re.Match object; span=(220, 222), match='ed'>\n",
      "<re.Match object; span=(225, 227), match='Mr'>\n",
      "<re.Match object; span=(229, 231), match='Vi'>\n",
      "<re.Match object; span=(231, 233), match='dy'>\n",
      "<re.Match object; span=(233, 235), match='ad'>\n",
      "<re.Match object; span=(235, 237), match='ha'>\n",
      "<re.Match object; span=(239, 241), match='Mr'>\n",
      "<re.Match object; span=(242, 244), match='Be'>\n",
      "<re.Match object; span=(244, 246), match='nd'>\n",
      "<re.Match object; span=(246, 248), match='re'>\n",
      "<re.Match object; span=(249, 251), match='Ms'>\n",
      "<re.Match object; span=(252, 254), match='Ak'>\n",
      "<re.Match object; span=(254, 256), match='sh'>\n",
      "<re.Match object; span=(256, 258), match='ar'>\n",
      "<re.Match object; span=(260, 262), match='Mr'>\n",
      "<re.Match object; span=(265, 267), match='Po'>\n",
      "<re.Match object; span=(267, 269), match='or'>\n",
      "<re.Match object; span=(269, 271), match='ni'>\n",
      "<re.Match object; span=(271, 273), match='ma'>\n",
      "<re.Match object; span=(274, 276), match='Mr'>\n",
      "<re.Match object; span=(278, 280), match='At'>\n",
      "<re.Match object; span=(280, 282), match='ha'>\n",
      "<re.Match object; span=(282, 284), match='rv'>\n"
     ]
    }
   ],
   "source": [
    "pattern = re.compile(r'[a-zA-Z0-9][a-zA-z-]')\n",
    "matches = pattern.finditer(text_to_search)\n",
    "for mat in matches:\n",
    "    print(mat)"
   ]
  },
  {
   "cell_type": "code",
   "execution_count": 84,
   "metadata": {},
   "outputs": [
    {
     "name": "stdout",
     "output_type": "stream",
     "text": [
      "<re.Match object; span=(26, 28), match='z\\n'>\n",
      "<re.Match object; span=(53, 55), match='Z\\n'>\n",
      "<re.Match object; span=(71, 73), match='c\\n'>\n",
      "<re.Match object; span=(78, 80), match='o '>\n",
      "<re.Match object; span=(89, 91), match='o\\n'>\n",
      "<re.Match object; span=(105, 107), match='s '>\n",
      "<re.Match object; span=(111, 113), match='d '>\n",
      "<re.Match object; span=(114, 116), match='o '>\n",
      "<re.Match object; span=(117, 119), match='e '>\n",
      "<re.Match object; span=(125, 127), match='d)'>\n",
      "<re.Match object; span=(163, 165), match='s.'>\n",
      "<re.Match object; span=(167, 169), match='u\\n'>\n",
      "<re.Match object; span=(202, 204), match='l-'>\n",
      "<re.Match object; span=(211, 213), match='l@'>\n",
      "<re.Match object; span=(218, 220), match='s.'>\n",
      "<re.Match object; span=(222, 224), match='u\\n'>\n",
      "<re.Match object; span=(226, 228), match='r.'>\n",
      "<re.Match object; span=(237, 239), match='r\\n'>\n",
      "<re.Match object; span=(240, 242), match='r '>\n",
      "<re.Match object; span=(247, 249), match='e\\n'>\n",
      "<re.Match object; span=(250, 252), match='s '>\n",
      "<re.Match object; span=(258, 260), match='a\\n'>\n",
      "<re.Match object; span=(262, 264), match='s.'>\n",
      "<re.Match object; span=(272, 274), match='a\\n'>\n",
      "<re.Match object; span=(275, 277), match='r.'>\n",
      "<re.Match object; span=(284, 286), match='a\\n'>\n"
     ]
    }
   ],
   "source": [
    "pattern = re.compile(r'[a-zA-Z][^a-zA-z]')\n",
    "matches = pattern.finditer(text_to_search)\n",
    "for mat in matches:\n",
    "    print(mat)"
   ]
  },
  {
   "cell_type": "code",
   "execution_count": 85,
   "metadata": {},
   "outputs": [],
   "source": [
    "## Character groups"
   ]
  },
  {
   "cell_type": "code",
   "execution_count": 86,
   "metadata": {},
   "outputs": [
    {
     "name": "stdout",
     "output_type": "stream",
     "text": [
      "<re.Match object; span=(69, 72), match='abc'>\n",
      "<re.Match object; span=(159, 164), match='texas'>\n",
      "<re.Match object; span=(165, 168), match='edu'>\n",
      "<re.Match object; span=(214, 219), match='texas'>\n",
      "<re.Match object; span=(220, 223), match='edu'>\n"
     ]
    }
   ],
   "source": [
    "pattern = re.compile(r'(abc|edu|texas)\\b')\n",
    "matches = pattern.finditer(text_to_search)\n",
    "for mat in matches:\n",
    "    print(mat)"
   ]
  },
  {
   "cell_type": "code",
   "execution_count": 87,
   "metadata": {},
   "outputs": [
    {
     "name": "stdout",
     "output_type": "stream",
     "text": [
      "<re.Match object; span=(28, 30), match='AB'>\n",
      "<re.Match object; span=(30, 32), match='CD'>\n",
      "<re.Match object; span=(32, 34), match='EF'>\n",
      "<re.Match object; span=(34, 36), match='GH'>\n",
      "<re.Match object; span=(36, 38), match='IJ'>\n",
      "<re.Match object; span=(38, 40), match='KL'>\n",
      "<re.Match object; span=(40, 42), match='MN'>\n",
      "<re.Match object; span=(42, 44), match='OP'>\n",
      "<re.Match object; span=(44, 46), match='QR'>\n",
      "<re.Match object; span=(46, 48), match='ST'>\n",
      "<re.Match object; span=(48, 50), match='UV'>\n",
      "<re.Match object; span=(50, 52), match='WX'>\n",
      "<re.Match object; span=(52, 54), match='YZ'>\n",
      "<re.Match object; span=(74, 76), match='He'>\n",
      "<re.Match object; span=(80, 82), match='He'>\n",
      "<re.Match object; span=(82, 86), match='lloH'>\n",
      "<re.Match object; span=(92, 94), match='Me'>\n",
      "<re.Match object; span=(96, 98), match='Ch'>\n",
      "<re.Match object; span=(108, 110), match='Ne'>\n",
      "<re.Match object; span=(225, 227), match='Mr'>\n",
      "<re.Match object; span=(229, 231), match='Vi'>\n",
      "<re.Match object; span=(239, 241), match='Mr'>\n",
      "<re.Match object; span=(242, 244), match='Be'>\n",
      "<re.Match object; span=(249, 251), match='Ms'>\n",
      "<re.Match object; span=(252, 254), match='Ak'>\n",
      "<re.Match object; span=(260, 262), match='Mr'>\n",
      "<re.Match object; span=(265, 267), match='Po'>\n",
      "<re.Match object; span=(274, 276), match='Mr'>\n",
      "<re.Match object; span=(278, 280), match='At'>\n"
     ]
    }
   ],
   "source": [
    "pattern = re.compile(r'([A-Z]|llo)[a-zA-z]')\n",
    "matches = pattern.finditer(text_to_search)\n",
    "for mat in matches:\n",
    "    print(mat)"
   ]
  },
  {
   "cell_type": "code",
   "execution_count": 88,
   "metadata": {},
   "outputs": [],
   "source": [
    "## Quantifiers"
   ]
  },
  {
   "cell_type": "code",
   "execution_count": 89,
   "metadata": {},
   "outputs": [
    {
     "name": "stdout",
     "output_type": "stream",
     "text": [
      "<re.Match object; span=(225, 230), match='Mr. V'>\n",
      "<re.Match object; span=(239, 243), match='Mr B'>\n",
      "<re.Match object; span=(274, 279), match='Mr. A'>\n"
     ]
    }
   ],
   "source": [
    "pattern = re.compile(r'Mr\\.?\\s[A-Z]')\n",
    "matches = pattern.finditer(text_to_search)\n",
    "for mat in matches:\n",
    "    print(mat)"
   ]
  },
  {
   "cell_type": "code",
   "execution_count": 90,
   "metadata": {},
   "outputs": [
    {
     "name": "stdout",
     "output_type": "stream",
     "text": [
      "<re.Match object; span=(225, 238), match='Mr. Vidyadhar'>\n",
      "<re.Match object; span=(239, 248), match='Mr Bendre'>\n",
      "<re.Match object; span=(274, 285), match='Mr. Atharva'>\n"
     ]
    }
   ],
   "source": [
    "pattern = re.compile(r'Mr\\.?\\s[A-Z][a-z]*')\n",
    "matches = pattern.finditer(text_to_search)\n",
    "for mat in matches:\n",
    "    print(mat)"
   ]
  },
  {
   "cell_type": "code",
   "execution_count": 91,
   "metadata": {},
   "outputs": [
    {
     "name": "stdout",
     "output_type": "stream",
     "text": [
      "<re.Match object; span=(249, 259), match='Ms Akshara'>\n",
      "<re.Match object; span=(260, 273), match='Mrs. Poornima'>\n"
     ]
    }
   ],
   "source": [
    "pattern = re.compile(r'M(s|rs)\\.?\\s[A-Z][a-z]*')\n",
    "matches = pattern.finditer(text_to_search)\n",
    "for mat in matches:\n",
    "    print(mat)"
   ]
  },
  {
   "cell_type": "code",
   "execution_count": 92,
   "metadata": {},
   "outputs": [
    {
     "name": "stdout",
     "output_type": "stream",
     "text": [
      "<re.Match object; span=(170, 182), match='321-555-4321'>\n",
      "<re.Match object; span=(183, 195), match='123.555.1234'>\n"
     ]
    }
   ],
   "source": [
    "pattern = re.compile(r'\\d{3}[.-]\\d{3}[.-]\\d{4}')\n",
    "matches = pattern.finditer(text_to_search)\n",
    "for mat in matches:\n",
    "    print(mat)"
   ]
  },
  {
   "cell_type": "code",
   "execution_count": 93,
   "metadata": {},
   "outputs": [
    {
     "name": "stdout",
     "output_type": "stream",
     "text": [
      "<re.Match object; span=(158, 168), match='utexas.edu'>\n",
      "<re.Match object; span=(213, 223), match='utexas.edu'>\n"
     ]
    }
   ],
   "source": [
    "pattern = re.compile(r'[a-zA-Z0-9_]+\\.[a-z]{3}')\n",
    "matches = pattern.finditer(text_to_search)\n",
    "for mat in matches:\n",
    "    print(mat)"
   ]
  },
  {
   "cell_type": "code",
   "execution_count": 94,
   "metadata": {},
   "outputs": [
    {
     "name": "stdout",
     "output_type": "stream",
     "text": [
      "<re.Match object; span=(197, 223), match='daniel-mitchell@utexas.edu'>\n"
     ]
    }
   ],
   "source": [
    "pattern = re.compile(r'[a-zA-Z0-9_.+-]+@[a-zA-Z0-9-]+\\.[a-zA-Z0-9-.]+')\n",
    "matches = pattern.finditer(text_to_search)\n",
    "for mat in matches:\n",
    "    print(mat)"
   ]
  },
  {
   "cell_type": "code",
   "execution_count": 95,
   "metadata": {},
   "outputs": [],
   "source": [
    "## Accessing information in the Match object"
   ]
  },
  {
   "cell_type": "code",
   "execution_count": 96,
   "metadata": {},
   "outputs": [
    {
     "name": "stdout",
     "output_type": "stream",
     "text": [
      "(197, 223)\n",
      "daniel-mitchell@utexas.edu\n",
      "daniel-mitchell@utexas.edu\n"
     ]
    }
   ],
   "source": [
    "\n",
    "pattern = re.compile(r'[a-zA-Z0-9_.+-]+@[a-zA-Z0-9-]+\\.[a-zA-Z0-9-.]{2,4}')\n",
    "matches = pattern.finditer(text_to_search)\n",
    "for mat in matches:\n",
    "    print(mat.span(0))\n",
    "    print(mat.group(0))\n",
    "    print(text_to_search[mat.span(0)[0]:mat.span(0)[1]])\n",
    "    \n",
    "    \n"
   ]
  },
  {
   "cell_type": "code",
   "execution_count": 97,
   "metadata": {},
   "outputs": [],
   "source": [
    "urls = r'''\n",
    "https://www.google.com\n",
    "http://yahoo.com\n",
    "https://www.whitehouse.gov\n",
    "https://craigslist.org\n",
    "'''"
   ]
  },
  {
   "cell_type": "code",
   "execution_count": 98,
   "metadata": {},
   "outputs": [
    {
     "name": "stdout",
     "output_type": "stream",
     "text": [
      "<re.Match object; span=(1, 23), match='https://www.google.com'>\n",
      "<re.Match object; span=(24, 40), match='http://yahoo.com'>\n",
      "<re.Match object; span=(41, 67), match='https://www.whitehouse.gov'>\n",
      "<re.Match object; span=(68, 90), match='https://craigslist.org'>\n"
     ]
    }
   ],
   "source": [
    "pattern = re.compile(r'https?://(www\\.)?\\w+\\.\\w+')\n",
    "matches = pattern.finditer(urls)\n",
    "for mat in matches:\n",
    "    print(mat)"
   ]
  },
  {
   "cell_type": "code",
   "execution_count": 99,
   "metadata": {},
   "outputs": [
    {
     "name": "stdout",
     "output_type": "stream",
     "text": [
      "google.com\n",
      "yahoo.com\n",
      "whitehouse.gov\n",
      "craigslist.org\n"
     ]
    }
   ],
   "source": [
    "pattern = re.compile(r'https?://(www\\.)?(\\w+)(\\.\\w+)')\n",
    "matches = pattern.finditer(urls)\n",
    "for mat in matches:\n",
    "    print(mat.group(2)+mat.group(3))"
   ]
  },
  {
   "cell_type": "code",
   "execution_count": 100,
   "metadata": {},
   "outputs": [
    {
     "name": "stdout",
     "output_type": "stream",
     "text": [
      "https://www.google.com\n",
      "google.com\n",
      "http://yahoo.com\n",
      "yahoo.com\n",
      "https://www.whitehouse.gov\n",
      "whitehouse.gov\n",
      "https://craigslist.org\n",
      "craigslist.org\n"
     ]
    }
   ],
   "source": [
    "pattern = re.compile(r'https?://(www\\.)?(\\w+)(\\.\\w+)')\n",
    "matches = pattern.finditer(urls)\n",
    "for mat in matches:\n",
    "    print(mat.group(0))\n",
    "    print(urls[mat.span(2)[0]:mat.span(2)[1]]+urls[mat.span(3)[0]:mat.span(3)[1]])"
   ]
  },
  {
   "cell_type": "code",
   "execution_count": null,
   "metadata": {},
   "outputs": [],
   "source": []
  }
 ],
 "metadata": {
  "kernelspec": {
   "display_name": "Python 3 (ipykernel)",
   "language": "python",
   "name": "python3"
  },
  "language_info": {
   "codemirror_mode": {
    "name": "ipython",
    "version": 3
   },
   "file_extension": ".py",
   "mimetype": "text/x-python",
   "name": "python",
   "nbconvert_exporter": "python",
   "pygments_lexer": "ipython3",
   "version": "3.9.19"
  }
 },
 "nbformat": 4,
 "nbformat_minor": 4
}
